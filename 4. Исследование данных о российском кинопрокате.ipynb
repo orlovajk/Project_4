{
 "cells": [
  {
   "cell_type": "markdown",
   "metadata": {
    "id": "sIfNaMOxgFyK"
   },
   "source": [
    "## Исследование данных о российском кинопрокате\n",
    "\n"
   ]
  },
  {
   "cell_type": "markdown",
   "metadata": {},
   "source": [
    "Заказчик этого исследования — Министерство культуры Российской Федерации. Набор данных содержит информацию о прокатных удостоверениях, сборах и государственной поддержке фильмов, а также информацию с сайта КиноПоиск.\n",
    "* Цель проекта: изучение рынка российского кинопроката и выявление текущих трендов; выявление фильмов, получивших государственную поддержку; определение, насколько такие фильмы интересны зрителю.\n",
    "\n",
    "**Описание данных**\n",
    "\n",
    "Таблица mkrf_movies содержит информацию из реестра прокатных удостоверений. У одного фильма может быть несколько прокатных удостоверений.\n",
    "* title — название фильма;\n",
    "* puNumber — номер прокатного удостоверения;\n",
    "* show_start_date — дата премьеры фильма;\n",
    "* type — тип фильма;\n",
    "* film_studio — студия-производитель;\n",
    "* production_country — страна-производитель;\n",
    "* director — режиссёр;\n",
    "* producer — продюсер;\n",
    "* age_restriction — возрастная категория;\n",
    "* refundable_support — объём возвратных средств государственной поддержки;\n",
    "* nonrefundable_support — объём невозвратных средств государственной поддержки;\n",
    "* financing_source — источник государственного финансирования;\n",
    "* budget — общий бюджет фильма;\n",
    "* ratings — рейтинг фильма на КиноПоиске;\n",
    "* genres — жанр фильма.\n",
    "\n",
    "*Cтолбец budget уже включает в себя полный объём государственной поддержки. Данные в этом столбце указаны только для тех фильмов, которые получили государственную поддержку.*\n",
    "\n",
    "Таблица mkrf_shows содержит сведения о показах фильмов в российских кинотеатрах.\n",
    "* puNumber — номер прокатного удостоверения;\n",
    "* box_office — сборы в рублях."
   ]
  },
  {
   "cell_type": "markdown",
   "metadata": {
    "id": "3bSlkCsbgFyL"
   },
   "source": [
    "### Шаг 1. Откройте файлы с данными и объедините их в один датафрейм. \n",
    "\n",
    "Объедините данные таким образом, чтобы все объекты из датасета `mkrf_movies` обязательно вошли в получившийся датафрейм. \n",
    "\n",
    "<div id=\"accordion\">\n",
    "    <div class=\"card\">\n",
    "        <div class=\"card-header\" id=\"headingThree\">\n",
    "            <button class=\"btn btn-link collapsed\" data-toggle=\"collapse\" data-target=\"#collapseHint_0\" aria-expanded=\"false\" aria-controls=\"collapseHint_0\">Подсказка</button>\n",
    "        </div>\n",
    "        <div id=\"collapseHint_0\" class=\"collapse\" aria-labelledby=\"headingThree\" data-parent=\"#accordion\">\n",
    "            <div class=\"card-body\">\n",
    "Обратите внимание на тип данных столбца, по которому будете соединять датафреймы. Тип данных этих столбцов должен быть одинаковым в обоих датафреймах.\n",
    "            </div>\n",
    "        </div>\n",
    "    </div>\n",
    "</div>"
   ]
  },
  {
   "cell_type": "code",
   "execution_count": 1,
   "metadata": {
    "id": "dw87FlzMgFyM"
   },
   "outputs": [
    {
     "data": {
      "text/html": [
       "<div>\n",
       "<style scoped>\n",
       "    .dataframe tbody tr th:only-of-type {\n",
       "        vertical-align: middle;\n",
       "    }\n",
       "\n",
       "    .dataframe tbody tr th {\n",
       "        vertical-align: top;\n",
       "    }\n",
       "\n",
       "    .dataframe thead th {\n",
       "        text-align: right;\n",
       "    }\n",
       "</style>\n",
       "<table border=\"1\" class=\"dataframe\">\n",
       "  <thead>\n",
       "    <tr style=\"text-align: right;\">\n",
       "      <th></th>\n",
       "      <th>title</th>\n",
       "      <th>puNumber</th>\n",
       "      <th>show_start_date</th>\n",
       "      <th>type</th>\n",
       "      <th>film_studio</th>\n",
       "      <th>production_country</th>\n",
       "      <th>director</th>\n",
       "      <th>producer</th>\n",
       "      <th>age_restriction</th>\n",
       "      <th>refundable_support</th>\n",
       "      <th>nonrefundable_support</th>\n",
       "      <th>budget</th>\n",
       "      <th>financing_source</th>\n",
       "      <th>ratings</th>\n",
       "      <th>genres</th>\n",
       "    </tr>\n",
       "  </thead>\n",
       "  <tbody>\n",
       "    <tr>\n",
       "      <th>0</th>\n",
       "      <td>Открытый простор</td>\n",
       "      <td>221048915</td>\n",
       "      <td>2015-11-27T12:00:00.000Z</td>\n",
       "      <td>Художественный</td>\n",
       "      <td>Тачстоун Пикчерз, Кобальт Пикчерз, Бикон Пикче...</td>\n",
       "      <td>США</td>\n",
       "      <td>Кевин Костнер</td>\n",
       "      <td>Дэвид Валдес, Кевин Костнер, Джейк Эбертс</td>\n",
       "      <td>«18+» - запрещено для детей</td>\n",
       "      <td>NaN</td>\n",
       "      <td>NaN</td>\n",
       "      <td>NaN</td>\n",
       "      <td>NaN</td>\n",
       "      <td>7.2</td>\n",
       "      <td>боевик,драма,мелодрама</td>\n",
       "    </tr>\n",
       "    <tr>\n",
       "      <th>1</th>\n",
       "      <td>Особо важное задание</td>\n",
       "      <td>111013716</td>\n",
       "      <td>2016-09-13T12:00:00.000Z</td>\n",
       "      <td>Художественный</td>\n",
       "      <td>Киностудия \"Мосфильм\"</td>\n",
       "      <td>СССР</td>\n",
       "      <td>Е.Матвеев</td>\n",
       "      <td>NaN</td>\n",
       "      <td>«6+» - для детей старше 6 лет</td>\n",
       "      <td>NaN</td>\n",
       "      <td>NaN</td>\n",
       "      <td>NaN</td>\n",
       "      <td>NaN</td>\n",
       "      <td>6.6</td>\n",
       "      <td>драма,военный</td>\n",
       "    </tr>\n",
       "    <tr>\n",
       "      <th>2</th>\n",
       "      <td>Особо опасен</td>\n",
       "      <td>221038416</td>\n",
       "      <td>2016-10-10T12:00:00.000Z</td>\n",
       "      <td>Художественный</td>\n",
       "      <td>Юниверсал Пикчерз, Кикстарт Продакшнз, Марк Пл...</td>\n",
       "      <td>США</td>\n",
       "      <td>Тимур Бекмамбетов</td>\n",
       "      <td>Джим Лемли, Джейсон Нетер, Марк Е.Платт, Яйн Смит</td>\n",
       "      <td>«18+» - запрещено для детей</td>\n",
       "      <td>NaN</td>\n",
       "      <td>NaN</td>\n",
       "      <td>NaN</td>\n",
       "      <td>NaN</td>\n",
       "      <td>6.8</td>\n",
       "      <td>фантастика,боевик,триллер</td>\n",
       "    </tr>\n",
       "    <tr>\n",
       "      <th>3</th>\n",
       "      <td>Особо опасен</td>\n",
       "      <td>221026916</td>\n",
       "      <td>2016-06-10T12:00:00.000Z</td>\n",
       "      <td>Художественный</td>\n",
       "      <td>Юниверсал Пикчерз, Кикстарт Продакшнз, Марк Пл...</td>\n",
       "      <td>США</td>\n",
       "      <td>Тимур Бекмамбетов</td>\n",
       "      <td>Джим Лемли, Джейсон Нетер, Марк Е.Платт, Яйн Смит</td>\n",
       "      <td>«18+» - запрещено для детей</td>\n",
       "      <td>NaN</td>\n",
       "      <td>NaN</td>\n",
       "      <td>NaN</td>\n",
       "      <td>NaN</td>\n",
       "      <td>6.8</td>\n",
       "      <td>фантастика,боевик,триллер</td>\n",
       "    </tr>\n",
       "    <tr>\n",
       "      <th>4</th>\n",
       "      <td>Особо опасен</td>\n",
       "      <td>221030815</td>\n",
       "      <td>2015-07-29T12:00:00.000Z</td>\n",
       "      <td>Художественный</td>\n",
       "      <td>Юниверсал Пикчерз, Кикстарт Продакшнз, Марк Пл...</td>\n",
       "      <td>США</td>\n",
       "      <td>Тимур Бекмамбетов</td>\n",
       "      <td>Джим Лемли, Джейсон Нетер, Марк Е.Платт, Яйн Смит</td>\n",
       "      <td>«18+» - запрещено для детей</td>\n",
       "      <td>NaN</td>\n",
       "      <td>NaN</td>\n",
       "      <td>NaN</td>\n",
       "      <td>NaN</td>\n",
       "      <td>6.8</td>\n",
       "      <td>фантастика,боевик,триллер</td>\n",
       "    </tr>\n",
       "  </tbody>\n",
       "</table>\n",
       "</div>"
      ],
      "text/plain": [
       "                  title   puNumber           show_start_date            type  \\\n",
       "0      Открытый простор  221048915  2015-11-27T12:00:00.000Z  Художественный   \n",
       "1  Особо важное задание  111013716  2016-09-13T12:00:00.000Z  Художественный   \n",
       "2          Особо опасен  221038416  2016-10-10T12:00:00.000Z  Художественный   \n",
       "3          Особо опасен  221026916  2016-06-10T12:00:00.000Z  Художественный   \n",
       "4          Особо опасен  221030815  2015-07-29T12:00:00.000Z  Художественный   \n",
       "\n",
       "                                         film_studio production_country  \\\n",
       "0  Тачстоун Пикчерз, Кобальт Пикчерз, Бикон Пикче...                США   \n",
       "1                              Киностудия \"Мосфильм\"               СССР   \n",
       "2  Юниверсал Пикчерз, Кикстарт Продакшнз, Марк Пл...                США   \n",
       "3  Юниверсал Пикчерз, Кикстарт Продакшнз, Марк Пл...                США   \n",
       "4  Юниверсал Пикчерз, Кикстарт Продакшнз, Марк Пл...                США   \n",
       "\n",
       "            director                                           producer  \\\n",
       "0      Кевин Костнер          Дэвид Валдес, Кевин Костнер, Джейк Эбертс   \n",
       "1          Е.Матвеев                                                NaN   \n",
       "2  Тимур Бекмамбетов  Джим Лемли, Джейсон Нетер, Марк Е.Платт, Яйн Смит   \n",
       "3  Тимур Бекмамбетов  Джим Лемли, Джейсон Нетер, Марк Е.Платт, Яйн Смит   \n",
       "4  Тимур Бекмамбетов  Джим Лемли, Джейсон Нетер, Марк Е.Платт, Яйн Смит   \n",
       "\n",
       "                 age_restriction  refundable_support  nonrefundable_support  \\\n",
       "0    «18+» - запрещено для детей                 NaN                    NaN   \n",
       "1  «6+» - для детей старше 6 лет                 NaN                    NaN   \n",
       "2    «18+» - запрещено для детей                 NaN                    NaN   \n",
       "3    «18+» - запрещено для детей                 NaN                    NaN   \n",
       "4    «18+» - запрещено для детей                 NaN                    NaN   \n",
       "\n",
       "   budget financing_source ratings                     genres  \n",
       "0     NaN              NaN     7.2     боевик,драма,мелодрама  \n",
       "1     NaN              NaN     6.6              драма,военный  \n",
       "2     NaN              NaN     6.8  фантастика,боевик,триллер  \n",
       "3     NaN              NaN     6.8  фантастика,боевик,триллер  \n",
       "4     NaN              NaN     6.8  фантастика,боевик,триллер  "
      ]
     },
     "metadata": {},
     "output_type": "display_data"
    },
    {
     "name": "stdout",
     "output_type": "stream",
     "text": [
      "<class 'pandas.core.frame.DataFrame'>\n",
      "RangeIndex: 7486 entries, 0 to 7485\n",
      "Data columns (total 15 columns):\n",
      " #   Column                 Non-Null Count  Dtype  \n",
      "---  ------                 --------------  -----  \n",
      " 0   title                  7486 non-null   object \n",
      " 1   puNumber               7486 non-null   object \n",
      " 2   show_start_date        7486 non-null   object \n",
      " 3   type                   7486 non-null   object \n",
      " 4   film_studio            7468 non-null   object \n",
      " 5   production_country     7484 non-null   object \n",
      " 6   director               7477 non-null   object \n",
      " 7   producer               6918 non-null   object \n",
      " 8   age_restriction        7486 non-null   object \n",
      " 9   refundable_support     332 non-null    float64\n",
      " 10  nonrefundable_support  332 non-null    float64\n",
      " 11  budget                 332 non-null    float64\n",
      " 12  financing_source       332 non-null    object \n",
      " 13  ratings                6519 non-null   object \n",
      " 14  genres                 6510 non-null   object \n",
      "dtypes: float64(3), object(12)\n",
      "memory usage: 877.4+ KB\n"
     ]
    }
   ],
   "source": [
    "import pandas as pd # подключим библиотеку pandas\n",
    "data_one = pd.read_csv('/datasets/mkrf_movies.csv', sep = ',') # сохраним таблицу в переменную data_one\n",
    "display(data_one.head(5)) # выведем первые пять строк на экран для ознакомления\n",
    "data_one.info() # ознакомимсся с общей информацией о данных"
   ]
  },
  {
   "cell_type": "code",
   "execution_count": 2,
   "metadata": {},
   "outputs": [
    {
     "data": {
      "text/html": [
       "<div>\n",
       "<style scoped>\n",
       "    .dataframe tbody tr th:only-of-type {\n",
       "        vertical-align: middle;\n",
       "    }\n",
       "\n",
       "    .dataframe tbody tr th {\n",
       "        vertical-align: top;\n",
       "    }\n",
       "\n",
       "    .dataframe thead th {\n",
       "        text-align: right;\n",
       "    }\n",
       "</style>\n",
       "<table border=\"1\" class=\"dataframe\">\n",
       "  <thead>\n",
       "    <tr style=\"text-align: right;\">\n",
       "      <th></th>\n",
       "      <th>puNumber</th>\n",
       "      <th>box_office</th>\n",
       "    </tr>\n",
       "  </thead>\n",
       "  <tbody>\n",
       "    <tr>\n",
       "      <th>0</th>\n",
       "      <td>111000113</td>\n",
       "      <td>2.450000e+03</td>\n",
       "    </tr>\n",
       "    <tr>\n",
       "      <th>1</th>\n",
       "      <td>111000115</td>\n",
       "      <td>6.104000e+04</td>\n",
       "    </tr>\n",
       "    <tr>\n",
       "      <th>2</th>\n",
       "      <td>111000116</td>\n",
       "      <td>1.530300e+08</td>\n",
       "    </tr>\n",
       "    <tr>\n",
       "      <th>3</th>\n",
       "      <td>111000117</td>\n",
       "      <td>1.226096e+07</td>\n",
       "    </tr>\n",
       "    <tr>\n",
       "      <th>4</th>\n",
       "      <td>111000118</td>\n",
       "      <td>1.636841e+08</td>\n",
       "    </tr>\n",
       "  </tbody>\n",
       "</table>\n",
       "</div>"
      ],
      "text/plain": [
       "    puNumber    box_office\n",
       "0  111000113  2.450000e+03\n",
       "1  111000115  6.104000e+04\n",
       "2  111000116  1.530300e+08\n",
       "3  111000117  1.226096e+07\n",
       "4  111000118  1.636841e+08"
      ]
     },
     "metadata": {},
     "output_type": "display_data"
    },
    {
     "name": "stdout",
     "output_type": "stream",
     "text": [
      "<class 'pandas.core.frame.DataFrame'>\n",
      "RangeIndex: 3158 entries, 0 to 3157\n",
      "Data columns (total 2 columns):\n",
      " #   Column      Non-Null Count  Dtype  \n",
      "---  ------      --------------  -----  \n",
      " 0   puNumber    3158 non-null   int64  \n",
      " 1   box_office  3158 non-null   float64\n",
      "dtypes: float64(1), int64(1)\n",
      "memory usage: 49.5 KB\n"
     ]
    }
   ],
   "source": [
    "data_two = pd.read_csv('/datasets/mkrf_shows.csv', sep = ',') # сохраним таблицу в переменную data_two\n",
    "display(data_two.head(5)) # выведем первые пять строк на экран для ознакомления\n",
    "data_two.info() # ознакомимсся с общей информацией о данных"
   ]
  },
  {
   "cell_type": "markdown",
   "metadata": {},
   "source": [
    "**Вывод:**\n",
    "* данные в `mkrf_movies` содержат 7486 строк, а в `mkrf_shows` - 3158 строк. В `mkrf_movies` необходимо изменить тип данных в столбце `['puNumber']` с object на int64, в `['ratings']` - на float64, в `['show_start_date']` - на datetime"
   ]
  },
  {
   "cell_type": "markdown",
   "metadata": {},
   "source": [
    "**Прежде чем объединить в один датафрейм эти две таблицы, проверим сразу типы данных и, по необходимости, преобразуем их**"
   ]
  },
  {
   "cell_type": "markdown",
   "metadata": {
    "id": "KLDGpPG0gFyM"
   },
   "source": [
    "### Шаг 2. Предобработка данных"
   ]
  },
  {
   "cell_type": "markdown",
   "metadata": {
    "id": "ssWwKXsxgFyO"
   },
   "source": [
    "#### Шаг 2.1. Проверьте типы данных\n",
    "\n",
    "- Проверьте типы данных в датафрейме и преобразуйте их там, где это необходимо."
   ]
  },
  {
   "cell_type": "code",
   "execution_count": 3,
   "metadata": {
    "id": "kVGSplJOgFyO"
   },
   "outputs": [
    {
     "name": "stdout",
     "output_type": "stream",
     "text": [
      "<class 'pandas.core.frame.DataFrame'>\n",
      "RangeIndex: 7486 entries, 0 to 7485\n",
      "Data columns (total 15 columns):\n",
      " #   Column                 Non-Null Count  Dtype              \n",
      "---  ------                 --------------  -----              \n",
      " 0   title                  7486 non-null   object             \n",
      " 1   puNumber               7486 non-null   int64              \n",
      " 2   show_start_date        7486 non-null   datetime64[ns, UTC]\n",
      " 3   type                   7486 non-null   object             \n",
      " 4   film_studio            7468 non-null   object             \n",
      " 5   production_country     7484 non-null   object             \n",
      " 6   director               7477 non-null   object             \n",
      " 7   producer               6918 non-null   object             \n",
      " 8   age_restriction        7486 non-null   object             \n",
      " 9   refundable_support     332 non-null    float64            \n",
      " 10  nonrefundable_support  332 non-null    float64            \n",
      " 11  budget                 332 non-null    float64            \n",
      " 12  financing_source       332 non-null    object             \n",
      " 13  ratings                6490 non-null   float64            \n",
      " 14  genres                 6510 non-null   object             \n",
      "dtypes: datetime64[ns, UTC](1), float64(4), int64(1), object(9)\n",
      "memory usage: 877.4+ KB\n"
     ]
    }
   ],
   "source": [
    "data_one.loc[data_one['puNumber']=='нет', 'puNumber']='0' # значения \"нет\" в столбце заменим на 0\n",
    "data_one['puNumber'] = pd.to_numeric(data_one['puNumber']) # изменим тип данных на int64\n",
    "data_one['ratings'] = pd.to_numeric(data_one['ratings'], errors='coerce') # изменим тип данных на float64\n",
    "data_one['show_start_date'] = pd.to_datetime(data_one['show_start_date'], format = '%Y-%m-%d') \n",
    "# изменим тип данных на datetime64\n",
    "data_one.info() # убедимся, что все типы данных изменены"
   ]
  },
  {
   "cell_type": "code",
   "execution_count": 4,
   "metadata": {},
   "outputs": [
    {
     "data": {
      "text/html": [
       "<div>\n",
       "<style scoped>\n",
       "    .dataframe tbody tr th:only-of-type {\n",
       "        vertical-align: middle;\n",
       "    }\n",
       "\n",
       "    .dataframe tbody tr th {\n",
       "        vertical-align: top;\n",
       "    }\n",
       "\n",
       "    .dataframe thead th {\n",
       "        text-align: right;\n",
       "    }\n",
       "</style>\n",
       "<table border=\"1\" class=\"dataframe\">\n",
       "  <thead>\n",
       "    <tr style=\"text-align: right;\">\n",
       "      <th></th>\n",
       "      <th>title</th>\n",
       "      <th>puNumber</th>\n",
       "      <th>show_start_date</th>\n",
       "      <th>type</th>\n",
       "      <th>film_studio</th>\n",
       "      <th>production_country</th>\n",
       "      <th>director</th>\n",
       "      <th>producer</th>\n",
       "      <th>age_restriction</th>\n",
       "      <th>refundable_support</th>\n",
       "      <th>nonrefundable_support</th>\n",
       "      <th>budget</th>\n",
       "      <th>financing_source</th>\n",
       "      <th>ratings</th>\n",
       "      <th>genres</th>\n",
       "      <th>box_office</th>\n",
       "    </tr>\n",
       "  </thead>\n",
       "  <tbody>\n",
       "    <tr>\n",
       "      <th>0</th>\n",
       "      <td>Открытый простор</td>\n",
       "      <td>221048915</td>\n",
       "      <td>2015-11-27 12:00:00+00:00</td>\n",
       "      <td>Художественный</td>\n",
       "      <td>Тачстоун Пикчерз, Кобальт Пикчерз, Бикон Пикче...</td>\n",
       "      <td>США</td>\n",
       "      <td>Кевин Костнер</td>\n",
       "      <td>Дэвид Валдес, Кевин Костнер, Джейк Эбертс</td>\n",
       "      <td>«18+» - запрещено для детей</td>\n",
       "      <td>NaN</td>\n",
       "      <td>NaN</td>\n",
       "      <td>NaN</td>\n",
       "      <td>NaN</td>\n",
       "      <td>7.2</td>\n",
       "      <td>боевик,драма,мелодрама</td>\n",
       "      <td>NaN</td>\n",
       "    </tr>\n",
       "    <tr>\n",
       "      <th>1</th>\n",
       "      <td>Особо важное задание</td>\n",
       "      <td>111013716</td>\n",
       "      <td>2016-09-13 12:00:00+00:00</td>\n",
       "      <td>Художественный</td>\n",
       "      <td>Киностудия \"Мосфильм\"</td>\n",
       "      <td>СССР</td>\n",
       "      <td>Е.Матвеев</td>\n",
       "      <td>NaN</td>\n",
       "      <td>«6+» - для детей старше 6 лет</td>\n",
       "      <td>NaN</td>\n",
       "      <td>NaN</td>\n",
       "      <td>NaN</td>\n",
       "      <td>NaN</td>\n",
       "      <td>6.6</td>\n",
       "      <td>драма,военный</td>\n",
       "      <td>NaN</td>\n",
       "    </tr>\n",
       "    <tr>\n",
       "      <th>2</th>\n",
       "      <td>Особо опасен</td>\n",
       "      <td>221038416</td>\n",
       "      <td>2016-10-10 12:00:00+00:00</td>\n",
       "      <td>Художественный</td>\n",
       "      <td>Юниверсал Пикчерз, Кикстарт Продакшнз, Марк Пл...</td>\n",
       "      <td>США</td>\n",
       "      <td>Тимур Бекмамбетов</td>\n",
       "      <td>Джим Лемли, Джейсон Нетер, Марк Е.Платт, Яйн Смит</td>\n",
       "      <td>«18+» - запрещено для детей</td>\n",
       "      <td>NaN</td>\n",
       "      <td>NaN</td>\n",
       "      <td>NaN</td>\n",
       "      <td>NaN</td>\n",
       "      <td>6.8</td>\n",
       "      <td>фантастика,боевик,триллер</td>\n",
       "      <td>NaN</td>\n",
       "    </tr>\n",
       "    <tr>\n",
       "      <th>3</th>\n",
       "      <td>Особо опасен</td>\n",
       "      <td>221026916</td>\n",
       "      <td>2016-06-10 12:00:00+00:00</td>\n",
       "      <td>Художественный</td>\n",
       "      <td>Юниверсал Пикчерз, Кикстарт Продакшнз, Марк Пл...</td>\n",
       "      <td>США</td>\n",
       "      <td>Тимур Бекмамбетов</td>\n",
       "      <td>Джим Лемли, Джейсон Нетер, Марк Е.Платт, Яйн Смит</td>\n",
       "      <td>«18+» - запрещено для детей</td>\n",
       "      <td>NaN</td>\n",
       "      <td>NaN</td>\n",
       "      <td>NaN</td>\n",
       "      <td>NaN</td>\n",
       "      <td>6.8</td>\n",
       "      <td>фантастика,боевик,триллер</td>\n",
       "      <td>NaN</td>\n",
       "    </tr>\n",
       "    <tr>\n",
       "      <th>4</th>\n",
       "      <td>Особо опасен</td>\n",
       "      <td>221030815</td>\n",
       "      <td>2015-07-29 12:00:00+00:00</td>\n",
       "      <td>Художественный</td>\n",
       "      <td>Юниверсал Пикчерз, Кикстарт Продакшнз, Марк Пл...</td>\n",
       "      <td>США</td>\n",
       "      <td>Тимур Бекмамбетов</td>\n",
       "      <td>Джим Лемли, Джейсон Нетер, Марк Е.Платт, Яйн Смит</td>\n",
       "      <td>«18+» - запрещено для детей</td>\n",
       "      <td>NaN</td>\n",
       "      <td>NaN</td>\n",
       "      <td>NaN</td>\n",
       "      <td>NaN</td>\n",
       "      <td>6.8</td>\n",
       "      <td>фантастика,боевик,триллер</td>\n",
       "      <td>NaN</td>\n",
       "    </tr>\n",
       "    <tr>\n",
       "      <th>5</th>\n",
       "      <td>Остановился поезд</td>\n",
       "      <td>111013816</td>\n",
       "      <td>2016-09-13 12:00:00+00:00</td>\n",
       "      <td>Художественный</td>\n",
       "      <td>Киностудия \"Мосфильм\"</td>\n",
       "      <td>СССР</td>\n",
       "      <td>В.Абдрашитов</td>\n",
       "      <td>NaN</td>\n",
       "      <td>«6+» - для детей старше 6 лет</td>\n",
       "      <td>NaN</td>\n",
       "      <td>NaN</td>\n",
       "      <td>NaN</td>\n",
       "      <td>NaN</td>\n",
       "      <td>7.7</td>\n",
       "      <td>драма</td>\n",
       "      <td>NaN</td>\n",
       "    </tr>\n",
       "    <tr>\n",
       "      <th>6</th>\n",
       "      <td>Любовь и голуби</td>\n",
       "      <td>111007013</td>\n",
       "      <td>2013-10-18 12:00:00+00:00</td>\n",
       "      <td>Художественный</td>\n",
       "      <td>Киностудия \"Мосфильм\"</td>\n",
       "      <td>СССР</td>\n",
       "      <td>В.Меньшов</td>\n",
       "      <td>NaN</td>\n",
       "      <td>«12+» - для детей старше 12 лет</td>\n",
       "      <td>NaN</td>\n",
       "      <td>NaN</td>\n",
       "      <td>NaN</td>\n",
       "      <td>NaN</td>\n",
       "      <td>8.3</td>\n",
       "      <td>мелодрама,комедия</td>\n",
       "      <td>2700.0</td>\n",
       "    </tr>\n",
       "    <tr>\n",
       "      <th>7</th>\n",
       "      <td>Любовь и сигареты</td>\n",
       "      <td>221074614</td>\n",
       "      <td>2014-12-29 12:00:00+00:00</td>\n",
       "      <td>Художественный</td>\n",
       "      <td>Юнайтед Артистс, Грин Стрит Филмз, Айкон Интер...</td>\n",
       "      <td>США</td>\n",
       "      <td>Джон Туртурро</td>\n",
       "      <td>Джон Пенотти, Джон Туртурро</td>\n",
       "      <td>«18+» - запрещено для детей</td>\n",
       "      <td>NaN</td>\n",
       "      <td>NaN</td>\n",
       "      <td>NaN</td>\n",
       "      <td>NaN</td>\n",
       "      <td>6.6</td>\n",
       "      <td>мюзикл,мелодрама,комедия</td>\n",
       "      <td>NaN</td>\n",
       "    </tr>\n",
       "    <tr>\n",
       "      <th>8</th>\n",
       "      <td>Отпетые мошенники.</td>\n",
       "      <td>121011416</td>\n",
       "      <td>2016-05-05 12:00:00+00:00</td>\n",
       "      <td>Художественный</td>\n",
       "      <td>Пульсар Продюксьон, ТФ1 Фильм</td>\n",
       "      <td>Франция</td>\n",
       "      <td>Эрик Беснард</td>\n",
       "      <td>Патрис Леду</td>\n",
       "      <td>«18+» - запрещено для детей</td>\n",
       "      <td>NaN</td>\n",
       "      <td>NaN</td>\n",
       "      <td>NaN</td>\n",
       "      <td>NaN</td>\n",
       "      <td>8.0</td>\n",
       "      <td>комедия,криминал</td>\n",
       "      <td>NaN</td>\n",
       "    </tr>\n",
       "    <tr>\n",
       "      <th>9</th>\n",
       "      <td>Отпуск за свой счет</td>\n",
       "      <td>111019114</td>\n",
       "      <td>2014-12-01 12:00:00+00:00</td>\n",
       "      <td>Художественный</td>\n",
       "      <td>Киностудия \"Мосфильм\", Телевидение ВНР</td>\n",
       "      <td>СССР, Венгрия</td>\n",
       "      <td>В.Титов</td>\n",
       "      <td>NaN</td>\n",
       "      <td>«12+» - для детей старше 12 лет</td>\n",
       "      <td>NaN</td>\n",
       "      <td>NaN</td>\n",
       "      <td>NaN</td>\n",
       "      <td>NaN</td>\n",
       "      <td>7.8</td>\n",
       "      <td>мелодрама,комедия</td>\n",
       "      <td>NaN</td>\n",
       "    </tr>\n",
       "  </tbody>\n",
       "</table>\n",
       "</div>"
      ],
      "text/plain": [
       "                  title   puNumber           show_start_date            type  \\\n",
       "0      Открытый простор  221048915 2015-11-27 12:00:00+00:00  Художественный   \n",
       "1  Особо важное задание  111013716 2016-09-13 12:00:00+00:00  Художественный   \n",
       "2          Особо опасен  221038416 2016-10-10 12:00:00+00:00  Художественный   \n",
       "3          Особо опасен  221026916 2016-06-10 12:00:00+00:00  Художественный   \n",
       "4          Особо опасен  221030815 2015-07-29 12:00:00+00:00  Художественный   \n",
       "5     Остановился поезд  111013816 2016-09-13 12:00:00+00:00  Художественный   \n",
       "6       Любовь и голуби  111007013 2013-10-18 12:00:00+00:00  Художественный   \n",
       "7     Любовь и сигареты  221074614 2014-12-29 12:00:00+00:00  Художественный   \n",
       "8    Отпетые мошенники.  121011416 2016-05-05 12:00:00+00:00  Художественный   \n",
       "9   Отпуск за свой счет  111019114 2014-12-01 12:00:00+00:00  Художественный   \n",
       "\n",
       "                                         film_studio production_country  \\\n",
       "0  Тачстоун Пикчерз, Кобальт Пикчерз, Бикон Пикче...                США   \n",
       "1                              Киностудия \"Мосфильм\"               СССР   \n",
       "2  Юниверсал Пикчерз, Кикстарт Продакшнз, Марк Пл...                США   \n",
       "3  Юниверсал Пикчерз, Кикстарт Продакшнз, Марк Пл...                США   \n",
       "4  Юниверсал Пикчерз, Кикстарт Продакшнз, Марк Пл...                США   \n",
       "5                              Киностудия \"Мосфильм\"               СССР   \n",
       "6                              Киностудия \"Мосфильм\"               СССР   \n",
       "7  Юнайтед Артистс, Грин Стрит Филмз, Айкон Интер...                США   \n",
       "8                     Пульсар Продюксьон, ТФ1 Фильм             Франция   \n",
       "9             Киностудия \"Мосфильм\", Телевидение ВНР      СССР, Венгрия   \n",
       "\n",
       "            director                                           producer  \\\n",
       "0      Кевин Костнер          Дэвид Валдес, Кевин Костнер, Джейк Эбертс   \n",
       "1          Е.Матвеев                                                NaN   \n",
       "2  Тимур Бекмамбетов  Джим Лемли, Джейсон Нетер, Марк Е.Платт, Яйн Смит   \n",
       "3  Тимур Бекмамбетов  Джим Лемли, Джейсон Нетер, Марк Е.Платт, Яйн Смит   \n",
       "4  Тимур Бекмамбетов  Джим Лемли, Джейсон Нетер, Марк Е.Платт, Яйн Смит   \n",
       "5       В.Абдрашитов                                                NaN   \n",
       "6          В.Меньшов                                                NaN   \n",
       "7      Джон Туртурро                        Джон Пенотти, Джон Туртурро   \n",
       "8       Эрик Беснард                                        Патрис Леду   \n",
       "9            В.Титов                                                NaN   \n",
       "\n",
       "                   age_restriction  refundable_support  nonrefundable_support  \\\n",
       "0      «18+» - запрещено для детей                 NaN                    NaN   \n",
       "1    «6+» - для детей старше 6 лет                 NaN                    NaN   \n",
       "2      «18+» - запрещено для детей                 NaN                    NaN   \n",
       "3      «18+» - запрещено для детей                 NaN                    NaN   \n",
       "4      «18+» - запрещено для детей                 NaN                    NaN   \n",
       "5    «6+» - для детей старше 6 лет                 NaN                    NaN   \n",
       "6  «12+» - для детей старше 12 лет                 NaN                    NaN   \n",
       "7      «18+» - запрещено для детей                 NaN                    NaN   \n",
       "8      «18+» - запрещено для детей                 NaN                    NaN   \n",
       "9  «12+» - для детей старше 12 лет                 NaN                    NaN   \n",
       "\n",
       "   budget financing_source  ratings                     genres  box_office  \n",
       "0     NaN              NaN      7.2     боевик,драма,мелодрама         NaN  \n",
       "1     NaN              NaN      6.6              драма,военный         NaN  \n",
       "2     NaN              NaN      6.8  фантастика,боевик,триллер         NaN  \n",
       "3     NaN              NaN      6.8  фантастика,боевик,триллер         NaN  \n",
       "4     NaN              NaN      6.8  фантастика,боевик,триллер         NaN  \n",
       "5     NaN              NaN      7.7                      драма         NaN  \n",
       "6     NaN              NaN      8.3          мелодрама,комедия      2700.0  \n",
       "7     NaN              NaN      6.6   мюзикл,мелодрама,комедия         NaN  \n",
       "8     NaN              NaN      8.0           комедия,криминал         NaN  \n",
       "9     NaN              NaN      7.8          мелодрама,комедия         NaN  "
      ]
     },
     "metadata": {},
     "output_type": "display_data"
    },
    {
     "name": "stdout",
     "output_type": "stream",
     "text": [
      "<class 'pandas.core.frame.DataFrame'>\n",
      "Int64Index: 7486 entries, 0 to 7485\n",
      "Data columns (total 16 columns):\n",
      " #   Column                 Non-Null Count  Dtype              \n",
      "---  ------                 --------------  -----              \n",
      " 0   title                  7486 non-null   object             \n",
      " 1   puNumber               7486 non-null   int64              \n",
      " 2   show_start_date        7486 non-null   datetime64[ns, UTC]\n",
      " 3   type                   7486 non-null   object             \n",
      " 4   film_studio            7468 non-null   object             \n",
      " 5   production_country     7484 non-null   object             \n",
      " 6   director               7477 non-null   object             \n",
      " 7   producer               6918 non-null   object             \n",
      " 8   age_restriction        7486 non-null   object             \n",
      " 9   refundable_support     332 non-null    float64            \n",
      " 10  nonrefundable_support  332 non-null    float64            \n",
      " 11  budget                 332 non-null    float64            \n",
      " 12  financing_source       332 non-null    object             \n",
      " 13  ratings                6490 non-null   float64            \n",
      " 14  genres                 6510 non-null   object             \n",
      " 15  box_office             3158 non-null   float64            \n",
      "dtypes: datetime64[ns, UTC](1), float64(5), int64(1), object(9)\n",
      "memory usage: 994.2+ KB\n"
     ]
    }
   ],
   "source": [
    "# после преобразования типов данных объединим данные из двух файлов\n",
    "data = data_one.merge(data_two, on='puNumber', how='left') \n",
    "display(data.head(10)) # выведем первые 10 строк \n",
    "data.info() # убедимся, что таблицы объединены, и данные не утеряны"
   ]
  },
  {
   "cell_type": "markdown",
   "metadata": {},
   "source": [
    "**Вывод:**\n",
    "* данные в датафрейме преобразовали в необходимый формат: `['puNumber']` на int64, в `['ratings']` - на float64, в `['show_start_date']` - на datetime, таблицы объединили без потерь данных"
   ]
  },
  {
   "cell_type": "markdown",
   "metadata": {
    "id": "i0MOLbF-gFyP"
   },
   "source": [
    "#### Шаг 2.2. Изучите пропуски в датафрейме\n",
    "\n",
    "- Объясните, почему заполнили пропуски определённым образом или почему не стали этого делать."
   ]
  },
  {
   "cell_type": "code",
   "execution_count": 5,
   "metadata": {
    "scrolled": false
   },
   "outputs": [
    {
     "data": {
      "text/plain": [
       "title                       0\n",
       "puNumber                    0\n",
       "show_start_date             0\n",
       "type                        0\n",
       "film_studio                18\n",
       "production_country          2\n",
       "director                    9\n",
       "producer                  568\n",
       "age_restriction             0\n",
       "refundable_support       7154\n",
       "nonrefundable_support    7154\n",
       "budget                   7154\n",
       "financing_source         7154\n",
       "ratings                   996\n",
       "genres                    976\n",
       "box_office               4328\n",
       "dtype: int64"
      ]
     },
     "metadata": {},
     "output_type": "display_data"
    }
   ],
   "source": [
    "display(data.isna().sum()) # находим сумму значений NaN по каждому столбцу"
   ]
  },
  {
   "cell_type": "code",
   "execution_count": 6,
   "metadata": {},
   "outputs": [
    {
     "data": {
      "text/html": [
       "<div>\n",
       "<style scoped>\n",
       "    .dataframe tbody tr th:only-of-type {\n",
       "        vertical-align: middle;\n",
       "    }\n",
       "\n",
       "    .dataframe tbody tr th {\n",
       "        vertical-align: top;\n",
       "    }\n",
       "\n",
       "    .dataframe thead th {\n",
       "        text-align: right;\n",
       "    }\n",
       "</style>\n",
       "<table border=\"1\" class=\"dataframe\">\n",
       "  <thead>\n",
       "    <tr style=\"text-align: right;\">\n",
       "      <th></th>\n",
       "      <th>title</th>\n",
       "      <th>puNumber</th>\n",
       "      <th>show_start_date</th>\n",
       "      <th>type</th>\n",
       "      <th>film_studio</th>\n",
       "      <th>production_country</th>\n",
       "      <th>director</th>\n",
       "      <th>producer</th>\n",
       "      <th>age_restriction</th>\n",
       "      <th>refundable_support</th>\n",
       "      <th>nonrefundable_support</th>\n",
       "      <th>budget</th>\n",
       "      <th>financing_source</th>\n",
       "      <th>ratings</th>\n",
       "      <th>genres</th>\n",
       "      <th>box_office</th>\n",
       "    </tr>\n",
       "  </thead>\n",
       "  <tbody>\n",
       "    <tr>\n",
       "      <th>3186</th>\n",
       "      <td>Детский юмористический киножурнал \"Ералаш. Ну ...</td>\n",
       "      <td>111001216</td>\n",
       "      <td>2016-02-09 12:00:00+00:00</td>\n",
       "      <td>Художественный</td>\n",
       "      <td>ООО \"Продюсерский центр ЕРАЛАШ\"</td>\n",
       "      <td>NaN</td>\n",
       "      <td>Р.Светлов, И.Магитон, А.Арутюнян, Л.Мирский, А...</td>\n",
       "      <td>ООО \"Продюсерский центр ЕРАЛАШ\"</td>\n",
       "      <td>«0+» - для любой зрительской аудитории</td>\n",
       "      <td>NaN</td>\n",
       "      <td>NaN</td>\n",
       "      <td>NaN</td>\n",
       "      <td>NaN</td>\n",
       "      <td>7.2</td>\n",
       "      <td>детский,комедия</td>\n",
       "      <td>194527.0</td>\n",
       "    </tr>\n",
       "    <tr>\n",
       "      <th>4441</th>\n",
       "      <td>Мульт личности. Выпуск 5</td>\n",
       "      <td>214000410</td>\n",
       "      <td>2010-01-25 12:00:00+00:00</td>\n",
       "      <td>Художественный</td>\n",
       "      <td>NaN</td>\n",
       "      <td>NaN</td>\n",
       "      <td>NaN</td>\n",
       "      <td>NaN</td>\n",
       "      <td>«0+» - для любой зрительской аудитории</td>\n",
       "      <td>NaN</td>\n",
       "      <td>NaN</td>\n",
       "      <td>NaN</td>\n",
       "      <td>NaN</td>\n",
       "      <td>4.0</td>\n",
       "      <td>мультфильм,комедия</td>\n",
       "      <td>NaN</td>\n",
       "    </tr>\n",
       "  </tbody>\n",
       "</table>\n",
       "</div>"
      ],
      "text/plain": [
       "                                                  title   puNumber  \\\n",
       "3186  Детский юмористический киножурнал \"Ералаш. Ну ...  111001216   \n",
       "4441                           Мульт личности. Выпуск 5  214000410   \n",
       "\n",
       "               show_start_date            type  \\\n",
       "3186 2016-02-09 12:00:00+00:00  Художественный   \n",
       "4441 2010-01-25 12:00:00+00:00  Художественный   \n",
       "\n",
       "                          film_studio production_country  \\\n",
       "3186  ООО \"Продюсерский центр ЕРАЛАШ\"                NaN   \n",
       "4441                              NaN                NaN   \n",
       "\n",
       "                                               director  \\\n",
       "3186  Р.Светлов, И.Магитон, А.Арутюнян, Л.Мирский, А...   \n",
       "4441                                                NaN   \n",
       "\n",
       "                             producer                         age_restriction  \\\n",
       "3186  ООО \"Продюсерский центр ЕРАЛАШ\"  «0+» - для любой зрительской аудитории   \n",
       "4441                              NaN  «0+» - для любой зрительской аудитории   \n",
       "\n",
       "      refundable_support  nonrefundable_support  budget financing_source  \\\n",
       "3186                 NaN                    NaN     NaN              NaN   \n",
       "4441                 NaN                    NaN     NaN              NaN   \n",
       "\n",
       "      ratings              genres  box_office  \n",
       "3186      7.2     детский,комедия    194527.0  \n",
       "4441      4.0  мультфильм,комедия         NaN  "
      ]
     },
     "metadata": {},
     "output_type": "display_data"
    }
   ],
   "source": [
    "display(data.loc[data.loc[:,'production_country'].isna()])"
   ]
  },
  {
   "cell_type": "code",
   "execution_count": 7,
   "metadata": {},
   "outputs": [],
   "source": [
    "# пропуски в данном столбце можно заменить на значение \"Россия\"\n",
    "data.loc[data['production_country'].isna() == True, 'production_country'] = 'Россия'"
   ]
  },
  {
   "cell_type": "markdown",
   "metadata": {},
   "source": [
    "**Вывод:**\n",
    "* столбец `['film_studio']` содержит 18 пропущенных значений (по каждому пропуску можно найти информацию в интернете и заполнить вручную, но это займет длительное время, что нецелесообразно); \n",
    "* столбец `['production_country']` содержит 2 пропущенных значения (заменили на значение \"Россия\"); \n",
    "* столбец `['director']` содержит 9 пропущенных значений (по каждому пропуску можно найти информацию в интернете и заполнить вручную, но это займет длительное время, что нецелесообразно);\n",
    "* столбец `['producer']` содержит 568 пропущенных значений (оставим как есть);\n",
    "* столбцы `['refundable_support']`, `['nonrefundable_support']`, `['budget']`, `['financing_source']` содержат 7154 пропущенных значения (столбцы заполнены только для фильмов с государственной поддержкой);\n",
    "* столбец `['ratings']` содержит 996 пропущенных значения (оставим как есть);\n",
    "* столбец `['genres']` содержит 976 пропущенных значения (оставим как есть);\n",
    "* столбец `['box_office']` содержит 4328 пропущенных значения (столбцы заполнены только для фильмов из российского кинопроката);"
   ]
  },
  {
   "cell_type": "markdown",
   "metadata": {
    "id": "4c6k1t9ygFyQ"
   },
   "source": [
    "#### Шаг 2.3. Изучите дубликаты в датафрейме\n",
    "- Проверьте, есть ли в данных дубликаты. Опишите причины, которые могли повлиять на появление дублей."
   ]
  },
  {
   "cell_type": "code",
   "execution_count": 8,
   "metadata": {},
   "outputs": [
    {
     "data": {
      "text/plain": [
       "0"
      ]
     },
     "execution_count": 8,
     "metadata": {},
     "output_type": "execute_result"
    }
   ],
   "source": [
    "data.duplicated().sum() # найдем сумму дубликатов в таблице по строкам"
   ]
  },
  {
   "cell_type": "markdown",
   "metadata": {},
   "source": [
    "**Вывод: явных дублей в данных не обнаружено**"
   ]
  },
  {
   "cell_type": "code",
   "execution_count": 9,
   "metadata": {},
   "outputs": [
    {
     "data": {
      "text/html": [
       "<div>\n",
       "<style scoped>\n",
       "    .dataframe tbody tr th:only-of-type {\n",
       "        vertical-align: middle;\n",
       "    }\n",
       "\n",
       "    .dataframe tbody tr th {\n",
       "        vertical-align: top;\n",
       "    }\n",
       "\n",
       "    .dataframe thead th {\n",
       "        text-align: right;\n",
       "    }\n",
       "</style>\n",
       "<table border=\"1\" class=\"dataframe\">\n",
       "  <thead>\n",
       "    <tr style=\"text-align: right;\">\n",
       "      <th></th>\n",
       "      <th>title</th>\n",
       "      <th>puNumber</th>\n",
       "      <th>show_start_date</th>\n",
       "      <th>type</th>\n",
       "      <th>film_studio</th>\n",
       "      <th>production_country</th>\n",
       "      <th>director</th>\n",
       "      <th>producer</th>\n",
       "      <th>age_restriction</th>\n",
       "      <th>refundable_support</th>\n",
       "      <th>nonrefundable_support</th>\n",
       "      <th>budget</th>\n",
       "      <th>financing_source</th>\n",
       "      <th>ratings</th>\n",
       "      <th>genres</th>\n",
       "      <th>box_office</th>\n",
       "    </tr>\n",
       "  </thead>\n",
       "  <tbody>\n",
       "    <tr>\n",
       "      <th>2</th>\n",
       "      <td>Особо опасен</td>\n",
       "      <td>221038416</td>\n",
       "      <td>2016-10-10 12:00:00+00:00</td>\n",
       "      <td>Художественный</td>\n",
       "      <td>Юниверсал Пикчерз, Кикстарт Продакшнз, Марк Пл...</td>\n",
       "      <td>США</td>\n",
       "      <td>Тимур Бекмамбетов</td>\n",
       "      <td>Джим Лемли, Джейсон Нетер, Марк Е.Платт, Яйн Смит</td>\n",
       "      <td>«18+» - запрещено для детей</td>\n",
       "      <td>NaN</td>\n",
       "      <td>NaN</td>\n",
       "      <td>NaN</td>\n",
       "      <td>NaN</td>\n",
       "      <td>6.8</td>\n",
       "      <td>фантастика,боевик,триллер</td>\n",
       "      <td>NaN</td>\n",
       "    </tr>\n",
       "    <tr>\n",
       "      <th>3</th>\n",
       "      <td>Особо опасен</td>\n",
       "      <td>221026916</td>\n",
       "      <td>2016-06-10 12:00:00+00:00</td>\n",
       "      <td>Художественный</td>\n",
       "      <td>Юниверсал Пикчерз, Кикстарт Продакшнз, Марк Пл...</td>\n",
       "      <td>США</td>\n",
       "      <td>Тимур Бекмамбетов</td>\n",
       "      <td>Джим Лемли, Джейсон Нетер, Марк Е.Платт, Яйн Смит</td>\n",
       "      <td>«18+» - запрещено для детей</td>\n",
       "      <td>NaN</td>\n",
       "      <td>NaN</td>\n",
       "      <td>NaN</td>\n",
       "      <td>NaN</td>\n",
       "      <td>6.8</td>\n",
       "      <td>фантастика,боевик,триллер</td>\n",
       "      <td>NaN</td>\n",
       "    </tr>\n",
       "    <tr>\n",
       "      <th>4</th>\n",
       "      <td>Особо опасен</td>\n",
       "      <td>221030815</td>\n",
       "      <td>2015-07-29 12:00:00+00:00</td>\n",
       "      <td>Художественный</td>\n",
       "      <td>Юниверсал Пикчерз, Кикстарт Продакшнз, Марк Пл...</td>\n",
       "      <td>США</td>\n",
       "      <td>Тимур Бекмамбетов</td>\n",
       "      <td>Джим Лемли, Джейсон Нетер, Марк Е.Платт, Яйн Смит</td>\n",
       "      <td>«18+» - запрещено для детей</td>\n",
       "      <td>NaN</td>\n",
       "      <td>NaN</td>\n",
       "      <td>NaN</td>\n",
       "      <td>NaN</td>\n",
       "      <td>6.8</td>\n",
       "      <td>фантастика,боевик,триллер</td>\n",
       "      <td>NaN</td>\n",
       "    </tr>\n",
       "    <tr>\n",
       "      <th>12</th>\n",
       "      <td>Малышка на миллион /По мотивам рассказов Ф.Х.Т...</td>\n",
       "      <td>221011415</td>\n",
       "      <td>2015-04-03 12:00:00+00:00</td>\n",
       "      <td>Художественный</td>\n",
       "      <td>Уорнер Бразерс, Лейкшор Интертейнмент, Малпасо...</td>\n",
       "      <td>США</td>\n",
       "      <td>Клинт Иствуд</td>\n",
       "      <td>Клинт Иствуд, Том Розенберг, Альберт С.Рудди, ...</td>\n",
       "      <td>«16+» - для детей старше 16 лет</td>\n",
       "      <td>NaN</td>\n",
       "      <td>NaN</td>\n",
       "      <td>NaN</td>\n",
       "      <td>NaN</td>\n",
       "      <td>8.1</td>\n",
       "      <td>драма,спорт</td>\n",
       "      <td>NaN</td>\n",
       "    </tr>\n",
       "    <tr>\n",
       "      <th>26</th>\n",
       "      <td>Оружейный барон</td>\n",
       "      <td>221012515</td>\n",
       "      <td>2015-04-03 12:00:00+00:00</td>\n",
       "      <td>Художественный</td>\n",
       "      <td>Вэ И Пэ Медиенфондс 3, Асендант Пикчерз, Сатур...</td>\n",
       "      <td>США - Франция - Турция</td>\n",
       "      <td>Эндрю Никкол</td>\n",
       "      <td>Норман Голуайтли, Энди Грош, Николас Кейдж, Эн...</td>\n",
       "      <td>«18+» - запрещено для детей</td>\n",
       "      <td>NaN</td>\n",
       "      <td>NaN</td>\n",
       "      <td>NaN</td>\n",
       "      <td>NaN</td>\n",
       "      <td>7.7</td>\n",
       "      <td>боевик,драма,криминал</td>\n",
       "      <td>NaN</td>\n",
       "    </tr>\n",
       "    <tr>\n",
       "      <th>...</th>\n",
       "      <td>...</td>\n",
       "      <td>...</td>\n",
       "      <td>...</td>\n",
       "      <td>...</td>\n",
       "      <td>...</td>\n",
       "      <td>...</td>\n",
       "      <td>...</td>\n",
       "      <td>...</td>\n",
       "      <td>...</td>\n",
       "      <td>...</td>\n",
       "      <td>...</td>\n",
       "      <td>...</td>\n",
       "      <td>...</td>\n",
       "      <td>...</td>\n",
       "      <td>...</td>\n",
       "      <td>...</td>\n",
       "    </tr>\n",
       "    <tr>\n",
       "      <th>7369</th>\n",
       "      <td>Невиновен</td>\n",
       "      <td>111019319</td>\n",
       "      <td>2019-11-07 12:00:00+00:00</td>\n",
       "      <td>Художественный</td>\n",
       "      <td>ООО \"Кавказфильм\"</td>\n",
       "      <td>Россия</td>\n",
       "      <td>А.Емкужев</td>\n",
       "      <td>А.Емкужев, А.Хуажева, ООО \"Корпорация Русская ...</td>\n",
       "      <td>«16+» - для детей старше 16 лет</td>\n",
       "      <td>NaN</td>\n",
       "      <td>NaN</td>\n",
       "      <td>NaN</td>\n",
       "      <td>NaN</td>\n",
       "      <td>7.5</td>\n",
       "      <td>триллер,детектив,криминал</td>\n",
       "      <td>NaN</td>\n",
       "    </tr>\n",
       "    <tr>\n",
       "      <th>7416</th>\n",
       "      <td>Отель \"Гранд Будапешт\"</td>\n",
       "      <td>121035119</td>\n",
       "      <td>2019-12-13 12:00:00+00:00</td>\n",
       "      <td>Художественный</td>\n",
       "      <td>Американ Эмпирикал, Индиан Пэинтбраш, Скотт Ру...</td>\n",
       "      <td>Германия, США</td>\n",
       "      <td>Уэс Андерсен</td>\n",
       "      <td>Уэс Андерсон, Джереми Доусон, Стивен Рейлс</td>\n",
       "      <td>«16+» - для детей старше 16 лет</td>\n",
       "      <td>NaN</td>\n",
       "      <td>NaN</td>\n",
       "      <td>NaN</td>\n",
       "      <td>NaN</td>\n",
       "      <td>7.9</td>\n",
       "      <td>комедия,приключения,детектив</td>\n",
       "      <td>NaN</td>\n",
       "    </tr>\n",
       "    <tr>\n",
       "      <th>7438</th>\n",
       "      <td>Зверь</td>\n",
       "      <td>121035919</td>\n",
       "      <td>2019-12-05 12:00:00+00:00</td>\n",
       "      <td>Художественный</td>\n",
       "      <td>Студио энд Нью</td>\n",
       "      <td>Южная Корея</td>\n",
       "      <td>Ли Джон-хо</td>\n",
       "      <td>Чан Гён-ик, Чон Джи-хун, Пэк Кён сук</td>\n",
       "      <td>«18+» - запрещено для детей</td>\n",
       "      <td>NaN</td>\n",
       "      <td>NaN</td>\n",
       "      <td>NaN</td>\n",
       "      <td>NaN</td>\n",
       "      <td>6.5</td>\n",
       "      <td>триллер,драма</td>\n",
       "      <td>175003.51</td>\n",
       "    </tr>\n",
       "    <tr>\n",
       "      <th>7450</th>\n",
       "      <td>В тихом омуте</td>\n",
       "      <td>121036919</td>\n",
       "      <td>2019-12-09 12:00:00+00:00</td>\n",
       "      <td>Художественный</td>\n",
       "      <td>Хэд Гир Филмз, Крео Филмз, Локал Хироу, Метрол...</td>\n",
       "      <td>США</td>\n",
       "      <td>Адам Рэндолл</td>\n",
       "      <td>Мэтт Уолдек</td>\n",
       "      <td>«18+» - запрещено для детей</td>\n",
       "      <td>NaN</td>\n",
       "      <td>NaN</td>\n",
       "      <td>NaN</td>\n",
       "      <td>NaN</td>\n",
       "      <td>6.8</td>\n",
       "      <td>триллер,криминал,детектив</td>\n",
       "      <td>NaN</td>\n",
       "    </tr>\n",
       "    <tr>\n",
       "      <th>7474</th>\n",
       "      <td>Вторжение</td>\n",
       "      <td>111022519</td>\n",
       "      <td>2019-12-23 12:00:00+00:00</td>\n",
       "      <td>Художественный</td>\n",
       "      <td>ООО \"Арт Пикчерс Студия\", ООО \"Водород 2011\"</td>\n",
       "      <td>Россия</td>\n",
       "      <td>Ф.Бондарчук</td>\n",
       "      <td>Ф.Бондарчук, М.Врубель, А.Андрющенко, Д.Рудовский</td>\n",
       "      <td>«12+» - для детей старше 12 лет</td>\n",
       "      <td>100000000.0</td>\n",
       "      <td>400000000.0</td>\n",
       "      <td>944000000.0</td>\n",
       "      <td>Фонд кино</td>\n",
       "      <td>5.7</td>\n",
       "      <td>фантастика,боевик</td>\n",
       "      <td>NaN</td>\n",
       "    </tr>\n",
       "  </tbody>\n",
       "</table>\n",
       "<p>1272 rows × 16 columns</p>\n",
       "</div>"
      ],
      "text/plain": [
       "                                                  title   puNumber  \\\n",
       "2                                          Особо опасен  221038416   \n",
       "3                                          Особо опасен  221026916   \n",
       "4                                          Особо опасен  221030815   \n",
       "12    Малышка на миллион /По мотивам рассказов Ф.Х.Т...  221011415   \n",
       "26                                      Оружейный барон  221012515   \n",
       "...                                                 ...        ...   \n",
       "7369                                          Невиновен  111019319   \n",
       "7416                             Отель \"Гранд Будапешт\"  121035119   \n",
       "7438                                              Зверь  121035919   \n",
       "7450                                      В тихом омуте  121036919   \n",
       "7474                                          Вторжение  111022519   \n",
       "\n",
       "               show_start_date             type  \\\n",
       "2    2016-10-10 12:00:00+00:00   Художественный   \n",
       "3    2016-06-10 12:00:00+00:00   Художественный   \n",
       "4    2015-07-29 12:00:00+00:00   Художественный   \n",
       "12   2015-04-03 12:00:00+00:00   Художественный   \n",
       "26   2015-04-03 12:00:00+00:00   Художественный   \n",
       "...                        ...              ...   \n",
       "7369 2019-11-07 12:00:00+00:00   Художественный   \n",
       "7416 2019-12-13 12:00:00+00:00   Художественный   \n",
       "7438 2019-12-05 12:00:00+00:00   Художественный   \n",
       "7450 2019-12-09 12:00:00+00:00   Художественный   \n",
       "7474 2019-12-23 12:00:00+00:00   Художественный   \n",
       "\n",
       "                                            film_studio  \\\n",
       "2     Юниверсал Пикчерз, Кикстарт Продакшнз, Марк Пл...   \n",
       "3     Юниверсал Пикчерз, Кикстарт Продакшнз, Марк Пл...   \n",
       "4     Юниверсал Пикчерз, Кикстарт Продакшнз, Марк Пл...   \n",
       "12    Уорнер Бразерс, Лейкшор Интертейнмент, Малпасо...   \n",
       "26    Вэ И Пэ Медиенфондс 3, Асендант Пикчерз, Сатур...   \n",
       "...                                                 ...   \n",
       "7369                                  ООО \"Кавказфильм\"   \n",
       "7416  Американ Эмпирикал, Индиан Пэинтбраш, Скотт Ру...   \n",
       "7438                                     Студио энд Нью   \n",
       "7450  Хэд Гир Филмз, Крео Филмз, Локал Хироу, Метрол...   \n",
       "7474       ООО \"Арт Пикчерс Студия\", ООО \"Водород 2011\"   \n",
       "\n",
       "          production_country           director  \\\n",
       "2                        США  Тимур Бекмамбетов   \n",
       "3                        США  Тимур Бекмамбетов   \n",
       "4                        США  Тимур Бекмамбетов   \n",
       "12                       США       Клинт Иствуд   \n",
       "26    США - Франция - Турция       Эндрю Никкол   \n",
       "...                      ...                ...   \n",
       "7369                  Россия          А.Емкужев   \n",
       "7416           Германия, США       Уэс Андерсен   \n",
       "7438             Южная Корея         Ли Джон-хо   \n",
       "7450                     США       Адам Рэндолл   \n",
       "7474                  Россия        Ф.Бондарчук   \n",
       "\n",
       "                                               producer  \\\n",
       "2     Джим Лемли, Джейсон Нетер, Марк Е.Платт, Яйн Смит   \n",
       "3     Джим Лемли, Джейсон Нетер, Марк Е.Платт, Яйн Смит   \n",
       "4     Джим Лемли, Джейсон Нетер, Марк Е.Платт, Яйн Смит   \n",
       "12    Клинт Иствуд, Том Розенберг, Альберт С.Рудди, ...   \n",
       "26    Норман Голуайтли, Энди Грош, Николас Кейдж, Эн...   \n",
       "...                                                 ...   \n",
       "7369  А.Емкужев, А.Хуажева, ООО \"Корпорация Русская ...   \n",
       "7416         Уэс Андерсон, Джереми Доусон, Стивен Рейлс   \n",
       "7438               Чан Гён-ик, Чон Джи-хун, Пэк Кён сук   \n",
       "7450                                        Мэтт Уолдек   \n",
       "7474  Ф.Бондарчук, М.Врубель, А.Андрющенко, Д.Рудовский   \n",
       "\n",
       "                      age_restriction  refundable_support  \\\n",
       "2         «18+» - запрещено для детей                 NaN   \n",
       "3         «18+» - запрещено для детей                 NaN   \n",
       "4         «18+» - запрещено для детей                 NaN   \n",
       "12    «16+» - для детей старше 16 лет                 NaN   \n",
       "26        «18+» - запрещено для детей                 NaN   \n",
       "...                               ...                 ...   \n",
       "7369  «16+» - для детей старше 16 лет                 NaN   \n",
       "7416  «16+» - для детей старше 16 лет                 NaN   \n",
       "7438      «18+» - запрещено для детей                 NaN   \n",
       "7450      «18+» - запрещено для детей                 NaN   \n",
       "7474  «12+» - для детей старше 12 лет         100000000.0   \n",
       "\n",
       "      nonrefundable_support       budget financing_source  ratings  \\\n",
       "2                       NaN          NaN              NaN      6.8   \n",
       "3                       NaN          NaN              NaN      6.8   \n",
       "4                       NaN          NaN              NaN      6.8   \n",
       "12                      NaN          NaN              NaN      8.1   \n",
       "26                      NaN          NaN              NaN      7.7   \n",
       "...                     ...          ...              ...      ...   \n",
       "7369                    NaN          NaN              NaN      7.5   \n",
       "7416                    NaN          NaN              NaN      7.9   \n",
       "7438                    NaN          NaN              NaN      6.5   \n",
       "7450                    NaN          NaN              NaN      6.8   \n",
       "7474            400000000.0  944000000.0        Фонд кино      5.7   \n",
       "\n",
       "                            genres  box_office  \n",
       "2        фантастика,боевик,триллер         NaN  \n",
       "3        фантастика,боевик,триллер         NaN  \n",
       "4        фантастика,боевик,триллер         NaN  \n",
       "12                     драма,спорт         NaN  \n",
       "26           боевик,драма,криминал         NaN  \n",
       "...                            ...         ...  \n",
       "7369     триллер,детектив,криминал         NaN  \n",
       "7416  комедия,приключения,детектив         NaN  \n",
       "7438                 триллер,драма   175003.51  \n",
       "7450     триллер,криминал,детектив         NaN  \n",
       "7474             фантастика,боевик         NaN  \n",
       "\n",
       "[1272 rows x 16 columns]"
      ]
     },
     "metadata": {},
     "output_type": "display_data"
    },
    {
     "data": {
      "text/html": [
       "<div>\n",
       "<style scoped>\n",
       "    .dataframe tbody tr th:only-of-type {\n",
       "        vertical-align: middle;\n",
       "    }\n",
       "\n",
       "    .dataframe tbody tr th {\n",
       "        vertical-align: top;\n",
       "    }\n",
       "\n",
       "    .dataframe thead th {\n",
       "        text-align: right;\n",
       "    }\n",
       "</style>\n",
       "<table border=\"1\" class=\"dataframe\">\n",
       "  <thead>\n",
       "    <tr style=\"text-align: right;\">\n",
       "      <th></th>\n",
       "      <th>title</th>\n",
       "      <th>puNumber</th>\n",
       "      <th>show_start_date</th>\n",
       "      <th>type</th>\n",
       "      <th>film_studio</th>\n",
       "      <th>production_country</th>\n",
       "      <th>director</th>\n",
       "      <th>producer</th>\n",
       "      <th>age_restriction</th>\n",
       "      <th>refundable_support</th>\n",
       "      <th>nonrefundable_support</th>\n",
       "      <th>budget</th>\n",
       "      <th>financing_source</th>\n",
       "      <th>ratings</th>\n",
       "      <th>genres</th>\n",
       "      <th>box_office</th>\n",
       "    </tr>\n",
       "  </thead>\n",
       "  <tbody>\n",
       "    <tr>\n",
       "      <th>2</th>\n",
       "      <td>Особо опасен</td>\n",
       "      <td>221038416</td>\n",
       "      <td>2016-10-10 12:00:00+00:00</td>\n",
       "      <td>Художественный</td>\n",
       "      <td>Юниверсал Пикчерз, Кикстарт Продакшнз, Марк Пл...</td>\n",
       "      <td>США</td>\n",
       "      <td>Тимур Бекмамбетов</td>\n",
       "      <td>Джим Лемли, Джейсон Нетер, Марк Е.Платт, Яйн Смит</td>\n",
       "      <td>«18+» - запрещено для детей</td>\n",
       "      <td>NaN</td>\n",
       "      <td>NaN</td>\n",
       "      <td>NaN</td>\n",
       "      <td>NaN</td>\n",
       "      <td>6.8</td>\n",
       "      <td>фантастика,боевик,триллер</td>\n",
       "      <td>NaN</td>\n",
       "    </tr>\n",
       "    <tr>\n",
       "      <th>3</th>\n",
       "      <td>Особо опасен</td>\n",
       "      <td>221026916</td>\n",
       "      <td>2016-06-10 12:00:00+00:00</td>\n",
       "      <td>Художественный</td>\n",
       "      <td>Юниверсал Пикчерз, Кикстарт Продакшнз, Марк Пл...</td>\n",
       "      <td>США</td>\n",
       "      <td>Тимур Бекмамбетов</td>\n",
       "      <td>Джим Лемли, Джейсон Нетер, Марк Е.Платт, Яйн Смит</td>\n",
       "      <td>«18+» - запрещено для детей</td>\n",
       "      <td>NaN</td>\n",
       "      <td>NaN</td>\n",
       "      <td>NaN</td>\n",
       "      <td>NaN</td>\n",
       "      <td>6.8</td>\n",
       "      <td>фантастика,боевик,триллер</td>\n",
       "      <td>NaN</td>\n",
       "    </tr>\n",
       "    <tr>\n",
       "      <th>4</th>\n",
       "      <td>Особо опасен</td>\n",
       "      <td>221030815</td>\n",
       "      <td>2015-07-29 12:00:00+00:00</td>\n",
       "      <td>Художественный</td>\n",
       "      <td>Юниверсал Пикчерз, Кикстарт Продакшнз, Марк Пл...</td>\n",
       "      <td>США</td>\n",
       "      <td>Тимур Бекмамбетов</td>\n",
       "      <td>Джим Лемли, Джейсон Нетер, Марк Е.Платт, Яйн Смит</td>\n",
       "      <td>«18+» - запрещено для детей</td>\n",
       "      <td>NaN</td>\n",
       "      <td>NaN</td>\n",
       "      <td>NaN</td>\n",
       "      <td>NaN</td>\n",
       "      <td>6.8</td>\n",
       "      <td>фантастика,боевик,триллер</td>\n",
       "      <td>NaN</td>\n",
       "    </tr>\n",
       "  </tbody>\n",
       "</table>\n",
       "</div>"
      ],
      "text/plain": [
       "          title   puNumber           show_start_date            type  \\\n",
       "2  Особо опасен  221038416 2016-10-10 12:00:00+00:00  Художественный   \n",
       "3  Особо опасен  221026916 2016-06-10 12:00:00+00:00  Художественный   \n",
       "4  Особо опасен  221030815 2015-07-29 12:00:00+00:00  Художественный   \n",
       "\n",
       "                                         film_studio production_country  \\\n",
       "2  Юниверсал Пикчерз, Кикстарт Продакшнз, Марк Пл...                США   \n",
       "3  Юниверсал Пикчерз, Кикстарт Продакшнз, Марк Пл...                США   \n",
       "4  Юниверсал Пикчерз, Кикстарт Продакшнз, Марк Пл...                США   \n",
       "\n",
       "            director                                           producer  \\\n",
       "2  Тимур Бекмамбетов  Джим Лемли, Джейсон Нетер, Марк Е.Платт, Яйн Смит   \n",
       "3  Тимур Бекмамбетов  Джим Лемли, Джейсон Нетер, Марк Е.Платт, Яйн Смит   \n",
       "4  Тимур Бекмамбетов  Джим Лемли, Джейсон Нетер, Марк Е.Платт, Яйн Смит   \n",
       "\n",
       "               age_restriction  refundable_support  nonrefundable_support  \\\n",
       "2  «18+» - запрещено для детей                 NaN                    NaN   \n",
       "3  «18+» - запрещено для детей                 NaN                    NaN   \n",
       "4  «18+» - запрещено для детей                 NaN                    NaN   \n",
       "\n",
       "   budget financing_source  ratings                     genres  box_office  \n",
       "2     NaN              NaN      6.8  фантастика,боевик,триллер         NaN  \n",
       "3     NaN              NaN      6.8  фантастика,боевик,триллер         NaN  \n",
       "4     NaN              NaN      6.8  фантастика,боевик,триллер         NaN  "
      ]
     },
     "metadata": {},
     "output_type": "display_data"
    },
    {
     "name": "stdout",
     "output_type": "stream",
     "text": [
      "558\n"
     ]
    }
   ],
   "source": [
    "display(data.loc[data.loc[:,'title'].duplicated(keep=False)]) # выведем фильмы, дублирующиеся по названиям\n",
    "display(data.loc[data.loc[:,'title'] == 'Особо опасен']) # выведем срез таблицы по названию фильма \"Особо опасен\" \n",
    "print(data.loc[data.loc[:,'title'].duplicated(keep=False)] ['title'].value_counts().count()) \n",
    "# найдем число фильмов, имеющих дублирующие названия"
   ]
  },
  {
   "cell_type": "markdown",
   "metadata": {},
   "source": [
    "**Вывод:**\n",
    "* в таблице имееются фильмы с одними и теми же данными, но с разными номерами прокатных удостоверений (удалять дублирующие значения не будем, так как, скорее всего, фильмы выходили в прокат несколько раз)"
   ]
  },
  {
   "cell_type": "code",
   "execution_count": 10,
   "metadata": {},
   "outputs": [
    {
     "data": {
      "text/html": [
       "<div>\n",
       "<style scoped>\n",
       "    .dataframe tbody tr th:only-of-type {\n",
       "        vertical-align: middle;\n",
       "    }\n",
       "\n",
       "    .dataframe tbody tr th {\n",
       "        vertical-align: top;\n",
       "    }\n",
       "\n",
       "    .dataframe thead th {\n",
       "        text-align: right;\n",
       "    }\n",
       "</style>\n",
       "<table border=\"1\" class=\"dataframe\">\n",
       "  <thead>\n",
       "    <tr style=\"text-align: right;\">\n",
       "      <th></th>\n",
       "      <th>title</th>\n",
       "      <th>puNumber</th>\n",
       "      <th>show_start_date</th>\n",
       "      <th>type</th>\n",
       "      <th>film_studio</th>\n",
       "      <th>production_country</th>\n",
       "      <th>director</th>\n",
       "      <th>producer</th>\n",
       "      <th>age_restriction</th>\n",
       "      <th>refundable_support</th>\n",
       "      <th>nonrefundable_support</th>\n",
       "      <th>budget</th>\n",
       "      <th>financing_source</th>\n",
       "      <th>ratings</th>\n",
       "      <th>genres</th>\n",
       "      <th>box_office</th>\n",
       "    </tr>\n",
       "  </thead>\n",
       "  <tbody>\n",
       "    <tr>\n",
       "      <th>4638</th>\n",
       "      <td>Как жениться и остаться холостым</td>\n",
       "      <td>221154310</td>\n",
       "      <td>2010-12-17 12:00:00+00:00</td>\n",
       "      <td>Художественный</td>\n",
       "      <td>Ше Вам, Скрипт Ассосье, Тэ Фэ 1 Фильм Продюксь...</td>\n",
       "      <td>Франция</td>\n",
       "      <td>Эрик Лартиго</td>\n",
       "      <td>Амандин Било, Алан Шаба</td>\n",
       "      <td>«16+» - для детей старше 16 лет</td>\n",
       "      <td>NaN</td>\n",
       "      <td>NaN</td>\n",
       "      <td>NaN</td>\n",
       "      <td>NaN</td>\n",
       "      <td>7.0</td>\n",
       "      <td>мелодрама,комедия</td>\n",
       "      <td>NaN</td>\n",
       "    </tr>\n",
       "    <tr>\n",
       "      <th>4639</th>\n",
       "      <td>Иоанна - женщина на папском престоле /По роман...</td>\n",
       "      <td>221154310</td>\n",
       "      <td>2010-12-17 12:00:00+00:00</td>\n",
       "      <td>Художественный</td>\n",
       "      <td>Константин Фильм, А Эр Ди Дегето Фильм, Дюне ...</td>\n",
       "      <td>Германия - Великобритания - Италия - Испания</td>\n",
       "      <td>Зенке Вортманн</td>\n",
       "      <td>Оливер Бербен, Дорис Д.Хайнце, Фарук Элтан</td>\n",
       "      <td>«16+» - для детей старше 16 лет</td>\n",
       "      <td>NaN</td>\n",
       "      <td>NaN</td>\n",
       "      <td>NaN</td>\n",
       "      <td>NaN</td>\n",
       "      <td>7.6</td>\n",
       "      <td>драма,мелодрама,история</td>\n",
       "      <td>NaN</td>\n",
       "    </tr>\n",
       "    <tr>\n",
       "      <th>5067</th>\n",
       "      <td>Анализируй это!</td>\n",
       "      <td>221054410</td>\n",
       "      <td>2010-05-25 12:00:00+00:00</td>\n",
       "      <td>Художественный</td>\n",
       "      <td>Уорнер Бразерс, Вилладж Роудшоу Филмз ЛТД</td>\n",
       "      <td>США-Австралия</td>\n",
       "      <td>ХЭрольд Рэмис</td>\n",
       "      <td>Джейн Розенталь, Пола Уейнстейн</td>\n",
       "      <td>«16+» - для детей старше 16 лет</td>\n",
       "      <td>NaN</td>\n",
       "      <td>NaN</td>\n",
       "      <td>NaN</td>\n",
       "      <td>NaN</td>\n",
       "      <td>7.4</td>\n",
       "      <td>комедия,криминал</td>\n",
       "      <td>NaN</td>\n",
       "    </tr>\n",
       "    <tr>\n",
       "      <th>5068</th>\n",
       "      <td>Анализируй то!</td>\n",
       "      <td>221054410</td>\n",
       "      <td>2010-05-25 12:00:00+00:00</td>\n",
       "      <td>Художественный</td>\n",
       "      <td>Уорнер Бразерс, Виллидж Роадшоу Пикчерз, Эн-Пи...</td>\n",
       "      <td>США</td>\n",
       "      <td>Гарольд Реймис</td>\n",
       "      <td>Джейн Розенталь, Паул Уэйнстейн</td>\n",
       "      <td>«12+» - для детей старше 12 лет</td>\n",
       "      <td>NaN</td>\n",
       "      <td>NaN</td>\n",
       "      <td>NaN</td>\n",
       "      <td>NaN</td>\n",
       "      <td>6.8</td>\n",
       "      <td>комедия,криминал</td>\n",
       "      <td>NaN</td>\n",
       "    </tr>\n",
       "  </tbody>\n",
       "</table>\n",
       "</div>"
      ],
      "text/plain": [
       "                                                  title   puNumber  \\\n",
       "4638                   Как жениться и остаться холостым  221154310   \n",
       "4639  Иоанна - женщина на папском престоле /По роман...  221154310   \n",
       "5067                                    Анализируй это!  221054410   \n",
       "5068                                     Анализируй то!  221054410   \n",
       "\n",
       "               show_start_date            type  \\\n",
       "4638 2010-12-17 12:00:00+00:00  Художественный   \n",
       "4639 2010-12-17 12:00:00+00:00  Художественный   \n",
       "5067 2010-05-25 12:00:00+00:00  Художественный   \n",
       "5068 2010-05-25 12:00:00+00:00  Художественный   \n",
       "\n",
       "                                            film_studio  \\\n",
       "4638  Ше Вам, Скрипт Ассосье, Тэ Фэ 1 Фильм Продюксь...   \n",
       "4639   Константин Фильм, А Эр Ди Дегето Фильм, Дюне ...   \n",
       "5067          Уорнер Бразерс, Вилладж Роудшоу Филмз ЛТД   \n",
       "5068  Уорнер Бразерс, Виллидж Роадшоу Пикчерз, Эн-Пи...   \n",
       "\n",
       "                                production_country        director  \\\n",
       "4638                                       Франция    Эрик Лартиго   \n",
       "4639  Германия - Великобритания - Италия - Испания  Зенке Вортманн   \n",
       "5067                                 США-Австралия   ХЭрольд Рэмис   \n",
       "5068                                           США  Гарольд Реймис   \n",
       "\n",
       "                                        producer  \\\n",
       "4638                     Амандин Било, Алан Шаба   \n",
       "4639  Оливер Бербен, Дорис Д.Хайнце, Фарук Элтан   \n",
       "5067             Джейн Розенталь, Пола Уейнстейн   \n",
       "5068             Джейн Розенталь, Паул Уэйнстейн   \n",
       "\n",
       "                      age_restriction  refundable_support  \\\n",
       "4638  «16+» - для детей старше 16 лет                 NaN   \n",
       "4639  «16+» - для детей старше 16 лет                 NaN   \n",
       "5067  «16+» - для детей старше 16 лет                 NaN   \n",
       "5068  «12+» - для детей старше 12 лет                 NaN   \n",
       "\n",
       "      nonrefundable_support  budget financing_source  ratings  \\\n",
       "4638                    NaN     NaN              NaN      7.0   \n",
       "4639                    NaN     NaN              NaN      7.6   \n",
       "5067                    NaN     NaN              NaN      7.4   \n",
       "5068                    NaN     NaN              NaN      6.8   \n",
       "\n",
       "                       genres  box_office  \n",
       "4638        мелодрама,комедия         NaN  \n",
       "4639  драма,мелодрама,история         NaN  \n",
       "5067         комедия,криминал         NaN  \n",
       "5068         комедия,криминал         NaN  "
      ]
     },
     "metadata": {},
     "output_type": "display_data"
    }
   ],
   "source": [
    "display(data.loc[data.loc[:,'puNumber'].duplicated(keep=False)]) \n",
    "# выведем фильмы, дублирующиеся по номерам прокатных удостоверений"
   ]
  },
  {
   "cell_type": "markdown",
   "metadata": {},
   "source": [
    "**Вывод:**\n",
    "* имеются строки, где номера прокатных удостоверений имеют одинаковые значения, но фильмы при этом под ними записаны разные (возможно, одно прокатное удостоверение выдавалось на несколько фильмов сразу), имеются строки, содержащие одни и те же номера прокатных удостоверений, но при этом страна-производитель, режиссер, продюсер, возрастная категория, рейтинг - разные (возможно, это две версии одного фильма(для старшей и младшей возрастных категорий, либо можно признать это дублями, заменив на одно, усредненное значение)"
   ]
  },
  {
   "cell_type": "markdown",
   "metadata": {
    "id": "52fOPrEBgFyQ"
   },
   "source": [
    "#### Шаг 2.4. Изучите категориальные значения\n",
    "\n",
    "- Посмотрите, какая общая проблема встречается почти во всех категориальных столбцах;\n",
    "- Исправьте проблемные значения в поле `type`.\n",
    "\n",
    "<div id=\"accordion\">\n",
    "    <div class=\"card\">\n",
    "        <div class=\"card-header\" id=\"headingThree\">\n",
    "            <button class=\"btn btn-link collapsed\" data-toggle=\"collapse\" data-target=\"#collapseHint_1\" aria-expanded=\"false\" aria-controls=\"collapseHint_1\">Подсказка</button>\n",
    "        </div>\n",
    "        <div id=\"collapseHint_1\" class=\"collapse\" aria-labelledby=\"headingThree\" data-parent=\"#accordion\">\n",
    "            <div class=\"card-body\">\n",
    "В поле <code>type</code> есть несколько значений, у которых появился пробел в начале строки. Самый простой способ их «починить» -- использовать метод <a href=\"https://pandas.pydata.org/docs/reference/api/pandas.Series.str.strip.html#pandas.Series.str.strip\">.str.strip</a>. Этот метод удаляет все пробелы, которые встречаются в начале и в конце строки. Применяют его таким образом:<br>\n",
    "<code>df['type'].str.strip()</code>\n",
    "            </div>\n",
    "        </div>\n",
    "    </div>\n",
    "</div>"
   ]
  },
  {
   "cell_type": "code",
   "execution_count": 11,
   "metadata": {},
   "outputs": [
    {
     "data": {
      "text/plain": [
       "День святого Валентина_                            5\n",
       "Кошки против собак: Месть Китти Галор              4\n",
       "Дом грёз                                           4\n",
       "Дорога /По новелле Кормака МкКарфи/                4\n",
       "Двойной копец                                      4\n",
       "                                                  ..\n",
       "Бэтмэн и Робин /По мотивам комиксов Боба Кейна/    1\n",
       "Закрой глаза                                       1\n",
       "Содора                                             1\n",
       "Грязная кампания за честные выборы                 1\n",
       "Дерево.                                            1\n",
       "Name: title, Length: 6772, dtype: int64"
      ]
     },
     "metadata": {},
     "output_type": "display_data"
    },
    {
     "data": {
      "text/plain": [
       "array(['Открытый простор', 'Особо важное задание', 'Особо опасен', ...,\n",
       "       'Щенячий патруль: Скорей спешим на помощь!',\n",
       "       'Машины песенки. Серия \"Испанские мотивы\"',\n",
       "       'Машины песенки. Серия \"Когда цветут кактусы\"'], dtype=object)"
      ]
     },
     "metadata": {},
     "output_type": "display_data"
    }
   ],
   "source": [
    "display(data['title'].value_counts()) # найдем количество уникальных значений\n",
    "display(data['title'].unique()) "
   ]
  },
  {
   "cell_type": "code",
   "execution_count": 12,
   "metadata": {},
   "outputs": [
    {
     "data": {
      "text/plain": [
       "Киностудия \"Мосфильм\"                                                                        341\n",
       "ООО \"Мульт в кино\"                                                                            57\n",
       "Анимаккорд Лтд                                                                                23\n",
       "ООО \"Мульт в кино\"                                                                            18\n",
       "ФГУП \"ТПО \"Киностудия \"Союзмультфильм\"                                                        16\n",
       "                                                                                            ... \n",
       "Дуэа Фильм, Комво Продуциони, Эр А И Синема, Министеро пер и Бени э ле Аттивита Културали      1\n",
       "Процесс Медиа, Лав Панч, СНД                                                                   1\n",
       "Парамаунт Плейз, Волден Медиа, Баа Продакшнс, Медиа Райс Кэпитал, Николодион Мувис             1\n",
       "Продюссьонс дель Премьер Синкуэна, Жинга Филмз, Нео Арт Энтертейнмент, Сплендер Филмз          1\n",
       "Марвел Интертейнмент, Сони Пикчерз Имиджворкс                                                  1\n",
       "Name: film_studio, Length: 5490, dtype: int64"
      ]
     },
     "metadata": {},
     "output_type": "display_data"
    },
    {
     "data": {
      "text/plain": [
       "array(['Тачстоун Пикчерз, Кобальт Пикчерз, Бикон Пикчерз, Тиг Продакшнз',\n",
       "       'Киностудия \"Мосфильм\"',\n",
       "       'Юниверсал Пикчерз, Кикстарт Продакшнз, Марк Платт Продакшнз, Рилейтивити Медиа, Спайгласс Интертейнмент, Стилкин Филмз, Топ Кау Продакшнз',\n",
       "       ...,\n",
       "       'Дэниел Гродник Продакшнз, Вандерфилм Медиа Корпорэйшн, Импринт Интертейнмент, Вор Хорс Интертейнмент, Пимиента ',\n",
       "       'Никелодеон Анимейшн Студиос, Спин Мастер',\n",
       "       'Анимаккорд Лтд., ООО Студия \"АНИМАККОРД\"'], dtype=object)"
      ]
     },
     "metadata": {},
     "output_type": "display_data"
    }
   ],
   "source": [
    "display(data['film_studio'].value_counts()) # найдем количество уникальных значений\n",
    "display(data['film_studio'].unique())"
   ]
  },
  {
   "cell_type": "code",
   "execution_count": 13,
   "metadata": {},
   "outputs": [
    {
     "data": {
      "text/plain": [
       "США                    2172\n",
       "Россия                 1823\n",
       "СССР                    347\n",
       "Франция                 301\n",
       "Великобритания          257\n",
       "                       ... \n",
       "СССР                      1\n",
       "Иран, Франция             1\n",
       "США-Аргентина             1\n",
       "Франция - Финляндия       1\n",
       "США - Норвегия            1\n",
       "Name: production_country, Length: 950, dtype: int64"
      ]
     },
     "metadata": {},
     "output_type": "display_data"
    },
    {
     "data": {
      "text/plain": [
       "array(['США', 'СССР', 'Франция', 'СССР, Венгрия',\n",
       "       'Германия-Великобритания', 'Великобритания - Италия',\n",
       "       'Чехословакия', 'США - Франция - Турция', 'Новая Зеландия',\n",
       "       'Канада - Франция - Испания', 'США-Германия',\n",
       "       'США - Великобритания', 'Великобритания', 'США - Германия',\n",
       "       'Франция - Мексика - США', 'Россия, Казахстан, США',\n",
       "       'СССР, Швеция', 'СССР, Франция, Англия, Куба, ГДР', 'Германия',\n",
       "       'Великобритания-США-Германия-КНР',\n",
       "       'СССР, ЧССР, Западный Берлин, ПНР', 'СССР, Италия', 'Гонконг, КНР',\n",
       "       'США - Франция', 'США - Япония - Франция - Великобритания',\n",
       "       'Гонконг - Сингапур - Таиланд - Великобритания', 'США-Канада',\n",
       "       'Франция - Италия - Великобритания - США', 'Франция - США',\n",
       "       'Ирландия-Великобритания-Германия', 'Чехия', 'США-Австралия',\n",
       "       'СССР, Финляндия', 'США-Франция-Великобритания-Австрия',\n",
       "       'США - Бельгия', 'США - Ирландия - Великобритания',\n",
       "       'Великобритания - США',\n",
       "       'Люксембург - Нидерланды - Испания - Великобритания - США - Италия',\n",
       "       'Великобритания - Франция - США', 'Новая Зеландия - США',\n",
       "       'США - Великобритания - Чехия',\n",
       "       'Канада - Франция - Великобритания', 'Ирландия',\n",
       "       'Великобритания - Германия - США',\n",
       "       'США - Франция - Великобритания', 'Япония', 'СССР, Польша',\n",
       "       'Франция - Испания', 'Канада-Франция', 'Германия - Италия - США',\n",
       "       'Аргентина - Бразилия', 'Дания - Швейцария - Бельгия - Франция',\n",
       "       'США - Испания', 'Германия - США',\n",
       "       'Франция - Австрия - Германия - Италия - США', 'Австрия',\n",
       "       'США - Канада - Германия', 'США - Канада',\n",
       "       'СССР - Швейцария - Франция', 'Россия - Казахстан', 'Гонконг',\n",
       "       'Италия', 'США - ОАЭ', 'Россия',\n",
       "       'США - Франция - Испания - Великобритания',\n",
       "       'Великобритания - Франция', 'США-Италия-Испания-Аргентина',\n",
       "       'Франция-Великобритания', 'КНР - Гонконг',\n",
       "       'Франция - Италия - Швейцария', 'США - Новая Зеландия',\n",
       "       'Франция - Бельгия', 'КНР', 'Германия - Великобритания - Австрия',\n",
       "       'Великобритания - Израиль - Франция - Япония - США', 'Швеция',\n",
       "       'Испания', 'Дания', 'Франция - Бельгия - Люксембург',\n",
       "       'США - Индия - ОАЭ',\n",
       "       'Германия-Канада-Великобритания-Швейцария-Франция',\n",
       "       'Мексика - Чили', 'Аргентина', 'Бразилия', 'Чили', 'Австралия',\n",
       "       'Португалия - Франция', 'США - ЮАР', 'Исландия-Ирландия-Германия',\n",
       "       'США-Индонезия', 'Южная Корея', 'Мексика - Испания - Дания - США',\n",
       "       'Великобритания-США', 'Франция - Италия', 'США-Франция',\n",
       "       'США - Венгрия - Великобритания', 'Бельгия-Франция-Италия',\n",
       "       'Чехия - Германия', 'Германия - Франция', 'США-Нидерланды',\n",
       "       'Украина', 'Великобритания - Германия', 'Франция-Бельгия',\n",
       "       'США-Франция-Испания', 'Италия - Франция', 'Канада',\n",
       "       'Швеция-Франция-Дания', 'Германия-Франция-Польша',\n",
       "       'Франция-Великобритания - Германия',\n",
       "       'США - Бразилия - Франция - Австралия - Великобритания - Германия',\n",
       "       'Германия-Австрия', 'Германия-Италия- Шри-Ланка',\n",
       "       'Великобритания - Испания',\n",
       "       'США - Великобритания - Канада - Швеция',\n",
       "       'Босния и Герцеговина - Франция - Великобритания - Германия - Словения - Бельгия - Сербия',\n",
       "       'Великобритания - Франция - Италия - США', 'США-ОАЭ',\n",
       "       'Испания - Франция', 'США-Великобритания', 'США-ЮАР',\n",
       "       'Великобритания-Австралия - США',\n",
       "       'Норвегия - Швеция - Дания - Германия', 'Норвегия', 'Швейцария',\n",
       "       'Греция - Германия - Франция', 'Норвения', 'Южная Корея - США',\n",
       "       'Чили - Франция - США', 'Австрия - Германия - Франция',\n",
       "       'Швеция - Дания', 'Великобритания - Франция - Бельгия - Италия',\n",
       "       'Франция - Германия', 'Грузия - Франция - Люксембург',\n",
       "       'США - Франция - Великобритания - Бразилия ', 'США - КНР',\n",
       "       'Мексика - Франция', 'США - Германия - Гонконг - Сингапур',\n",
       "       'Финляндия - Австрия - Россия', 'Испания - Куба',\n",
       "       'Великобритания - ЮАР', 'Великобритания - Ирландия', 'Израиль',\n",
       "       'Бразилия - Германия - Порртугалия - Франция ',\n",
       "       'Франция - Канада - Бельгия', 'Франция-Испания',\n",
       "       'Испания - Канада - Япония', 'Иран', 'Швеция-Куба',\n",
       "       'США-Великобритания-Ирландия', 'Гонконг - КНР', 'Нидерланды',\n",
       "       'Испания - Канада', 'Япония-Великобритания',\n",
       "       'Великобритания - Норвегия - Дания - Германия',\n",
       "       'Финляндия - Франция - Германия',\n",
       "       'Мексика - Франция - Нидерланды - Германия', 'США - Индия',\n",
       "       'США-Великобритания-Индия', 'США-Канада-Бельгия',\n",
       "       'Республика Узбекистан', 'Италия ', 'Турция',\n",
       "       'Сербия - Словения - Хорватия - Черногория - Македония',\n",
       "       'Киргизия', 'Германия - Нидерланды - Беларусь - Россия - Латвия',\n",
       "       'Индия', 'Нидерланды - Россия - Германия',\n",
       "       'Великобритания - Нидерланды - Франция - Хорватия',\n",
       "       'Канада - Южная Корея',\n",
       "       'Великобритания - Польша - КНР - Индия - Норвегия',\n",
       "       'Япония - Франция - США - Южная Корея - Турция',\n",
       "       'Мексика - Аргентина - Великобритания', 'Израиль - Франция',\n",
       "       'Польша - Португалия - Франция - Великобритания',\n",
       "       'Австралия - США', 'США - Великобритания ',\n",
       "       'Франция - Люксембург - Бельгия', 'Армения',\n",
       "       'Бельгия - Люксембург - Франция - Швейцария',\n",
       "       'США - Великобритания - Канада', 'Норвегия - Швеция',\n",
       "       'Канада - Франция', 'КНР - Гонконг - США',\n",
       "       'США - Сингапур - Малайзия - Индонезия', 'Германия - Россия',\n",
       "       'Япония - Канада', 'Финляндия - Дания - Германия - Ирландия',\n",
       "       'Франция - Люксембург - Германия - Бельгия - Швейцария - Великобритания ',\n",
       "       'Канада - США', 'США-Италия-Испания', 'США-Испания',\n",
       "       'США - Швейцария - Франция', 'Испания - США - Колумбия',\n",
       "       'Канада-ЮАР', 'Франция - Россия',\n",
       "       'Германия - Финляндия - Австралия', 'Дания - Швеция', 'Бельгия',\n",
       "       'Германия - Франция - Австрия', 'Франция-Индия', 'ЮАР',\n",
       "       'Франция-Перу', 'Франция - Канада', 'Республика Беларусь',\n",
       "       'Великобритания - Австрия - Франция - США',\n",
       "       'Австрия-Германия-Франция', 'США-Россия', 'Германия-США',\n",
       "       'США - Южная Корея', 'Канада - КНР',\n",
       "       'Дания - Швеция - Италия - Франция - Германия',\n",
       "       'Франция-Италия-Испания-Венгрия', 'Франция - Германия - Бельгия',\n",
       "       'Франция-Великобритания-Чехия', 'Румыния - Франция - Бельгия',\n",
       "       'Болгария - Франция - Изриль',\n",
       "       'Израиль - Германия - Польша - Бельгия - Франция - Люксембург',\n",
       "       'Россия, Германия, Франция, Бельгия', 'Индонезия',\n",
       "       'Франция - Португалия', 'Великобритания - Пуэрто-Рико',\n",
       "       'СССР, ФРГ, Западный Берлин', 'Россия, Республика Беларусь',\n",
       "       'США, Великобритания', 'Франция - Австрия', 'Бельгия-Нидерланды',\n",
       "       'Великобритания - США - Индия', 'США - Великобритания - Австралия',\n",
       "       'Канада - Франция - США - ОАЭ - Великобритания',\n",
       "       'США - Австралия - Франция',\n",
       "       'Дания-Франция-Бельгия-Германия-Великобритания',\n",
       "       'Испания - Аргентина', 'Исландия - Финляндия',\n",
       "       'Россия-Польша-Голландия-Словакия', 'Дания - Германия - Швеция',\n",
       "       'Южная Корея - США - Канада', 'Таиланд', 'США-Мальта',\n",
       "       'США -Германия',\n",
       "       'Великобритания - Германия - Франция - Кипр - США', 'Мексика',\n",
       "       'США - Великобритания - Ирландия', 'США - Украина',\n",
       "       'США - Финляндия - Испания - Великобритания - Франция',\n",
       "       'Австралия-Великобритания',\n",
       "       'США - Канада - Афганистан - Бельгия - Франция',\n",
       "       'США - Великобритания - Германия - Новая Зеландия - Бельгия - Франция',\n",
       "       'Франция-Канада',\n",
       "       'Ирландия - Финляндия - Бельгия - Великобритания - США - Швейцария',\n",
       "       'Малайзия - США', 'Германия - Италия',\n",
       "       'США - Франция - Бельгия - Италия', 'Франция - Ирландия - Швеция',\n",
       "       'Азербайджан-Россия', 'Великобритания - Италия - Швейцария',\n",
       "       'США - Германия - Великобритания',\n",
       "       'Германия - Бельгия - США -Франция', 'США-Китай', 'Чили - Испания',\n",
       "       'Франция - Швейцария', 'Канада - Испания',\n",
       "       'США - Румыния - Великобритания', 'США - Япония',\n",
       "       'США - Россия - Франция', 'Франция-США', 'Парагвай',\n",
       "       'Германия - Канада', 'США - Канада - Великобритания',\n",
       "       'Финляндия - Канада', 'Уругвай-Мексика-Германия ', 'США - Чили',\n",
       "       'Германия - Аргентина - Нидерланды - Чили',\n",
       "       'США - Канада - Индонезия', 'Армения - Казахстан', 'Финляндия',\n",
       "       'Испания - Италия - Франция',\n",
       "       'Бельгия - Испания - Канада - Нидерланды',\n",
       "       'Великобритания - Франция - Швеция - Бельгия',\n",
       "       'Мексика - Эквадор - Канада - США - Франция - Малайзия - Италия - Аргентина - Германия - Индия  ',\n",
       "       'Франция - Бенльгия', 'Индия - Великобритания',\n",
       "       'Япония - Великобритания - Франция',\n",
       "       'Испания - Уругвай - Аргентина',\n",
       "       'Франция - Италия - Бельгия - Люксембург',\n",
       "       'Франция - Украина - Грузия - Армения',\n",
       "       'Сербия - Германия - Венгрия', 'Франция-Польша', 'Франция ',\n",
       "       'Румыния-США', 'Россия-Азербайджан',\n",
       "       'США - Нидерланды - Бельгия - Венгрия - Греция - Канада',\n",
       "       'Германия - Франция - Люксембург', 'США - Россия',\n",
       "       'Великобритания - США - Франция', 'США - Австралия - Дания',\n",
       "       'Бельгия-Франция', 'США-Мексика',\n",
       "       'Норвегия - Азербайджан - Россия - Колумбия - Великобритания - Венгрия - Румыния - Франция - Грузия',\n",
       "       'СЩА', 'Бразилия - Испания', 'Россия, Франция, Латвия',\n",
       "       'Нидерланды - США - Германия - Канада - Франция - Ирландия - Великобритания',\n",
       "       'Уругвай - Колумбия', 'США - Испания - Болгария',\n",
       "       'Армения - Германия', 'США - Великобритания- Франция - Швеция',\n",
       "       'США - Мексика', 'Австралия-Турция-США', 'Швеция - Германия',\n",
       "       'Польша - Италия - Россия', 'Франция - Бразилия',\n",
       "       'США - Канада - КНР', 'СССР, Венгрия, ЧССР, ГДР',\n",
       "       'Бельгия - Германия - Люксембург', 'СССР  ', 'СССР ', ' СССР ',\n",
       "       'США - Австралия', 'Бразилия - США',\n",
       "       'США - Великобритания - Канада - КНР', 'Франция - Чили',\n",
       "       'Франция - США - Великобритания - Колумбия - Бельгия - Россия',\n",
       "       'Дания - Великобритания - ЮАР', 'СССР   ',\n",
       "       'Россия-США-Канада-Люксембург', 'Россия - Республика Кипр',\n",
       "       'Германия - США - Швеция - Франция',\n",
       "       'Великобритания-Германия-Канада-ЮАР', ' СССР   ', 'СССР     ',\n",
       "       'Ирландия, Канада',\n",
       "       'Япония - Великобритания - Швейцария - Ирландия - Дания - Франция - Польша - Австралия - Канада  ',\n",
       "       'Великобритания, Канада', 'Бельгия - США',\n",
       "       'Великобритания - США - Россия', 'Россия-Украина',\n",
       "       'Германия - США - Великобритания - Израиль', 'Канада - Германия',\n",
       "       'США- Ю.Корея', 'Индия - Мексика',\n",
       "       'Великобритания - Франция - Республика Кипр - Швейцария - США - Сербия',\n",
       "       'Испания - Аргентина - Индия - США',\n",
       "       'Норвегия - Исландия - США - Великобритания ',\n",
       "       'Турция - Германя - Франция', 'Германия - Великобритания',\n",
       "       'Австралия - Германия', 'Мексика - Испания',\n",
       "       'Великобритания - США - Германия - Бельгия',\n",
       "       'США - Чехия - Франция', 'Россия - Италия', 'Франция-Россия',\n",
       "       'Норвегия - Дания - Швеция', 'Франция - Швейцария - Германия',\n",
       "       'Грузия - Украина', 'Россия - Эстония - Финляндия - Беларусь',\n",
       "       'США - Франция - ЮАР', 'Великобритания - США - Швейцария',\n",
       "       'Канада-США', 'Мексика - Нидерланды - Германия - Франция',\n",
       "       'США - Испания - Франция', 'США - Великобритания - КНР',\n",
       "       'США-Франция-Канада',\n",
       "       'Япония, Великобритания, Австрия, Германия, Ю.Корея',\n",
       "       'Великобритания - Ирландия - США', 'Бельгия - Италия - Франция ',\n",
       "       'Швейцария-Германия-ЮАР', 'Великобритания - США - Германия',\n",
       "       'Германия - Исландия', 'Испания - США', 'СССР    ', 'Хорватия',\n",
       "       'Финляндия - Исландия - Швеция',\n",
       "       'Канада - США - Германия - Франция',\n",
       "       'США - Великобритания - Испания', 'Ирландия-Великобритания',\n",
       "       'Аргентина - Испания', 'Австрия - Германия', ' СССР',\n",
       "       'Германия - Швейцария - Франция - Южная Корея - США',\n",
       "       'Украина - Нидерланды', 'Венгрия - Германия - Швеция',\n",
       "       'Германия - Франция -  Польша - Турция - Канада - Италия - Россия ',\n",
       "       'СССР, Афганистан', 'СССР, Монголия', 'Россия-Кипр',\n",
       "       'Россия, Грузия, Испания',\n",
       "       'Великобритания - Нидерланды - Германия - Франция - Бельгия - Австрия ',\n",
       "       'Испания - Великобритания - Франция',\n",
       "       'Дания - Норвегия - Великобритания',\n",
       "       'Бельгия - Франция - Люксембург',\n",
       "       'Италия - Франция - Швейцария - Великобритания',\n",
       "       'Франция - Бельгия - Великобритания - Испания - Германия - США',\n",
       "       'Швейцария - Израиль - Франция - Великобритания',\n",
       "       'Великобритания - США - Канада - Нидерланды - Франция',\n",
       "       'Россия, Италия', 'СССР, Албания',\n",
       "       'Россия, Украина, Республика Беларусь, Литва',\n",
       "       'Финляндия - Великобритания - Германия', 'Россия, Украина, Польша',\n",
       "       'Франция - Италия - Бельгия - КНР',\n",
       "       'Германия - Бельгия - Люксембург - Ирландия', 'КНР - Сингапур',\n",
       "       'Франция - Бельгия - Великобритания - США - Нидерланды - Канада',\n",
       "       'США - Россия - Польша - Германия - Пуэрто Рико',\n",
       "       'Франция - Бельгия - Канада', 'США ', 'Мексика - США',\n",
       "       'США - Гонконг - КНР ', 'Греция - Россия',\n",
       "       'Ирландия - Дания - Бельгия - Люксембург - Франция',\n",
       "       'Эстония - Россия',\n",
       "       'Великобритания - Исландия - Испания - Швейцария - США',\n",
       "       'Австралия - Великобритания - Бельгия - Индия',\n",
       "       'Швеция - Германия - Франция - Норвегия',\n",
       "       'Нидерланды - Бельгия - Германия - Ирландия',\n",
       "       'Нидерланды - Великобритания - Бельгия',\n",
       "       'США - Колумбия - Испания', 'Франция-Испания-Бельгия-Панама',\n",
       "       'США-Великобритания-Чехия-Румыния',\n",
       "       'Аргентина - Уругвай - Россия - Германия - Франция - Нидерланды',\n",
       "       'Швеция - Франция - Норвегия - Дания',\n",
       "       'Италия-Франция-Великобритания', 'Великобритания, Франция',\n",
       "       'Австралия, США', 'Венесуэла',\n",
       "       'Великобритания - США - Австралия - Ирландия - Германия - Куба - Канада',\n",
       "       'Южная Корея - КНР',\n",
       "       'Аргентина - Мексика - Бразилия - Франция - США', 'Швеция - США',\n",
       "       'Франция - Германия - Турция - Катар', 'Франция-Китай',\n",
       "       'Россия, Германия, Великобритания',\n",
       "       'Великобритания - Италия - Испания', 'Италия - Россия',\n",
       "       'Япония - КНР - Южная Корея', 'Россия, Германия',\n",
       "       'Россия-Ирландия', 'Македония - Франция - Великобритания',\n",
       "       'Франция - Бразилия - Италия', 'Россия-США', 'Армения-Россия',\n",
       "       'Россия, Румыния', 'Франция -  Бельгия', 'Грузия-Франция',\n",
       "       'ЮАР - США', 'Великобритания-США-Франция',\n",
       "       'Великобритания - США - Германия - Канада - Австралия',\n",
       "       'США-Ирландия', 'Россия, Республика Кипр',\n",
       "       'Германия - Люксембург - Франция', 'Россия-Франция',\n",
       "       'США - Нидерланды - Финляндия - Великобритания - Италия',\n",
       "       'Республика Кипр', 'Венгрия', 'Франция - США - Норвегия - Дания',\n",
       "       'Германия - Австрия - Ирландия', 'США - Финляндия',\n",
       "       'Италия-Великобритания', 'Россия, Испания',\n",
       "       'США - Великобритания - Болгария', 'Великобритания - Люксембург',\n",
       "       'Индия - США', 'США - Канада - Россия - Франция - Чили - Ирландия',\n",
       "       'Грузия-Россия',\n",
       "       'Дания - Австрия - Ирландия - Финляндия - Норвегия - Швеция - Нидерланды',\n",
       "       'США-КНР', 'Грузия', 'Австралия - Ирландия',\n",
       "       'Великобритания - Канада', 'Италия - Аргентина - Словения ',\n",
       "       'Испания - Франция - Нидерланды - Германия - Бельгия - Великобритания - Канада',\n",
       "       'Франция - Чехия - Бельгия',\n",
       "       'Великобритания - Франция - Германия - США',\n",
       "       'Ирландия - Великобритания - Франция - США - Германия - Нидерланды',\n",
       "       'США - Канада - Япония - КНР', 'Италия-Франция',\n",
       "       'США - Великобритания - Исландия', 'Великобритания-Франция',\n",
       "       'Франция - Германия - Нидерланды', 'Иран ',\n",
       "       'Франция - Германия - Швеция - США - Чехия - Словакия - Великобритания - Нидерланды',\n",
       "       'Франция - Канада - Н.Зеландия - США - Нидерланды - Германия - Швеция - Россия',\n",
       "       'Турция - США',\n",
       "       'Великобритания - США - Канада - Бельгия - Нидерланды - Австрия - Германия',\n",
       "       'Израиль - Франция - Германия - Палестина - США - Австрия - Великобритания',\n",
       "       'Аргентина - Франция - Испания', 'СССР, Россия',\n",
       "       'Великобритания - Франция - Италия - Индия - Дания - КНР - Бангладеш - Камбоджа - Гаити - Уганда',\n",
       "       'Италия - Франция - Швейцария',\n",
       "       'Ирландия - Великобритания - Канада', 'Перу', 'США - Норвегия',\n",
       "       'Испания-Канада', 'Китай-Гонконг', 'США - Германия - КНР',\n",
       "       'Великобритания - Новая Зеландия',\n",
       "       'Франция - Дания - Швеция - КНР',\n",
       "       'США - Великобритания - Германия - Бельгия - Дания',\n",
       "       'США - Франция - Канада - Германия - Австралия - Индия',\n",
       "       'СССР, Румыния, Франция', 'СССР, ГДР', 'Австралия-Ирландия',\n",
       "       'США - Китай', 'Великобритания - Франция - Австрия - Швеция',\n",
       "       'Россия, Таджикистан', 'Нидерланды - Бельгия - Болгария',\n",
       "       'Великобритания - Канада - США', 'Франция - Бельгия - Испания',\n",
       "       'Китай-Гонконг-США', 'Франция - Великобритания', 'США - Вьетнам',\n",
       "       'США - Германия - Франция', 'Германия - Франция - Бельгия',\n",
       "       'США - Италия',\n",
       "       'Германия - Дания - Испания - Швеция - Канада - Эстония - Франция',\n",
       "       'Княжество Андорра - Украина', 'Германия - Люксембург - Бельгия',\n",
       "       'Великобритания - Россия - Украина - США',\n",
       "       'Германия - Бельгия - Люксембург - Норвегия',\n",
       "       'США - Австралия - Новая Зеландия - Великобритания',\n",
       "       'США - Франция - Канада - Великобритания', 'Испания-Колумбия',\n",
       "       'Великобритания - Чехия - Франция', 'Россия, Украина', 'Исландия',\n",
       "       'Великобритания - Франция - Венгрия',\n",
       "       'Россия, Франция, Германия, Бельгия', 'Франция - Македония',\n",
       "       'Нидерланды - Франция - Германия - Бельгия - Швеция - Великобритания',\n",
       "       'Испания - США - Великобритания - Канада', 'Германия - Австрия',\n",
       "       'Республика Казахстан',\n",
       "       'Франция - Испания - Дания - Венгрия - Швейцария', 'Франция-КНР',\n",
       "       'США - Пуэрто-Рико - Франция ', 'Мексика - Тайвань - США',\n",
       "       'Великобритания - Испания - Непал - Индия - Венгрия - Гонконг - Германия - Дания - Бахрейн',\n",
       "       'Великобритания - Аргентина - США - Франция - Россия - Испания',\n",
       "       'КНР - США', 'Италия - США', 'Финляндия - Швеция - Германия',\n",
       "       'Канада- Испания', 'Франция - Бельгия - Чехия',\n",
       "       'Франция-Бельгия-Канада', 'Франция - Германия - США',\n",
       "       'США - Дания', 'Индия - КНР', 'Чехия-Великобритания-США',\n",
       "       'США-ФРГ-Россия', 'Ирландия-Нидерланды-Франция-США-Великобритания',\n",
       "       'Россия, Грузия, Хорватия, Испания',\n",
       "       'Финляндия - Швеция - Норвегия', 'Сербия - Великобритания - США',\n",
       "       'США - Великобритания - Франция - Гонконг', 'Швейцария - Франция',\n",
       "       'Швейцария - Великобритания', 'ОАЭ - США',\n",
       "       'США - Франция - Германия - Канада - Австралия ',\n",
       "       'Германия - Австралия', 'Иран, Франция',\n",
       "       'США - Великобритания - Новая Зеландия', 'США-Колумбия',\n",
       "       'США-Франция-Ирландия', 'Великобритания - Франция - Бельгия',\n",
       "       'США - Великобритания - Япония', 'США - Франция - Германия',\n",
       "       'Польша - Ирландия', 'Ирландия - Великобритания - Франция - США',\n",
       "       'США - Бельгия - Великобритания', 'СССР, ВНР',\n",
       "       'Испания - Франция - США - Великобритания - Бельгия',\n",
       "       'Франция - Дания - США', 'США - Гонконг', 'Бразилия - К;анада',\n",
       "       'Франция-Германия', 'США - Колумбия',\n",
       "       'США - Ирландия - Великобритания - Франция',\n",
       "       'Великобритания - США - Канада', 'Польша - Франция',\n",
       "       'Канада - США - Нидерланды - Великобритания - Аргентина',\n",
       "       'Великобритания - Дания', 'Франция - Бельгия - Япония',\n",
       "       'Россия,  Испания', 'Франция -Бельгия',\n",
       "       'США - Канада - Германия - Франция', 'США-Канада-Франция',\n",
       "       'Россия - Германия', 'Россия-Италия', 'Китай - Гонконг',\n",
       "       'Германия-Австрия-Франция-Италия', 'США-Япония',\n",
       "       'США - Германия - Канада', 'Испания-Мексика',\n",
       "       'США - Япония - Канада - Великобритания - Германия - Франция',\n",
       "       'США -Великобритания - Австралия', 'Россия-Украина-Германия',\n",
       "       'Израиль - Франция - Великобритания - Германия', 'Корея',\n",
       "       'Россия - Болгария', 'США-Индия',\n",
       "       'Германия-Канада-Франция-Бельгия', 'Германия-Кения',\n",
       "       'Франция - Монако', 'Франция-Испания-Швейцария',\n",
       "       'Австрия-Франция-Германия', 'Румыния',\n",
       "       'США-Великобритания-Франция', 'Канада-Великобритания',\n",
       "       'Канада-Бразилия-Япония', 'Германия - Дания - Норвегия',\n",
       "       'Дания - Германия', 'СССР - Италия',\n",
       "       'СССР - ГДР - Польша - Италия',\n",
       "       'США - Испания - Франция - Великобритания', 'Китай',\n",
       "       'Мексика-Аргентина',\n",
       "       'Германия - Великобритания - Италия - Испания',\n",
       "       'Франция-Германия-Великобритания', 'Россия - Германия - Швейцария',\n",
       "       'Франция-Австралия', 'Голландия', 'Швейцария-Франция',\n",
       "       'Россия-Белоруссия', 'Франция - Испания - Тайвань',\n",
       "       'США-Южная Корея-Новая Зеландия', 'Великобритания-Венгрия',\n",
       "       'Россия-Германия', 'Великобритания-Франция-Германия',\n",
       "       'Франция-Германия-Италия', 'Швеция-Финляндия-Франция-Норвегия',\n",
       "       'Франция-Италия', 'Германия-Израиль',\n",
       "       'Швеция - Германия - Дания - Норвегия', 'США-Бельгия',\n",
       "       'Франция-Гонконг-Ирландия', 'Эстония', 'Литва-Россия-Украина',\n",
       "       'Германия - Италия - Франция',\n",
       "       'Великобритания - Австрия - Германия', 'Бельгия - Франция',\n",
       "       'Россия-Казахстан', 'Испания - Мальта',\n",
       "       'Франция-Россия-Румыния-Италия-Бельгия', 'Россия - Польша',\n",
       "       'Испания - Мексика', 'США-Аргентина', 'Великобритания ',\n",
       "       'Израиль-США-Франция', 'США - Новая Зеландия - Япония',\n",
       "       'Франция - Чехия - Великобритания', 'Россия-Польша',\n",
       "       'Германия-Франция-Великобритания', 'США-Германия-Канада',\n",
       "       'США-Гонконг-Китай', 'США - Великобритания - Германия',\n",
       "       'США-Канада-Австралия', 'Япония-США-Франция',\n",
       "       'Франция-Испания-Германия', 'США - Хорватия - Босния-Герцеговина',\n",
       "       'Великобритания - Чехия - Франция - Италия',\n",
       "       'США - Германия - Нидерланды', 'Германия - Франция - Канада',\n",
       "       'Франция-Грузия-Германия-Россия-Украина-Бельгия',\n",
       "       'Великобритания - Франция - Италия', 'Россия - США',\n",
       "       'Франция - Италия - Иран', 'Россия - Азербайджан', 'Греция',\n",
       "       'Дания - США', 'США-Великобритания-Новая Зеландия',\n",
       "       'США-Германия-Австралия', 'США-Канада-Италия',\n",
       "       'США - Япония - Германия', 'Австралия-США',\n",
       "       'Франция - Великобритания - Багамские острова - США',\n",
       "       'Швейцария - Люксембург', 'Швейцария - Австрия',\n",
       "       'Германия - Швейцария', 'Дания-Швеция-Франция-Германия', 'Польша',\n",
       "       'Швейцария-Австрия', 'Бразилия - Канада - США',\n",
       "       'Нидерланды - Россия', 'Португалия', 'Франция-Аргентина',\n",
       "       'Швеция-Франция', 'Франция-Украина', 'Германия-Украина-Нидерланды',\n",
       "       'Италия-Швейцария', 'США-Германия-Великобритания',\n",
       "       'Латвия - Россия', 'Германия-Франция-Великобритания-США',\n",
       "       'Канада - Италия', 'США - Объединенные Арабские Эмираты',\n",
       "       'США-Венгрия', 'Малайзия', 'Россия - Германия - Украина',\n",
       "       'США - Австралия - Мексика', 'Литва - Венгрия', 'Германия - Китай',\n",
       "       'Казахстан', 'Республика Корея',\n",
       "       'США - Германия - Франция - Великобритания - Канада ',\n",
       "       'Бельгия - Германия - Люксембург - Франция', 'Франция - Греция',\n",
       "       'Италия - Канада', 'США - Великобритания - Франция',\n",
       "       'США-Италия-Греция', 'Германия - США - Великобритания - Ирландия',\n",
       "       'Великобритания - Франция - Германия',\n",
       "       'Германия - Нидерланды - ЮАР',\n",
       "       'США-Япония-Германия-Великобритания-Нидерланды',\n",
       "       'США-Япония-Германия-Великобритания',\n",
       "       'Германия - Франция - Польша',\n",
       "       'Таиланд-Великобритания-Франция-Германия-Испания-Нидерланды',\n",
       "       'Германия-Италия-Швейцария',\n",
       "       'Дания - Швеция - Великобритания - Франция - Германия - Нидерланды - Норвегия - Финляндия',\n",
       "       'Франция - Великобритания - Нидерланды - Люксембург',\n",
       "       'Нидерланды-Великобритания-Франция-Италия-Япония',\n",
       "       'Финляндия-Дания-Германия-Ирландия', 'Испания-Аргентина',\n",
       "       'Великобритания - Нидерланды - Франция - США', 'Канада - Мексика',\n",
       "       'США, Франция', 'Канада-Южная Корея-США',\n",
       "       'Великобритания - Франция - Бельгия - США', 'КНР - Канада - США',\n",
       "       'Италия - Франция - Германия',\n",
       "       'Швеция - Германия - Франция - Дания', 'Франция - США - Бельгия',\n",
       "       'Украина - Германия - Латвия - Эстония', 'Австрия - Люксембург',\n",
       "       'Великобритания - КНР', 'Монголия', 'Франция - Дания',\n",
       "       'Швеция - Дания - Финляндия',\n",
       "       'Сингапур - Великобритания - Индонезия - Канада - США',\n",
       "       'США - Германия - Япония', 'Таиланд - США', 'Франция - Нидерланды',\n",
       "       'Великобритания - Румыния', 'США - Мальта',\n",
       "       'Великобритания - Германия - Нидерланды - Дания',\n",
       "       'Франция - Германия - Литва - Нидерланды - Россия',\n",
       "       'США - ЮАР - Гонконг', 'Австралия - Колумбия',\n",
       "       'Великобритания - Польша', 'США - Великобритания - Швеция',\n",
       "       'Франция - Швеция - Дания - Норвегия', 'Болгария - США',\n",
       "       'СССР, ФРГ', 'Бельгия - Нидерланды - Франция',\n",
       "       'Финляндия - Германия', 'Болгария',\n",
       "       'Грузия - Россия - Украина - Хорватия - Германия',\n",
       "       'Франция - Люксембург', 'Франция - Германия - Австрия',\n",
       "       'Норвегия - США', 'Германия-Швеция', 'Франция - Германия - Италия',\n",
       "       'Франция-Германия-Австрия', 'КНР-США',\n",
       "       'Великобритания - Ирландия - США ',\n",
       "       'Дания - Латвия - Россия - США', 'Финляндия - Польша',\n",
       "       'Германия - Бельгия', 'Германия - США - Франция - Испания',\n",
       "       'Бельгия-Германия-Канада-Франция-США-Великобритания',\n",
       "       'Нидерланды - Бельгия - Люксембург', 'Канада-Германия',\n",
       "       'Люксембург - Бельгия - Франция', 'США-Великобритания-Австралия',\n",
       "       'Великобритания, Новая Зеландия', 'Бельгия, Великобритания, США',\n",
       "       'Великобритания, Австралия', 'Исландия, Бельгия',\n",
       "       'Испания - Швейцария - Великобритания - Германия - Новая Зеландия - Нидерланды - Канада',\n",
       "       'Франция, Бельгия', 'Великобритания, США', 'Киргизия-Россия',\n",
       "       'Германия, США', 'Великобритания, США, Испания',\n",
       "       'Италия - Швейцария - Германия', 'Россия, Армения',\n",
       "       'Франция, Германия', 'Китай, Канада, США', 'Германия, Австралия',\n",
       "       'КНР, США', 'США, Великобритания, Люксембург',\n",
       "       'Испания, Ирландия, Бельгия, Франция',\n",
       "       'Великобритания - Гонконг - Венгрия - США - Ирландия',\n",
       "       'США - Пуэрто Рико', 'Аргентина - Испания - Уругвай',\n",
       "       'Израиль - Германия - Франция - Швейцария',\n",
       "       'Великобритания - Мексика - США', 'Испания - Болгария - США',\n",
       "       'Россия-Словакия-Чехия',\n",
       "       'Швейцария - КНР - США - Россия - Республика Корея - Великобритания',\n",
       "       'Россия, Нидерланды, Финляндия',\n",
       "       'Испания - Бельгия - Франция - Португалия - Великобритания',\n",
       "       'Бразилия - Португалия - Франция', 'Швеция - Норвегия',\n",
       "       'Франция - Польша - Бельгия', 'CША', 'Китай, США',\n",
       "       'Италия, Франция, Германия', 'Германия - Австрия - Франция',\n",
       "       'Чехия - Словакия - Хорватия', 'Россия, Польша, Финляндия',\n",
       "       'Россия, Латвия, Чешская Республика',\n",
       "       'Франция - Великобритания - Камбоджа - США - КНР',\n",
       "       'Чехия - Испания - США', 'Германия - Люксембург - Дания',\n",
       "       'Великобритания - Испания - Германия', 'Дания - Исландия',\n",
       "       'Германия, Франция, Великобритания',\n",
       "       'Великобритания - Испания - Италия - Латвия - Франция - Эстония',\n",
       "       'Дания, Швеция, Великобритания, Франция, Германия, Норвегия, Финляндия, Нидерланды, Италия',\n",
       "       'Польша - Франция - Великобритания',\n",
       "       'Дания, Норвегия, Венгрия, Чехия',\n",
       "       'Дания - Франция - Германия - Швеция',\n",
       "       'Великобритания, Швеция, США',\n",
       "       'Канада, Франция, Италия, Швейцария, США', 'США, Индия',\n",
       "       'США - Великобритания - Германия - - Швеция - Канада',\n",
       "       'Италия, Франция', 'Республика Беларусь, Германия, США, Россия',\n",
       "       'Италия-Швейцария-Франция-Германия ',\n",
       "       'Россия - Франция - Великобритания - Латвия', 'Россия-Беларусь',\n",
       "       'Франция - Испания - Румыния - США - Бельгия', 'Италия-США',\n",
       "       'Россия, Австрия', 'Ирландия - Великобритания - США',\n",
       "       'Швейцария, Великобритания, Франция, США, Ирландия',\n",
       "       'Мексика, Франция, Германия, Дания, Швеция', 'Нидерланды, Бельгия',\n",
       "       'Швеция, Норвегия, Финляндия, Франция', 'Испания, Франция, Италия',\n",
       "       'Испания-Франция-Греция-Индия-США-Россия-Великобритания',\n",
       "       'Великобритания - Япония - США',\n",
       "       'Дания, Канада, Норвегия, Австралия, США', 'Аргентина, Испания',\n",
       "       'Россия, Германия, Казахстан, Польша, Китай',\n",
       "       'Португалия, Франция, Польша, США', 'США - Канада - Аргентина',\n",
       "       'Ливан-США', 'Япония - США', 'США, Гонконг ',\n",
       "       'Франция - Россия - Швейцария - Румыния - Венгрия',\n",
       "       'Аргентина-Испания', 'Россия, Сербия', 'США - Болгария - Мексика',\n",
       "       'США - Великобритания - Швейцария - Франция',\n",
       "       'Таиланд - КНР - США',\n",
       "       'Великобритания, Нидерланды, Польша, Швейцария, Франция',\n",
       "       'Ирландия - США',\n",
       "       'Германия - Франция - Великобритания - Польша - США',\n",
       "       'Великобритания-Франция-Италия', 'США - Австралия - Индия',\n",
       "       'Франция - КНР', 'Великобритания - Израиль',\n",
       "       'Великобритания - Норвегия - Кения - Хорватия',\n",
       "       'США - Бразилия - Великобритания - Канада', 'Германия, Бельгия',\n",
       "       'Австралия, Канада', 'США, Великобритания, Франция',\n",
       "       'Кения, Германия', 'Нидерланды, Бельгия, Люксембург', 'Колумбия',\n",
       "       'Латвия - Франция', 'Ирландия, Великобритания',\n",
       "       'Франция - Израиль - Германия', 'Швеция, Франция, Великобритания',\n",
       "       'Бельгия - Люксембург', 'Германия - Бельгия - Великобритания',\n",
       "       'Испания, Франция, Великобритания, Дания, Бельгия, Германия',\n",
       "       'Румыния, ЮАР, Иран, Франция, Канада, Великобритания',\n",
       "       'Германия, Франция', 'США, Япония',\n",
       "       'США, Великобритания, Ирландия, Люксембург', 'Республика Армения',\n",
       "       'США, Франция, Япония', 'Япония, США', 'Канада, США',\n",
       "       'Республика Кипр - Россия',\n",
       "       'Дания - Франция - Италия - Бельгия - Нидерланды',\n",
       "       'Россия - Грузия', 'Италия, Германия', 'Норвегия, Швеция, Дания',\n",
       "       'Республика Кипр, Россия', 'КНР, Индия, Гонконг, США',\n",
       "       'Израиль, Украина', 'США, Россия', 'США - КНР - Индия - Ю.Корея',\n",
       "       'США - Швеция', 'Франция, Канада', 'Россия-Китай',\n",
       "       'Канада, Великобритания', 'США, Германия',\n",
       "       'Канада, США, Каймановы острова',\n",
       "       'Бразилия, Уругвай, Дания, Норвегия, Чили, Швеция',\n",
       "       'Пуэрто-Рико, Великобритания, США',\n",
       "       'Уругвай - Аргентина - Испания',\n",
       "       'США - Великобритания - Италия - Израиль - Сербия - Индия',\n",
       "       'США - Канада - Франция - Индия', 'Великобритания - Россия - КНР',\n",
       "       'Франция, Новая Зеландия', 'Франция, Люксембург, Бельгия',\n",
       "       'Канада, США, Норвегия', 'Италия, Испания',\n",
       "       'Испания - Германия - Нидерланды', 'Бразилия - США - КНР ',\n",
       "       'Великобритания, Германия, Дания, США', '2019',\n",
       "       'Италия - Фрация - Бразилия - Германия',\n",
       "       'Норвегия - Швеция - Россия', 'Великобритания, Япония, США',\n",
       "       'Сша, Канада', 'Бельгия, Канада',\n",
       "       'Великобритания - Австралия - США', 'США, Канада', 'КНР - США ',\n",
       "       'Франция - Финляндия', 'Колумбия - США',\n",
       "       'Великобритания, Франция, Бельгия', 'Норвегия - Нидерланды',\n",
       "       'Великобритания, Канада, США', 'Япония, Великобритания',\n",
       "       'Италия - Бельгия - Франция', 'Россия, Бельгия, Финляндия',\n",
       "       'США, Украина', 'Франция, Норвегия',\n",
       "       'Великобритания, Южная Корея, Канада, США, Индия, Китай, Япония',\n",
       "       'Канада - Норвегия', 'Республика Кипр-Россия', 'Германия, Россия',\n",
       "       'Польша - Франция - Испания - Бразилия - Швеция',\n",
       "       'Австрия, Великобритания, Германия', 'Франция - Сенегал - Бельгия',\n",
       "       'Франция, Бельгия, Люксембург', 'Финляндия, Латвия', 'Пакистан',\n",
       "       'Германия, Франция, США', 'Германия - Великобритания - США',\n",
       "       'КНР - Франция', 'Дания, Норвегия, Швеция, Исландия',\n",
       "       'Республика Кипр, США, Россия', 'Новая Зеландия - КНР',\n",
       "       'Дания - Канада - Швеция - Франция - Германия - Великобритания - США'],\n",
       "      dtype=object)"
      ]
     },
     "metadata": {},
     "output_type": "display_data"
    }
   ],
   "source": [
    "display(data['production_country'].value_counts()) # найдем количество уникальных значений\n",
    "display(data['production_country'].unique())"
   ]
  },
  {
   "cell_type": "code",
   "execution_count": 14,
   "metadata": {},
   "outputs": [
    {
     "data": {
      "text/plain": [
       "О.Семёнова          47\n",
       "Стивен Содерберг    17\n",
       "Д.Червяцов          17\n",
       "Ридли Скотт         16\n",
       "Тиль Швайгер        14\n",
       "                    ..\n",
       "Сидни Люмет          1\n",
       "Ховард Халл          1\n",
       "Эндрю Трауки         1\n",
       "Г.Добрыгин           1\n",
       "Хезер Ленц           1\n",
       "Name: director, Length: 4811, dtype: int64"
      ]
     },
     "metadata": {},
     "output_type": "display_data"
    },
    {
     "data": {
      "text/plain": [
       "array(['Кевин Костнер', 'Е.Матвеев', 'Тимур Бекмамбетов', ...,\n",
       "       'Ник Пауэлл', 'А.Беляев', 'И.Трусов'], dtype=object)"
      ]
     },
     "metadata": {},
     "output_type": "display_data"
    }
   ],
   "source": [
    "display(data['director'].value_counts()) # найдем количество уникальных значений\n",
    "display(data['director'].unique())"
   ]
  },
  {
   "cell_type": "code",
   "execution_count": 15,
   "metadata": {},
   "outputs": [
    {
     "data": {
      "text/plain": [
       "П.Смирнов                                                                        67\n",
       "Олег Кузовков, Дмитрий Ловейко, Марина Ратина                                    28\n",
       "С.Сельянов                                                                       18\n",
       "Д.Ловейко, О.Кузовков                                                            17\n",
       "Тони Майерс                                                                      11\n",
       "                                                                                 ..\n",
       "А.Учитель, К.Саксаганская, Г.Малков, В.Зеленский, С.Шефир, Б.Шефир, А.Яковлев     1\n",
       "Тайлер Джексон, Сефтон Финчэм, Джек Хеллер                                        1\n",
       "Рауф Атамалибеков, Фарид Гумбатов                                                 1\n",
       "Валькирия Барбоза, Джимена Бланко, Даниэль Бурман                                 1\n",
       "Крис Брайэм, Нина Воларски, Дэйвид Клоуанс                                        1\n",
       "Name: producer, Length: 5349, dtype: int64"
      ]
     },
     "metadata": {},
     "output_type": "display_data"
    },
    {
     "data": {
      "text/plain": [
       "array(['Дэвид Валдес, Кевин Костнер, Джейк Эбертс', nan,\n",
       "       'Джим Лемли, Джейсон Нетер, Марк Е.Платт, Яйн Смит', ...,\n",
       "       'Поппи Бегум, Ник Пойнц',\n",
       "       'Джефф Боулер, Дэниэл Гродник, Луильо Руис, Брэт Саксон, Кирк Шоу',\n",
       "       'Дженнифер Додж'], dtype=object)"
      ]
     },
     "metadata": {},
     "output_type": "display_data"
    }
   ],
   "source": [
    "display(data['producer'].value_counts()) # найдем количество уникальных значений\n",
    "display(data['producer'].unique())"
   ]
  },
  {
   "cell_type": "code",
   "execution_count": 16,
   "metadata": {},
   "outputs": [
    {
     "data": {
      "text/plain": [
       "«16+» - для детей старше 16 лет           2851\n",
       "«18+» - запрещено для детей               1605\n",
       "«12+» - для детей старше 12 лет           1593\n",
       "«0+» - для любой зрительской аудитории     811\n",
       "«6+» - для детей старше 6 лет              626\n",
       "Name: age_restriction, dtype: int64"
      ]
     },
     "metadata": {},
     "output_type": "display_data"
    },
    {
     "data": {
      "text/plain": [
       "array(['«18+» - запрещено для детей', '«6+» - для детей старше 6 лет',\n",
       "       '«12+» - для детей старше 12 лет',\n",
       "       '«16+» - для детей старше 16 лет',\n",
       "       '«0+» - для любой зрительской аудитории'], dtype=object)"
      ]
     },
     "metadata": {},
     "output_type": "display_data"
    }
   ],
   "source": [
    "display(data['age_restriction'].value_counts()) # найдем количество уникальных значений\n",
    "display(data['age_restriction'].unique())"
   ]
  },
  {
   "cell_type": "code",
   "execution_count": 17,
   "metadata": {},
   "outputs": [
    {
     "data": {
      "text/plain": [
       "драма                          476\n",
       "комедия                        352\n",
       "мелодрама,комедия              222\n",
       "драма,мелодрама,комедия        189\n",
       "драма,мелодрама                183\n",
       "                              ... \n",
       "криминал,мелодрама               1\n",
       "фантастика,драма,ужасы           1\n",
       "фантастика,триллер,боевик        1\n",
       "триллер,драма,боевик             1\n",
       "приключения,история,военный      1\n",
       "Name: genres, Length: 742, dtype: int64"
      ]
     },
     "metadata": {},
     "output_type": "display_data"
    },
    {
     "data": {
      "text/plain": [
       "array(['боевик,драма,мелодрама', 'драма,военный',\n",
       "       'фантастика,боевик,триллер', 'драма', 'мелодрама,комедия',\n",
       "       'мюзикл,мелодрама,комедия', 'комедия,криминал',\n",
       "       'боевик,триллер,детектив', 'боевик,драма,приключения',\n",
       "       'драма,спорт', 'триллер,драма,мелодрама', 'комедия,мелодрама',\n",
       "       'драма,мелодрама,комедия', 'драма,мелодрама', 'драма,история',\n",
       "       'драма,мелодрама,семейный', 'комедия,мелодрама,криминал',\n",
       "       'комедия', 'боевик,драма,криминал', 'драма,комедия',\n",
       "       'ужасы,фантастика,комедия', 'мультфильм,короткометражка,мелодрама',\n",
       "       'драма,криминал', 'мультфильм,фантастика,фэнтези',\n",
       "       'триллер,драма,криминал', 'драма,мелодрама,биография',\n",
       "       'драма,комедия,военный', 'фантастика,драма,детектив',\n",
       "       'мюзикл,семейный', nan, 'военный,приключения,драма',\n",
       "       'документальный,драма', 'драма,биография,история',\n",
       "       'боевик,триллер,драма', 'фэнтези,боевик',\n",
       "       'боевик,комедия,криминал', 'мюзикл,комедия,детский',\n",
       "       'комедия,мелодрама,драма', 'мультфильм,фэнтези,комедия',\n",
       "       'комедия,история', 'мелодрама', 'драма,биография,музыка',\n",
       "       'фэнтези,драма,мелодрама', 'триллер,военный',\n",
       "       'драма,мелодрама,военный', 'мюзикл,драма,мелодрама',\n",
       "       'мюзикл,комедия', 'мультфильм,приключения,семейный',\n",
       "       'ужасы,триллер', 'боевик,драма,военный', 'драма,боевик',\n",
       "       'мультфильм,драма,комедия', 'триллер,криминал',\n",
       "       'военный,биография,драма', 'комедия,семейный', 'военный',\n",
       "       'драма,семейный,биография', 'фэнтези,приключения,семейный',\n",
       "       'драма,криминал,биография', 'ужасы,триллер,детектив',\n",
       "       'боевик,история,драма', 'ужасы,триллер,драма',\n",
       "       'драма,криминал,спорт', 'документальный,короткометражка',\n",
       "       'триллер,драма', 'криминал,детектив,приключения',\n",
       "       'драма,комедия,криминал', 'драма,комедия,вестерн',\n",
       "       'драма,мелодрама,детектив', 'мелодрама,биография',\n",
       "       'фэнтези,мелодрама,драма', 'драма,мелодрама,история',\n",
       "       'комедия,приключения,история', 'приключения', 'драма,семейный',\n",
       "       'криминал,детектив', 'мультфильм,короткометражка,ужасы',\n",
       "       'фантастика,триллер,драма', 'фэнтези,мелодрама,комедия',\n",
       "       'драма,биография', 'комедия,криминал,история',\n",
       "       'триллер,драма,детектив', 'фантастика,комедия,приключения',\n",
       "       'фэнтези,семейный', 'ужасы,фантастика,боевик',\n",
       "       'мелодрама,криминал', 'комедия,приключения,мелодрама',\n",
       "       'боевик,триллер,приключения', 'боевик,приключения',\n",
       "       'боевик,триллер,криминал', 'документальный,военный,история',\n",
       "       'драма,музыка', 'боевик,драма', 'приключения,боевик',\n",
       "       'драма,военный,биография', 'триллер,драма,приключения',\n",
       "       'аниме,мультфильм,фэнтези', 'триллер,детектив,драма',\n",
       "       'боевик,триллер,мелодрама', 'боевик,история',\n",
       "       'приключения,история', 'драма,комедия,приключения',\n",
       "       'фэнтези,комедия,приключения', 'драма,вестерн',\n",
       "       'документальный,музыка', 'мелодрама,драма',\n",
       "       'триллер,криминал,детектив', 'ужасы', 'боевик,комедия,приключения',\n",
       "       'мультфильм,фэнтези,боевик', 'боевик,фэнтези,драма',\n",
       "       'фэнтези,драма', 'фэнтези,боевик,комедия',\n",
       "       'приключения,детский,комедия', 'документальный',\n",
       "       'боевик,триллер,комедия', 'мелодрама,комедия,криминал',\n",
       "       'драма,детектив', 'мюзикл,ужасы,триллер', 'детектив,триллер,ужасы',\n",
       "       'ужасы,фэнтези', 'ужасы,фэнтези,триллер', 'мультфильм,драма',\n",
       "       'ужасы,боевик,фантастика', 'боевик', 'фантастика,боевик',\n",
       "       'мелодрама,комедия,приключения', 'триллер,детектив',\n",
       "       'мюзикл,мелодрама,фэнтези', 'криминал', 'триллер,комедия,криминал',\n",
       "       'боевик,приключения,триллер', 'триллер,драма,военный',\n",
       "       'комедия,семейный,музыка', 'комедия,фантастика,мелодрама',\n",
       "       'фантастика,триллер,криминал', 'комедия,драма', 'боевик,военный',\n",
       "       'ужасы,фантастика,триллер', 'фантастика,драма,мелодрама',\n",
       "       'фэнтези,драма,детектив', 'боевик,триллер', 'боевик,драма,история',\n",
       "       'мультфильм,мюзикл,фэнтези', 'для взрослых,драма,мелодрама',\n",
       "       'мультфильм,боевик,детектив', 'фантастика,мелодрама,боевик',\n",
       "       'ужасы,фантастика,детектив', 'фантастика,боевик,приключения',\n",
       "       'мелодрама,комедия,спорт', 'комедия,боевик,приключения',\n",
       "       'документальный,приключения', 'мультфильм,короткометражка,детский',\n",
       "       'комедия,приключения', 'ужасы,драма', 'ужасы,фэнтези,боевик',\n",
       "       'мультфильм,фэнтези,детский', 'мюзикл,боевик,драма',\n",
       "       'семейный,комедия,драма', 'концерт,музыка', 'фэнтези,боевик,драма',\n",
       "       'драма,комедия,музыка', 'фантастика,фэнтези,боевик',\n",
       "       'фэнтези,комедия,семейный', 'фэнтези,драма,комедия',\n",
       "       'мультфильм,мюзикл,драма', 'триллер', 'боевик,криминал,триллер',\n",
       "       'мультфильм,приключения,драма', 'мелодрама,музыка',\n",
       "       'документальный,музыка,концерт', 'мультфильм,семейный',\n",
       "       'мультфильм,комедия,приключения', 'мультфильм,комедия,семейный',\n",
       "       'фантастика,драма', 'фэнтези,боевик,приключения',\n",
       "       'мультфильм,приключения', 'драма,военный,история', 'история',\n",
       "       'драма,приключения,военный',\n",
       "       'документальный,короткометражка,семейный',\n",
       "       'мелодрама,история,триллер', 'ужасы,детектив',\n",
       "       'мюзикл,комедия,приключения', 'драма,спорт,биография',\n",
       "       'фантастика,боевик,комедия', 'фантастика,приключения,детектив',\n",
       "       'короткометражка,драма,военный', 'драма,мультфильм',\n",
       "       'приключения,семейный', 'детектив', 'триллер,приключения',\n",
       "       'аниме,мультфильм,боевик', 'драма,комедия,биография',\n",
       "       'драма,комедия,спорт', 'боевик,мелодрама,комедия',\n",
       "       'семейный,комедия', 'фэнтези,боевик,триллер',\n",
       "       'документальный,фэнтези,семейный', 'фантастика,фэнтези,драма',\n",
       "       'ужасы,комедия,фэнтези', 'документальный,биография,музыка',\n",
       "       'фантастика,боевик,фэнтези', 'ужасы,боевик,триллер',\n",
       "       'комедия,криминал,семейный', 'приключения,драма',\n",
       "       'криминал,драма,триллер', 'драма,детектив,криминал',\n",
       "       'фэнтези,приключения,комедия', 'комедия,спорт',\n",
       "       'мюзикл,фэнтези,мелодрама', 'мультфильм,фэнтези,приключения',\n",
       "       'фантастика,фэнтези,приключения', 'фэнтези',\n",
       "       'фэнтези,приключения,боевик', 'фантастика,боевик,драма',\n",
       "       'криминал,драма', 'криминал,триллер,драма',\n",
       "       'драма,мелодрама,приключения', 'детский,комедия',\n",
       "       'фантастика,драма,боевик', 'мультфильм,семейный,фэнтези',\n",
       "       'концерт,музыка,документальный', 'ужасы,комедия,приключения',\n",
       "       'драма,мелодрама,криминал', 'ужасы,фантастика,фэнтези',\n",
       "       'боевик,комедия', 'мультфильм,фантастика,комедия', 'триллер,ужасы',\n",
       "       'мультфильм,мюзикл,комедия', 'мелодрама,фэнтези,триллер',\n",
       "       'детский,приключения,комедия', 'комедия,детектив',\n",
       "       'аниме,мультфильм,мелодрама', 'документальный,драма,семейный',\n",
       "       'документальный,биография,история', 'военный,боевик,драма',\n",
       "       'ужасы,комедия', 'комедия,приключения,семейный',\n",
       "       'приключения,биография,история', 'детский,приключения,семейный',\n",
       "       'спорт,драма,биография', 'аниме,мультфильм,ужасы',\n",
       "       'фантастика,боевик,криминал', 'мюзикл,драма',\n",
       "       'драма,криминал,детектив', 'аниме,мультфильм,драма',\n",
       "       'драма,триллер,приключения', 'триллер,криминал,драма',\n",
       "       'фэнтези,комедия,драма', 'мультфильм,комедия',\n",
       "       'драма,комедия,история', 'комедия,биография,история',\n",
       "       'мультфильм,фантастика,приключения', 'аниме,мультфильм,фантастика',\n",
       "       'мультфильм,фэнтези,семейный', 'мультфильм,боевик,комедия',\n",
       "       'комедия,криминал,спорт', 'документальный,мюзикл',\n",
       "       'мелодрама,комедия,музыка', 'биография',\n",
       "       'триллер,криминал,комедия', 'фантастика,драма,комедия',\n",
       "       'комедия,драма,мелодрама', 'фантастика,приключения,боевик',\n",
       "       'мультфильм,фэнтези,драма', 'триллер,комедия',\n",
       "       'драма,приключения,биография', 'фантастика,комедия',\n",
       "       'мелодрама,драма,комедия', 'боевик,криминал',\n",
       "       'драма,криминал,боевик', 'мультфильм,мюзикл,детский',\n",
       "       'драма,фэнтези', 'документальный,семейный',\n",
       "       'фэнтези,драма,приключения', 'ужасы,комедия,фантастика',\n",
       "       'драма,мелодрама,музыка', 'фэнтези,драма,семейный',\n",
       "       'триллер,мелодрама,драма', 'вестерн,боевик,драма',\n",
       "       'мультфильм,короткометражка,комедия', 'триллер,драма,история',\n",
       "       'ужасы,фантастика', 'ужасы,мелодрама,комедия',\n",
       "       'фэнтези,приключения', 'фантастика,триллер',\n",
       "       'ужасы,боевик,фэнтези', 'мультфильм,комедия,детский',\n",
       "       'триллер,драма,биография', 'мультфильм,ужасы,фэнтези',\n",
       "       'мультфильм,ужасы,фантастика', 'ужасы,боевик,комедия',\n",
       "       'драма,биография,спорт', 'мультфильм', 'мелодрама,комедия,драма',\n",
       "       'приключения,фантастика,семейный', 'комедия,криминал,детектив',\n",
       "       'ужасы,триллер,комедия', 'криминал,комедия,триллер',\n",
       "       'семейный,приключения,комедия', 'мультфильм,драма,приключения',\n",
       "       'ужасы,драма,детектив', 'драма,приключения,фэнтези',\n",
       "       'фантастика,мультфильм,драма', 'драма,триллер,детектив',\n",
       "       'драма,история,музыка', 'детский', 'триллер,боевик,криминал',\n",
       "       'драма,фантастика', 'комедия,драма,семейный',\n",
       "       'боевик,драма,комедия', 'комедия,ужасы',\n",
       "       'драма,фантастика,триллер', 'фантастика,драма,триллер',\n",
       "       'история,спорт,драма', 'документальный,биография',\n",
       "       'биография,история', 'спорт,драма', 'боевик,фэнтези',\n",
       "       'мультфильм,фэнтези', 'документальный,комедия,история',\n",
       "       'криминал,комедия,боевик', 'фэнтези,приключения,драма',\n",
       "       'музыка,концерт', 'триллер,драма,боевик',\n",
       "       'комедия,криминал,боевик', 'комедия,фантастика,боевик',\n",
       "       'вестерн,приключения,боевик', 'аниме,мультфильм,комедия',\n",
       "       'детектив,криминал,триллер', 'мультфильм,комедия,криминал',\n",
       "       'комедия,приключения,детектив', 'мелодрама,фантастика,драма',\n",
       "       'драма,комедия,семейный', 'приключения,фантастика',\n",
       "       'триллер,детектив,ужасы', 'комедия,приключения,фэнтези',\n",
       "       'фэнтези,триллер,драма', 'мелодрама,приключения,боевик',\n",
       "       'детектив,триллер,криминал', 'фэнтези,семейный,мелодрама',\n",
       "       'военный,драма', 'документальный,приключения,семейный',\n",
       "       'криминал,комедия,драма', 'комедия,фантастика',\n",
       "       'история,биография,драма', 'мелодрама,драма,музыка',\n",
       "       'боевик,мелодрама', 'комедия,криминал,триллер',\n",
       "       'детектив,триллер,боевик', 'комедия,боевик,криминал',\n",
       "       'комедия,вестерн', 'детский,мелодрама,семейный',\n",
       "       'короткометражка,мультфильм', 'комедия,фэнтези',\n",
       "       'фантастика,драма,ужасы', 'триллер,драма,ужасы',\n",
       "       'драма,фэнтези,история', 'комедия,драма,короткометражка',\n",
       "       'фэнтези,триллер,приключения', 'семейный',\n",
       "       'комедия,криминал,драма', 'комедия,фэнтези,ужасы',\n",
       "       'короткометражка,комедия,криминал', 'фантастика',\n",
       "       'триллер,ужасы,драма', 'мелодрама,драма,фэнтези',\n",
       "       'фантастика,приключения,драма', 'боевик,детектив',\n",
       "       'военный,драма,боевик', 'комедия,мелодрама,фэнтези',\n",
       "       'вестерн,криминал,триллер', 'драма,история,триллер',\n",
       "       'мультфильм,фантастика,боевик', 'детектив,драма,криминал',\n",
       "       'приключения,история,драма', 'мультфильм,семейный,детский',\n",
       "       'биография,драма,история', 'триллер,криминал,боевик',\n",
       "       'история,мелодрама', 'приключения,детский',\n",
       "       'музыка,приключения,концерт', 'военный,драма,комедия',\n",
       "       'фэнтези,боевик,военный', 'фантастика,детектив,боевик',\n",
       "       'мультфильм,фэнтези,история', 'биография,мелодрама,драма',\n",
       "       'документальный,биография,спорт', 'фантастика,комедия,детектив',\n",
       "       'музыка,концерт,документальный', 'триллер,боевик,приключения',\n",
       "       'триллер,драма,комедия', 'детектив,криминал',\n",
       "       'мультфильм,приключения,фэнтези', 'мелодрама,приключения',\n",
       "       'комедия,музыка', 'мелодрама,комедия,ужасы',\n",
       "       'драма,криминал,приключения', 'приключения,детектив,мелодрама',\n",
       "       'драма,криминал,фантастика', 'фэнтези,драма,биография',\n",
       "       'детектив,фантастика,криминал', 'триллер,драма,фантастика',\n",
       "       'ужасы,комедия,боевик', 'мелодрама,история', 'триллер,боевик',\n",
       "       'фильм-нуар,триллер,детектив', 'комедия,криминал,приключения',\n",
       "       'ужасы,триллер,мелодрама', 'военный,драма,история',\n",
       "       'драма,спорт,история', 'документальный,драма,история',\n",
       "       'триллер,мелодрама,детектив', 'детский,семейный',\n",
       "       'мюзикл,семейный,драма', 'биография,военный,драма',\n",
       "       'мультфильм,детский', 'боевик,криминал,драма',\n",
       "       'детектив,фэнтези,триллер', 'драма,боевик,приключения',\n",
       "       'драма,мелодрама,фэнтези', 'детектив,история,драма',\n",
       "       'фэнтези,боевик,ужасы', 'ужасы,фэнтези,мелодрама',\n",
       "       'ужасы,приключения', 'боевик,фантастика',\n",
       "       'ужасы,мелодрама,детектив', 'фантастика,триллер,приключения',\n",
       "       'боевик,приключения,история', 'приключения,боевик,триллер',\n",
       "       'детектив,ужасы,криминал', 'семейный,фэнтези', 'мюзикл,мелодрама',\n",
       "       'драма,военный,приключения', 'фантастика,драма,приключения',\n",
       "       'приключения,семейный,драма', 'история,драма,боевик',\n",
       "       'мультфильм,приключения,комедия', 'криминал,драма,комедия',\n",
       "       'ужасы,комедия,драма', 'комедия,семейный,приключения',\n",
       "       'мюзикл,фэнтези,драма', 'драма,вестерн,боевик',\n",
       "       'фантастика,триллер,детектив', 'драма,история,детектив',\n",
       "       'короткометражка,биография', 'мультфильм,приключения,фантастика',\n",
       "       'комедия,триллер', 'мультфильм,приключения,детектив',\n",
       "       'драма,триллер', 'ужасы,триллер,криминал',\n",
       "       'документальный,криминал,военный', 'ужасы,фэнтези,драма',\n",
       "       'фэнтези,комедия', 'ужасы,фэнтези,комедия', 'комедия,музыка,драма',\n",
       "       'мультфильм,приключения,военный', 'мюзикл,фэнтези,комедия',\n",
       "       'боевик,фантастика,приключения', 'триллер,ужасы,криминал',\n",
       "       'ужасы,фантастика,драма', 'фантастика,приключения,семейный',\n",
       "       'короткометражка,музыка', 'мелодрама,детектив,комедия',\n",
       "       'документальный,триллер,биография', 'боевик,фантастика,триллер',\n",
       "       'спорт,драма,комедия', 'фэнтези,мелодрама,приключения',\n",
       "       'триллер,детектив,криминал', 'короткометражка,мелодрама',\n",
       "       'мультфильм,семейный,спорт', 'комедия,фэнтези,мелодрама',\n",
       "       'драма,спорт,комедия', 'история,драма,мелодрама',\n",
       "       'драма,боевик,криминал', 'драма,комедия,триллер',\n",
       "       'аниме,мультфильм', 'документальный,ужасы',\n",
       "       'мультфильм,короткометражка', 'драма,история,военный',\n",
       "       'мультфильм,короткометражка,фэнтези', 'комедия,военный,музыка',\n",
       "       'биография,история,драма', 'ужасы,драма,мелодрама',\n",
       "       'драма,комедия,детектив', 'комедия,семейный,фантастика',\n",
       "       'мультфильм,семейный,комедия', 'история,детектив',\n",
       "       'приключения,мелодрама,детектив', 'мюзикл,комедия,мелодрама',\n",
       "       'драма,фантастика,ужасы', 'мультфильм,ужасы,комедия',\n",
       "       'для взрослых,драма,комедия', 'ужасы,комедия,музыка',\n",
       "       'комедия,история,драма', 'семейный,детектив,детский',\n",
       "       'короткометражка,драма', 'документальный,новости,драма',\n",
       "       'триллер,мелодрама', 'ужасы,драма,вестерн',\n",
       "       'мюзикл,фэнтези,семейный', 'вестерн,драма,триллер',\n",
       "       'приключения,вестерн,боевик', 'семейный,комедия,музыка',\n",
       "       'боевик,драма,вестерн', 'ужасы,драма,триллер',\n",
       "       'фантастика,мелодрама', 'комедия,криминал,биография',\n",
       "       'семейный,мультфильм,комедия', 'комедия,драма,криминал',\n",
       "       'фантастика,боевик,военный', 'приключения,биография,драма',\n",
       "       'приключения,триллер,биография', 'криминал,боевик,триллер',\n",
       "       'боевик,вестерн,приключения', 'история,драма',\n",
       "       'фантастика,фэнтези,комедия', 'мультфильм,детский,комедия',\n",
       "       'мелодрама,комедия,триллер', 'документальный,боевик,приключения',\n",
       "       'драма,приключения', 'мелодрама,военный,драма', 'триллер,фэнтези',\n",
       "       'драма,триллер,биография', 'фэнтези,боевик,семейный',\n",
       "       'фантастика,триллер,комедия', 'документальный,фэнтези',\n",
       "       'комедия,мультфильм,фантастика', 'криминал,биография,комедия',\n",
       "       'биография,спорт,драма', 'приключения,военный',\n",
       "       'мультфильм,семейный,драма', 'документальный,фэнтези,драма',\n",
       "       'комедия,боевик,фантастика', 'семейный,приключения,военный',\n",
       "       'триллер,ужасы,детектив', 'короткометражка',\n",
       "       'мелодрама,триллер,история', 'документальный,история',\n",
       "       'мультфильм,приключения,детский', 'драма,комедия,мультфильм',\n",
       "       'военный,детектив', 'семейный,приключения,документальный',\n",
       "       'детский,фэнтези', 'документальный,комедия', 'комедия,биография',\n",
       "       'криминал,комедия', 'спорт,мелодрама,криминал',\n",
       "       'фантастика,комедия,боевик', 'боевик,приключения,детектив',\n",
       "       'детектив,триллер,драма', 'документальный,фантастика',\n",
       "       'мелодрама,комедия,семейный', 'мультфильм,мелодрама,комедия',\n",
       "       'драма,спорт,семейный', 'фантастика,мелодрама,фэнтези',\n",
       "       'мюзикл,комедия,музыка', 'фантастика,триллер,мелодрама',\n",
       "       'приключения,комедия,фэнтези', 'фэнтези,боевик,детектив',\n",
       "       'фэнтези,боевик,мелодрама', 'комедия,военный',\n",
       "       'драма,спорт,боевик', 'мультфильм,боевик,триллер',\n",
       "       'мелодрама,семейный', 'фантастика,боевик,детектив',\n",
       "       'драма,приключения,история', 'документальный,драма,музыка',\n",
       "       'фантастика,триллер,боевик', 'фэнтези,боевик,вестерн',\n",
       "       'драма,комедия,мелодрама', 'ужасы,фэнтези,приключения',\n",
       "       'триллер,фэнтези,драма', 'мультфильм,мюзикл,мелодрама',\n",
       "       'ужасы,триллер,фантастика', 'триллер,мелодрама,комедия',\n",
       "       'ужасы,комедия,семейный', 'комедия,приключения,музыка',\n",
       "       'документальный,комедия,криминал', 'мелодрама,детектив',\n",
       "       'детский,приключения,фантастика', 'короткометражка,боевик,драма',\n",
       "       'боевик,комедия,семейный', 'фантастика,боевик,мелодрама',\n",
       "       'фэнтези,триллер,мелодрама', 'драма,детектив,история',\n",
       "       'боевик,криминал,детектив', 'мультфильм,фэнтези,мелодрама',\n",
       "       'мелодрама,драма,боевик', 'драма,вестерн,приключения',\n",
       "       'драма,приключения,мелодрама', 'фэнтези,боевик,криминал',\n",
       "       'фантастика,комедия,семейный', 'детский,фэнтези,приключения',\n",
       "       'ужасы,боевик', 'фантастика,мелодрама,комедия',\n",
       "       'семейный,спорт,боевик', 'триллер,биография,драма',\n",
       "       'ужасы,драма,комедия', 'мультфильм,фэнтези,триллер', 'мюзикл',\n",
       "       'боевик,спорт,драма', 'комедия,приключения,вестерн',\n",
       "       'документальный,ужасы,боевик', 'фантастика,боевик,семейный',\n",
       "       'военный,история', 'ужасы,боевик,криминал', 'детектив,триллер',\n",
       "       'драма,семейный,комедия', 'драма,детектив,приключения',\n",
       "       'драма,криминал,история', 'приключения,триллер',\n",
       "       'боевик,драма,биография', 'драма,приключения,триллер',\n",
       "       'комедия,фэнтези,приключения', 'фантастика,боевик,ужасы',\n",
       "       'драма,комедия,фантастика', 'детектив,криминал,драма',\n",
       "       'боевик,триллер,фэнтези', 'приключения,детектив,семейный',\n",
       "       'ужасы,комедия,криминал', 'мультфильм,биография,драма',\n",
       "       'история,боевик,фэнтези', 'детектив,криминал,боевик',\n",
       "       'приключения,фэнтези', 'комедия,приключения,спорт',\n",
       "       'драма,биография,мюзикл', 'комедия,семейный,фэнтези',\n",
       "       'детектив,драма,триллер', 'боевик,приключения,семейный',\n",
       "       'биография,спорт,комедия', 'фантастика,приключения,военный',\n",
       "       'документальный,драма,биография', 'детектив,приключения,драма',\n",
       "       'аниме,мультфильм,приключения', 'семейный,приключения',\n",
       "       'ужасы,фэнтези,детектив', 'семейный,документальный',\n",
       "       'драма,приключения,семейный', 'приключения,история,военный',\n",
       "       'фэнтези,мелодрама', 'фэнтези,триллер,детектив',\n",
       "       'документальный,спорт,биография', 'комедия,триллер,драма',\n",
       "       'драма,ужасы', 'биография,музыка,драма', 'фэнтези,ужасы',\n",
       "       'детектив,мелодрама,фэнтези', 'боевик,военный,история',\n",
       "       'биография,драма,криминал', 'триллер,мелодрама,криминал',\n",
       "       'семейный,мелодрама', 'биография,драма', 'военный,история,драма',\n",
       "       'фантастика,детектив,фэнтези', 'детектив,приключения,триллер',\n",
       "       'фантастика,приключения', 'мультфильм,короткометражка,мюзикл',\n",
       "       'мультфильм,детский,семейный', 'документальный,драма,комедия',\n",
       "       'комедия,приключения,криминал', 'документальный,семейный,музыка',\n",
       "       'мелодрама,музыка,драма', 'детектив,фантастика,триллер',\n",
       "       'драма,мелодрама,триллер', 'биография,драма,военный',\n",
       "       'приключения,фантастика,драма', 'детектив,фильм-нуар,комедия',\n",
       "       'документальный,спорт', 'триллер,фантастика,драма',\n",
       "       'биография,документальный', 'ужасы,фантастика,мелодрама',\n",
       "       'детектив,комедия', 'история,биография,военный',\n",
       "       'криминал,мелодрама', 'драма,криминал,вестерн',\n",
       "       'мелодрама,семейный,приключения', 'триллер,ужасы,мелодрама',\n",
       "       'фэнтези,драма,фильм-нуар', 'детектив,мелодрама',\n",
       "       'комедия,драма,биография', 'драма,военный,боевик',\n",
       "       'драма,комедия,ужасы', 'фантастика,драма,криминал',\n",
       "       'документальный,музыка,биография', 'мультфильм,боевик,приключения',\n",
       "       'короткометражка,фантастика', 'мультфильм,мелодрама,драма',\n",
       "       'боевик,военный,драма', 'фэнтези,семейный,приключения',\n",
       "       'детский,мультфильм,приключения', 'семейный,фэнтези,комедия',\n",
       "       'фэнтези,ужасы,триллер', 'ужасы,триллер,приключения',\n",
       "       'драма,боевик,история', 'фэнтези,комедия,детектив',\n",
       "       'история,приключения', 'аниме,мультфильм,короткометражка',\n",
       "       'драма,военный,триллер', 'биография,криминал,триллер',\n",
       "       'фантастика,фэнтези,детектив', 'вестерн,биография,драма',\n",
       "       'биография,музыка,мюзикл', 'драма,история,биография',\n",
       "       'приключения,драма,фантастика', 'комедия,фэнтези,криминал',\n",
       "       'биография,спорт,история', 'драма,криминал,семейный',\n",
       "       'детектив,боевик,история', 'ужасы,комедия,детектив',\n",
       "       'триллер,приключения,драма', 'фэнтези,комедия,криминал',\n",
       "       'триллер,криминал,приключения', 'комедия,детектив,приключения',\n",
       "       'фэнтези,драма,ужасы', 'ужасы,драма,военный', 'реальное ТВ',\n",
       "       'аниме,мультфильм,детектив', 'приключения,фэнтези,семейный',\n",
       "       'драма,биография,комедия', 'триллер,комедия,ужасы',\n",
       "       'музыка,мелодрама,фэнтези', 'мультфильм,история',\n",
       "       'мультфильм,комедия,фантастика', 'биография,криминал,драма',\n",
       "       'комедия,мелодрама,фантастика', 'криминал,боевик,комедия',\n",
       "       'история,криминал', 'детектив,комедия,драма',\n",
       "       'триллер,фантастика,боевик', 'криминал,боевик',\n",
       "       'комедия,драма,военный', 'драма,триллер,криминал',\n",
       "       'мультфильм,мелодрама,приключения', 'фантастика,фэнтези,триллер',\n",
       "       'короткометражка,драма,триллер', 'военный,боевик,история',\n",
       "       'боевик,драма,триллер', 'документальный,военный,драма',\n",
       "       'драма,криминал,фильм-нуар', 'мультфильм,детский,приключения',\n",
       "       'мелодрама,история,драма'], dtype=object)"
      ]
     },
     "metadata": {},
     "output_type": "display_data"
    }
   ],
   "source": [
    "display(data['genres'].value_counts())\n",
    "display(data['genres'].unique())"
   ]
  },
  {
   "cell_type": "code",
   "execution_count": 18,
   "metadata": {},
   "outputs": [
    {
     "data": {
      "text/plain": [
       "Министерство культуры               164\n",
       "Фонд кино                           146\n",
       "Министерство культуры, Фонд кино     22\n",
       "Name: financing_source, dtype: int64"
      ]
     },
     "metadata": {},
     "output_type": "display_data"
    },
    {
     "data": {
      "text/plain": [
       "array([nan, 'Министерство культуры', 'Фонд кино',\n",
       "       'Министерство культуры, Фонд кино'], dtype=object)"
      ]
     },
     "metadata": {},
     "output_type": "display_data"
    }
   ],
   "source": [
    "display(data['financing_source'].value_counts())\n",
    "display(data['financing_source'].unique())"
   ]
  },
  {
   "cell_type": "code",
   "execution_count": 19,
   "metadata": {},
   "outputs": [
    {
     "data": {
      "text/plain": [
       "Художественный                4520\n",
       " Художественный               1389\n",
       "Анимационный                   828\n",
       "Прочие                         406\n",
       "Документальный                 288\n",
       "Научно-популярный               53\n",
       " Анимационный                    1\n",
       "Музыкально-развлекательный       1\n",
       "Name: type, dtype: int64"
      ]
     },
     "metadata": {},
     "output_type": "display_data"
    },
    {
     "data": {
      "text/plain": [
       "array(['Художественный', 'Анимационный', 'Прочие', 'Документальный',\n",
       "       'Научно-популярный', ' Художественный', ' Анимационный',\n",
       "       'Музыкально-развлекательный'], dtype=object)"
      ]
     },
     "metadata": {},
     "output_type": "display_data"
    }
   ],
   "source": [
    "display(data['type'].value_counts()) # найдем количество уникальных значений\n",
    "display(data['type'].unique())"
   ]
  },
  {
   "cell_type": "code",
   "execution_count": 20,
   "metadata": {
    "id": "PnXKIVdFgFyR"
   },
   "outputs": [
    {
     "name": "stdout",
     "output_type": "stream",
     "text": [
      "['Художественный' 'Анимационный' 'Прочие' 'Документальный'\n",
      " 'Научно-популярный' 'Музыкально-развлекательный']\n"
     ]
    },
    {
     "data": {
      "text/plain": [
       "Художественный                5909\n",
       "Анимационный                   829\n",
       "Прочие                         406\n",
       "Документальный                 288\n",
       "Научно-популярный               53\n",
       "Музыкально-развлекательный       1\n",
       "Name: type, dtype: int64"
      ]
     },
     "metadata": {},
     "output_type": "display_data"
    }
   ],
   "source": [
    "data['type'] = data['type'].str.strip() # уберем лишние пробелы\n",
    "print(data['type'].unique())\n",
    "display(data['type'].value_counts()) # найдем количество уникальных значений"
   ]
  },
  {
   "cell_type": "markdown",
   "metadata": {},
   "source": [
    "**Вывод:**\n",
    "* в категориальных столбцах нет единообразия записей, по-разному переведены фамилии и имена режиссеров, продюсеров, нет единообразия написания названий фильмов, стран, снявших фильмы. Также имеются лишние пробелы в указании жанра (были исправлены)"
   ]
  },
  {
   "cell_type": "markdown",
   "metadata": {
    "id": "XFSN5lrEgFyR"
   },
   "source": [
    "#### Шаг 2.5. Проверьте количественные значения\n",
    "\n",
    "- Проверьте, обнаружились ли в таких столбцах подозрительные данные. Как с такими данными лучше поступить?\n",
    "\n",
    "<div id=\"accordion\">\n",
    "    <div class=\"card\">\n",
    "        <div class=\"card-header\" id=\"headingThree\">\n",
    "            <button class=\"btn btn-link collapsed\" data-toggle=\"collapse\" data-target=\"#collapseHint_budget\" aria-expanded=\"false\" aria-controls=\"collapseHint_budget\">Подсказка</button>\n",
    "        </div>\n",
    "        <div id=\"collapseHint_budget\" class=\"collapse\" aria-labelledby=\"headingThree\" data-parent=\"#accordion\">\n",
    "            <div class=\"card-body\">\n",
    "Обратите внимание на описание столбца <code>budget</code>. Как этот столбец соотносится с двумя другими: <code>refundable_support</code> и <code>nonrefundable_support</code>?\n",
    "            </div>\n",
    "        </div>\n",
    "    </div>\n",
    "</div>"
   ]
  },
  {
   "cell_type": "code",
   "execution_count": 21,
   "metadata": {
    "scrolled": true
   },
   "outputs": [
    {
     "data": {
      "text/plain": [
       "6.6    312\n",
       "6.7    308\n",
       "6.8    261\n",
       "7.2    252\n",
       "6.2    243\n",
       "      ... \n",
       "8.9      1\n",
       "9.2      1\n",
       "1.9      1\n",
       "9.1      1\n",
       "1.3      1\n",
       "Name: ratings, Length: 80, dtype: int64"
      ]
     },
     "metadata": {},
     "output_type": "display_data"
    },
    {
     "data": {
      "text/plain": [
       "array([7.2, 6.6, 6.8, 7.7, 8.3, 8. , 7.8, 8.1, 7.1, 6. , 7.4, 5.8, 8.7,\n",
       "       6.3, 6.9, 5. , 4.3, 7.3, 7. , 6.4, nan, 8.2, 7.5, 6.7, 7.9, 5.9,\n",
       "       6.2, 5.6, 6.5, 2.4, 7.6, 6.1, 8.6, 8.5, 8.8, 5.5, 5.1, 5.7, 5.4,\n",
       "       4.4, 4.5, 5.3, 4.1, 8.4, 2.6, 3.8, 4.6, 4.8, 4. , 3. , 1.6, 4.2,\n",
       "       5.2, 4.7, 4.9, 3.9, 2.7, 3.3, 2.9, 3.7, 1.4, 3.1, 3.5, 3.2, 2.8,\n",
       "       1.5, 2.1, 2.5, 9.2, 3.4, 1.1, 3.6, 1. , 1.3, 1.9, 1.8, 1.2, 1.7,\n",
       "       9. , 8.9, 9.1])"
      ]
     },
     "metadata": {},
     "output_type": "display_data"
    },
    {
     "data": {
      "image/png": "[encoded data removed]",
      "text/plain": [
       "<Figure size 432x288 with 1 Axes>"
      ]
     },
     "metadata": {
      "needs_background": "light"
     },
     "output_type": "display_data"
    }
   ],
   "source": [
    "display(data['ratings'].value_counts()) # найдем количество уникальных значений\n",
    "display(data['ratings'].unique())\n",
    "import matplotlib.pyplot as plt # подключаем библиотеку matplotlib.pyplot\n",
    "data_one.boxplot(['ratings']); # Редкие и выбивающиеся значения можно найти с помощью boxplot(),"
   ]
  },
  {
   "cell_type": "markdown",
   "metadata": {},
   "source": [
    "**Вывод:**\n",
    "* аномальных значений рейтинга в данных нет"
   ]
  },
  {
   "cell_type": "code",
   "execution_count": 22,
   "metadata": {},
   "outputs": [
    {
     "data": {
      "text/plain": [
       "0.0            17\n",
       "38000000.0      6\n",
       "80000000.0      4\n",
       "50000000.0      4\n",
       "40000000.0      3\n",
       "               ..\n",
       "49280496.0      1\n",
       "56693559.0      1\n",
       "57166797.0      1\n",
       "109814241.0     1\n",
       "42252509.0      1\n",
       "Name: budget, Length: 290, dtype: int64"
      ]
     },
     "metadata": {},
     "output_type": "display_data"
    },
    {
     "data": {
      "text/plain": [
       "0.0            221\n",
       "20000000.0      12\n",
       "10000000.0      10\n",
       "25000000.0      10\n",
       "15000000.0       9\n",
       "5000000.0        9\n",
       "50000000.0       8\n",
       "40000000.0       8\n",
       "30000000.0       7\n",
       "60000000.0       6\n",
       "100000000.0      5\n",
       "110000000.0      2\n",
       "55000000.0       2\n",
       "19000000.0       2\n",
       "75000000.0       2\n",
       "7153119.0        1\n",
       "35000000.0       1\n",
       "9000000.0        1\n",
       "150000000.0      1\n",
       "36000000.0       1\n",
       "29000000.0       1\n",
       "17000000.0       1\n",
       "180000000.0      1\n",
       "115000000.0      1\n",
       "41000000.0       1\n",
       "26000000.0       1\n",
       "7000000.0        1\n",
       "7346881.0        1\n",
       "3500000.0        1\n",
       "8000000.0        1\n",
       "38000000.0       1\n",
       "44000000.0       1\n",
       "28000000.0       1\n",
       "80000000.0       1\n",
       "Name: refundable_support, dtype: int64"
      ]
     },
     "metadata": {},
     "output_type": "display_data"
    },
    {
     "data": {
      "text/plain": [
       "25000000.0     53\n",
       "30000000.0     48\n",
       "35000000.0     29\n",
       "40000000.0     26\n",
       "20000000.0     19\n",
       "               ..\n",
       "31000000.0      1\n",
       "29000000.0      1\n",
       "138969465.0     1\n",
       "3000000.0       1\n",
       "25900000.0      1\n",
       "Name: nonrefundable_support, Length: 75, dtype: int64"
      ]
     },
     "metadata": {},
     "output_type": "display_data"
    },
    {
     "data": {
      "text/plain": [
       "0.0            24\n",
       "200.0          13\n",
       "300.0          12\n",
       "360.0           9\n",
       "400.0           8\n",
       "               ..\n",
       "9585014.0       1\n",
       "809638458.6     1\n",
       "220728.0        1\n",
       "11332412.0      1\n",
       "52984377.0      1\n",
       "Name: box_office, Length: 2938, dtype: int64"
      ]
     },
     "metadata": {},
     "output_type": "display_data"
    },
    {
     "data": {
      "image/png": "[encoded data removed]",
      "text/plain": [
       "<Figure size 432x288 with 1 Axes>"
      ]
     },
     "metadata": {
      "needs_background": "light"
     },
     "output_type": "display_data"
    }
   ],
   "source": [
    "display(data['budget'].value_counts()) # найдем количество уникальных значений\n",
    "display(data['refundable_support'].value_counts()) \n",
    "display(data['nonrefundable_support'].value_counts()) \n",
    "display(data['box_office'].value_counts()) \n",
    "# Редкие и выбивающиеся значения можно найти с помощью boxplot()\n",
    "data.boxplot(column = ['budget', 'refundable_support', 'nonrefundable_support','box_office'], rot=45, fontsize=10); \n",
    "plt.ylim(0, 200000000)\n",
    "plt.show()"
   ]
  },
  {
   "cell_type": "code",
   "execution_count": 23,
   "metadata": {},
   "outputs": [
    {
     "data": {
      "text/html": [
       "<div>\n",
       "<style scoped>\n",
       "    .dataframe tbody tr th:only-of-type {\n",
       "        vertical-align: middle;\n",
       "    }\n",
       "\n",
       "    .dataframe tbody tr th {\n",
       "        vertical-align: top;\n",
       "    }\n",
       "\n",
       "    .dataframe thead th {\n",
       "        text-align: right;\n",
       "    }\n",
       "</style>\n",
       "<table border=\"1\" class=\"dataframe\">\n",
       "  <thead>\n",
       "    <tr style=\"text-align: right;\">\n",
       "      <th></th>\n",
       "      <th>puNumber</th>\n",
       "      <th>refundable_support</th>\n",
       "      <th>nonrefundable_support</th>\n",
       "      <th>budget</th>\n",
       "      <th>ratings</th>\n",
       "      <th>box_office</th>\n",
       "    </tr>\n",
       "  </thead>\n",
       "  <tbody>\n",
       "    <tr>\n",
       "      <th>count</th>\n",
       "      <td>7.486000e+03</td>\n",
       "      <td>3.320000e+02</td>\n",
       "      <td>3.320000e+02</td>\n",
       "      <td>3.320000e+02</td>\n",
       "      <td>6490.000000</td>\n",
       "      <td>3.158000e+03</td>\n",
       "    </tr>\n",
       "    <tr>\n",
       "      <th>mean</th>\n",
       "      <td>1.351785e+08</td>\n",
       "      <td>1.186446e+07</td>\n",
       "      <td>4.898099e+07</td>\n",
       "      <td>1.272297e+08</td>\n",
       "      <td>6.479245</td>\n",
       "      <td>7.647870e+07</td>\n",
       "    </tr>\n",
       "    <tr>\n",
       "      <th>std</th>\n",
       "      <td>3.838218e+07</td>\n",
       "      <td>2.491656e+07</td>\n",
       "      <td>5.998012e+07</td>\n",
       "      <td>1.885883e+08</td>\n",
       "      <td>1.101665</td>\n",
       "      <td>2.403531e+08</td>\n",
       "    </tr>\n",
       "    <tr>\n",
       "      <th>min</th>\n",
       "      <td>0.000000e+00</td>\n",
       "      <td>0.000000e+00</td>\n",
       "      <td>0.000000e+00</td>\n",
       "      <td>0.000000e+00</td>\n",
       "      <td>1.000000</td>\n",
       "      <td>0.000000e+00</td>\n",
       "    </tr>\n",
       "    <tr>\n",
       "      <th>25%</th>\n",
       "      <td>1.120250e+08</td>\n",
       "      <td>0.000000e+00</td>\n",
       "      <td>2.500000e+07</td>\n",
       "      <td>4.200000e+07</td>\n",
       "      <td>5.900000</td>\n",
       "      <td>8.623900e+04</td>\n",
       "    </tr>\n",
       "    <tr>\n",
       "      <th>50%</th>\n",
       "      <td>1.210155e+08</td>\n",
       "      <td>0.000000e+00</td>\n",
       "      <td>3.000000e+07</td>\n",
       "      <td>6.864992e+07</td>\n",
       "      <td>6.600000</td>\n",
       "      <td>2.327988e+06</td>\n",
       "    </tr>\n",
       "    <tr>\n",
       "      <th>75%</th>\n",
       "      <td>1.240033e+08</td>\n",
       "      <td>1.500000e+07</td>\n",
       "      <td>4.037500e+07</td>\n",
       "      <td>1.419853e+08</td>\n",
       "      <td>7.200000</td>\n",
       "      <td>2.397967e+07</td>\n",
       "    </tr>\n",
       "    <tr>\n",
       "      <th>max</th>\n",
       "      <td>2.310011e+08</td>\n",
       "      <td>1.800000e+08</td>\n",
       "      <td>4.000000e+08</td>\n",
       "      <td>2.305074e+09</td>\n",
       "      <td>9.200000</td>\n",
       "      <td>3.073569e+09</td>\n",
       "    </tr>\n",
       "  </tbody>\n",
       "</table>\n",
       "</div>"
      ],
      "text/plain": [
       "           puNumber  refundable_support  nonrefundable_support        budget  \\\n",
       "count  7.486000e+03        3.320000e+02           3.320000e+02  3.320000e+02   \n",
       "mean   1.351785e+08        1.186446e+07           4.898099e+07  1.272297e+08   \n",
       "std    3.838218e+07        2.491656e+07           5.998012e+07  1.885883e+08   \n",
       "min    0.000000e+00        0.000000e+00           0.000000e+00  0.000000e+00   \n",
       "25%    1.120250e+08        0.000000e+00           2.500000e+07  4.200000e+07   \n",
       "50%    1.210155e+08        0.000000e+00           3.000000e+07  6.864992e+07   \n",
       "75%    1.240033e+08        1.500000e+07           4.037500e+07  1.419853e+08   \n",
       "max    2.310011e+08        1.800000e+08           4.000000e+08  2.305074e+09   \n",
       "\n",
       "           ratings    box_office  \n",
       "count  6490.000000  3.158000e+03  \n",
       "mean      6.479245  7.647870e+07  \n",
       "std       1.101665  2.403531e+08  \n",
       "min       1.000000  0.000000e+00  \n",
       "25%       5.900000  8.623900e+04  \n",
       "50%       6.600000  2.327988e+06  \n",
       "75%       7.200000  2.397967e+07  \n",
       "max       9.200000  3.073569e+09  "
      ]
     },
     "execution_count": 23,
     "metadata": {},
     "output_type": "execute_result"
    }
   ],
   "source": [
    "# выведем список числовых столбцов данных\n",
    "col = ['refundable_support', 'nonrefundable_support', 'budget', 'box_office', 'ratings'] \n",
    "data.describe() # выведем числовые характеристики количественных значений "
   ]
  },
  {
   "cell_type": "code",
   "execution_count": 24,
   "metadata": {},
   "outputs": [
    {
     "data": {
      "text/html": [
       "<div>\n",
       "<style scoped>\n",
       "    .dataframe tbody tr th:only-of-type {\n",
       "        vertical-align: middle;\n",
       "    }\n",
       "\n",
       "    .dataframe tbody tr th {\n",
       "        vertical-align: top;\n",
       "    }\n",
       "\n",
       "    .dataframe thead th {\n",
       "        text-align: right;\n",
       "    }\n",
       "</style>\n",
       "<table border=\"1\" class=\"dataframe\">\n",
       "  <thead>\n",
       "    <tr style=\"text-align: right;\">\n",
       "      <th></th>\n",
       "      <th>puNumber</th>\n",
       "      <th>refundable_support</th>\n",
       "      <th>nonrefundable_support</th>\n",
       "      <th>budget</th>\n",
       "      <th>ratings</th>\n",
       "      <th>box_office</th>\n",
       "    </tr>\n",
       "  </thead>\n",
       "  <tbody>\n",
       "    <tr>\n",
       "      <th>count</th>\n",
       "      <td>1.700000e+01</td>\n",
       "      <td>1.700000e+01</td>\n",
       "      <td>1.700000e+01</td>\n",
       "      <td>17.0</td>\n",
       "      <td>16.000000</td>\n",
       "      <td>1.700000e+01</td>\n",
       "    </tr>\n",
       "    <tr>\n",
       "      <th>mean</th>\n",
       "      <td>1.120672e+08</td>\n",
       "      <td>1.670588e+07</td>\n",
       "      <td>6.517467e+07</td>\n",
       "      <td>0.0</td>\n",
       "      <td>5.725000</td>\n",
       "      <td>1.631373e+08</td>\n",
       "    </tr>\n",
       "    <tr>\n",
       "      <th>std</th>\n",
       "      <td>1.473501e+06</td>\n",
       "      <td>2.006478e+07</td>\n",
       "      <td>6.123620e+07</td>\n",
       "      <td>0.0</td>\n",
       "      <td>0.916151</td>\n",
       "      <td>2.511160e+08</td>\n",
       "    </tr>\n",
       "    <tr>\n",
       "      <th>min</th>\n",
       "      <td>1.110004e+08</td>\n",
       "      <td>0.000000e+00</td>\n",
       "      <td>0.000000e+00</td>\n",
       "      <td>0.0</td>\n",
       "      <td>4.300000</td>\n",
       "      <td>1.334699e+06</td>\n",
       "    </tr>\n",
       "    <tr>\n",
       "      <th>25%</th>\n",
       "      <td>1.110096e+08</td>\n",
       "      <td>0.000000e+00</td>\n",
       "      <td>2.300000e+07</td>\n",
       "      <td>0.0</td>\n",
       "      <td>5.075000</td>\n",
       "      <td>5.045195e+07</td>\n",
       "    </tr>\n",
       "    <tr>\n",
       "      <th>50%</th>\n",
       "      <td>1.110173e+08</td>\n",
       "      <td>1.000000e+07</td>\n",
       "      <td>5.100000e+07</td>\n",
       "      <td>0.0</td>\n",
       "      <td>5.700000</td>\n",
       "      <td>7.293778e+07</td>\n",
       "    </tr>\n",
       "    <tr>\n",
       "      <th>75%</th>\n",
       "      <td>1.140017e+08</td>\n",
       "      <td>2.000000e+07</td>\n",
       "      <td>7.500000e+07</td>\n",
       "      <td>0.0</td>\n",
       "      <td>6.300000</td>\n",
       "      <td>1.844876e+08</td>\n",
       "    </tr>\n",
       "    <tr>\n",
       "      <th>max</th>\n",
       "      <td>1.140065e+08</td>\n",
       "      <td>6.000000e+07</td>\n",
       "      <td>2.500000e+08</td>\n",
       "      <td>0.0</td>\n",
       "      <td>7.800000</td>\n",
       "      <td>1.038321e+09</td>\n",
       "    </tr>\n",
       "  </tbody>\n",
       "</table>\n",
       "</div>"
      ],
      "text/plain": [
       "           puNumber  refundable_support  nonrefundable_support  budget  \\\n",
       "count  1.700000e+01        1.700000e+01           1.700000e+01    17.0   \n",
       "mean   1.120672e+08        1.670588e+07           6.517467e+07     0.0   \n",
       "std    1.473501e+06        2.006478e+07           6.123620e+07     0.0   \n",
       "min    1.110004e+08        0.000000e+00           0.000000e+00     0.0   \n",
       "25%    1.110096e+08        0.000000e+00           2.300000e+07     0.0   \n",
       "50%    1.110173e+08        1.000000e+07           5.100000e+07     0.0   \n",
       "75%    1.140017e+08        2.000000e+07           7.500000e+07     0.0   \n",
       "max    1.140065e+08        6.000000e+07           2.500000e+08     0.0   \n",
       "\n",
       "         ratings    box_office  \n",
       "count  16.000000  1.700000e+01  \n",
       "mean    5.725000  1.631373e+08  \n",
       "std     0.916151  2.511160e+08  \n",
       "min     4.300000  1.334699e+06  \n",
       "25%     5.075000  5.045195e+07  \n",
       "50%     5.700000  7.293778e+07  \n",
       "75%     6.300000  1.844876e+08  \n",
       "max     7.800000  1.038321e+09  "
      ]
     },
     "execution_count": 24,
     "metadata": {},
     "output_type": "execute_result"
    }
   ],
   "source": [
    "data.loc[data['budget'] == 0].describe() # выведем числовые характеристики количественных значений при нулевом бюджете"
   ]
  },
  {
   "cell_type": "code",
   "execution_count": 25,
   "metadata": {},
   "outputs": [
    {
     "data": {
      "text/html": [
       "<div>\n",
       "<style scoped>\n",
       "    .dataframe tbody tr th:only-of-type {\n",
       "        vertical-align: middle;\n",
       "    }\n",
       "\n",
       "    .dataframe tbody tr th {\n",
       "        vertical-align: top;\n",
       "    }\n",
       "\n",
       "    .dataframe thead th {\n",
       "        text-align: right;\n",
       "    }\n",
       "</style>\n",
       "<table border=\"1\" class=\"dataframe\">\n",
       "  <thead>\n",
       "    <tr style=\"text-align: right;\">\n",
       "      <th></th>\n",
       "      <th>title</th>\n",
       "      <th>puNumber</th>\n",
       "      <th>show_start_date</th>\n",
       "      <th>type</th>\n",
       "      <th>film_studio</th>\n",
       "      <th>production_country</th>\n",
       "      <th>director</th>\n",
       "      <th>producer</th>\n",
       "      <th>age_restriction</th>\n",
       "      <th>refundable_support</th>\n",
       "      <th>nonrefundable_support</th>\n",
       "      <th>budget</th>\n",
       "      <th>financing_source</th>\n",
       "      <th>ratings</th>\n",
       "      <th>genres</th>\n",
       "      <th>box_office</th>\n",
       "    </tr>\n",
       "  </thead>\n",
       "  <tbody>\n",
       "    <tr>\n",
       "      <th>2053</th>\n",
       "      <td>14+</td>\n",
       "      <td>111023614</td>\n",
       "      <td>2014-12-19 12:00:00+00:00</td>\n",
       "      <td>Художественный</td>\n",
       "      <td>ООО Киностудия  \"Сентябрь\"</td>\n",
       "      <td>Россия</td>\n",
       "      <td>А.Зайцев</td>\n",
       "      <td>О.Гранина, А.Зайцев</td>\n",
       "      <td>«16+» - для детей старше 16 лет</td>\n",
       "      <td>0.0</td>\n",
       "      <td>23000000.0</td>\n",
       "      <td>0.0</td>\n",
       "      <td>Министерство культуры, Фонд кино</td>\n",
       "      <td>6.6</td>\n",
       "      <td>мелодрама</td>\n",
       "      <td>1.023402e+07</td>\n",
       "    </tr>\n",
       "    <tr>\n",
       "      <th>2058</th>\n",
       "      <td>Дуxless 2</td>\n",
       "      <td>111000415</td>\n",
       "      <td>2015-01-26 12:00:00+00:00</td>\n",
       "      <td>Художественный</td>\n",
       "      <td>ООО \"Киностудия \"Слово\", ООО \"Арт Пикчерс Студия\"</td>\n",
       "      <td>Россия</td>\n",
       "      <td>Р.Прыгунов</td>\n",
       "      <td>П.Ануров, Ф.Бондарчук, Д.Рудовский</td>\n",
       "      <td>«16+» - для детей старше 16 лет</td>\n",
       "      <td>0.0</td>\n",
       "      <td>75000000.0</td>\n",
       "      <td>0.0</td>\n",
       "      <td>Фонд кино</td>\n",
       "      <td>6.6</td>\n",
       "      <td>драма</td>\n",
       "      <td>4.461635e+08</td>\n",
       "    </tr>\n",
       "    <tr>\n",
       "      <th>2472</th>\n",
       "      <td>Воин (2015)</td>\n",
       "      <td>111017315</td>\n",
       "      <td>2015-09-28 12:00:00+00:00</td>\n",
       "      <td>Художественный</td>\n",
       "      <td>ООО \"Форпост Продакшн\", ООО \"Арт Пикчерс Студия\"</td>\n",
       "      <td>Россия</td>\n",
       "      <td>А.Андрианов</td>\n",
       "      <td>ООО \"Арт Пикчерс Студия\"</td>\n",
       "      <td>«12+» - для детей старше 12 лет</td>\n",
       "      <td>10000000.0</td>\n",
       "      <td>70000000.0</td>\n",
       "      <td>0.0</td>\n",
       "      <td>Фонд кино</td>\n",
       "      <td>7.8</td>\n",
       "      <td>боевик,драма,криминал</td>\n",
       "      <td>1.965724e+08</td>\n",
       "    </tr>\n",
       "    <tr>\n",
       "      <th>2532</th>\n",
       "      <td>Бармен.</td>\n",
       "      <td>111009615</td>\n",
       "      <td>2015-05-26 12:00:00+00:00</td>\n",
       "      <td>Художественный</td>\n",
       "      <td>АО \"ВайТ Медиа\", ООО \"Арт Пикчерс Студия\"</td>\n",
       "      <td>Россия</td>\n",
       "      <td>Д.Штурманова</td>\n",
       "      <td>Т.Вайнштейн</td>\n",
       "      <td>«16+» - для детей старше 16 лет</td>\n",
       "      <td>20000000.0</td>\n",
       "      <td>0.0</td>\n",
       "      <td>0.0</td>\n",
       "      <td>Фонд кино</td>\n",
       "      <td>6.2</td>\n",
       "      <td>комедия,фэнтези</td>\n",
       "      <td>6.741897e+07</td>\n",
       "    </tr>\n",
       "    <tr>\n",
       "      <th>2615</th>\n",
       "      <td>Савва. Сердце воина</td>\n",
       "      <td>114001715</td>\n",
       "      <td>2015-07-21 12:00:00+00:00</td>\n",
       "      <td>Анимационный</td>\n",
       "      <td>ООО \"Глюкоза Продакшн\", ООО \"Арт Пикчерс Студия\"</td>\n",
       "      <td>Россия</td>\n",
       "      <td>М.Фадеев</td>\n",
       "      <td>А.Чистяков</td>\n",
       "      <td>«6+» - для детей старше 6 лет</td>\n",
       "      <td>60000000.0</td>\n",
       "      <td>100000000.0</td>\n",
       "      <td>0.0</td>\n",
       "      <td>Фонд кино</td>\n",
       "      <td>4.6</td>\n",
       "      <td>мультфильм,приключения,фэнтези</td>\n",
       "      <td>1.844876e+08</td>\n",
       "    </tr>\n",
       "    <tr>\n",
       "      <th>2684</th>\n",
       "      <td>Тряпичный союз</td>\n",
       "      <td>111010215</td>\n",
       "      <td>2015-06-08 12:00:00+00:00</td>\n",
       "      <td>Художественный</td>\n",
       "      <td>ООО \"Кинокомпания \"КОКТЕБЕЛЬ\"</td>\n",
       "      <td>Россия</td>\n",
       "      <td>М.Местецкий</td>\n",
       "      <td>Р.Борисевич, А.Кушаев</td>\n",
       "      <td>«18+» - запрещено для детей</td>\n",
       "      <td>0.0</td>\n",
       "      <td>59000000.0</td>\n",
       "      <td>0.0</td>\n",
       "      <td>Фонд кино</td>\n",
       "      <td>6.3</td>\n",
       "      <td>комедия,драма</td>\n",
       "      <td>1.957739e+06</td>\n",
       "    </tr>\n",
       "    <tr>\n",
       "      <th>2788</th>\n",
       "      <td>Срочно выйду замуж</td>\n",
       "      <td>111017115</td>\n",
       "      <td>2015-09-30 12:00:00+00:00</td>\n",
       "      <td>Художественный</td>\n",
       "      <td>АО \"ВайТ Медиа\", ООО \"Арт Пикчерс Студия\"</td>\n",
       "      <td>Россия</td>\n",
       "      <td>С Чекалов</td>\n",
       "      <td>Ф.Бондарчук, Т.Вайнштейн, Д.Рудовский</td>\n",
       "      <td>«16+» - для детей старше 16 лет</td>\n",
       "      <td>0.0</td>\n",
       "      <td>35000000.0</td>\n",
       "      <td>0.0</td>\n",
       "      <td>Фонд кино</td>\n",
       "      <td>5.1</td>\n",
       "      <td>комедия,мелодрама</td>\n",
       "      <td>7.293778e+07</td>\n",
       "    </tr>\n",
       "    <tr>\n",
       "      <th>2874</th>\n",
       "      <td>Помню - не помню!</td>\n",
       "      <td>111004916</td>\n",
       "      <td>2016-03-01 12:00:00+00:00</td>\n",
       "      <td>Художественный</td>\n",
       "      <td>ООО \"КиноФирма\"</td>\n",
       "      <td>Россия</td>\n",
       "      <td>В.Ровенский</td>\n",
       "      <td>ООО \"КиноФирма\"</td>\n",
       "      <td>«12+» - для детей старше 12 лет</td>\n",
       "      <td>0.0</td>\n",
       "      <td>6000000.0</td>\n",
       "      <td>0.0</td>\n",
       "      <td>Министерство культуры</td>\n",
       "      <td>4.3</td>\n",
       "      <td>комедия</td>\n",
       "      <td>1.536293e+07</td>\n",
       "    </tr>\n",
       "    <tr>\n",
       "      <th>3047</th>\n",
       "      <td>Любовь с ограничениями</td>\n",
       "      <td>111008216</td>\n",
       "      <td>2016-04-29 12:00:00+00:00</td>\n",
       "      <td>Художественный</td>\n",
       "      <td>АО \"ВайТ Медиа\", ООО \"Арт Пикчерс Студия\"</td>\n",
       "      <td>Россия</td>\n",
       "      <td>Д.Тюрин</td>\n",
       "      <td>Ф.Бондарчук, Т.Вайнштейн, Д.Рудовский</td>\n",
       "      <td>«16+» - для детей старше 16 лет</td>\n",
       "      <td>19000000.0</td>\n",
       "      <td>51000000.0</td>\n",
       "      <td>0.0</td>\n",
       "      <td>Фонд кино</td>\n",
       "      <td>6.3</td>\n",
       "      <td>комедия,мелодрама</td>\n",
       "      <td>7.029905e+07</td>\n",
       "    </tr>\n",
       "    <tr>\n",
       "      <th>3565</th>\n",
       "      <td>Притяжение (2016)</td>\n",
       "      <td>111018116</td>\n",
       "      <td>2016-12-16 12:00:00+00:00</td>\n",
       "      <td>Художественный</td>\n",
       "      <td>ООО \"Водород 2011\",  ООО \"Арт Пикчерс Студия\"</td>\n",
       "      <td>Россия</td>\n",
       "      <td>Ф.Бондарчук</td>\n",
       "      <td>ООО \"Арт Пикчерс Студия\"</td>\n",
       "      <td>«12+» - для детей старше 12 лет</td>\n",
       "      <td>0.0</td>\n",
       "      <td>250000000.0</td>\n",
       "      <td>0.0</td>\n",
       "      <td>Фонд кино</td>\n",
       "      <td>5.6</td>\n",
       "      <td>фантастика</td>\n",
       "      <td>1.038321e+09</td>\n",
       "    </tr>\n",
       "    <tr>\n",
       "      <th>3675</th>\n",
       "      <td>Чудо-юдо</td>\n",
       "      <td>114001817</td>\n",
       "      <td>2017-06-27 12:00:00+00:00</td>\n",
       "      <td>Анимационный</td>\n",
       "      <td>ООО \"КиноФирма\"</td>\n",
       "      <td>Россия</td>\n",
       "      <td>А.Лукичев</td>\n",
       "      <td>ООО \"КиноФирма\"</td>\n",
       "      <td>«6+» - для детей старше 6 лет</td>\n",
       "      <td>20000000.0</td>\n",
       "      <td>20000000.0</td>\n",
       "      <td>0.0</td>\n",
       "      <td>Фонд кино</td>\n",
       "      <td>5.2</td>\n",
       "      <td>мультфильм,фэнтези,семейный</td>\n",
       "      <td>5.510801e+07</td>\n",
       "    </tr>\n",
       "    <tr>\n",
       "      <th>3739</th>\n",
       "      <td>Мифы</td>\n",
       "      <td>111004317</td>\n",
       "      <td>2017-06-07 12:00:00+00:00</td>\n",
       "      <td>Художественный</td>\n",
       "      <td>ООО \"ХАЙПФИЛМ\", ООО \"Арт Пикчерс Студия\"</td>\n",
       "      <td>Россия</td>\n",
       "      <td>А.Молочников</td>\n",
       "      <td>Ф.Бондарчук, Д.Рудовский, И.Стюарт, М.Османн, ...</td>\n",
       "      <td>«16+» - для детей старше 16 лет</td>\n",
       "      <td>25000000.0</td>\n",
       "      <td>20000000.0</td>\n",
       "      <td>0.0</td>\n",
       "      <td>Фонд кино</td>\n",
       "      <td>4.8</td>\n",
       "      <td>комедия</td>\n",
       "      <td>5.045195e+07</td>\n",
       "    </tr>\n",
       "    <tr>\n",
       "      <th>5673</th>\n",
       "      <td>Селфи</td>\n",
       "      <td>111012117</td>\n",
       "      <td>2018-02-01 12:00:00+00:00</td>\n",
       "      <td>Художественный</td>\n",
       "      <td>ООО \"Киностудия \"Слово\", ООО \"Арт Пикчерс Студия\"</td>\n",
       "      <td>Россия</td>\n",
       "      <td>Н.Хомерики</td>\n",
       "      <td>П.Ануров, Ф.Бондарчук, Д.Рудовский</td>\n",
       "      <td>«16+» - для детей старше 16 лет</td>\n",
       "      <td>20000000.0</td>\n",
       "      <td>40000000.0</td>\n",
       "      <td>0.0</td>\n",
       "      <td>Фонд кино</td>\n",
       "      <td>5.8</td>\n",
       "      <td>триллер,драма</td>\n",
       "      <td>2.251964e+08</td>\n",
       "    </tr>\n",
       "    <tr>\n",
       "      <th>5806</th>\n",
       "      <td>Два хвоста</td>\n",
       "      <td>114001018</td>\n",
       "      <td>2018-05-31 12:00:00+00:00</td>\n",
       "      <td>Анимационный</td>\n",
       "      <td>ООО \"ЛИЦЕНЗИОННЫЕ БРЕНДЫ\"</td>\n",
       "      <td>Россия</td>\n",
       "      <td>В.Ровенский, Н.Лопато, В.Азеев</td>\n",
       "      <td>ООО \"ЛИЦЕНЗИОННЫЕ БРЕНДЫ\"</td>\n",
       "      <td>«6+» - для детей старше 6 лет</td>\n",
       "      <td>10000000.0</td>\n",
       "      <td>60000000.0</td>\n",
       "      <td>0.0</td>\n",
       "      <td>Фонд кино</td>\n",
       "      <td>5.0</td>\n",
       "      <td>мультфильм,детский</td>\n",
       "      <td>1.065143e+08</td>\n",
       "    </tr>\n",
       "    <tr>\n",
       "      <th>6008</th>\n",
       "      <td>Принцесса и дракон</td>\n",
       "      <td>114003018</td>\n",
       "      <td>2018-08-23 12:00:00+00:00</td>\n",
       "      <td>Анимационный</td>\n",
       "      <td>ООО \"ЛИЦЕНЗИОННЫЕ БРЕНДЫ\"</td>\n",
       "      <td>Россия</td>\n",
       "      <td>М.Нефедова</td>\n",
       "      <td>ООО \"ЛИЦЕНЗИОННЫЕ БРЕНДЫ\"</td>\n",
       "      <td>«6+» - для детей старше 6 лет</td>\n",
       "      <td>40000000.0</td>\n",
       "      <td>40000000.0</td>\n",
       "      <td>0.0</td>\n",
       "      <td>Фонд кино</td>\n",
       "      <td>5.2</td>\n",
       "      <td>мультфильм,фэнтези,детский</td>\n",
       "      <td>8.336633e+07</td>\n",
       "    </tr>\n",
       "    <tr>\n",
       "      <th>6323</th>\n",
       "      <td>Баба Яга</td>\n",
       "      <td>114006518</td>\n",
       "      <td>2018-11-08 12:00:00+00:00</td>\n",
       "      <td>Анимационный</td>\n",
       "      <td>ООО \"Арт Пикчерс Студия\"</td>\n",
       "      <td>Россия</td>\n",
       "      <td>В.Саков</td>\n",
       "      <td>ООО \"Арт Пикчерс Студия\", ООО \"КРИЭЙТИВ АНИМЭЙ...</td>\n",
       "      <td>«6+» - для детей старше 6 лет</td>\n",
       "      <td>0.0</td>\n",
       "      <td>138969465.0</td>\n",
       "      <td>0.0</td>\n",
       "      <td>Фонд кино</td>\n",
       "      <td>NaN</td>\n",
       "      <td>NaN</td>\n",
       "      <td>1.334699e+06</td>\n",
       "    </tr>\n",
       "    <tr>\n",
       "      <th>6823</th>\n",
       "      <td>Большое путешествие</td>\n",
       "      <td>114002419</td>\n",
       "      <td>2019-04-20 12:00:00+00:00</td>\n",
       "      <td>Анимационный</td>\n",
       "      <td>ООО \"ЛИЦЕНЗИОННЫЕ БРЕНДЫ\"</td>\n",
       "      <td>Россия</td>\n",
       "      <td>Н.Лопато, В.Ровенский</td>\n",
       "      <td>ООО \"ЛИЦЕНЗИОННЫЕ БРЕНДЫ\"</td>\n",
       "      <td>«6+» - для детей старше 6 лет</td>\n",
       "      <td>60000000.0</td>\n",
       "      <td>120000000.0</td>\n",
       "      <td>0.0</td>\n",
       "      <td>Фонд кино</td>\n",
       "      <td>6.2</td>\n",
       "      <td>мультфильм,комедия,приключения</td>\n",
       "      <td>1.476068e+08</td>\n",
       "    </tr>\n",
       "  </tbody>\n",
       "</table>\n",
       "</div>"
      ],
      "text/plain": [
       "                       title   puNumber           show_start_date  \\\n",
       "2053                     14+  111023614 2014-12-19 12:00:00+00:00   \n",
       "2058               Дуxless 2  111000415 2015-01-26 12:00:00+00:00   \n",
       "2472             Воин (2015)  111017315 2015-09-28 12:00:00+00:00   \n",
       "2532                 Бармен.  111009615 2015-05-26 12:00:00+00:00   \n",
       "2615     Савва. Сердце воина  114001715 2015-07-21 12:00:00+00:00   \n",
       "2684          Тряпичный союз  111010215 2015-06-08 12:00:00+00:00   \n",
       "2788      Срочно выйду замуж  111017115 2015-09-30 12:00:00+00:00   \n",
       "2874       Помню - не помню!  111004916 2016-03-01 12:00:00+00:00   \n",
       "3047  Любовь с ограничениями  111008216 2016-04-29 12:00:00+00:00   \n",
       "3565       Притяжение (2016)  111018116 2016-12-16 12:00:00+00:00   \n",
       "3675                Чудо-юдо  114001817 2017-06-27 12:00:00+00:00   \n",
       "3739                    Мифы  111004317 2017-06-07 12:00:00+00:00   \n",
       "5673                   Селфи  111012117 2018-02-01 12:00:00+00:00   \n",
       "5806              Два хвоста  114001018 2018-05-31 12:00:00+00:00   \n",
       "6008      Принцесса и дракон  114003018 2018-08-23 12:00:00+00:00   \n",
       "6323                Баба Яга  114006518 2018-11-08 12:00:00+00:00   \n",
       "6823     Большое путешествие  114002419 2019-04-20 12:00:00+00:00   \n",
       "\n",
       "                type                                        film_studio  \\\n",
       "2053  Художественный                         ООО Киностудия  \"Сентябрь\"   \n",
       "2058  Художественный  ООО \"Киностудия \"Слово\", ООО \"Арт Пикчерс Студия\"   \n",
       "2472  Художественный   ООО \"Форпост Продакшн\", ООО \"Арт Пикчерс Студия\"   \n",
       "2532  Художественный          АО \"ВайТ Медиа\", ООО \"Арт Пикчерс Студия\"   \n",
       "2615    Анимационный   ООО \"Глюкоза Продакшн\", ООО \"Арт Пикчерс Студия\"   \n",
       "2684  Художественный                      ООО \"Кинокомпания \"КОКТЕБЕЛЬ\"   \n",
       "2788  Художественный          АО \"ВайТ Медиа\", ООО \"Арт Пикчерс Студия\"   \n",
       "2874  Художественный                                    ООО \"КиноФирма\"   \n",
       "3047  Художественный          АО \"ВайТ Медиа\", ООО \"Арт Пикчерс Студия\"   \n",
       "3565  Художественный      ООО \"Водород 2011\",  ООО \"Арт Пикчерс Студия\"   \n",
       "3675    Анимационный                                    ООО \"КиноФирма\"   \n",
       "3739  Художественный           ООО \"ХАЙПФИЛМ\", ООО \"Арт Пикчерс Студия\"   \n",
       "5673  Художественный  ООО \"Киностудия \"Слово\", ООО \"Арт Пикчерс Студия\"   \n",
       "5806    Анимационный                          ООО \"ЛИЦЕНЗИОННЫЕ БРЕНДЫ\"   \n",
       "6008    Анимационный                          ООО \"ЛИЦЕНЗИОННЫЕ БРЕНДЫ\"   \n",
       "6323    Анимационный                           ООО \"Арт Пикчерс Студия\"   \n",
       "6823    Анимационный                          ООО \"ЛИЦЕНЗИОННЫЕ БРЕНДЫ\"   \n",
       "\n",
       "     production_country                        director  \\\n",
       "2053             Россия                        А.Зайцев   \n",
       "2058             Россия                      Р.Прыгунов   \n",
       "2472             Россия                     А.Андрианов   \n",
       "2532             Россия                    Д.Штурманова   \n",
       "2615             Россия                        М.Фадеев   \n",
       "2684             Россия                     М.Местецкий   \n",
       "2788             Россия                       С Чекалов   \n",
       "2874             Россия                     В.Ровенский   \n",
       "3047             Россия                         Д.Тюрин   \n",
       "3565             Россия                     Ф.Бондарчук   \n",
       "3675             Россия                       А.Лукичев   \n",
       "3739             Россия                    А.Молочников   \n",
       "5673             Россия                      Н.Хомерики   \n",
       "5806             Россия  В.Ровенский, Н.Лопато, В.Азеев   \n",
       "6008             Россия                      М.Нефедова   \n",
       "6323             Россия                         В.Саков   \n",
       "6823             Россия           Н.Лопато, В.Ровенский   \n",
       "\n",
       "                                               producer  \\\n",
       "2053                                О.Гранина, А.Зайцев   \n",
       "2058                 П.Ануров, Ф.Бондарчук, Д.Рудовский   \n",
       "2472                           ООО \"Арт Пикчерс Студия\"   \n",
       "2532                                        Т.Вайнштейн   \n",
       "2615                                         А.Чистяков   \n",
       "2684                              Р.Борисевич, А.Кушаев   \n",
       "2788              Ф.Бондарчук, Т.Вайнштейн, Д.Рудовский   \n",
       "2874                                    ООО \"КиноФирма\"   \n",
       "3047              Ф.Бондарчук, Т.Вайнштейн, Д.Рудовский   \n",
       "3565                           ООО \"Арт Пикчерс Студия\"   \n",
       "3675                                    ООО \"КиноФирма\"   \n",
       "3739  Ф.Бондарчук, Д.Рудовский, И.Стюарт, М.Османн, ...   \n",
       "5673                 П.Ануров, Ф.Бондарчук, Д.Рудовский   \n",
       "5806                          ООО \"ЛИЦЕНЗИОННЫЕ БРЕНДЫ\"   \n",
       "6008                          ООО \"ЛИЦЕНЗИОННЫЕ БРЕНДЫ\"   \n",
       "6323  ООО \"Арт Пикчерс Студия\", ООО \"КРИЭЙТИВ АНИМЭЙ...   \n",
       "6823                          ООО \"ЛИЦЕНЗИОННЫЕ БРЕНДЫ\"   \n",
       "\n",
       "                      age_restriction  refundable_support  \\\n",
       "2053  «16+» - для детей старше 16 лет                 0.0   \n",
       "2058  «16+» - для детей старше 16 лет                 0.0   \n",
       "2472  «12+» - для детей старше 12 лет          10000000.0   \n",
       "2532  «16+» - для детей старше 16 лет          20000000.0   \n",
       "2615    «6+» - для детей старше 6 лет          60000000.0   \n",
       "2684      «18+» - запрещено для детей                 0.0   \n",
       "2788  «16+» - для детей старше 16 лет                 0.0   \n",
       "2874  «12+» - для детей старше 12 лет                 0.0   \n",
       "3047  «16+» - для детей старше 16 лет          19000000.0   \n",
       "3565  «12+» - для детей старше 12 лет                 0.0   \n",
       "3675    «6+» - для детей старше 6 лет          20000000.0   \n",
       "3739  «16+» - для детей старше 16 лет          25000000.0   \n",
       "5673  «16+» - для детей старше 16 лет          20000000.0   \n",
       "5806    «6+» - для детей старше 6 лет          10000000.0   \n",
       "6008    «6+» - для детей старше 6 лет          40000000.0   \n",
       "6323    «6+» - для детей старше 6 лет                 0.0   \n",
       "6823    «6+» - для детей старше 6 лет          60000000.0   \n",
       "\n",
       "      nonrefundable_support  budget                  financing_source  \\\n",
       "2053             23000000.0     0.0  Министерство культуры, Фонд кино   \n",
       "2058             75000000.0     0.0                         Фонд кино   \n",
       "2472             70000000.0     0.0                         Фонд кино   \n",
       "2532                    0.0     0.0                         Фонд кино   \n",
       "2615            100000000.0     0.0                         Фонд кино   \n",
       "2684             59000000.0     0.0                         Фонд кино   \n",
       "2788             35000000.0     0.0                         Фонд кино   \n",
       "2874              6000000.0     0.0             Министерство культуры   \n",
       "3047             51000000.0     0.0                         Фонд кино   \n",
       "3565            250000000.0     0.0                         Фонд кино   \n",
       "3675             20000000.0     0.0                         Фонд кино   \n",
       "3739             20000000.0     0.0                         Фонд кино   \n",
       "5673             40000000.0     0.0                         Фонд кино   \n",
       "5806             60000000.0     0.0                         Фонд кино   \n",
       "6008             40000000.0     0.0                         Фонд кино   \n",
       "6323            138969465.0     0.0                         Фонд кино   \n",
       "6823            120000000.0     0.0                         Фонд кино   \n",
       "\n",
       "      ratings                          genres    box_office  \n",
       "2053      6.6                       мелодрама  1.023402e+07  \n",
       "2058      6.6                           драма  4.461635e+08  \n",
       "2472      7.8           боевик,драма,криминал  1.965724e+08  \n",
       "2532      6.2                 комедия,фэнтези  6.741897e+07  \n",
       "2615      4.6  мультфильм,приключения,фэнтези  1.844876e+08  \n",
       "2684      6.3                   комедия,драма  1.957739e+06  \n",
       "2788      5.1               комедия,мелодрама  7.293778e+07  \n",
       "2874      4.3                         комедия  1.536293e+07  \n",
       "3047      6.3               комедия,мелодрама  7.029905e+07  \n",
       "3565      5.6                      фантастика  1.038321e+09  \n",
       "3675      5.2     мультфильм,фэнтези,семейный  5.510801e+07  \n",
       "3739      4.8                         комедия  5.045195e+07  \n",
       "5673      5.8                   триллер,драма  2.251964e+08  \n",
       "5806      5.0              мультфильм,детский  1.065143e+08  \n",
       "6008      5.2      мультфильм,фэнтези,детский  8.336633e+07  \n",
       "6323      NaN                             NaN  1.334699e+06  \n",
       "6823      6.2  мультфильм,комедия,приключения  1.476068e+08  "
      ]
     },
     "execution_count": 25,
     "metadata": {},
     "output_type": "execute_result"
    }
   ],
   "source": [
    "# выведем строки, где сумма поддержки больше бюджета\n",
    "data.loc[(data['refundable_support'] + data['nonrefundable_support']) > data['budget']] "
   ]
  },
  {
   "cell_type": "code",
   "execution_count": 26,
   "metadata": {},
   "outputs": [
    {
     "data": {
      "text/html": [
       "<div>\n",
       "<style scoped>\n",
       "    .dataframe tbody tr th:only-of-type {\n",
       "        vertical-align: middle;\n",
       "    }\n",
       "\n",
       "    .dataframe tbody tr th {\n",
       "        vertical-align: top;\n",
       "    }\n",
       "\n",
       "    .dataframe thead th {\n",
       "        text-align: right;\n",
       "    }\n",
       "</style>\n",
       "<table border=\"1\" class=\"dataframe\">\n",
       "  <thead>\n",
       "    <tr style=\"text-align: right;\">\n",
       "      <th></th>\n",
       "      <th>title</th>\n",
       "      <th>puNumber</th>\n",
       "      <th>show_start_date</th>\n",
       "      <th>type</th>\n",
       "      <th>film_studio</th>\n",
       "      <th>production_country</th>\n",
       "      <th>director</th>\n",
       "      <th>producer</th>\n",
       "      <th>age_restriction</th>\n",
       "      <th>refundable_support</th>\n",
       "      <th>nonrefundable_support</th>\n",
       "      <th>budget</th>\n",
       "      <th>financing_source</th>\n",
       "      <th>ratings</th>\n",
       "      <th>genres</th>\n",
       "      <th>box_office</th>\n",
       "      <th>budget_right</th>\n",
       "    </tr>\n",
       "  </thead>\n",
       "  <tbody>\n",
       "    <tr>\n",
       "      <th>0</th>\n",
       "      <td>Открытый простор</td>\n",
       "      <td>221048915</td>\n",
       "      <td>2015-11-27 12:00:00+00:00</td>\n",
       "      <td>Художественный</td>\n",
       "      <td>Тачстоун Пикчерз, Кобальт Пикчерз, Бикон Пикче...</td>\n",
       "      <td>США</td>\n",
       "      <td>Кевин Костнер</td>\n",
       "      <td>Дэвид Валдес, Кевин Костнер, Джейк Эбертс</td>\n",
       "      <td>«18+» - запрещено для детей</td>\n",
       "      <td>NaN</td>\n",
       "      <td>NaN</td>\n",
       "      <td>NaN</td>\n",
       "      <td>NaN</td>\n",
       "      <td>7.2</td>\n",
       "      <td>боевик,драма,мелодрама</td>\n",
       "      <td>NaN</td>\n",
       "      <td>NaN</td>\n",
       "    </tr>\n",
       "    <tr>\n",
       "      <th>1</th>\n",
       "      <td>Особо важное задание</td>\n",
       "      <td>111013716</td>\n",
       "      <td>2016-09-13 12:00:00+00:00</td>\n",
       "      <td>Художественный</td>\n",
       "      <td>Киностудия \"Мосфильм\"</td>\n",
       "      <td>СССР</td>\n",
       "      <td>Е.Матвеев</td>\n",
       "      <td>NaN</td>\n",
       "      <td>«6+» - для детей старше 6 лет</td>\n",
       "      <td>NaN</td>\n",
       "      <td>NaN</td>\n",
       "      <td>NaN</td>\n",
       "      <td>NaN</td>\n",
       "      <td>6.6</td>\n",
       "      <td>драма,военный</td>\n",
       "      <td>NaN</td>\n",
       "      <td>NaN</td>\n",
       "    </tr>\n",
       "    <tr>\n",
       "      <th>2</th>\n",
       "      <td>Особо опасен</td>\n",
       "      <td>221038416</td>\n",
       "      <td>2016-10-10 12:00:00+00:00</td>\n",
       "      <td>Художественный</td>\n",
       "      <td>Юниверсал Пикчерз, Кикстарт Продакшнз, Марк Пл...</td>\n",
       "      <td>США</td>\n",
       "      <td>Тимур Бекмамбетов</td>\n",
       "      <td>Джим Лемли, Джейсон Нетер, Марк Е.Платт, Яйн Смит</td>\n",
       "      <td>«18+» - запрещено для детей</td>\n",
       "      <td>NaN</td>\n",
       "      <td>NaN</td>\n",
       "      <td>NaN</td>\n",
       "      <td>NaN</td>\n",
       "      <td>6.8</td>\n",
       "      <td>фантастика,боевик,триллер</td>\n",
       "      <td>NaN</td>\n",
       "      <td>NaN</td>\n",
       "    </tr>\n",
       "    <tr>\n",
       "      <th>3</th>\n",
       "      <td>Особо опасен</td>\n",
       "      <td>221026916</td>\n",
       "      <td>2016-06-10 12:00:00+00:00</td>\n",
       "      <td>Художественный</td>\n",
       "      <td>Юниверсал Пикчерз, Кикстарт Продакшнз, Марк Пл...</td>\n",
       "      <td>США</td>\n",
       "      <td>Тимур Бекмамбетов</td>\n",
       "      <td>Джим Лемли, Джейсон Нетер, Марк Е.Платт, Яйн Смит</td>\n",
       "      <td>«18+» - запрещено для детей</td>\n",
       "      <td>NaN</td>\n",
       "      <td>NaN</td>\n",
       "      <td>NaN</td>\n",
       "      <td>NaN</td>\n",
       "      <td>6.8</td>\n",
       "      <td>фантастика,боевик,триллер</td>\n",
       "      <td>NaN</td>\n",
       "      <td>NaN</td>\n",
       "    </tr>\n",
       "    <tr>\n",
       "      <th>4</th>\n",
       "      <td>Особо опасен</td>\n",
       "      <td>221030815</td>\n",
       "      <td>2015-07-29 12:00:00+00:00</td>\n",
       "      <td>Художественный</td>\n",
       "      <td>Юниверсал Пикчерз, Кикстарт Продакшнз, Марк Пл...</td>\n",
       "      <td>США</td>\n",
       "      <td>Тимур Бекмамбетов</td>\n",
       "      <td>Джим Лемли, Джейсон Нетер, Марк Е.Платт, Яйн Смит</td>\n",
       "      <td>«18+» - запрещено для детей</td>\n",
       "      <td>NaN</td>\n",
       "      <td>NaN</td>\n",
       "      <td>NaN</td>\n",
       "      <td>NaN</td>\n",
       "      <td>6.8</td>\n",
       "      <td>фантастика,боевик,триллер</td>\n",
       "      <td>NaN</td>\n",
       "      <td>NaN</td>\n",
       "    </tr>\n",
       "  </tbody>\n",
       "</table>\n",
       "</div>"
      ],
      "text/plain": [
       "                  title   puNumber           show_start_date            type  \\\n",
       "0      Открытый простор  221048915 2015-11-27 12:00:00+00:00  Художественный   \n",
       "1  Особо важное задание  111013716 2016-09-13 12:00:00+00:00  Художественный   \n",
       "2          Особо опасен  221038416 2016-10-10 12:00:00+00:00  Художественный   \n",
       "3          Особо опасен  221026916 2016-06-10 12:00:00+00:00  Художественный   \n",
       "4          Особо опасен  221030815 2015-07-29 12:00:00+00:00  Художественный   \n",
       "\n",
       "                                         film_studio production_country  \\\n",
       "0  Тачстоун Пикчерз, Кобальт Пикчерз, Бикон Пикче...                США   \n",
       "1                              Киностудия \"Мосфильм\"               СССР   \n",
       "2  Юниверсал Пикчерз, Кикстарт Продакшнз, Марк Пл...                США   \n",
       "3  Юниверсал Пикчерз, Кикстарт Продакшнз, Марк Пл...                США   \n",
       "4  Юниверсал Пикчерз, Кикстарт Продакшнз, Марк Пл...                США   \n",
       "\n",
       "            director                                           producer  \\\n",
       "0      Кевин Костнер          Дэвид Валдес, Кевин Костнер, Джейк Эбертс   \n",
       "1          Е.Матвеев                                                NaN   \n",
       "2  Тимур Бекмамбетов  Джим Лемли, Джейсон Нетер, Марк Е.Платт, Яйн Смит   \n",
       "3  Тимур Бекмамбетов  Джим Лемли, Джейсон Нетер, Марк Е.Платт, Яйн Смит   \n",
       "4  Тимур Бекмамбетов  Джим Лемли, Джейсон Нетер, Марк Е.Платт, Яйн Смит   \n",
       "\n",
       "                 age_restriction  refundable_support  nonrefundable_support  \\\n",
       "0    «18+» - запрещено для детей                 NaN                    NaN   \n",
       "1  «6+» - для детей старше 6 лет                 NaN                    NaN   \n",
       "2    «18+» - запрещено для детей                 NaN                    NaN   \n",
       "3    «18+» - запрещено для детей                 NaN                    NaN   \n",
       "4    «18+» - запрещено для детей                 NaN                    NaN   \n",
       "\n",
       "   budget financing_source  ratings                     genres  box_office  \\\n",
       "0     NaN              NaN      7.2     боевик,драма,мелодрама         NaN   \n",
       "1     NaN              NaN      6.6              драма,военный         NaN   \n",
       "2     NaN              NaN      6.8  фантастика,боевик,триллер         NaN   \n",
       "3     NaN              NaN      6.8  фантастика,боевик,триллер         NaN   \n",
       "4     NaN              NaN      6.8  фантастика,боевик,триллер         NaN   \n",
       "\n",
       "   budget_right  \n",
       "0           NaN  \n",
       "1           NaN  \n",
       "2           NaN  \n",
       "3           NaN  \n",
       "4           NaN  "
      ]
     },
     "metadata": {},
     "output_type": "display_data"
    },
    {
     "data": {
      "text/html": [
       "<div>\n",
       "<style scoped>\n",
       "    .dataframe tbody tr th:only-of-type {\n",
       "        vertical-align: middle;\n",
       "    }\n",
       "\n",
       "    .dataframe tbody tr th {\n",
       "        vertical-align: top;\n",
       "    }\n",
       "\n",
       "    .dataframe thead th {\n",
       "        text-align: right;\n",
       "    }\n",
       "</style>\n",
       "<table border=\"1\" class=\"dataframe\">\n",
       "  <thead>\n",
       "    <tr style=\"text-align: right;\">\n",
       "      <th></th>\n",
       "      <th>refundable_support</th>\n",
       "      <th>nonrefundable_support</th>\n",
       "      <th>budget</th>\n",
       "      <th>box_office</th>\n",
       "      <th>ratings</th>\n",
       "      <th>budget_right</th>\n",
       "    </tr>\n",
       "  </thead>\n",
       "  <tbody>\n",
       "    <tr>\n",
       "      <th>count</th>\n",
       "      <td>3.320000e+02</td>\n",
       "      <td>3.320000e+02</td>\n",
       "      <td>3.320000e+02</td>\n",
       "      <td>3.158000e+03</td>\n",
       "      <td>6490.000000</td>\n",
       "      <td>3.320000e+02</td>\n",
       "    </tr>\n",
       "    <tr>\n",
       "      <th>mean</th>\n",
       "      <td>1.186446e+07</td>\n",
       "      <td>4.898099e+07</td>\n",
       "      <td>1.272297e+08</td>\n",
       "      <td>7.647870e+07</td>\n",
       "      <td>6.479245</td>\n",
       "      <td>1.314224e+08</td>\n",
       "    </tr>\n",
       "    <tr>\n",
       "      <th>std</th>\n",
       "      <td>2.491656e+07</td>\n",
       "      <td>5.998012e+07</td>\n",
       "      <td>1.885883e+08</td>\n",
       "      <td>2.403531e+08</td>\n",
       "      <td>1.101665</td>\n",
       "      <td>1.871482e+08</td>\n",
       "    </tr>\n",
       "    <tr>\n",
       "      <th>min</th>\n",
       "      <td>0.000000e+00</td>\n",
       "      <td>0.000000e+00</td>\n",
       "      <td>0.000000e+00</td>\n",
       "      <td>0.000000e+00</td>\n",
       "      <td>1.000000</td>\n",
       "      <td>6.000000e+06</td>\n",
       "    </tr>\n",
       "    <tr>\n",
       "      <th>25%</th>\n",
       "      <td>0.000000e+00</td>\n",
       "      <td>2.500000e+07</td>\n",
       "      <td>4.200000e+07</td>\n",
       "      <td>8.623900e+04</td>\n",
       "      <td>5.900000</td>\n",
       "      <td>4.552480e+07</td>\n",
       "    </tr>\n",
       "    <tr>\n",
       "      <th>50%</th>\n",
       "      <td>0.000000e+00</td>\n",
       "      <td>3.000000e+07</td>\n",
       "      <td>6.864992e+07</td>\n",
       "      <td>2.327988e+06</td>\n",
       "      <td>6.600000</td>\n",
       "      <td>7.119690e+07</td>\n",
       "    </tr>\n",
       "    <tr>\n",
       "      <th>75%</th>\n",
       "      <td>1.500000e+07</td>\n",
       "      <td>4.037500e+07</td>\n",
       "      <td>1.419853e+08</td>\n",
       "      <td>2.397967e+07</td>\n",
       "      <td>7.200000</td>\n",
       "      <td>1.500000e+08</td>\n",
       "    </tr>\n",
       "    <tr>\n",
       "      <th>max</th>\n",
       "      <td>1.800000e+08</td>\n",
       "      <td>4.000000e+08</td>\n",
       "      <td>2.305074e+09</td>\n",
       "      <td>3.073569e+09</td>\n",
       "      <td>9.200000</td>\n",
       "      <td>2.305074e+09</td>\n",
       "    </tr>\n",
       "  </tbody>\n",
       "</table>\n",
       "</div>"
      ],
      "text/plain": [
       "       refundable_support  nonrefundable_support        budget    box_office  \\\n",
       "count        3.320000e+02           3.320000e+02  3.320000e+02  3.158000e+03   \n",
       "mean         1.186446e+07           4.898099e+07  1.272297e+08  7.647870e+07   \n",
       "std          2.491656e+07           5.998012e+07  1.885883e+08  2.403531e+08   \n",
       "min          0.000000e+00           0.000000e+00  0.000000e+00  0.000000e+00   \n",
       "25%          0.000000e+00           2.500000e+07  4.200000e+07  8.623900e+04   \n",
       "50%          0.000000e+00           3.000000e+07  6.864992e+07  2.327988e+06   \n",
       "75%          1.500000e+07           4.037500e+07  1.419853e+08  2.397967e+07   \n",
       "max          1.800000e+08           4.000000e+08  2.305074e+09  3.073569e+09   \n",
       "\n",
       "           ratings  budget_right  \n",
       "count  6490.000000  3.320000e+02  \n",
       "mean      6.479245  1.314224e+08  \n",
       "std       1.101665  1.871482e+08  \n",
       "min       1.000000  6.000000e+06  \n",
       "25%       5.900000  4.552480e+07  \n",
       "50%       6.600000  7.119690e+07  \n",
       "75%       7.200000  1.500000e+08  \n",
       "max       9.200000  2.305074e+09  "
      ]
     },
     "metadata": {},
     "output_type": "display_data"
    },
    {
     "data": {
      "text/html": [
       "<div>\n",
       "<style scoped>\n",
       "    .dataframe tbody tr th:only-of-type {\n",
       "        vertical-align: middle;\n",
       "    }\n",
       "\n",
       "    .dataframe tbody tr th {\n",
       "        vertical-align: top;\n",
       "    }\n",
       "\n",
       "    .dataframe thead th {\n",
       "        text-align: right;\n",
       "    }\n",
       "</style>\n",
       "<table border=\"1\" class=\"dataframe\">\n",
       "  <thead>\n",
       "    <tr style=\"text-align: right;\">\n",
       "      <th></th>\n",
       "      <th>title</th>\n",
       "      <th>puNumber</th>\n",
       "      <th>show_start_date</th>\n",
       "      <th>type</th>\n",
       "      <th>film_studio</th>\n",
       "      <th>production_country</th>\n",
       "      <th>director</th>\n",
       "      <th>producer</th>\n",
       "      <th>age_restriction</th>\n",
       "      <th>refundable_support</th>\n",
       "      <th>nonrefundable_support</th>\n",
       "      <th>budget</th>\n",
       "      <th>financing_source</th>\n",
       "      <th>ratings</th>\n",
       "      <th>genres</th>\n",
       "      <th>box_office</th>\n",
       "      <th>budget_right</th>\n",
       "    </tr>\n",
       "  </thead>\n",
       "  <tbody>\n",
       "    <tr>\n",
       "      <th>0</th>\n",
       "      <td>Открытый простор</td>\n",
       "      <td>221048915</td>\n",
       "      <td>2015-11-27 12:00:00+00:00</td>\n",
       "      <td>Художественный</td>\n",
       "      <td>Тачстоун Пикчерз, Кобальт Пикчерз, Бикон Пикче...</td>\n",
       "      <td>США</td>\n",
       "      <td>Кевин Костнер</td>\n",
       "      <td>Дэвид Валдес, Кевин Костнер, Джейк Эбертс</td>\n",
       "      <td>«18+» - запрещено для детей</td>\n",
       "      <td>NaN</td>\n",
       "      <td>NaN</td>\n",
       "      <td>NaN</td>\n",
       "      <td>NaN</td>\n",
       "      <td>7.2</td>\n",
       "      <td>боевик,драма,мелодрама</td>\n",
       "      <td>NaN</td>\n",
       "      <td>NaN</td>\n",
       "    </tr>\n",
       "    <tr>\n",
       "      <th>1</th>\n",
       "      <td>Особо важное задание</td>\n",
       "      <td>111013716</td>\n",
       "      <td>2016-09-13 12:00:00+00:00</td>\n",
       "      <td>Художественный</td>\n",
       "      <td>Киностудия \"Мосфильм\"</td>\n",
       "      <td>СССР</td>\n",
       "      <td>Е.Матвеев</td>\n",
       "      <td>NaN</td>\n",
       "      <td>«6+» - для детей старше 6 лет</td>\n",
       "      <td>NaN</td>\n",
       "      <td>NaN</td>\n",
       "      <td>NaN</td>\n",
       "      <td>NaN</td>\n",
       "      <td>6.6</td>\n",
       "      <td>драма,военный</td>\n",
       "      <td>NaN</td>\n",
       "      <td>NaN</td>\n",
       "    </tr>\n",
       "    <tr>\n",
       "      <th>2</th>\n",
       "      <td>Особо опасен</td>\n",
       "      <td>221038416</td>\n",
       "      <td>2016-10-10 12:00:00+00:00</td>\n",
       "      <td>Художественный</td>\n",
       "      <td>Юниверсал Пикчерз, Кикстарт Продакшнз, Марк Пл...</td>\n",
       "      <td>США</td>\n",
       "      <td>Тимур Бекмамбетов</td>\n",
       "      <td>Джим Лемли, Джейсон Нетер, Марк Е.Платт, Яйн Смит</td>\n",
       "      <td>«18+» - запрещено для детей</td>\n",
       "      <td>NaN</td>\n",
       "      <td>NaN</td>\n",
       "      <td>NaN</td>\n",
       "      <td>NaN</td>\n",
       "      <td>6.8</td>\n",
       "      <td>фантастика,боевик,триллер</td>\n",
       "      <td>NaN</td>\n",
       "      <td>NaN</td>\n",
       "    </tr>\n",
       "    <tr>\n",
       "      <th>3</th>\n",
       "      <td>Особо опасен</td>\n",
       "      <td>221026916</td>\n",
       "      <td>2016-06-10 12:00:00+00:00</td>\n",
       "      <td>Художественный</td>\n",
       "      <td>Юниверсал Пикчерз, Кикстарт Продакшнз, Марк Пл...</td>\n",
       "      <td>США</td>\n",
       "      <td>Тимур Бекмамбетов</td>\n",
       "      <td>Джим Лемли, Джейсон Нетер, Марк Е.Платт, Яйн Смит</td>\n",
       "      <td>«18+» - запрещено для детей</td>\n",
       "      <td>NaN</td>\n",
       "      <td>NaN</td>\n",
       "      <td>NaN</td>\n",
       "      <td>NaN</td>\n",
       "      <td>6.8</td>\n",
       "      <td>фантастика,боевик,триллер</td>\n",
       "      <td>NaN</td>\n",
       "      <td>NaN</td>\n",
       "    </tr>\n",
       "    <tr>\n",
       "      <th>4</th>\n",
       "      <td>Особо опасен</td>\n",
       "      <td>221030815</td>\n",
       "      <td>2015-07-29 12:00:00+00:00</td>\n",
       "      <td>Художественный</td>\n",
       "      <td>Юниверсал Пикчерз, Кикстарт Продакшнз, Марк Пл...</td>\n",
       "      <td>США</td>\n",
       "      <td>Тимур Бекмамбетов</td>\n",
       "      <td>Джим Лемли, Джейсон Нетер, Марк Е.Платт, Яйн Смит</td>\n",
       "      <td>«18+» - запрещено для детей</td>\n",
       "      <td>NaN</td>\n",
       "      <td>NaN</td>\n",
       "      <td>NaN</td>\n",
       "      <td>NaN</td>\n",
       "      <td>6.8</td>\n",
       "      <td>фантастика,боевик,триллер</td>\n",
       "      <td>NaN</td>\n",
       "      <td>NaN</td>\n",
       "    </tr>\n",
       "  </tbody>\n",
       "</table>\n",
       "</div>"
      ],
      "text/plain": [
       "                  title   puNumber           show_start_date            type  \\\n",
       "0      Открытый простор  221048915 2015-11-27 12:00:00+00:00  Художественный   \n",
       "1  Особо важное задание  111013716 2016-09-13 12:00:00+00:00  Художественный   \n",
       "2          Особо опасен  221038416 2016-10-10 12:00:00+00:00  Художественный   \n",
       "3          Особо опасен  221026916 2016-06-10 12:00:00+00:00  Художественный   \n",
       "4          Особо опасен  221030815 2015-07-29 12:00:00+00:00  Художественный   \n",
       "\n",
       "                                         film_studio production_country  \\\n",
       "0  Тачстоун Пикчерз, Кобальт Пикчерз, Бикон Пикче...                США   \n",
       "1                              Киностудия \"Мосфильм\"               СССР   \n",
       "2  Юниверсал Пикчерз, Кикстарт Продакшнз, Марк Пл...                США   \n",
       "3  Юниверсал Пикчерз, Кикстарт Продакшнз, Марк Пл...                США   \n",
       "4  Юниверсал Пикчерз, Кикстарт Продакшнз, Марк Пл...                США   \n",
       "\n",
       "            director                                           producer  \\\n",
       "0      Кевин Костнер          Дэвид Валдес, Кевин Костнер, Джейк Эбертс   \n",
       "1          Е.Матвеев                                                NaN   \n",
       "2  Тимур Бекмамбетов  Джим Лемли, Джейсон Нетер, Марк Е.Платт, Яйн Смит   \n",
       "3  Тимур Бекмамбетов  Джим Лемли, Джейсон Нетер, Марк Е.Платт, Яйн Смит   \n",
       "4  Тимур Бекмамбетов  Джим Лемли, Джейсон Нетер, Марк Е.Платт, Яйн Смит   \n",
       "\n",
       "                 age_restriction  refundable_support  nonrefundable_support  \\\n",
       "0    «18+» - запрещено для детей                 NaN                    NaN   \n",
       "1  «6+» - для детей старше 6 лет                 NaN                    NaN   \n",
       "2    «18+» - запрещено для детей                 NaN                    NaN   \n",
       "3    «18+» - запрещено для детей                 NaN                    NaN   \n",
       "4    «18+» - запрещено для детей                 NaN                    NaN   \n",
       "\n",
       "   budget financing_source  ratings                     genres  box_office  \\\n",
       "0     NaN              NaN      7.2     боевик,драма,мелодрама         NaN   \n",
       "1     NaN              NaN      6.6              драма,военный         NaN   \n",
       "2     NaN              NaN      6.8  фантастика,боевик,триллер         NaN   \n",
       "3     NaN              NaN      6.8  фантастика,боевик,триллер         NaN   \n",
       "4     NaN              NaN      6.8  фантастика,боевик,триллер         NaN   \n",
       "\n",
       "   budget_right  \n",
       "0           NaN  \n",
       "1           NaN  \n",
       "2           NaN  \n",
       "3           NaN  \n",
       "4           NaN  "
      ]
     },
     "metadata": {},
     "output_type": "display_data"
    },
    {
     "data": {
      "text/html": [
       "<div>\n",
       "<style scoped>\n",
       "    .dataframe tbody tr th:only-of-type {\n",
       "        vertical-align: middle;\n",
       "    }\n",
       "\n",
       "    .dataframe tbody tr th {\n",
       "        vertical-align: top;\n",
       "    }\n",
       "\n",
       "    .dataframe thead th {\n",
       "        text-align: right;\n",
       "    }\n",
       "</style>\n",
       "<table border=\"1\" class=\"dataframe\">\n",
       "  <thead>\n",
       "    <tr style=\"text-align: right;\">\n",
       "      <th></th>\n",
       "      <th>title</th>\n",
       "      <th>puNumber</th>\n",
       "      <th>show_start_date</th>\n",
       "      <th>type</th>\n",
       "      <th>film_studio</th>\n",
       "      <th>production_country</th>\n",
       "      <th>director</th>\n",
       "      <th>producer</th>\n",
       "      <th>age_restriction</th>\n",
       "      <th>refundable_support</th>\n",
       "      <th>nonrefundable_support</th>\n",
       "      <th>budget</th>\n",
       "      <th>financing_source</th>\n",
       "      <th>ratings</th>\n",
       "      <th>genres</th>\n",
       "      <th>box_office</th>\n",
       "    </tr>\n",
       "  </thead>\n",
       "  <tbody>\n",
       "    <tr>\n",
       "      <th>0</th>\n",
       "      <td>Открытый простор</td>\n",
       "      <td>221048915</td>\n",
       "      <td>2015-11-27 12:00:00+00:00</td>\n",
       "      <td>Художественный</td>\n",
       "      <td>Тачстоун Пикчерз, Кобальт Пикчерз, Бикон Пикче...</td>\n",
       "      <td>США</td>\n",
       "      <td>Кевин Костнер</td>\n",
       "      <td>Дэвид Валдес, Кевин Костнер, Джейк Эбертс</td>\n",
       "      <td>«18+» - запрещено для детей</td>\n",
       "      <td>NaN</td>\n",
       "      <td>NaN</td>\n",
       "      <td>NaN</td>\n",
       "      <td>NaN</td>\n",
       "      <td>7.2</td>\n",
       "      <td>боевик,драма,мелодрама</td>\n",
       "      <td>NaN</td>\n",
       "    </tr>\n",
       "    <tr>\n",
       "      <th>1</th>\n",
       "      <td>Особо важное задание</td>\n",
       "      <td>111013716</td>\n",
       "      <td>2016-09-13 12:00:00+00:00</td>\n",
       "      <td>Художественный</td>\n",
       "      <td>Киностудия \"Мосфильм\"</td>\n",
       "      <td>СССР</td>\n",
       "      <td>Е.Матвеев</td>\n",
       "      <td>NaN</td>\n",
       "      <td>«6+» - для детей старше 6 лет</td>\n",
       "      <td>NaN</td>\n",
       "      <td>NaN</td>\n",
       "      <td>NaN</td>\n",
       "      <td>NaN</td>\n",
       "      <td>6.6</td>\n",
       "      <td>драма,военный</td>\n",
       "      <td>NaN</td>\n",
       "    </tr>\n",
       "    <tr>\n",
       "      <th>2</th>\n",
       "      <td>Особо опасен</td>\n",
       "      <td>221038416</td>\n",
       "      <td>2016-10-10 12:00:00+00:00</td>\n",
       "      <td>Художественный</td>\n",
       "      <td>Юниверсал Пикчерз, Кикстарт Продакшнз, Марк Пл...</td>\n",
       "      <td>США</td>\n",
       "      <td>Тимур Бекмамбетов</td>\n",
       "      <td>Джим Лемли, Джейсон Нетер, Марк Е.Платт, Яйн Смит</td>\n",
       "      <td>«18+» - запрещено для детей</td>\n",
       "      <td>NaN</td>\n",
       "      <td>NaN</td>\n",
       "      <td>NaN</td>\n",
       "      <td>NaN</td>\n",
       "      <td>6.8</td>\n",
       "      <td>фантастика,боевик,триллер</td>\n",
       "      <td>NaN</td>\n",
       "    </tr>\n",
       "    <tr>\n",
       "      <th>3</th>\n",
       "      <td>Особо опасен</td>\n",
       "      <td>221026916</td>\n",
       "      <td>2016-06-10 12:00:00+00:00</td>\n",
       "      <td>Художественный</td>\n",
       "      <td>Юниверсал Пикчерз, Кикстарт Продакшнз, Марк Пл...</td>\n",
       "      <td>США</td>\n",
       "      <td>Тимур Бекмамбетов</td>\n",
       "      <td>Джим Лемли, Джейсон Нетер, Марк Е.Платт, Яйн Смит</td>\n",
       "      <td>«18+» - запрещено для детей</td>\n",
       "      <td>NaN</td>\n",
       "      <td>NaN</td>\n",
       "      <td>NaN</td>\n",
       "      <td>NaN</td>\n",
       "      <td>6.8</td>\n",
       "      <td>фантастика,боевик,триллер</td>\n",
       "      <td>NaN</td>\n",
       "    </tr>\n",
       "    <tr>\n",
       "      <th>4</th>\n",
       "      <td>Особо опасен</td>\n",
       "      <td>221030815</td>\n",
       "      <td>2015-07-29 12:00:00+00:00</td>\n",
       "      <td>Художественный</td>\n",
       "      <td>Юниверсал Пикчерз, Кикстарт Продакшнз, Марк Пл...</td>\n",
       "      <td>США</td>\n",
       "      <td>Тимур Бекмамбетов</td>\n",
       "      <td>Джим Лемли, Джейсон Нетер, Марк Е.Платт, Яйн Смит</td>\n",
       "      <td>«18+» - запрещено для детей</td>\n",
       "      <td>NaN</td>\n",
       "      <td>NaN</td>\n",
       "      <td>NaN</td>\n",
       "      <td>NaN</td>\n",
       "      <td>6.8</td>\n",
       "      <td>фантастика,боевик,триллер</td>\n",
       "      <td>NaN</td>\n",
       "    </tr>\n",
       "  </tbody>\n",
       "</table>\n",
       "</div>"
      ],
      "text/plain": [
       "                  title   puNumber           show_start_date            type  \\\n",
       "0      Открытый простор  221048915 2015-11-27 12:00:00+00:00  Художественный   \n",
       "1  Особо важное задание  111013716 2016-09-13 12:00:00+00:00  Художественный   \n",
       "2          Особо опасен  221038416 2016-10-10 12:00:00+00:00  Художественный   \n",
       "3          Особо опасен  221026916 2016-06-10 12:00:00+00:00  Художественный   \n",
       "4          Особо опасен  221030815 2015-07-29 12:00:00+00:00  Художественный   \n",
       "\n",
       "                                         film_studio production_country  \\\n",
       "0  Тачстоун Пикчерз, Кобальт Пикчерз, Бикон Пикче...                США   \n",
       "1                              Киностудия \"Мосфильм\"               СССР   \n",
       "2  Юниверсал Пикчерз, Кикстарт Продакшнз, Марк Пл...                США   \n",
       "3  Юниверсал Пикчерз, Кикстарт Продакшнз, Марк Пл...                США   \n",
       "4  Юниверсал Пикчерз, Кикстарт Продакшнз, Марк Пл...                США   \n",
       "\n",
       "            director                                           producer  \\\n",
       "0      Кевин Костнер          Дэвид Валдес, Кевин Костнер, Джейк Эбертс   \n",
       "1          Е.Матвеев                                                NaN   \n",
       "2  Тимур Бекмамбетов  Джим Лемли, Джейсон Нетер, Марк Е.Платт, Яйн Смит   \n",
       "3  Тимур Бекмамбетов  Джим Лемли, Джейсон Нетер, Марк Е.Платт, Яйн Смит   \n",
       "4  Тимур Бекмамбетов  Джим Лемли, Джейсон Нетер, Марк Е.Платт, Яйн Смит   \n",
       "\n",
       "                 age_restriction  refundable_support  nonrefundable_support  \\\n",
       "0    «18+» - запрещено для детей                 NaN                    NaN   \n",
       "1  «6+» - для детей старше 6 лет                 NaN                    NaN   \n",
       "2    «18+» - запрещено для детей                 NaN                    NaN   \n",
       "3    «18+» - запрещено для детей                 NaN                    NaN   \n",
       "4    «18+» - запрещено для детей                 NaN                    NaN   \n",
       "\n",
       "   budget financing_source  ratings                     genres  box_office  \n",
       "0     NaN              NaN      7.2     боевик,драма,мелодрама         NaN  \n",
       "1     NaN              NaN      6.6              драма,военный         NaN  \n",
       "2     NaN              NaN      6.8  фантастика,боевик,триллер         NaN  \n",
       "3     NaN              NaN      6.8  фантастика,боевик,триллер         NaN  \n",
       "4     NaN              NaN      6.8  фантастика,боевик,триллер         NaN  "
      ]
     },
     "metadata": {},
     "output_type": "display_data"
    },
    {
     "data": {
      "text/plain": [
       "0"
      ]
     },
     "execution_count": 26,
     "metadata": {},
     "output_type": "execute_result"
    }
   ],
   "source": [
    "# запишем функцию, которая возращает ненулевые значения поддержки при нулевом бюджете в новый правильный столбец значений бюджета\n",
    "def new_budget(row):\n",
    "    if row['budget'] < (row['refundable_support'] + row['nonrefundable_support']):\n",
    "        return row['refundable_support'] + row['nonrefundable_support']\n",
    "    return row['budget']\n",
    "data['budget_right'] = data.apply(new_budget, axis=1)\n",
    "display(data.head()) # выведем первые строки таблицы\n",
    "coll = ['refundable_support', 'nonrefundable_support', 'budget', 'box_office', 'ratings', 'budget_right']\n",
    "display(data[coll].describe()) # выведем числовые характеристики количественных значений\n",
    "data['budget'] = data['budget_right'] # заменим значения в столбце budget на budget_right\n",
    "display(data.head()) # выведем первые строки таблицы\n",
    "del data['budget_right'] # удалим столбец budget_right\n",
    "display(data.head()) # выведем первые строки таблицы\n",
    "# посчитаем количество строк, где поддержка больше бюджета фильма\n",
    "len(data.loc[(data['refundable_support'] + data['nonrefundable_support']) > data['budget']]) "
   ]
  },
  {
   "cell_type": "markdown",
   "metadata": {},
   "source": [
    "**Вывод:** \n",
    "* в данных имелись строки, где поддержка была больше, чем бюджет фильма. С целью корректировки данных, была написана функция, которая возращает ненулевые значения поддержки при нулевом бюджете в новый правильный столбец значений бюджета."
   ]
  },
  {
   "cell_type": "markdown",
   "metadata": {
    "id": "Eu6oWp2CgFyS"
   },
   "source": [
    "#### Шаг 2.6. Добавьте новые столбцы\n",
    "\n",
    "\n",
    "\n"
   ]
  },
  {
   "cell_type": "markdown",
   "metadata": {
    "id": "7GgW-UpAgFyS"
   },
   "source": [
    "- Создайте столбец с информацией о годе проката. Выделите год из даты премьеры фильма."
   ]
  },
  {
   "cell_type": "code",
   "execution_count": 27,
   "metadata": {},
   "outputs": [
    {
     "data": {
      "text/html": [
       "<div>\n",
       "<style scoped>\n",
       "    .dataframe tbody tr th:only-of-type {\n",
       "        vertical-align: middle;\n",
       "    }\n",
       "\n",
       "    .dataframe tbody tr th {\n",
       "        vertical-align: top;\n",
       "    }\n",
       "\n",
       "    .dataframe thead th {\n",
       "        text-align: right;\n",
       "    }\n",
       "</style>\n",
       "<table border=\"1\" class=\"dataframe\">\n",
       "  <thead>\n",
       "    <tr style=\"text-align: right;\">\n",
       "      <th></th>\n",
       "      <th>title</th>\n",
       "      <th>puNumber</th>\n",
       "      <th>show_start_date</th>\n",
       "      <th>type</th>\n",
       "      <th>film_studio</th>\n",
       "      <th>production_country</th>\n",
       "      <th>director</th>\n",
       "      <th>producer</th>\n",
       "      <th>age_restriction</th>\n",
       "      <th>refundable_support</th>\n",
       "      <th>nonrefundable_support</th>\n",
       "      <th>budget</th>\n",
       "      <th>financing_source</th>\n",
       "      <th>ratings</th>\n",
       "      <th>genres</th>\n",
       "      <th>box_office</th>\n",
       "      <th>year</th>\n",
       "    </tr>\n",
       "  </thead>\n",
       "  <tbody>\n",
       "    <tr>\n",
       "      <th>0</th>\n",
       "      <td>Открытый простор</td>\n",
       "      <td>221048915</td>\n",
       "      <td>2015-11-27 12:00:00+00:00</td>\n",
       "      <td>Художественный</td>\n",
       "      <td>Тачстоун Пикчерз, Кобальт Пикчерз, Бикон Пикче...</td>\n",
       "      <td>США</td>\n",
       "      <td>Кевин Костнер</td>\n",
       "      <td>Дэвид Валдес, Кевин Костнер, Джейк Эбертс</td>\n",
       "      <td>«18+» - запрещено для детей</td>\n",
       "      <td>NaN</td>\n",
       "      <td>NaN</td>\n",
       "      <td>NaN</td>\n",
       "      <td>NaN</td>\n",
       "      <td>7.2</td>\n",
       "      <td>боевик,драма,мелодрама</td>\n",
       "      <td>NaN</td>\n",
       "      <td>2015</td>\n",
       "    </tr>\n",
       "    <tr>\n",
       "      <th>1</th>\n",
       "      <td>Особо важное задание</td>\n",
       "      <td>111013716</td>\n",
       "      <td>2016-09-13 12:00:00+00:00</td>\n",
       "      <td>Художественный</td>\n",
       "      <td>Киностудия \"Мосфильм\"</td>\n",
       "      <td>СССР</td>\n",
       "      <td>Е.Матвеев</td>\n",
       "      <td>NaN</td>\n",
       "      <td>«6+» - для детей старше 6 лет</td>\n",
       "      <td>NaN</td>\n",
       "      <td>NaN</td>\n",
       "      <td>NaN</td>\n",
       "      <td>NaN</td>\n",
       "      <td>6.6</td>\n",
       "      <td>драма,военный</td>\n",
       "      <td>NaN</td>\n",
       "      <td>2016</td>\n",
       "    </tr>\n",
       "    <tr>\n",
       "      <th>2</th>\n",
       "      <td>Особо опасен</td>\n",
       "      <td>221038416</td>\n",
       "      <td>2016-10-10 12:00:00+00:00</td>\n",
       "      <td>Художественный</td>\n",
       "      <td>Юниверсал Пикчерз, Кикстарт Продакшнз, Марк Пл...</td>\n",
       "      <td>США</td>\n",
       "      <td>Тимур Бекмамбетов</td>\n",
       "      <td>Джим Лемли, Джейсон Нетер, Марк Е.Платт, Яйн Смит</td>\n",
       "      <td>«18+» - запрещено для детей</td>\n",
       "      <td>NaN</td>\n",
       "      <td>NaN</td>\n",
       "      <td>NaN</td>\n",
       "      <td>NaN</td>\n",
       "      <td>6.8</td>\n",
       "      <td>фантастика,боевик,триллер</td>\n",
       "      <td>NaN</td>\n",
       "      <td>2016</td>\n",
       "    </tr>\n",
       "    <tr>\n",
       "      <th>3</th>\n",
       "      <td>Особо опасен</td>\n",
       "      <td>221026916</td>\n",
       "      <td>2016-06-10 12:00:00+00:00</td>\n",
       "      <td>Художественный</td>\n",
       "      <td>Юниверсал Пикчерз, Кикстарт Продакшнз, Марк Пл...</td>\n",
       "      <td>США</td>\n",
       "      <td>Тимур Бекмамбетов</td>\n",
       "      <td>Джим Лемли, Джейсон Нетер, Марк Е.Платт, Яйн Смит</td>\n",
       "      <td>«18+» - запрещено для детей</td>\n",
       "      <td>NaN</td>\n",
       "      <td>NaN</td>\n",
       "      <td>NaN</td>\n",
       "      <td>NaN</td>\n",
       "      <td>6.8</td>\n",
       "      <td>фантастика,боевик,триллер</td>\n",
       "      <td>NaN</td>\n",
       "      <td>2016</td>\n",
       "    </tr>\n",
       "    <tr>\n",
       "      <th>4</th>\n",
       "      <td>Особо опасен</td>\n",
       "      <td>221030815</td>\n",
       "      <td>2015-07-29 12:00:00+00:00</td>\n",
       "      <td>Художественный</td>\n",
       "      <td>Юниверсал Пикчерз, Кикстарт Продакшнз, Марк Пл...</td>\n",
       "      <td>США</td>\n",
       "      <td>Тимур Бекмамбетов</td>\n",
       "      <td>Джим Лемли, Джейсон Нетер, Марк Е.Платт, Яйн Смит</td>\n",
       "      <td>«18+» - запрещено для детей</td>\n",
       "      <td>NaN</td>\n",
       "      <td>NaN</td>\n",
       "      <td>NaN</td>\n",
       "      <td>NaN</td>\n",
       "      <td>6.8</td>\n",
       "      <td>фантастика,боевик,триллер</td>\n",
       "      <td>NaN</td>\n",
       "      <td>2015</td>\n",
       "    </tr>\n",
       "  </tbody>\n",
       "</table>\n",
       "</div>"
      ],
      "text/plain": [
       "                  title   puNumber           show_start_date            type  \\\n",
       "0      Открытый простор  221048915 2015-11-27 12:00:00+00:00  Художественный   \n",
       "1  Особо важное задание  111013716 2016-09-13 12:00:00+00:00  Художественный   \n",
       "2          Особо опасен  221038416 2016-10-10 12:00:00+00:00  Художественный   \n",
       "3          Особо опасен  221026916 2016-06-10 12:00:00+00:00  Художественный   \n",
       "4          Особо опасен  221030815 2015-07-29 12:00:00+00:00  Художественный   \n",
       "\n",
       "                                         film_studio production_country  \\\n",
       "0  Тачстоун Пикчерз, Кобальт Пикчерз, Бикон Пикче...                США   \n",
       "1                              Киностудия \"Мосфильм\"               СССР   \n",
       "2  Юниверсал Пикчерз, Кикстарт Продакшнз, Марк Пл...                США   \n",
       "3  Юниверсал Пикчерз, Кикстарт Продакшнз, Марк Пл...                США   \n",
       "4  Юниверсал Пикчерз, Кикстарт Продакшнз, Марк Пл...                США   \n",
       "\n",
       "            director                                           producer  \\\n",
       "0      Кевин Костнер          Дэвид Валдес, Кевин Костнер, Джейк Эбертс   \n",
       "1          Е.Матвеев                                                NaN   \n",
       "2  Тимур Бекмамбетов  Джим Лемли, Джейсон Нетер, Марк Е.Платт, Яйн Смит   \n",
       "3  Тимур Бекмамбетов  Джим Лемли, Джейсон Нетер, Марк Е.Платт, Яйн Смит   \n",
       "4  Тимур Бекмамбетов  Джим Лемли, Джейсон Нетер, Марк Е.Платт, Яйн Смит   \n",
       "\n",
       "                 age_restriction  refundable_support  nonrefundable_support  \\\n",
       "0    «18+» - запрещено для детей                 NaN                    NaN   \n",
       "1  «6+» - для детей старше 6 лет                 NaN                    NaN   \n",
       "2    «18+» - запрещено для детей                 NaN                    NaN   \n",
       "3    «18+» - запрещено для детей                 NaN                    NaN   \n",
       "4    «18+» - запрещено для детей                 NaN                    NaN   \n",
       "\n",
       "   budget financing_source  ratings                     genres  box_office  \\\n",
       "0     NaN              NaN      7.2     боевик,драма,мелодрама         NaN   \n",
       "1     NaN              NaN      6.6              драма,военный         NaN   \n",
       "2     NaN              NaN      6.8  фантастика,боевик,триллер         NaN   \n",
       "3     NaN              NaN      6.8  фантастика,боевик,триллер         NaN   \n",
       "4     NaN              NaN      6.8  фантастика,боевик,триллер         NaN   \n",
       "\n",
       "   year  \n",
       "0  2015  \n",
       "1  2016  \n",
       "2  2016  \n",
       "3  2016  \n",
       "4  2015  "
      ]
     },
     "metadata": {},
     "output_type": "display_data"
    },
    {
     "data": {
      "text/plain": [
       "2010    985\n",
       "2019    930\n",
       "2018    891\n",
       "2016    818\n",
       "2014    807\n",
       "2015    705\n",
       "2013    630\n",
       "2011    622\n",
       "2012    593\n",
       "2017    505\n",
       "Name: year, dtype: int64"
      ]
     },
     "metadata": {},
     "output_type": "display_data"
    }
   ],
   "source": [
    "# добавим столбец года\n",
    "data['year'] = data['show_start_date'].dt.year\n",
    "display(data.head())\n",
    "display(data['year'].value_counts()) "
   ]
  },
  {
   "cell_type": "markdown",
   "metadata": {
    "id": "nFTDLDYOgFyT"
   },
   "source": [
    "- Создайте два столбца: с именем и фамилией главного режиссёра и основным жанром фильма. В столбцы войдут первые значения из списка режиссёров и жанров соответственно.\n",
    "\n",
    "<div id=\"accordion\">\n",
    "    <div class=\"card\">\n",
    "        <div class=\"card-header\" id=\"headingThree\">\n",
    "            <button class=\"btn btn-link collapsed\" data-toggle=\"collapse\" data-target=\"#collapseHint_2\" aria-expanded=\"false\" aria-controls=\"collapseHint_2\">Подсказка</button>\n",
    "        </div>\n",
    "        <div id=\"collapseHint_2\" class=\"collapse\" aria-labelledby=\"headingThree\" data-parent=\"#accordion\">\n",
    "            <div class=\"card-body\">\n",
    "Чтобы создать такие столбцы, лучше всего использовать собственную функцию. Эту функцию можно применить к двум столбцам сразу. \n",
    "            </div>\n",
    "        </div>\n",
    "    </div>\n",
    "</div>"
   ]
  },
  {
   "cell_type": "code",
   "execution_count": 28,
   "metadata": {},
   "outputs": [],
   "source": [
    "data['director_first'] = data['director'].str.split(\",\").str[0]\n",
    "data['genre_first'] = data['genres'].str.split(\",\").str[0]\n",
    "data['director_first'] = data['director_first'].str.strip()\n",
    "data['genre_first'] = data['genre_first'].str.strip()"
   ]
  },
  {
   "cell_type": "markdown",
   "metadata": {
    "id": "1FsCXHwdgFyU"
   },
   "source": [
    "- Посчитайте, какую долю от общего бюджета фильма составляет государственная поддержка."
   ]
  },
  {
   "cell_type": "code",
   "execution_count": 29,
   "metadata": {},
   "outputs": [
    {
     "data": {
      "text/html": [
       "<div>\n",
       "<style scoped>\n",
       "    .dataframe tbody tr th:only-of-type {\n",
       "        vertical-align: middle;\n",
       "    }\n",
       "\n",
       "    .dataframe tbody tr th {\n",
       "        vertical-align: top;\n",
       "    }\n",
       "\n",
       "    .dataframe thead th {\n",
       "        text-align: right;\n",
       "    }\n",
       "</style>\n",
       "<table border=\"1\" class=\"dataframe\">\n",
       "  <thead>\n",
       "    <tr style=\"text-align: right;\">\n",
       "      <th></th>\n",
       "      <th>title</th>\n",
       "      <th>puNumber</th>\n",
       "      <th>show_start_date</th>\n",
       "      <th>type</th>\n",
       "      <th>film_studio</th>\n",
       "      <th>production_country</th>\n",
       "      <th>director</th>\n",
       "      <th>producer</th>\n",
       "      <th>age_restriction</th>\n",
       "      <th>refundable_support</th>\n",
       "      <th>nonrefundable_support</th>\n",
       "      <th>budget</th>\n",
       "      <th>financing_source</th>\n",
       "      <th>ratings</th>\n",
       "      <th>genres</th>\n",
       "      <th>box_office</th>\n",
       "      <th>year</th>\n",
       "      <th>director_first</th>\n",
       "      <th>genre_first</th>\n",
       "      <th>help_to_budget</th>\n",
       "    </tr>\n",
       "  </thead>\n",
       "  <tbody>\n",
       "    <tr>\n",
       "      <th>0</th>\n",
       "      <td>Открытый простор</td>\n",
       "      <td>221048915</td>\n",
       "      <td>2015-11-27 12:00:00+00:00</td>\n",
       "      <td>Художественный</td>\n",
       "      <td>Тачстоун Пикчерз, Кобальт Пикчерз, Бикон Пикче...</td>\n",
       "      <td>США</td>\n",
       "      <td>Кевин Костнер</td>\n",
       "      <td>Дэвид Валдес, Кевин Костнер, Джейк Эбертс</td>\n",
       "      <td>«18+» - запрещено для детей</td>\n",
       "      <td>NaN</td>\n",
       "      <td>NaN</td>\n",
       "      <td>NaN</td>\n",
       "      <td>NaN</td>\n",
       "      <td>7.2</td>\n",
       "      <td>боевик,драма,мелодрама</td>\n",
       "      <td>NaN</td>\n",
       "      <td>2015</td>\n",
       "      <td>Кевин Костнер</td>\n",
       "      <td>боевик</td>\n",
       "      <td>NaN</td>\n",
       "    </tr>\n",
       "    <tr>\n",
       "      <th>1</th>\n",
       "      <td>Особо важное задание</td>\n",
       "      <td>111013716</td>\n",
       "      <td>2016-09-13 12:00:00+00:00</td>\n",
       "      <td>Художественный</td>\n",
       "      <td>Киностудия \"Мосфильм\"</td>\n",
       "      <td>СССР</td>\n",
       "      <td>Е.Матвеев</td>\n",
       "      <td>NaN</td>\n",
       "      <td>«6+» - для детей старше 6 лет</td>\n",
       "      <td>NaN</td>\n",
       "      <td>NaN</td>\n",
       "      <td>NaN</td>\n",
       "      <td>NaN</td>\n",
       "      <td>6.6</td>\n",
       "      <td>драма,военный</td>\n",
       "      <td>NaN</td>\n",
       "      <td>2016</td>\n",
       "      <td>Е.Матвеев</td>\n",
       "      <td>драма</td>\n",
       "      <td>NaN</td>\n",
       "    </tr>\n",
       "    <tr>\n",
       "      <th>2</th>\n",
       "      <td>Особо опасен</td>\n",
       "      <td>221038416</td>\n",
       "      <td>2016-10-10 12:00:00+00:00</td>\n",
       "      <td>Художественный</td>\n",
       "      <td>Юниверсал Пикчерз, Кикстарт Продакшнз, Марк Пл...</td>\n",
       "      <td>США</td>\n",
       "      <td>Тимур Бекмамбетов</td>\n",
       "      <td>Джим Лемли, Джейсон Нетер, Марк Е.Платт, Яйн Смит</td>\n",
       "      <td>«18+» - запрещено для детей</td>\n",
       "      <td>NaN</td>\n",
       "      <td>NaN</td>\n",
       "      <td>NaN</td>\n",
       "      <td>NaN</td>\n",
       "      <td>6.8</td>\n",
       "      <td>фантастика,боевик,триллер</td>\n",
       "      <td>NaN</td>\n",
       "      <td>2016</td>\n",
       "      <td>Тимур Бекмамбетов</td>\n",
       "      <td>фантастика</td>\n",
       "      <td>NaN</td>\n",
       "    </tr>\n",
       "    <tr>\n",
       "      <th>3</th>\n",
       "      <td>Особо опасен</td>\n",
       "      <td>221026916</td>\n",
       "      <td>2016-06-10 12:00:00+00:00</td>\n",
       "      <td>Художественный</td>\n",
       "      <td>Юниверсал Пикчерз, Кикстарт Продакшнз, Марк Пл...</td>\n",
       "      <td>США</td>\n",
       "      <td>Тимур Бекмамбетов</td>\n",
       "      <td>Джим Лемли, Джейсон Нетер, Марк Е.Платт, Яйн Смит</td>\n",
       "      <td>«18+» - запрещено для детей</td>\n",
       "      <td>NaN</td>\n",
       "      <td>NaN</td>\n",
       "      <td>NaN</td>\n",
       "      <td>NaN</td>\n",
       "      <td>6.8</td>\n",
       "      <td>фантастика,боевик,триллер</td>\n",
       "      <td>NaN</td>\n",
       "      <td>2016</td>\n",
       "      <td>Тимур Бекмамбетов</td>\n",
       "      <td>фантастика</td>\n",
       "      <td>NaN</td>\n",
       "    </tr>\n",
       "    <tr>\n",
       "      <th>4</th>\n",
       "      <td>Особо опасен</td>\n",
       "      <td>221030815</td>\n",
       "      <td>2015-07-29 12:00:00+00:00</td>\n",
       "      <td>Художественный</td>\n",
       "      <td>Юниверсал Пикчерз, Кикстарт Продакшнз, Марк Пл...</td>\n",
       "      <td>США</td>\n",
       "      <td>Тимур Бекмамбетов</td>\n",
       "      <td>Джим Лемли, Джейсон Нетер, Марк Е.Платт, Яйн Смит</td>\n",
       "      <td>«18+» - запрещено для детей</td>\n",
       "      <td>NaN</td>\n",
       "      <td>NaN</td>\n",
       "      <td>NaN</td>\n",
       "      <td>NaN</td>\n",
       "      <td>6.8</td>\n",
       "      <td>фантастика,боевик,триллер</td>\n",
       "      <td>NaN</td>\n",
       "      <td>2015</td>\n",
       "      <td>Тимур Бекмамбетов</td>\n",
       "      <td>фантастика</td>\n",
       "      <td>NaN</td>\n",
       "    </tr>\n",
       "  </tbody>\n",
       "</table>\n",
       "</div>"
      ],
      "text/plain": [
       "                  title   puNumber           show_start_date            type  \\\n",
       "0      Открытый простор  221048915 2015-11-27 12:00:00+00:00  Художественный   \n",
       "1  Особо важное задание  111013716 2016-09-13 12:00:00+00:00  Художественный   \n",
       "2          Особо опасен  221038416 2016-10-10 12:00:00+00:00  Художественный   \n",
       "3          Особо опасен  221026916 2016-06-10 12:00:00+00:00  Художественный   \n",
       "4          Особо опасен  221030815 2015-07-29 12:00:00+00:00  Художественный   \n",
       "\n",
       "                                         film_studio production_country  \\\n",
       "0  Тачстоун Пикчерз, Кобальт Пикчерз, Бикон Пикче...                США   \n",
       "1                              Киностудия \"Мосфильм\"               СССР   \n",
       "2  Юниверсал Пикчерз, Кикстарт Продакшнз, Марк Пл...                США   \n",
       "3  Юниверсал Пикчерз, Кикстарт Продакшнз, Марк Пл...                США   \n",
       "4  Юниверсал Пикчерз, Кикстарт Продакшнз, Марк Пл...                США   \n",
       "\n",
       "            director                                           producer  \\\n",
       "0      Кевин Костнер          Дэвид Валдес, Кевин Костнер, Джейк Эбертс   \n",
       "1          Е.Матвеев                                                NaN   \n",
       "2  Тимур Бекмамбетов  Джим Лемли, Джейсон Нетер, Марк Е.Платт, Яйн Смит   \n",
       "3  Тимур Бекмамбетов  Джим Лемли, Джейсон Нетер, Марк Е.Платт, Яйн Смит   \n",
       "4  Тимур Бекмамбетов  Джим Лемли, Джейсон Нетер, Марк Е.Платт, Яйн Смит   \n",
       "\n",
       "                 age_restriction  refundable_support  nonrefundable_support  \\\n",
       "0    «18+» - запрещено для детей                 NaN                    NaN   \n",
       "1  «6+» - для детей старше 6 лет                 NaN                    NaN   \n",
       "2    «18+» - запрещено для детей                 NaN                    NaN   \n",
       "3    «18+» - запрещено для детей                 NaN                    NaN   \n",
       "4    «18+» - запрещено для детей                 NaN                    NaN   \n",
       "\n",
       "   budget financing_source  ratings                     genres  box_office  \\\n",
       "0     NaN              NaN      7.2     боевик,драма,мелодрама         NaN   \n",
       "1     NaN              NaN      6.6              драма,военный         NaN   \n",
       "2     NaN              NaN      6.8  фантастика,боевик,триллер         NaN   \n",
       "3     NaN              NaN      6.8  фантастика,боевик,триллер         NaN   \n",
       "4     NaN              NaN      6.8  фантастика,боевик,триллер         NaN   \n",
       "\n",
       "   year     director_first genre_first  help_to_budget  \n",
       "0  2015      Кевин Костнер      боевик             NaN  \n",
       "1  2016          Е.Матвеев       драма             NaN  \n",
       "2  2016  Тимур Бекмамбетов  фантастика             NaN  \n",
       "3  2016  Тимур Бекмамбетов  фантастика             NaN  \n",
       "4  2015  Тимур Бекмамбетов  фантастика             NaN  "
      ]
     },
     "metadata": {},
     "output_type": "display_data"
    },
    {
     "data": {
      "text/html": [
       "<div>\n",
       "<style scoped>\n",
       "    .dataframe tbody tr th:only-of-type {\n",
       "        vertical-align: middle;\n",
       "    }\n",
       "\n",
       "    .dataframe tbody tr th {\n",
       "        vertical-align: top;\n",
       "    }\n",
       "\n",
       "    .dataframe thead th {\n",
       "        text-align: right;\n",
       "    }\n",
       "</style>\n",
       "<table border=\"1\" class=\"dataframe\">\n",
       "  <thead>\n",
       "    <tr style=\"text-align: right;\">\n",
       "      <th></th>\n",
       "      <th>puNumber</th>\n",
       "      <th>refundable_support</th>\n",
       "      <th>nonrefundable_support</th>\n",
       "      <th>budget</th>\n",
       "      <th>ratings</th>\n",
       "      <th>box_office</th>\n",
       "      <th>year</th>\n",
       "      <th>help_to_budget</th>\n",
       "    </tr>\n",
       "  </thead>\n",
       "  <tbody>\n",
       "    <tr>\n",
       "      <th>count</th>\n",
       "      <td>7.486000e+03</td>\n",
       "      <td>3.320000e+02</td>\n",
       "      <td>3.320000e+02</td>\n",
       "      <td>3.320000e+02</td>\n",
       "      <td>6490.000000</td>\n",
       "      <td>3.158000e+03</td>\n",
       "      <td>7486.000000</td>\n",
       "      <td>332.000000</td>\n",
       "    </tr>\n",
       "    <tr>\n",
       "      <th>mean</th>\n",
       "      <td>1.351785e+08</td>\n",
       "      <td>1.186446e+07</td>\n",
       "      <td>4.898099e+07</td>\n",
       "      <td>1.314224e+08</td>\n",
       "      <td>6.479245</td>\n",
       "      <td>7.647870e+07</td>\n",
       "      <td>2014.594176</td>\n",
       "      <td>0.542098</td>\n",
       "    </tr>\n",
       "    <tr>\n",
       "      <th>std</th>\n",
       "      <td>3.838218e+07</td>\n",
       "      <td>2.491656e+07</td>\n",
       "      <td>5.998012e+07</td>\n",
       "      <td>1.871482e+08</td>\n",
       "      <td>1.101665</td>\n",
       "      <td>2.403531e+08</td>\n",
       "      <td>3.008452</td>\n",
       "      <td>0.196925</td>\n",
       "    </tr>\n",
       "    <tr>\n",
       "      <th>min</th>\n",
       "      <td>0.000000e+00</td>\n",
       "      <td>0.000000e+00</td>\n",
       "      <td>0.000000e+00</td>\n",
       "      <td>6.000000e+06</td>\n",
       "      <td>1.000000</td>\n",
       "      <td>0.000000e+00</td>\n",
       "      <td>2010.000000</td>\n",
       "      <td>0.044043</td>\n",
       "    </tr>\n",
       "    <tr>\n",
       "      <th>25%</th>\n",
       "      <td>1.120250e+08</td>\n",
       "      <td>0.000000e+00</td>\n",
       "      <td>2.500000e+07</td>\n",
       "      <td>4.552480e+07</td>\n",
       "      <td>5.900000</td>\n",
       "      <td>8.623900e+04</td>\n",
       "      <td>2012.000000</td>\n",
       "      <td>0.384615</td>\n",
       "    </tr>\n",
       "    <tr>\n",
       "      <th>50%</th>\n",
       "      <td>1.210155e+08</td>\n",
       "      <td>0.000000e+00</td>\n",
       "      <td>3.000000e+07</td>\n",
       "      <td>7.119690e+07</td>\n",
       "      <td>6.600000</td>\n",
       "      <td>2.327988e+06</td>\n",
       "      <td>2015.000000</td>\n",
       "      <td>0.614038</td>\n",
       "    </tr>\n",
       "    <tr>\n",
       "      <th>75%</th>\n",
       "      <td>1.240033e+08</td>\n",
       "      <td>1.500000e+07</td>\n",
       "      <td>4.037500e+07</td>\n",
       "      <td>1.500000e+08</td>\n",
       "      <td>7.200000</td>\n",
       "      <td>2.397967e+07</td>\n",
       "      <td>2017.000000</td>\n",
       "      <td>0.661412</td>\n",
       "    </tr>\n",
       "    <tr>\n",
       "      <th>max</th>\n",
       "      <td>2.310011e+08</td>\n",
       "      <td>1.800000e+08</td>\n",
       "      <td>4.000000e+08</td>\n",
       "      <td>2.305074e+09</td>\n",
       "      <td>9.200000</td>\n",
       "      <td>3.073569e+09</td>\n",
       "      <td>2019.000000</td>\n",
       "      <td>1.000000</td>\n",
       "    </tr>\n",
       "  </tbody>\n",
       "</table>\n",
       "</div>"
      ],
      "text/plain": [
       "           puNumber  refundable_support  nonrefundable_support        budget  \\\n",
       "count  7.486000e+03        3.320000e+02           3.320000e+02  3.320000e+02   \n",
       "mean   1.351785e+08        1.186446e+07           4.898099e+07  1.314224e+08   \n",
       "std    3.838218e+07        2.491656e+07           5.998012e+07  1.871482e+08   \n",
       "min    0.000000e+00        0.000000e+00           0.000000e+00  6.000000e+06   \n",
       "25%    1.120250e+08        0.000000e+00           2.500000e+07  4.552480e+07   \n",
       "50%    1.210155e+08        0.000000e+00           3.000000e+07  7.119690e+07   \n",
       "75%    1.240033e+08        1.500000e+07           4.037500e+07  1.500000e+08   \n",
       "max    2.310011e+08        1.800000e+08           4.000000e+08  2.305074e+09   \n",
       "\n",
       "           ratings    box_office         year  help_to_budget  \n",
       "count  6490.000000  3.158000e+03  7486.000000      332.000000  \n",
       "mean      6.479245  7.647870e+07  2014.594176        0.542098  \n",
       "std       1.101665  2.403531e+08     3.008452        0.196925  \n",
       "min       1.000000  0.000000e+00  2010.000000        0.044043  \n",
       "25%       5.900000  8.623900e+04  2012.000000        0.384615  \n",
       "50%       6.600000  2.327988e+06  2015.000000        0.614038  \n",
       "75%       7.200000  2.397967e+07  2017.000000        0.661412  \n",
       "max       9.200000  3.073569e+09  2019.000000        1.000000  "
      ]
     },
     "execution_count": 29,
     "metadata": {},
     "output_type": "execute_result"
    }
   ],
   "source": [
    "data['help_to_budget'] = (data['refundable_support'] + data['nonrefundable_support']) / data['budget']\n",
    "display(data.head())\n",
    "data.describe()"
   ]
  },
  {
   "cell_type": "markdown",
   "metadata": {},
   "source": [
    "**Вывод:**\n",
    "* 1. Создан новый столбец с годом премьеры (данные по фильмам представлены с 2011 по 2019 год);\n",
    "* 2. Выделен первый в списке режиссер и жанр, значения добавлены в новые столбцы;\n",
    "* 3. Посчитана доля государственной поддержки по отношению к бюджету по каждому фильму, а также выведены числовые характеристики значений помощи: медианное значение составило 0,385, а среднее 0,54."
   ]
  },
  {
   "cell_type": "markdown",
   "metadata": {
    "id": "6t4EukPLgFyV"
   },
   "source": [
    "### Шаг 3. Проведите исследовательский анализ данных\n"
   ]
  },
  {
   "cell_type": "markdown",
   "metadata": {
    "id": "vAH8WCzugFyV"
   },
   "source": [
    "- Посмотрите, сколько фильмов выходило в прокат каждый год. Обратите внимание, что данные о прокате в кинотеатрах известны не для всех фильмов. Посчитайте, какую долю составляют фильмы с указанной информацией о прокате в кинотеатрах."
   ]
  },
  {
   "cell_type": "code",
   "execution_count": 30,
   "metadata": {
    "id": "ABeV47y7gFyW"
   },
   "outputs": [
    {
     "data": {
      "text/html": [
       "<div>\n",
       "<style scoped>\n",
       "    .dataframe tbody tr th:only-of-type {\n",
       "        vertical-align: middle;\n",
       "    }\n",
       "\n",
       "    .dataframe tbody tr th {\n",
       "        vertical-align: top;\n",
       "    }\n",
       "\n",
       "    .dataframe thead th {\n",
       "        text-align: right;\n",
       "    }\n",
       "</style>\n",
       "<table border=\"1\" class=\"dataframe\">\n",
       "  <thead>\n",
       "    <tr style=\"text-align: right;\">\n",
       "      <th></th>\n",
       "      <th>all_films</th>\n",
       "      <th>part_films</th>\n",
       "      <th>share_info</th>\n",
       "    </tr>\n",
       "    <tr>\n",
       "      <th>year</th>\n",
       "      <th></th>\n",
       "      <th></th>\n",
       "      <th></th>\n",
       "    </tr>\n",
       "  </thead>\n",
       "  <tbody>\n",
       "    <tr>\n",
       "      <th>2010</th>\n",
       "      <td>985</td>\n",
       "      <td>105</td>\n",
       "      <td>10.7</td>\n",
       "    </tr>\n",
       "    <tr>\n",
       "      <th>2011</th>\n",
       "      <td>622</td>\n",
       "      <td>109</td>\n",
       "      <td>17.5</td>\n",
       "    </tr>\n",
       "    <tr>\n",
       "      <th>2012</th>\n",
       "      <td>593</td>\n",
       "      <td>128</td>\n",
       "      <td>21.6</td>\n",
       "    </tr>\n",
       "    <tr>\n",
       "      <th>2013</th>\n",
       "      <td>630</td>\n",
       "      <td>184</td>\n",
       "      <td>29.2</td>\n",
       "    </tr>\n",
       "    <tr>\n",
       "      <th>2014</th>\n",
       "      <td>807</td>\n",
       "      <td>279</td>\n",
       "      <td>34.6</td>\n",
       "    </tr>\n",
       "    <tr>\n",
       "      <th>2015</th>\n",
       "      <td>705</td>\n",
       "      <td>465</td>\n",
       "      <td>66.0</td>\n",
       "    </tr>\n",
       "    <tr>\n",
       "      <th>2016</th>\n",
       "      <td>818</td>\n",
       "      <td>526</td>\n",
       "      <td>64.3</td>\n",
       "    </tr>\n",
       "    <tr>\n",
       "      <th>2017</th>\n",
       "      <td>505</td>\n",
       "      <td>357</td>\n",
       "      <td>70.7</td>\n",
       "    </tr>\n",
       "    <tr>\n",
       "      <th>2018</th>\n",
       "      <td>891</td>\n",
       "      <td>475</td>\n",
       "      <td>53.3</td>\n",
       "    </tr>\n",
       "    <tr>\n",
       "      <th>2019</th>\n",
       "      <td>930</td>\n",
       "      <td>530</td>\n",
       "      <td>57.0</td>\n",
       "    </tr>\n",
       "  </tbody>\n",
       "</table>\n",
       "</div>"
      ],
      "text/plain": [
       "      all_films  part_films  share_info\n",
       "year                                   \n",
       "2010        985         105        10.7\n",
       "2011        622         109        17.5\n",
       "2012        593         128        21.6\n",
       "2013        630         184        29.2\n",
       "2014        807         279        34.6\n",
       "2015        705         465        66.0\n",
       "2016        818         526        64.3\n",
       "2017        505         357        70.7\n",
       "2018        891         475        53.3\n",
       "2019        930         530        57.0"
      ]
     },
     "metadata": {},
     "output_type": "display_data"
    }
   ],
   "source": [
    "# выведем количество фильмов (прокатных удостоверений), содержащихся в базе, по годам \n",
    "data_year_all = data.pivot_table(index ='year', values = 'puNumber', aggfunc ='count')\n",
    "data_year_all.columns = ['all_films'] # переименуем столбцы\n",
    "# выведем количество фильмов (прокат. уд.), по столбцу сборов в кинотеатрах\n",
    "data_year_part = data.pivot_table(index = 'year', values = 'box_office', aggfunc = 'count')\n",
    "data_year_part.columns = ['part_films'] # переименуем столбцы\n",
    "final_data = data_year_all.join(data_year_part) # объединим сводные таблицы\n",
    "# найдем процентное соотношение фильмов, показанных в кинотеатрах, к общему количеству, вышедших в прокат\n",
    "final_data['share_info'] = ((final_data['part_films'] / final_data['all_films'])*100).round(decimals=1) \n",
    "display(final_data)"
   ]
  },
  {
   "cell_type": "code",
   "execution_count": 31,
   "metadata": {},
   "outputs": [
    {
     "data": {
      "image/png": "[encoded data removed]",
      "text/plain": [
       "<Figure size 360x360 with 1 Axes>"
      ]
     },
     "metadata": {
      "needs_background": "light"
     },
     "output_type": "display_data"
    }
   ],
   "source": [
    "final_data.plot(grid=True, style='o-', figsize=(5, 5))\n",
    "plt.title(\"Количество фильмов, вышедших в прокат, показанных в кинотеатрах, и их отношение в %\");\n",
    "plt.xlabel(\"Год\")\n",
    "plt.ylabel(\"Количество и процент (зеленая линия)\")\n",
    "plt.show()"
   ]
  },
  {
   "cell_type": "markdown",
   "metadata": {},
   "source": [
    "**Вывод:**\n",
    "* Больше всего в данных представлено фильмов, вышедших в 2010 (985), 2019 (930), 2018 (891), 2016 (818) годах, при этом наибольшее количество фильмов показано в кинотеатрах в 2019 (530), 2016 (526) и 2018 (475) годах. Наибольшее соотношение \"показанные в кинотеатрах-вышедшие в прокат\" составляет 71 % (2017 год)"
   ]
  },
  {
   "cell_type": "markdown",
   "metadata": {
    "id": "BEOdcIrIgFyW"
   },
   "source": [
    "- Изучите, как менялась динамика проката по годам. В каком году сумма сборов была минимальной? А максимальной?"
   ]
  },
  {
   "cell_type": "code",
   "execution_count": 32,
   "metadata": {
    "id": "tfEhofYvgFyX"
   },
   "outputs": [
    {
     "data": {
      "text/html": [
       "<div>\n",
       "<style scoped>\n",
       "    .dataframe tbody tr th:only-of-type {\n",
       "        vertical-align: middle;\n",
       "    }\n",
       "\n",
       "    .dataframe tbody tr th {\n",
       "        vertical-align: top;\n",
       "    }\n",
       "\n",
       "    .dataframe thead th {\n",
       "        text-align: right;\n",
       "    }\n",
       "</style>\n",
       "<table border=\"1\" class=\"dataframe\">\n",
       "  <thead>\n",
       "    <tr style=\"text-align: right;\">\n",
       "      <th></th>\n",
       "      <th>part_films_money</th>\n",
       "    </tr>\n",
       "    <tr>\n",
       "      <th>year</th>\n",
       "      <th></th>\n",
       "    </tr>\n",
       "  </thead>\n",
       "  <tbody>\n",
       "    <tr>\n",
       "      <th>2010</th>\n",
       "      <td>2.428654e+06</td>\n",
       "    </tr>\n",
       "    <tr>\n",
       "      <th>2011</th>\n",
       "      <td>1.410276e+07</td>\n",
       "    </tr>\n",
       "    <tr>\n",
       "      <th>2012</th>\n",
       "      <td>6.955423e+06</td>\n",
       "    </tr>\n",
       "    <tr>\n",
       "      <th>2013</th>\n",
       "      <td>2.979971e+07</td>\n",
       "    </tr>\n",
       "    <tr>\n",
       "      <th>2014</th>\n",
       "      <td>7.444952e+09</td>\n",
       "    </tr>\n",
       "    <tr>\n",
       "      <th>2015</th>\n",
       "      <td>3.949737e+10</td>\n",
       "    </tr>\n",
       "    <tr>\n",
       "      <th>2016</th>\n",
       "      <td>4.786630e+10</td>\n",
       "    </tr>\n",
       "    <tr>\n",
       "      <th>2017</th>\n",
       "      <td>4.856371e+10</td>\n",
       "    </tr>\n",
       "    <tr>\n",
       "      <th>2018</th>\n",
       "      <td>4.966840e+10</td>\n",
       "    </tr>\n",
       "    <tr>\n",
       "      <th>2019</th>\n",
       "      <td>4.842571e+10</td>\n",
       "    </tr>\n",
       "  </tbody>\n",
       "</table>\n",
       "</div>"
      ],
      "text/plain": [
       "      part_films_money\n",
       "year                  \n",
       "2010      2.428654e+06\n",
       "2011      1.410276e+07\n",
       "2012      6.955423e+06\n",
       "2013      2.979971e+07\n",
       "2014      7.444952e+09\n",
       "2015      3.949737e+10\n",
       "2016      4.786630e+10\n",
       "2017      4.856371e+10\n",
       "2018      4.966840e+10\n",
       "2019      4.842571e+10"
      ]
     },
     "metadata": {},
     "output_type": "display_data"
    }
   ],
   "source": [
    "# выведем сумму сборов, по столбцу сборов в кинотеатрах по годам\n",
    "data_year_part_money = data.pivot_table(index = 'year', values = 'box_office', aggfunc = 'sum')\n",
    "data_year_part_money.columns = ['part_films_money'] # переименуем столбцы\n",
    "display(data_year_part_money)"
   ]
  },
  {
   "cell_type": "code",
   "execution_count": 33,
   "metadata": {},
   "outputs": [
    {
     "data": {
      "image/png": "[encoded data removed]",
      "text/plain": [
       "<Figure size 360x360 with 1 Axes>"
      ]
     },
     "metadata": {
      "needs_background": "light"
     },
     "output_type": "display_data"
    }
   ],
   "source": [
    "data_year_part_money.plot(grid=True, style='o-', figsize=(5, 5))\n",
    "plt.title(\"Сумма сборов фильмов в кинотеатрах по годам\");\n",
    "plt.xlabel(\"Год\")\n",
    "plt.ylabel(\"Сумма сбора\")\n",
    "plt.show()"
   ]
  },
  {
   "cell_type": "markdown",
   "metadata": {},
   "source": [
    "**Вывод:**\n",
    "* Сумма сборов с 2010 по 2018 год увеличивалась. Наибольший скачок произошел с 2014 по 2016 год. Максимальная сумма сборов была в 2018 году. Минимальная, согласно данным, в 2010. В 2019 году сумма сборов оказалась чуть меньше, чем в 2018 году."
   ]
  },
  {
   "cell_type": "markdown",
   "metadata": {
    "id": "G-7qS-N-gFyY"
   },
   "source": [
    "- С помощью сводной таблицы посчитайте среднюю и медианную сумму сборов для каждого года."
   ]
  },
  {
   "cell_type": "code",
   "execution_count": 34,
   "metadata": {
    "id": "jmp-rgg9gFyY"
   },
   "outputs": [
    {
     "data": {
      "text/html": [
       "<div>\n",
       "<style scoped>\n",
       "    .dataframe tbody tr th:only-of-type {\n",
       "        vertical-align: middle;\n",
       "    }\n",
       "\n",
       "    .dataframe tbody tr th {\n",
       "        vertical-align: top;\n",
       "    }\n",
       "\n",
       "    .dataframe thead th {\n",
       "        text-align: right;\n",
       "    }\n",
       "</style>\n",
       "<table border=\"1\" class=\"dataframe\">\n",
       "  <thead>\n",
       "    <tr style=\"text-align: right;\">\n",
       "      <th></th>\n",
       "      <th>mean</th>\n",
       "      <th>median</th>\n",
       "    </tr>\n",
       "    <tr>\n",
       "      <th>year</th>\n",
       "      <th></th>\n",
       "      <th></th>\n",
       "    </tr>\n",
       "  </thead>\n",
       "  <tbody>\n",
       "    <tr>\n",
       "      <th>2010</th>\n",
       "      <td>2.313004e+04</td>\n",
       "      <td>1700.000</td>\n",
       "    </tr>\n",
       "    <tr>\n",
       "      <th>2011</th>\n",
       "      <td>1.293832e+05</td>\n",
       "      <td>3000.000</td>\n",
       "    </tr>\n",
       "    <tr>\n",
       "      <th>2012</th>\n",
       "      <td>5.433924e+04</td>\n",
       "      <td>5660.000</td>\n",
       "    </tr>\n",
       "    <tr>\n",
       "      <th>2013</th>\n",
       "      <td>1.619549e+05</td>\n",
       "      <td>3522.500</td>\n",
       "    </tr>\n",
       "    <tr>\n",
       "      <th>2014</th>\n",
       "      <td>2.668442e+07</td>\n",
       "      <td>18160.000</td>\n",
       "    </tr>\n",
       "    <tr>\n",
       "      <th>2015</th>\n",
       "      <td>8.494057e+07</td>\n",
       "      <td>4920933.000</td>\n",
       "    </tr>\n",
       "    <tr>\n",
       "      <th>2016</th>\n",
       "      <td>9.100057e+07</td>\n",
       "      <td>3846679.410</td>\n",
       "    </tr>\n",
       "    <tr>\n",
       "      <th>2017</th>\n",
       "      <td>1.360328e+08</td>\n",
       "      <td>9968340.000</td>\n",
       "    </tr>\n",
       "    <tr>\n",
       "      <th>2018</th>\n",
       "      <td>1.045651e+08</td>\n",
       "      <td>8891102.210</td>\n",
       "    </tr>\n",
       "    <tr>\n",
       "      <th>2019</th>\n",
       "      <td>9.136926e+07</td>\n",
       "      <td>4627798.345</td>\n",
       "    </tr>\n",
       "  </tbody>\n",
       "</table>\n",
       "</div>"
      ],
      "text/plain": [
       "              mean       median\n",
       "year                           \n",
       "2010  2.313004e+04     1700.000\n",
       "2011  1.293832e+05     3000.000\n",
       "2012  5.433924e+04     5660.000\n",
       "2013  1.619549e+05     3522.500\n",
       "2014  2.668442e+07    18160.000\n",
       "2015  8.494057e+07  4920933.000\n",
       "2016  9.100057e+07  3846679.410\n",
       "2017  1.360328e+08  9968340.000\n",
       "2018  1.045651e+08  8891102.210\n",
       "2019  9.136926e+07  4627798.345"
      ]
     },
     "metadata": {},
     "output_type": "display_data"
    }
   ],
   "source": [
    "# выведем среднюю и медианную сумму сборов, по столбцу сборов в кинотеатрах по годам\n",
    "data_year_part_money_analis = data.pivot_table(index = 'year', values = 'box_office', aggfunc = ['mean','median'])\n",
    "data_year_part_money_analis.columns = ['mean', 'median'] # переименуем столбцы\n",
    "display(data_year_part_money_analis)"
   ]
  },
  {
   "cell_type": "code",
   "execution_count": 35,
   "metadata": {},
   "outputs": [
    {
     "data": {
      "image/png": "[encoded data removed]",
      "text/plain": [
       "<Figure size 360x360 with 1 Axes>"
      ]
     },
     "metadata": {
      "needs_background": "light"
     },
     "output_type": "display_data"
    }
   ],
   "source": [
    "data_year_part_money_analis.plot(grid=True, style='o-', figsize=(5, 5))\n",
    "plt.title(\"Среднее и медианное значение суммы сборов фильмов в кинотеатрах по годам\");\n",
    "plt.xlabel(\"Год\")\n",
    "plt.ylabel(\"Сумма сбора\")\n",
    "plt.show()"
   ]
  },
  {
   "cell_type": "markdown",
   "metadata": {},
   "source": [
    "**Вывод:**\n",
    "* Среднее и медианное значения значительно разнятся с 2013-2019 года, при этом тенденция к увеличению или уменьшению сборов прослеживается на обоих показателях (в 2017 году и то и другое находится в максимальной точке). Значительная разница говорит о том, что сборы по фильмам очень сильно отличаются (имеются как сильно провальные , так и очень успешные фильмы)"
   ]
  },
  {
   "cell_type": "markdown",
   "metadata": {
    "id": "Ok89WFwJgFyZ"
   },
   "source": [
    "- Определите, влияет ли возрастное ограничение аудитории («6+», «12+», «16+», «18+» и т. д.) на сборы фильма в прокате в период с 2015 по 2019 год? Фильмы с каким возрастным ограничением собрали больше всего денег в прокате? Меняется ли картина в зависимости от года? Если да, предположите, с чем это может быть связано."
   ]
  },
  {
   "cell_type": "code",
   "execution_count": 36,
   "metadata": {
    "id": "jsSbEqfjgFya"
   },
   "outputs": [
    {
     "data": {
      "text/html": [
       "<div>\n",
       "<style scoped>\n",
       "    .dataframe tbody tr th:only-of-type {\n",
       "        vertical-align: middle;\n",
       "    }\n",
       "\n",
       "    .dataframe tbody tr th {\n",
       "        vertical-align: top;\n",
       "    }\n",
       "\n",
       "    .dataframe thead th {\n",
       "        text-align: right;\n",
       "    }\n",
       "</style>\n",
       "<table border=\"1\" class=\"dataframe\">\n",
       "  <thead>\n",
       "    <tr style=\"text-align: right;\">\n",
       "      <th></th>\n",
       "      <th>count</th>\n",
       "      <th>sum</th>\n",
       "      <th>mean</th>\n",
       "      <th>median</th>\n",
       "    </tr>\n",
       "    <tr>\n",
       "      <th>age_restriction</th>\n",
       "      <th></th>\n",
       "      <th></th>\n",
       "      <th></th>\n",
       "      <th></th>\n",
       "    </tr>\n",
       "  </thead>\n",
       "  <tbody>\n",
       "    <tr>\n",
       "      <th>«0+» - для любой зрительской аудитории</th>\n",
       "      <td>91</td>\n",
       "      <td>8.090774e+08</td>\n",
       "      <td>8.890961e+06</td>\n",
       "      <td>2943318.70</td>\n",
       "    </tr>\n",
       "    <tr>\n",
       "      <th>«12+» - для детей старше 12 лет</th>\n",
       "      <td>348</td>\n",
       "      <td>6.061945e+10</td>\n",
       "      <td>1.741938e+08</td>\n",
       "      <td>5065044.25</td>\n",
       "    </tr>\n",
       "    <tr>\n",
       "      <th>«16+» - для детей старше 16 лет</th>\n",
       "      <td>805</td>\n",
       "      <td>7.603473e+10</td>\n",
       "      <td>9.445309e+07</td>\n",
       "      <td>5600007.00</td>\n",
       "    </tr>\n",
       "    <tr>\n",
       "      <th>«18+» - запрещено для детей</th>\n",
       "      <td>792</td>\n",
       "      <td>4.075962e+10</td>\n",
       "      <td>5.146416e+07</td>\n",
       "      <td>6154439.17</td>\n",
       "    </tr>\n",
       "    <tr>\n",
       "      <th>«6+» - для детей старше 6 лет</th>\n",
       "      <td>317</td>\n",
       "      <td>5.579861e+10</td>\n",
       "      <td>1.760209e+08</td>\n",
       "      <td>13736207.98</td>\n",
       "    </tr>\n",
       "  </tbody>\n",
       "</table>\n",
       "</div>"
      ],
      "text/plain": [
       "                                        count           sum          mean  \\\n",
       "age_restriction                                                             \n",
       "«0+» - для любой зрительской аудитории     91  8.090774e+08  8.890961e+06   \n",
       "«12+» - для детей старше 12 лет           348  6.061945e+10  1.741938e+08   \n",
       "«16+» - для детей старше 16 лет           805  7.603473e+10  9.445309e+07   \n",
       "«18+» - запрещено для детей               792  4.075962e+10  5.146416e+07   \n",
       "«6+» - для детей старше 6 лет             317  5.579861e+10  1.760209e+08   \n",
       "\n",
       "                                             median  \n",
       "age_restriction                                      \n",
       "«0+» - для любой зрительской аудитории   2943318.70  \n",
       "«12+» - для детей старше 12 лет          5065044.25  \n",
       "«16+» - для детей старше 16 лет          5600007.00  \n",
       "«18+» - запрещено для детей              6154439.17  \n",
       "«6+» - для детей старше 6 лет           13736207.98  "
      ]
     },
     "metadata": {},
     "output_type": "display_data"
    }
   ],
   "source": [
    "data_age = data.query('year > 2014').pivot_table(index='age_restriction', values='box_office', aggfunc = ['count', 'sum','mean', 'median'])\n",
    "data_age.columns = ['count', 'sum','mean', 'median'] # переименуем столбцы\n",
    "display(data_age)"
   ]
  },
  {
   "cell_type": "code",
   "execution_count": 37,
   "metadata": {},
   "outputs": [
    {
     "data": {
      "text/html": [
       "<div>\n",
       "<style scoped>\n",
       "    .dataframe tbody tr th:only-of-type {\n",
       "        vertical-align: middle;\n",
       "    }\n",
       "\n",
       "    .dataframe tbody tr th {\n",
       "        vertical-align: top;\n",
       "    }\n",
       "\n",
       "    .dataframe thead th {\n",
       "        text-align: right;\n",
       "    }\n",
       "</style>\n",
       "<table border=\"1\" class=\"dataframe\">\n",
       "  <thead>\n",
       "    <tr style=\"text-align: right;\">\n",
       "      <th></th>\n",
       "      <th>year</th>\n",
       "      <th>age_restriction</th>\n",
       "      <th>count</th>\n",
       "      <th>sum</th>\n",
       "      <th>mean</th>\n",
       "      <th>median</th>\n",
       "    </tr>\n",
       "  </thead>\n",
       "  <tbody>\n",
       "    <tr>\n",
       "      <th>0</th>\n",
       "      <td>2015</td>\n",
       "      <td>«0+» - для любой зрительской аудитории</td>\n",
       "      <td>39</td>\n",
       "      <td>3.790546e+08</td>\n",
       "      <td>9.719348e+06</td>\n",
       "      <td>2.943319e+06</td>\n",
       "    </tr>\n",
       "    <tr>\n",
       "      <th>1</th>\n",
       "      <td>2015</td>\n",
       "      <td>«12+» - для детей старше 12 лет</td>\n",
       "      <td>73</td>\n",
       "      <td>1.361608e+10</td>\n",
       "      <td>1.865217e+08</td>\n",
       "      <td>1.535156e+07</td>\n",
       "    </tr>\n",
       "    <tr>\n",
       "      <th>2</th>\n",
       "      <td>2015</td>\n",
       "      <td>«16+» - для детей старше 16 лет</td>\n",
       "      <td>168</td>\n",
       "      <td>1.136812e+10</td>\n",
       "      <td>6.766739e+07</td>\n",
       "      <td>4.676819e+06</td>\n",
       "    </tr>\n",
       "    <tr>\n",
       "      <th>3</th>\n",
       "      <td>2015</td>\n",
       "      <td>«18+» - запрещено для детей</td>\n",
       "      <td>132</td>\n",
       "      <td>5.432308e+09</td>\n",
       "      <td>4.115385e+07</td>\n",
       "      <td>4.616615e+06</td>\n",
       "    </tr>\n",
       "    <tr>\n",
       "      <th>4</th>\n",
       "      <td>2015</td>\n",
       "      <td>«6+» - для детей старше 6 лет</td>\n",
       "      <td>53</td>\n",
       "      <td>8.701799e+09</td>\n",
       "      <td>1.641849e+08</td>\n",
       "      <td>2.038098e+07</td>\n",
       "    </tr>\n",
       "    <tr>\n",
       "      <th>5</th>\n",
       "      <td>2016</td>\n",
       "      <td>«0+» - для любой зрительской аудитории</td>\n",
       "      <td>41</td>\n",
       "      <td>1.502288e+08</td>\n",
       "      <td>3.664118e+06</td>\n",
       "      <td>2.571294e+06</td>\n",
       "    </tr>\n",
       "    <tr>\n",
       "      <th>6</th>\n",
       "      <td>2016</td>\n",
       "      <td>«12+» - для детей старше 12 лет</td>\n",
       "      <td>82</td>\n",
       "      <td>1.220445e+10</td>\n",
       "      <td>1.488347e+08</td>\n",
       "      <td>4.690635e+06</td>\n",
       "    </tr>\n",
       "    <tr>\n",
       "      <th>7</th>\n",
       "      <td>2016</td>\n",
       "      <td>«16+» - для детей старше 16 лет</td>\n",
       "      <td>182</td>\n",
       "      <td>1.666455e+10</td>\n",
       "      <td>9.156345e+07</td>\n",
       "      <td>5.133022e+06</td>\n",
       "    </tr>\n",
       "    <tr>\n",
       "      <th>8</th>\n",
       "      <td>2016</td>\n",
       "      <td>«18+» - запрещено для детей</td>\n",
       "      <td>151</td>\n",
       "      <td>6.793930e+09</td>\n",
       "      <td>4.499291e+07</td>\n",
       "      <td>6.107002e+06</td>\n",
       "    </tr>\n",
       "    <tr>\n",
       "      <th>9</th>\n",
       "      <td>2016</td>\n",
       "      <td>«6+» - для детей старше 6 лет</td>\n",
       "      <td>70</td>\n",
       "      <td>1.205315e+10</td>\n",
       "      <td>1.721878e+08</td>\n",
       "      <td>3.026256e+06</td>\n",
       "    </tr>\n",
       "    <tr>\n",
       "      <th>10</th>\n",
       "      <td>2017</td>\n",
       "      <td>«0+» - для любой зрительской аудитории</td>\n",
       "      <td>3</td>\n",
       "      <td>2.295989e+08</td>\n",
       "      <td>7.653298e+07</td>\n",
       "      <td>2.217896e+07</td>\n",
       "    </tr>\n",
       "    <tr>\n",
       "      <th>11</th>\n",
       "      <td>2017</td>\n",
       "      <td>«12+» - для детей старше 12 лет</td>\n",
       "      <td>41</td>\n",
       "      <td>7.851428e+09</td>\n",
       "      <td>1.914982e+08</td>\n",
       "      <td>9.010548e+06</td>\n",
       "    </tr>\n",
       "    <tr>\n",
       "      <th>12</th>\n",
       "      <td>2017</td>\n",
       "      <td>«16+» - для детей старше 16 лет</td>\n",
       "      <td>121</td>\n",
       "      <td>1.874504e+10</td>\n",
       "      <td>1.549177e+08</td>\n",
       "      <td>9.702077e+06</td>\n",
       "    </tr>\n",
       "    <tr>\n",
       "      <th>13</th>\n",
       "      <td>2017</td>\n",
       "      <td>«18+» - запрещено для детей</td>\n",
       "      <td>147</td>\n",
       "      <td>9.651496e+09</td>\n",
       "      <td>6.565643e+07</td>\n",
       "      <td>8.212677e+06</td>\n",
       "    </tr>\n",
       "    <tr>\n",
       "      <th>14</th>\n",
       "      <td>2017</td>\n",
       "      <td>«6+» - для детей старше 6 лет</td>\n",
       "      <td>45</td>\n",
       "      <td>1.208614e+10</td>\n",
       "      <td>2.685809e+08</td>\n",
       "      <td>5.199210e+07</td>\n",
       "    </tr>\n",
       "    <tr>\n",
       "      <th>15</th>\n",
       "      <td>2018</td>\n",
       "      <td>«0+» - для любой зрительской аудитории</td>\n",
       "      <td>5</td>\n",
       "      <td>3.244900e+07</td>\n",
       "      <td>6.489800e+06</td>\n",
       "      <td>3.616937e+06</td>\n",
       "    </tr>\n",
       "    <tr>\n",
       "      <th>16</th>\n",
       "      <td>2018</td>\n",
       "      <td>«12+» - для детей старше 12 лет</td>\n",
       "      <td>67</td>\n",
       "      <td>1.426729e+10</td>\n",
       "      <td>2.129447e+08</td>\n",
       "      <td>8.931966e+06</td>\n",
       "    </tr>\n",
       "    <tr>\n",
       "      <th>17</th>\n",
       "      <td>2018</td>\n",
       "      <td>«16+» - для детей старше 16 лет</td>\n",
       "      <td>156</td>\n",
       "      <td>1.650360e+10</td>\n",
       "      <td>1.057923e+08</td>\n",
       "      <td>9.010639e+06</td>\n",
       "    </tr>\n",
       "    <tr>\n",
       "      <th>18</th>\n",
       "      <td>2018</td>\n",
       "      <td>«18+» - запрещено для детей</td>\n",
       "      <td>179</td>\n",
       "      <td>8.760086e+09</td>\n",
       "      <td>4.893903e+07</td>\n",
       "      <td>7.179466e+06</td>\n",
       "    </tr>\n",
       "    <tr>\n",
       "      <th>19</th>\n",
       "      <td>2018</td>\n",
       "      <td>«6+» - для детей старше 6 лет</td>\n",
       "      <td>68</td>\n",
       "      <td>1.010497e+10</td>\n",
       "      <td>1.486026e+08</td>\n",
       "      <td>1.468885e+07</td>\n",
       "    </tr>\n",
       "    <tr>\n",
       "      <th>20</th>\n",
       "      <td>2019</td>\n",
       "      <td>«0+» - для любой зрительской аудитории</td>\n",
       "      <td>3</td>\n",
       "      <td>1.774607e+07</td>\n",
       "      <td>5.915356e+06</td>\n",
       "      <td>3.885434e+06</td>\n",
       "    </tr>\n",
       "    <tr>\n",
       "      <th>21</th>\n",
       "      <td>2019</td>\n",
       "      <td>«12+» - для детей старше 12 лет</td>\n",
       "      <td>85</td>\n",
       "      <td>1.268020e+10</td>\n",
       "      <td>1.491788e+08</td>\n",
       "      <td>3.405546e+06</td>\n",
       "    </tr>\n",
       "    <tr>\n",
       "      <th>22</th>\n",
       "      <td>2019</td>\n",
       "      <td>«16+» - для детей старше 16 лет</td>\n",
       "      <td>178</td>\n",
       "      <td>1.275342e+10</td>\n",
       "      <td>7.164842e+07</td>\n",
       "      <td>3.210718e+06</td>\n",
       "    </tr>\n",
       "    <tr>\n",
       "      <th>23</th>\n",
       "      <td>2019</td>\n",
       "      <td>«18+» - запрещено для детей</td>\n",
       "      <td>183</td>\n",
       "      <td>1.012180e+10</td>\n",
       "      <td>5.531036e+07</td>\n",
       "      <td>5.603217e+06</td>\n",
       "    </tr>\n",
       "    <tr>\n",
       "      <th>24</th>\n",
       "      <td>2019</td>\n",
       "      <td>«6+» - для детей старше 6 лет</td>\n",
       "      <td>81</td>\n",
       "      <td>1.285255e+10</td>\n",
       "      <td>1.586734e+08</td>\n",
       "      <td>1.287535e+07</td>\n",
       "    </tr>\n",
       "  </tbody>\n",
       "</table>\n",
       "</div>"
      ],
      "text/plain": [
       "    year                         age_restriction  count           sum  \\\n",
       "0   2015  «0+» - для любой зрительской аудитории     39  3.790546e+08   \n",
       "1   2015         «12+» - для детей старше 12 лет     73  1.361608e+10   \n",
       "2   2015         «16+» - для детей старше 16 лет    168  1.136812e+10   \n",
       "3   2015             «18+» - запрещено для детей    132  5.432308e+09   \n",
       "4   2015           «6+» - для детей старше 6 лет     53  8.701799e+09   \n",
       "5   2016  «0+» - для любой зрительской аудитории     41  1.502288e+08   \n",
       "6   2016         «12+» - для детей старше 12 лет     82  1.220445e+10   \n",
       "7   2016         «16+» - для детей старше 16 лет    182  1.666455e+10   \n",
       "8   2016             «18+» - запрещено для детей    151  6.793930e+09   \n",
       "9   2016           «6+» - для детей старше 6 лет     70  1.205315e+10   \n",
       "10  2017  «0+» - для любой зрительской аудитории      3  2.295989e+08   \n",
       "11  2017         «12+» - для детей старше 12 лет     41  7.851428e+09   \n",
       "12  2017         «16+» - для детей старше 16 лет    121  1.874504e+10   \n",
       "13  2017             «18+» - запрещено для детей    147  9.651496e+09   \n",
       "14  2017           «6+» - для детей старше 6 лет     45  1.208614e+10   \n",
       "15  2018  «0+» - для любой зрительской аудитории      5  3.244900e+07   \n",
       "16  2018         «12+» - для детей старше 12 лет     67  1.426729e+10   \n",
       "17  2018         «16+» - для детей старше 16 лет    156  1.650360e+10   \n",
       "18  2018             «18+» - запрещено для детей    179  8.760086e+09   \n",
       "19  2018           «6+» - для детей старше 6 лет     68  1.010497e+10   \n",
       "20  2019  «0+» - для любой зрительской аудитории      3  1.774607e+07   \n",
       "21  2019         «12+» - для детей старше 12 лет     85  1.268020e+10   \n",
       "22  2019         «16+» - для детей старше 16 лет    178  1.275342e+10   \n",
       "23  2019             «18+» - запрещено для детей    183  1.012180e+10   \n",
       "24  2019           «6+» - для детей старше 6 лет     81  1.285255e+10   \n",
       "\n",
       "            mean        median  \n",
       "0   9.719348e+06  2.943319e+06  \n",
       "1   1.865217e+08  1.535156e+07  \n",
       "2   6.766739e+07  4.676819e+06  \n",
       "3   4.115385e+07  4.616615e+06  \n",
       "4   1.641849e+08  2.038098e+07  \n",
       "5   3.664118e+06  2.571294e+06  \n",
       "6   1.488347e+08  4.690635e+06  \n",
       "7   9.156345e+07  5.133022e+06  \n",
       "8   4.499291e+07  6.107002e+06  \n",
       "9   1.721878e+08  3.026256e+06  \n",
       "10  7.653298e+07  2.217896e+07  \n",
       "11  1.914982e+08  9.010548e+06  \n",
       "12  1.549177e+08  9.702077e+06  \n",
       "13  6.565643e+07  8.212677e+06  \n",
       "14  2.685809e+08  5.199210e+07  \n",
       "15  6.489800e+06  3.616937e+06  \n",
       "16  2.129447e+08  8.931966e+06  \n",
       "17  1.057923e+08  9.010639e+06  \n",
       "18  4.893903e+07  7.179466e+06  \n",
       "19  1.486026e+08  1.468885e+07  \n",
       "20  5.915356e+06  3.885434e+06  \n",
       "21  1.491788e+08  3.405546e+06  \n",
       "22  7.164842e+07  3.210718e+06  \n",
       "23  5.531036e+07  5.603217e+06  \n",
       "24  1.586734e+08  1.287535e+07  "
      ]
     },
     "metadata": {},
     "output_type": "display_data"
    }
   ],
   "source": [
    "data_age1 = data.query('year > 2014').pivot_table(index=['year','age_restriction'], values='box_office', aggfunc = ['count', 'sum','mean', 'median']).reset_index()\n",
    "data_age1.columns = ['year', 'age_restriction','count', 'sum','mean', 'median'] # переименуем столбцы\n",
    "display(data_age1)"
   ]
  },
  {
   "cell_type": "code",
   "execution_count": 38,
   "metadata": {},
   "outputs": [
    {
     "data": {
      "text/html": [
       "<div>\n",
       "<style scoped>\n",
       "    .dataframe tbody tr th:only-of-type {\n",
       "        vertical-align: middle;\n",
       "    }\n",
       "\n",
       "    .dataframe tbody tr th {\n",
       "        vertical-align: top;\n",
       "    }\n",
       "\n",
       "    .dataframe thead th {\n",
       "        text-align: right;\n",
       "    }\n",
       "</style>\n",
       "<table border=\"1\" class=\"dataframe\">\n",
       "  <thead>\n",
       "    <tr style=\"text-align: right;\">\n",
       "      <th></th>\n",
       "      <th>box_office</th>\n",
       "      <th>year</th>\n",
       "    </tr>\n",
       "  </thead>\n",
       "  <tbody>\n",
       "    <tr>\n",
       "      <th>box_office</th>\n",
       "      <td>1.000000</td>\n",
       "      <td>0.666295</td>\n",
       "    </tr>\n",
       "    <tr>\n",
       "      <th>year</th>\n",
       "      <td>0.666295</td>\n",
       "      <td>1.000000</td>\n",
       "    </tr>\n",
       "  </tbody>\n",
       "</table>\n",
       "</div>"
      ],
      "text/plain": [
       "            box_office      year\n",
       "box_office    1.000000  0.666295\n",
       "year          0.666295  1.000000"
      ]
     },
     "metadata": {},
     "output_type": "display_data"
    },
    {
     "data": {
      "image/png": "[encoded data removed]",
      "text/plain": [
       "<Figure size 617.875x360 with 1 Axes>"
      ]
     },
     "metadata": {
      "needs_background": "light"
     },
     "output_type": "display_data"
    }
   ],
   "source": [
    "import seaborn as sns\n",
    "sns.catplot(x='year', y='sum', hue='age_restriction', data=data_age1, kind='bar');\n",
    "plt.title('Сумма сборов фильмов');\n",
    "plt.xlabel('Год');\n",
    "plt.ylabel('Сумма сборов по годам в рублях');\n",
    "display(data.pivot_table(index='age_restriction', values=['year', 'box_office']).corr())"
   ]
  },
  {
   "cell_type": "code",
   "execution_count": 39,
   "metadata": {},
   "outputs": [
    {
     "data": {
      "image/png": "[encoded data removed]",
      "text/plain": [
       "<Figure size 617.875x360 with 1 Axes>"
      ]
     },
     "metadata": {
      "needs_background": "light"
     },
     "output_type": "display_data"
    }
   ],
   "source": [
    "import seaborn as sns\n",
    "sns.catplot(x='year', y='median', hue='age_restriction', data=data_age1, kind='bar');\n",
    "plt.title('Медианное значение суммы сборов фильмов');\n",
    "plt.xlabel('Год');\n",
    "plt.ylabel('Сумма сборов по годам в рублях');"
   ]
  },
  {
   "cell_type": "markdown",
   "metadata": {},
   "source": [
    "**Вывод:**\n",
    "* Больше всего выпускается фильмов для категории 16+, соответственно сумма сборов с 2015 по 2019 год в этой категории самая высокая, при этом среднее и медианное значение выше у сборов фильмов в категории 6+.\n",
    "* Сбор средств у фильмов категории 16+ увеличивался с 2015 по 2017 год, затем с такой же скоростью начал снижаться, и в 2019 году сравнялся со сборами фильмов категории 12+ и 6+.\n",
    "* В 2017 году сборы у всех категорий фильмов как общие так и медианные были высоки. Затем начали снижаться.\n",
    "* Самые высокие медианные значения сборов у фильмов категории 6+."
   ]
  },
  {
   "cell_type": "markdown",
   "metadata": {
    "id": "l_Kg6Ku4gFya"
   },
   "source": [
    "### Шаг 4. Исследуйте фильмы, которые получили государственную поддержку\n",
    "\n",
    "На этом этапе нет конкретных инструкций и заданий — поищите интересные закономерности в данных. Посмотрите, сколько выделяют средств на поддержку кино. Проверьте, хорошо ли окупаются такие фильмы, какой у них рейтинг."
   ]
  },
  {
   "cell_type": "code",
   "execution_count": 40,
   "metadata": {},
   "outputs": [
    {
     "data": {
      "text/html": [
       "<div>\n",
       "<style scoped>\n",
       "    .dataframe tbody tr th:only-of-type {\n",
       "        vertical-align: middle;\n",
       "    }\n",
       "\n",
       "    .dataframe tbody tr th {\n",
       "        vertical-align: top;\n",
       "    }\n",
       "\n",
       "    .dataframe thead th {\n",
       "        text-align: right;\n",
       "    }\n",
       "</style>\n",
       "<table border=\"1\" class=\"dataframe\">\n",
       "  <thead>\n",
       "    <tr style=\"text-align: right;\">\n",
       "      <th></th>\n",
       "      <th>help_to_budget</th>\n",
       "      <th>help_total</th>\n",
       "      <th>profit</th>\n",
       "    </tr>\n",
       "  </thead>\n",
       "  <tbody>\n",
       "    <tr>\n",
       "      <th>count</th>\n",
       "      <td>332.000000</td>\n",
       "      <td>3.320000e+02</td>\n",
       "      <td>3.180000e+02</td>\n",
       "    </tr>\n",
       "    <tr>\n",
       "      <th>mean</th>\n",
       "      <td>0.542098</td>\n",
       "      <td>6.084545e+07</td>\n",
       "      <td>4.256980e+05</td>\n",
       "    </tr>\n",
       "    <tr>\n",
       "      <th>std</th>\n",
       "      <td>0.196925</td>\n",
       "      <td>7.275546e+07</td>\n",
       "      <td>3.159104e+08</td>\n",
       "    </tr>\n",
       "    <tr>\n",
       "      <th>min</th>\n",
       "      <td>0.044043</td>\n",
       "      <td>3.000000e+06</td>\n",
       "      <td>-1.971477e+09</td>\n",
       "    </tr>\n",
       "    <tr>\n",
       "      <th>25%</th>\n",
       "      <td>0.384615</td>\n",
       "      <td>2.533375e+07</td>\n",
       "      <td>-7.069443e+07</td>\n",
       "    </tr>\n",
       "    <tr>\n",
       "      <th>50%</th>\n",
       "      <td>0.614038</td>\n",
       "      <td>3.500000e+07</td>\n",
       "      <td>-4.068082e+07</td>\n",
       "    </tr>\n",
       "    <tr>\n",
       "      <th>75%</th>\n",
       "      <td>0.661412</td>\n",
       "      <td>6.000000e+07</td>\n",
       "      <td>-2.362182e+06</td>\n",
       "    </tr>\n",
       "    <tr>\n",
       "      <th>max</th>\n",
       "      <td>1.000000</td>\n",
       "      <td>5.000000e+08</td>\n",
       "      <td>2.913569e+09</td>\n",
       "    </tr>\n",
       "  </tbody>\n",
       "</table>\n",
       "</div>"
      ],
      "text/plain": [
       "       help_to_budget    help_total        profit\n",
       "count      332.000000  3.320000e+02  3.180000e+02\n",
       "mean         0.542098  6.084545e+07  4.256980e+05\n",
       "std          0.196925  7.275546e+07  3.159104e+08\n",
       "min          0.044043  3.000000e+06 -1.971477e+09\n",
       "25%          0.384615  2.533375e+07 -7.069443e+07\n",
       "50%          0.614038  3.500000e+07 -4.068082e+07\n",
       "75%          0.661412  6.000000e+07 -2.362182e+06\n",
       "max          1.000000  5.000000e+08  2.913569e+09"
      ]
     },
     "metadata": {},
     "output_type": "display_data"
    }
   ],
   "source": [
    "# сделаем копию среза данных по ненулевому бюджету\n",
    "data_budget = data.loc[data['budget'].isna()==False].copy()\n",
    "# посчитаем сумму господдержки, данные запишем в новый столбец\n",
    "data_budget['help_total'] = data_budget['refundable_support'] + data_budget['nonrefundable_support']\n",
    "# посчитаем прибыль от проката фильмов, как разность между сборами и бюджетом\n",
    "data_budget['profit'] = data_budget['box_office'] - data_budget['budget']\n",
    "colll = ['help_to_budget', 'help_total', 'profit']\n",
    "display(data_budget[colll].describe()) # выведем числовые характеристики количественных значений"
   ]
  },
  {
   "cell_type": "markdown",
   "metadata": {},
   "source": [
    "**Вывод:**\n",
    "* Среднее значение прибыли от фильмов составляет около 426 тыс, при этом медианное значение отрицательно и составляет 70 694 тыс.\n",
    "* Средняя доля господдержки составляет 0,54, а медианная 0,61, что говорит о том, что больше половины бюджета - господдержка"
   ]
  },
  {
   "cell_type": "code",
   "execution_count": 41,
   "metadata": {},
   "outputs": [
    {
     "data": {
      "text/html": [
       "<div>\n",
       "<style scoped>\n",
       "    .dataframe tbody tr th:only-of-type {\n",
       "        vertical-align: middle;\n",
       "    }\n",
       "\n",
       "    .dataframe tbody tr th {\n",
       "        vertical-align: top;\n",
       "    }\n",
       "\n",
       "    .dataframe thead th {\n",
       "        text-align: right;\n",
       "    }\n",
       "</style>\n",
       "<table border=\"1\" class=\"dataframe\">\n",
       "  <thead>\n",
       "    <tr style=\"text-align: right;\">\n",
       "      <th></th>\n",
       "      <th>year</th>\n",
       "      <th>count</th>\n",
       "      <th>sum</th>\n",
       "      <th>mean</th>\n",
       "      <th>median</th>\n",
       "    </tr>\n",
       "  </thead>\n",
       "  <tbody>\n",
       "    <tr>\n",
       "      <th>0</th>\n",
       "      <td>2013</td>\n",
       "      <td>2</td>\n",
       "      <td>1.343479e+08</td>\n",
       "      <td>6.717397e+07</td>\n",
       "      <td>67173972.5</td>\n",
       "    </tr>\n",
       "    <tr>\n",
       "      <th>1</th>\n",
       "      <td>2014</td>\n",
       "      <td>16</td>\n",
       "      <td>5.720023e+08</td>\n",
       "      <td>3.575014e+07</td>\n",
       "      <td>27500000.0</td>\n",
       "    </tr>\n",
       "    <tr>\n",
       "      <th>2</th>\n",
       "      <td>2015</td>\n",
       "      <td>86</td>\n",
       "      <td>3.656241e+09</td>\n",
       "      <td>4.251444e+07</td>\n",
       "      <td>30000000.0</td>\n",
       "    </tr>\n",
       "    <tr>\n",
       "      <th>3</th>\n",
       "      <td>2016</td>\n",
       "      <td>61</td>\n",
       "      <td>4.303155e+09</td>\n",
       "      <td>7.054353e+07</td>\n",
       "      <td>35000000.0</td>\n",
       "    </tr>\n",
       "    <tr>\n",
       "      <th>4</th>\n",
       "      <td>2017</td>\n",
       "      <td>41</td>\n",
       "      <td>3.183972e+09</td>\n",
       "      <td>7.765785e+07</td>\n",
       "      <td>40000000.0</td>\n",
       "    </tr>\n",
       "    <tr>\n",
       "      <th>5</th>\n",
       "      <td>2018</td>\n",
       "      <td>56</td>\n",
       "      <td>3.446969e+09</td>\n",
       "      <td>6.155303e+07</td>\n",
       "      <td>45000000.0</td>\n",
       "    </tr>\n",
       "    <tr>\n",
       "      <th>6</th>\n",
       "      <td>2019</td>\n",
       "      <td>70</td>\n",
       "      <td>4.904000e+09</td>\n",
       "      <td>7.005714e+07</td>\n",
       "      <td>40000000.0</td>\n",
       "    </tr>\n",
       "  </tbody>\n",
       "</table>\n",
       "</div>"
      ],
      "text/plain": [
       "   year  count           sum          mean      median\n",
       "0  2013      2  1.343479e+08  6.717397e+07  67173972.5\n",
       "1  2014     16  5.720023e+08  3.575014e+07  27500000.0\n",
       "2  2015     86  3.656241e+09  4.251444e+07  30000000.0\n",
       "3  2016     61  4.303155e+09  7.054353e+07  35000000.0\n",
       "4  2017     41  3.183972e+09  7.765785e+07  40000000.0\n",
       "5  2018     56  3.446969e+09  6.155303e+07  45000000.0\n",
       "6  2019     70  4.904000e+09  7.005714e+07  40000000.0"
      ]
     },
     "metadata": {},
     "output_type": "display_data"
    }
   ],
   "source": [
    "data_budget_total = data_budget.pivot_table(index=['year'], values='help_total', aggfunc = ['count', 'sum','mean', 'median']).reset_index()\n",
    "data_budget_total.columns = ['year', 'count', 'sum','mean', 'median'] # переименуем столбцы\n",
    "display(data_budget_total)"
   ]
  },
  {
   "cell_type": "code",
   "execution_count": 42,
   "metadata": {},
   "outputs": [
    {
     "data": {
      "image/png": "[encoded data removed]",
      "text/plain": [
       "<Figure size 360x360 with 1 Axes>"
      ]
     },
     "metadata": {
      "needs_background": "light"
     },
     "output_type": "display_data"
    }
   ],
   "source": [
    "data_budget.pivot_table(index=['year'], values='help_total', aggfunc = ['mean', 'median']).plot(grid=True, style='o-', figsize=(5, 5))\n",
    "plt.title(\"Среднее и медианное значение суммы господдержки по годам\");\n",
    "plt.xlabel(\"Год\")\n",
    "plt.ylabel(\"Сумма господдержки\")\n",
    "plt.show()"
   ]
  },
  {
   "cell_type": "markdown",
   "metadata": {},
   "source": [
    "**Вывод:**\n",
    "* В 2018 году несмотря на то, что среднее значение господдержки снизилось, медианное при этом возросло, что говорит о том что суммы поддержки не сильно разнились между собой"
   ]
  },
  {
   "cell_type": "code",
   "execution_count": 43,
   "metadata": {},
   "outputs": [
    {
     "data": {
      "image/png": "[encoded data removed]",
      "text/plain": [
       "<Figure size 360x360 with 1 Axes>"
      ]
     },
     "metadata": {
      "needs_background": "light"
     },
     "output_type": "display_data"
    }
   ],
   "source": [
    "data_budget.pivot_table(index=['year'], values='help_total', aggfunc = ['sum']).plot(grid=True, style='o-', figsize=(5, 5))\n",
    "plt.title(\"Суммы господдержки по годам\");\n",
    "plt.xlabel(\"Год\")\n",
    "plt.ylabel(\"Сумма поддержки\")\n",
    "plt.show()"
   ]
  },
  {
   "cell_type": "markdown",
   "metadata": {},
   "source": [
    "**Вывод:**\n",
    "* Суммы господдержки с каждым годом увеличиваются, это говорит о том, что государство заинтересовано в развитии отрасли кино"
   ]
  },
  {
   "cell_type": "code",
   "execution_count": 44,
   "metadata": {},
   "outputs": [
    {
     "data": {
      "image/png": "[encoded data removed]",
      "text/plain": [
       "<Figure size 360x360 with 1 Axes>"
      ]
     },
     "metadata": {
      "needs_background": "light"
     },
     "output_type": "display_data"
    }
   ],
   "source": [
    "data_budget.pivot_table(index=['year'], values='help_total', aggfunc = ['count']).plot(grid=True, style='o-', figsize=(5, 5))\n",
    "plt.title(\"Число фильмов, получивших господдержку, по годам\");\n",
    "plt.xlabel(\"Год\")\n",
    "plt.ylabel(\"Количество\")\n",
    "plt.show()"
   ]
  },
  {
   "cell_type": "markdown",
   "metadata": {},
   "source": [
    "**Вывод:**\n",
    "* С 2015 по 2017 количество фильмов с господдержкой уменьшалось, а после 2017 снова начало увеличиваться"
   ]
  },
  {
   "cell_type": "code",
   "execution_count": 45,
   "metadata": {},
   "outputs": [
    {
     "data": {
      "image/png": "[encoded data removed]",
      "text/plain": [
       "<Figure size 360x360 with 1 Axes>"
      ]
     },
     "metadata": {
      "needs_background": "light"
     },
     "output_type": "display_data"
    }
   ],
   "source": [
    "data_budget.pivot_table(index=['year'], values='ratings', aggfunc = ['max', 'min','mean', 'median']).plot(grid=True, style='o-', figsize=(5, 5))\n",
    "plt.title(\"Рейтинг фильмов, получивших господдержку, по годам\");\n",
    "plt.xlabel(\"Год\")\n",
    "plt.ylabel(\"Рейтинг\")\n",
    "plt.show()"
   ]
  },
  {
   "cell_type": "markdown",
   "metadata": {},
   "source": [
    "**Вывод:** \n",
    "* Самый минимальны рейтинг был у фильмов в 2016 году, о чем также говорит среднее и медианное значение, наибольшее медианное значение рейтинга у фильмов 2013 года."
   ]
  },
  {
   "cell_type": "code",
   "execution_count": 46,
   "metadata": {},
   "outputs": [
    {
     "data": {
      "text/html": [
       "<div>\n",
       "<style scoped>\n",
       "    .dataframe tbody tr th:only-of-type {\n",
       "        vertical-align: middle;\n",
       "    }\n",
       "\n",
       "    .dataframe tbody tr th {\n",
       "        vertical-align: top;\n",
       "    }\n",
       "\n",
       "    .dataframe thead th {\n",
       "        text-align: right;\n",
       "    }\n",
       "</style>\n",
       "<table border=\"1\" class=\"dataframe\">\n",
       "  <thead>\n",
       "    <tr style=\"text-align: right;\">\n",
       "      <th></th>\n",
       "      <th>genre_first</th>\n",
       "      <th>count</th>\n",
       "      <th>sum_t</th>\n",
       "      <th>mean_t</th>\n",
       "      <th>median_t</th>\n",
       "      <th>genre_first</th>\n",
       "      <th>sum_p</th>\n",
       "      <th>mean_p</th>\n",
       "      <th>median_p</th>\n",
       "      <th>genre_first</th>\n",
       "      <th>median_r</th>\n",
       "    </tr>\n",
       "  </thead>\n",
       "  <tbody>\n",
       "    <tr>\n",
       "      <th>0</th>\n",
       "      <td>биография</td>\n",
       "      <td>3</td>\n",
       "      <td>1.125100e+08</td>\n",
       "      <td>3.750333e+07</td>\n",
       "      <td>27510000.0</td>\n",
       "      <td>биография</td>\n",
       "      <td>-1.205060e+07</td>\n",
       "      <td>-4.016866e+06</td>\n",
       "      <td>-3.689037e+07</td>\n",
       "      <td>биография</td>\n",
       "      <td>6.90</td>\n",
       "    </tr>\n",
       "    <tr>\n",
       "      <th>1</th>\n",
       "      <td>боевик</td>\n",
       "      <td>6</td>\n",
       "      <td>3.340000e+08</td>\n",
       "      <td>5.566667e+07</td>\n",
       "      <td>42500000.0</td>\n",
       "      <td>боевик</td>\n",
       "      <td>-8.750787e+07</td>\n",
       "      <td>-1.458465e+07</td>\n",
       "      <td>-3.373527e+07</td>\n",
       "      <td>боевик</td>\n",
       "      <td>6.45</td>\n",
       "    </tr>\n",
       "    <tr>\n",
       "      <th>2</th>\n",
       "      <td>военный</td>\n",
       "      <td>9</td>\n",
       "      <td>4.220009e+08</td>\n",
       "      <td>4.688899e+07</td>\n",
       "      <td>45000000.0</td>\n",
       "      <td>военный</td>\n",
       "      <td>-2.682364e+08</td>\n",
       "      <td>-2.980404e+07</td>\n",
       "      <td>-6.705874e+07</td>\n",
       "      <td>военный</td>\n",
       "      <td>6.40</td>\n",
       "    </tr>\n",
       "    <tr>\n",
       "      <th>3</th>\n",
       "      <td>детектив</td>\n",
       "      <td>5</td>\n",
       "      <td>4.850000e+08</td>\n",
       "      <td>9.700000e+07</td>\n",
       "      <td>55000000.0</td>\n",
       "      <td>детектив</td>\n",
       "      <td>-1.059675e+09</td>\n",
       "      <td>-2.119350e+08</td>\n",
       "      <td>-1.215746e+08</td>\n",
       "      <td>детектив</td>\n",
       "      <td>6.80</td>\n",
       "    </tr>\n",
       "    <tr>\n",
       "      <th>4</th>\n",
       "      <td>детский</td>\n",
       "      <td>4</td>\n",
       "      <td>1.190000e+08</td>\n",
       "      <td>2.975000e+07</td>\n",
       "      <td>29500000.0</td>\n",
       "      <td>детский</td>\n",
       "      <td>-1.362844e+08</td>\n",
       "      <td>-4.542812e+07</td>\n",
       "      <td>-4.921946e+07</td>\n",
       "      <td>детский</td>\n",
       "      <td>7.25</td>\n",
       "    </tr>\n",
       "    <tr>\n",
       "      <th>5</th>\n",
       "      <td>драма</td>\n",
       "      <td>93</td>\n",
       "      <td>5.314407e+09</td>\n",
       "      <td>5.714416e+07</td>\n",
       "      <td>30000000.0</td>\n",
       "      <td>драма</td>\n",
       "      <td>-1.339008e+09</td>\n",
       "      <td>-1.539090e+07</td>\n",
       "      <td>-4.013300e+07</td>\n",
       "      <td>драма</td>\n",
       "      <td>6.40</td>\n",
       "    </tr>\n",
       "    <tr>\n",
       "      <th>6</th>\n",
       "      <td>история</td>\n",
       "      <td>4</td>\n",
       "      <td>1.020000e+09</td>\n",
       "      <td>2.550000e+08</td>\n",
       "      <td>240000000.0</td>\n",
       "      <td>история</td>\n",
       "      <td>-6.895940e+08</td>\n",
       "      <td>-1.723985e+08</td>\n",
       "      <td>-2.091613e+08</td>\n",
       "      <td>история</td>\n",
       "      <td>5.90</td>\n",
       "    </tr>\n",
       "    <tr>\n",
       "      <th>7</th>\n",
       "      <td>комедия</td>\n",
       "      <td>74</td>\n",
       "      <td>3.218283e+09</td>\n",
       "      <td>4.349031e+07</td>\n",
       "      <td>35000000.0</td>\n",
       "      <td>комедия</td>\n",
       "      <td>6.479538e+09</td>\n",
       "      <td>8.876080e+07</td>\n",
       "      <td>-2.685745e+07</td>\n",
       "      <td>комедия</td>\n",
       "      <td>5.75</td>\n",
       "    </tr>\n",
       "    <tr>\n",
       "      <th>8</th>\n",
       "      <td>криминал</td>\n",
       "      <td>3</td>\n",
       "      <td>2.800000e+08</td>\n",
       "      <td>9.333333e+07</td>\n",
       "      <td>40000000.0</td>\n",
       "      <td>криминал</td>\n",
       "      <td>-1.868009e+08</td>\n",
       "      <td>-6.226697e+07</td>\n",
       "      <td>-5.946129e+07</td>\n",
       "      <td>криминал</td>\n",
       "      <td>7.80</td>\n",
       "    </tr>\n",
       "    <tr>\n",
       "      <th>9</th>\n",
       "      <td>мелодрама</td>\n",
       "      <td>15</td>\n",
       "      <td>3.980000e+08</td>\n",
       "      <td>2.653333e+07</td>\n",
       "      <td>27500000.0</td>\n",
       "      <td>мелодрама</td>\n",
       "      <td>-8.252164e+08</td>\n",
       "      <td>-5.894403e+07</td>\n",
       "      <td>-5.354880e+07</td>\n",
       "      <td>мелодрама</td>\n",
       "      <td>6.20</td>\n",
       "    </tr>\n",
       "    <tr>\n",
       "      <th>10</th>\n",
       "      <td>мультфильм</td>\n",
       "      <td>31</td>\n",
       "      <td>2.461520e+09</td>\n",
       "      <td>7.940387e+07</td>\n",
       "      <td>70000000.0</td>\n",
       "      <td>мультфильм</td>\n",
       "      <td>-1.747793e+08</td>\n",
       "      <td>-5.825975e+06</td>\n",
       "      <td>-4.088025e+07</td>\n",
       "      <td>мультфильм</td>\n",
       "      <td>6.20</td>\n",
       "    </tr>\n",
       "    <tr>\n",
       "      <th>11</th>\n",
       "      <td>мюзикл</td>\n",
       "      <td>4</td>\n",
       "      <td>2.404531e+08</td>\n",
       "      <td>6.011328e+07</td>\n",
       "      <td>37576559.5</td>\n",
       "      <td>мюзикл</td>\n",
       "      <td>-4.624925e+08</td>\n",
       "      <td>-1.156231e+08</td>\n",
       "      <td>-9.902129e+07</td>\n",
       "      <td>мюзикл</td>\n",
       "      <td>6.60</td>\n",
       "    </tr>\n",
       "    <tr>\n",
       "      <th>12</th>\n",
       "      <td>приключения</td>\n",
       "      <td>7</td>\n",
       "      <td>6.960000e+08</td>\n",
       "      <td>9.942857e+07</td>\n",
       "      <td>40000000.0</td>\n",
       "      <td>приключения</td>\n",
       "      <td>-2.111269e+09</td>\n",
       "      <td>-3.518782e+08</td>\n",
       "      <td>-4.723793e+07</td>\n",
       "      <td>приключения</td>\n",
       "      <td>5.70</td>\n",
       "    </tr>\n",
       "    <tr>\n",
       "      <th>13</th>\n",
       "      <td>реальное ТВ</td>\n",
       "      <td>1</td>\n",
       "      <td>5.300000e+07</td>\n",
       "      <td>5.300000e+07</td>\n",
       "      <td>53000000.0</td>\n",
       "      <td>реальное ТВ</td>\n",
       "      <td>-4.727890e+07</td>\n",
       "      <td>-4.727890e+07</td>\n",
       "      <td>-4.727890e+07</td>\n",
       "      <td>реальное ТВ</td>\n",
       "      <td>5.60</td>\n",
       "    </tr>\n",
       "    <tr>\n",
       "      <th>14</th>\n",
       "      <td>семейный</td>\n",
       "      <td>7</td>\n",
       "      <td>3.390000e+08</td>\n",
       "      <td>4.842857e+07</td>\n",
       "      <td>35000000.0</td>\n",
       "      <td>семейный</td>\n",
       "      <td>-1.937504e+07</td>\n",
       "      <td>-3.229173e+06</td>\n",
       "      <td>-1.832783e+07</td>\n",
       "      <td>семейный</td>\n",
       "      <td>4.80</td>\n",
       "    </tr>\n",
       "    <tr>\n",
       "      <th>15</th>\n",
       "      <td>спорт</td>\n",
       "      <td>3</td>\n",
       "      <td>4.550000e+08</td>\n",
       "      <td>1.516667e+08</td>\n",
       "      <td>40000000.0</td>\n",
       "      <td>спорт</td>\n",
       "      <td>2.257299e+09</td>\n",
       "      <td>7.524331e+08</td>\n",
       "      <td>7.841209e+07</td>\n",
       "      <td>спорт</td>\n",
       "      <td>7.00</td>\n",
       "    </tr>\n",
       "    <tr>\n",
       "      <th>16</th>\n",
       "      <td>триллер</td>\n",
       "      <td>15</td>\n",
       "      <td>7.696453e+08</td>\n",
       "      <td>5.130969e+07</td>\n",
       "      <td>40000000.0</td>\n",
       "      <td>триллер</td>\n",
       "      <td>-6.505107e+08</td>\n",
       "      <td>-4.336738e+07</td>\n",
       "      <td>-6.708531e+07</td>\n",
       "      <td>триллер</td>\n",
       "      <td>5.60</td>\n",
       "    </tr>\n",
       "    <tr>\n",
       "      <th>17</th>\n",
       "      <td>ужасы</td>\n",
       "      <td>10</td>\n",
       "      <td>3.550000e+08</td>\n",
       "      <td>3.550000e+07</td>\n",
       "      <td>30000000.0</td>\n",
       "      <td>ужасы</td>\n",
       "      <td>1.462456e+08</td>\n",
       "      <td>1.462456e+07</td>\n",
       "      <td>-1.242019e+07</td>\n",
       "      <td>ужасы</td>\n",
       "      <td>5.10</td>\n",
       "    </tr>\n",
       "    <tr>\n",
       "      <th>18</th>\n",
       "      <td>фантастика</td>\n",
       "      <td>11</td>\n",
       "      <td>1.406000e+09</td>\n",
       "      <td>1.278182e+08</td>\n",
       "      <td>30000000.0</td>\n",
       "      <td>фантастика</td>\n",
       "      <td>2.191035e+08</td>\n",
       "      <td>2.191035e+07</td>\n",
       "      <td>-4.687616e+07</td>\n",
       "      <td>фантастика</td>\n",
       "      <td>5.95</td>\n",
       "    </tr>\n",
       "    <tr>\n",
       "      <th>19</th>\n",
       "      <td>фэнтези</td>\n",
       "      <td>11</td>\n",
       "      <td>1.032900e+09</td>\n",
       "      <td>9.390000e+07</td>\n",
       "      <td>34000000.0</td>\n",
       "      <td>фэнтези</td>\n",
       "      <td>-1.344287e+09</td>\n",
       "      <td>-1.222079e+08</td>\n",
       "      <td>-5.955475e+07</td>\n",
       "      <td>фэнтези</td>\n",
       "      <td>6.80</td>\n",
       "    </tr>\n",
       "  </tbody>\n",
       "</table>\n",
       "</div>"
      ],
      "text/plain": [
       "    genre_first  count         sum_t        mean_t     median_t  genre_first  \\\n",
       "0     биография      3  1.125100e+08  3.750333e+07   27510000.0    биография   \n",
       "1        боевик      6  3.340000e+08  5.566667e+07   42500000.0       боевик   \n",
       "2       военный      9  4.220009e+08  4.688899e+07   45000000.0      военный   \n",
       "3      детектив      5  4.850000e+08  9.700000e+07   55000000.0     детектив   \n",
       "4       детский      4  1.190000e+08  2.975000e+07   29500000.0      детский   \n",
       "5         драма     93  5.314407e+09  5.714416e+07   30000000.0        драма   \n",
       "6       история      4  1.020000e+09  2.550000e+08  240000000.0      история   \n",
       "7       комедия     74  3.218283e+09  4.349031e+07   35000000.0      комедия   \n",
       "8      криминал      3  2.800000e+08  9.333333e+07   40000000.0     криминал   \n",
       "9     мелодрама     15  3.980000e+08  2.653333e+07   27500000.0    мелодрама   \n",
       "10   мультфильм     31  2.461520e+09  7.940387e+07   70000000.0   мультфильм   \n",
       "11       мюзикл      4  2.404531e+08  6.011328e+07   37576559.5       мюзикл   \n",
       "12  приключения      7  6.960000e+08  9.942857e+07   40000000.0  приключения   \n",
       "13  реальное ТВ      1  5.300000e+07  5.300000e+07   53000000.0  реальное ТВ   \n",
       "14     семейный      7  3.390000e+08  4.842857e+07   35000000.0     семейный   \n",
       "15        спорт      3  4.550000e+08  1.516667e+08   40000000.0        спорт   \n",
       "16      триллер     15  7.696453e+08  5.130969e+07   40000000.0      триллер   \n",
       "17        ужасы     10  3.550000e+08  3.550000e+07   30000000.0        ужасы   \n",
       "18   фантастика     11  1.406000e+09  1.278182e+08   30000000.0   фантастика   \n",
       "19      фэнтези     11  1.032900e+09  9.390000e+07   34000000.0      фэнтези   \n",
       "\n",
       "           sum_p        mean_p      median_p  genre_first  median_r  \n",
       "0  -1.205060e+07 -4.016866e+06 -3.689037e+07    биография      6.90  \n",
       "1  -8.750787e+07 -1.458465e+07 -3.373527e+07       боевик      6.45  \n",
       "2  -2.682364e+08 -2.980404e+07 -6.705874e+07      военный      6.40  \n",
       "3  -1.059675e+09 -2.119350e+08 -1.215746e+08     детектив      6.80  \n",
       "4  -1.362844e+08 -4.542812e+07 -4.921946e+07      детский      7.25  \n",
       "5  -1.339008e+09 -1.539090e+07 -4.013300e+07        драма      6.40  \n",
       "6  -6.895940e+08 -1.723985e+08 -2.091613e+08      история      5.90  \n",
       "7   6.479538e+09  8.876080e+07 -2.685745e+07      комедия      5.75  \n",
       "8  -1.868009e+08 -6.226697e+07 -5.946129e+07     криминал      7.80  \n",
       "9  -8.252164e+08 -5.894403e+07 -5.354880e+07    мелодрама      6.20  \n",
       "10 -1.747793e+08 -5.825975e+06 -4.088025e+07   мультфильм      6.20  \n",
       "11 -4.624925e+08 -1.156231e+08 -9.902129e+07       мюзикл      6.60  \n",
       "12 -2.111269e+09 -3.518782e+08 -4.723793e+07  приключения      5.70  \n",
       "13 -4.727890e+07 -4.727890e+07 -4.727890e+07  реальное ТВ      5.60  \n",
       "14 -1.937504e+07 -3.229173e+06 -1.832783e+07     семейный      4.80  \n",
       "15  2.257299e+09  7.524331e+08  7.841209e+07        спорт      7.00  \n",
       "16 -6.505107e+08 -4.336738e+07 -6.708531e+07      триллер      5.60  \n",
       "17  1.462456e+08  1.462456e+07 -1.242019e+07        ужасы      5.10  \n",
       "18  2.191035e+08  2.191035e+07 -4.687616e+07   фантастика      5.95  \n",
       "19 -1.344287e+09 -1.222079e+08 -5.955475e+07      фэнтези      6.80  "
      ]
     },
     "execution_count": 46,
     "metadata": {},
     "output_type": "execute_result"
    }
   ],
   "source": [
    "data_budget_genre = data_budget.pivot_table(index='genre_first', values='help_total', aggfunc = ['count', 'sum','mean', 'median']).reset_index()\n",
    "data_budget_genre.columns = ['genre_first', 'count', 'sum_t','mean_t', 'median_t'] # переименуем столбцы\n",
    "data_budget_genre1 = data_budget.pivot_table(index='genre_first', values='profit', aggfunc = ['sum','mean', 'median']).reset_index()\n",
    "data_budget_genre1.columns = ['genre_first', 'sum_p','mean_p', 'median_p'] # переименуем столбцы\n",
    "data_budget_genre2 = data_budget.pivot_table(index='genre_first', values='ratings', aggfunc = ['median']).reset_index()\n",
    "data_budget_genre2.columns = ['genre_first', 'median_r'] # переименуем столбцы\n",
    "pd.concat([data_budget_genre,data_budget_genre1,data_budget_genre2], axis=1)"
   ]
  },
  {
   "cell_type": "markdown",
   "metadata": {},
   "source": [
    "**Вывод:**\n",
    "* Самую большую общую сумму господдержки получили фильмы  жанра \"драма\" (макс. рейтинг 6.4) , \"комедия\", \"мультфильм\", при этом наибольшее медианное значение у фильмов жанра \"история\", \"мультфильм\" и \"детектив\" (макс. рейтинг 6.8).\n",
    "* Самая большая суммарная прибыль у фильмов жанра \"комедия\", \"спорт\" (макс. рейтинг 7) и \"фантастика\",  при этом наибольшее медианное значение у фильмов жанра \"спорт\" \n",
    "* Наибольший медианный рейтинг у фильмов жанра \"криминал\" (макс. рейтинг 7.8), \"детский\", \"спорт\"."
   ]
  },
  {
   "cell_type": "code",
   "execution_count": 55,
   "metadata": {},
   "outputs": [
    {
     "data": {
      "text/html": [
       "<div>\n",
       "<style scoped>\n",
       "    .dataframe tbody tr th:only-of-type {\n",
       "        vertical-align: middle;\n",
       "    }\n",
       "\n",
       "    .dataframe tbody tr th {\n",
       "        vertical-align: top;\n",
       "    }\n",
       "\n",
       "    .dataframe thead th {\n",
       "        text-align: right;\n",
       "    }\n",
       "</style>\n",
       "<table border=\"1\" class=\"dataframe\">\n",
       "  <thead>\n",
       "    <tr style=\"text-align: right;\">\n",
       "      <th></th>\n",
       "      <th>count</th>\n",
       "      <th>median_r</th>\n",
       "    </tr>\n",
       "    <tr>\n",
       "      <th>director_first</th>\n",
       "      <th></th>\n",
       "      <th></th>\n",
       "    </tr>\n",
       "  </thead>\n",
       "  <tbody>\n",
       "    <tr>\n",
       "      <th>А.Атанесян</th>\n",
       "      <td>1</td>\n",
       "      <td>8.1</td>\n",
       "    </tr>\n",
       "    <tr>\n",
       "      <th>А.Попова</th>\n",
       "      <td>1</td>\n",
       "      <td>8.0</td>\n",
       "    </tr>\n",
       "    <tr>\n",
       "      <th>К.Оганисян</th>\n",
       "      <td>1</td>\n",
       "      <td>7.9</td>\n",
       "    </tr>\n",
       "  </tbody>\n",
       "</table>\n",
       "</div>"
      ],
      "text/plain": [
       "                count  median_r\n",
       "director_first                 \n",
       "А.Атанесян          1       8.1\n",
       "А.Попова            1       8.0\n",
       "К.Оганисян          1       7.9"
      ]
     },
     "metadata": {},
     "output_type": "display_data"
    },
    {
     "data": {
      "text/html": [
       "<div>\n",
       "<style scoped>\n",
       "    .dataframe tbody tr th:only-of-type {\n",
       "        vertical-align: middle;\n",
       "    }\n",
       "\n",
       "    .dataframe tbody tr th {\n",
       "        vertical-align: top;\n",
       "    }\n",
       "\n",
       "    .dataframe thead th {\n",
       "        text-align: right;\n",
       "    }\n",
       "</style>\n",
       "<table border=\"1\" class=\"dataframe\">\n",
       "  <thead>\n",
       "    <tr style=\"text-align: right;\">\n",
       "      <th></th>\n",
       "      <th>count</th>\n",
       "      <th>median_r</th>\n",
       "    </tr>\n",
       "    <tr>\n",
       "      <th>director_first</th>\n",
       "      <th></th>\n",
       "      <th></th>\n",
       "    </tr>\n",
       "  </thead>\n",
       "  <tbody>\n",
       "    <tr>\n",
       "      <th>Р.Давлетьяров</th>\n",
       "      <td>5</td>\n",
       "      <td>6.30</td>\n",
       "    </tr>\n",
       "    <tr>\n",
       "      <th>Д.Дьяченко</th>\n",
       "      <td>4</td>\n",
       "      <td>5.45</td>\n",
       "    </tr>\n",
       "    <tr>\n",
       "      <th>С.Андреасян</th>\n",
       "      <td>4</td>\n",
       "      <td>6.75</td>\n",
       "    </tr>\n",
       "  </tbody>\n",
       "</table>\n",
       "</div>"
      ],
      "text/plain": [
       "                count  median_r\n",
       "director_first                 \n",
       "Р.Давлетьяров       5      6.30\n",
       "Д.Дьяченко          4      5.45\n",
       "С.Андреасян         4      6.75"
      ]
     },
     "metadata": {},
     "output_type": "display_data"
    },
    {
     "data": {
      "text/html": [
       "<div>\n",
       "<style scoped>\n",
       "    .dataframe tbody tr th:only-of-type {\n",
       "        vertical-align: middle;\n",
       "    }\n",
       "\n",
       "    .dataframe tbody tr th {\n",
       "        vertical-align: top;\n",
       "    }\n",
       "\n",
       "    .dataframe thead th {\n",
       "        text-align: right;\n",
       "    }\n",
       "</style>\n",
       "<table border=\"1\" class=\"dataframe\">\n",
       "  <thead>\n",
       "    <tr style=\"text-align: right;\">\n",
       "      <th></th>\n",
       "      <th>sum_t</th>\n",
       "      <th>median_t</th>\n",
       "    </tr>\n",
       "    <tr>\n",
       "      <th>director_first</th>\n",
       "      <th></th>\n",
       "      <th></th>\n",
       "    </tr>\n",
       "  </thead>\n",
       "  <tbody>\n",
       "    <tr>\n",
       "      <th>А.Кравчук</th>\n",
       "      <td>500000000.0</td>\n",
       "      <td>500000000.0</td>\n",
       "    </tr>\n",
       "    <tr>\n",
       "      <th>А.Мизгирев</th>\n",
       "      <td>450000000.0</td>\n",
       "      <td>450000000.0</td>\n",
       "    </tr>\n",
       "    <tr>\n",
       "      <th>Н.Лебедев</th>\n",
       "      <td>442104482.0</td>\n",
       "      <td>442104482.0</td>\n",
       "    </tr>\n",
       "  </tbody>\n",
       "</table>\n",
       "</div>"
      ],
      "text/plain": [
       "                      sum_t     median_t\n",
       "director_first                          \n",
       "А.Кравчук       500000000.0  500000000.0\n",
       "А.Мизгирев      450000000.0  450000000.0\n",
       "Н.Лебедев       442104482.0  442104482.0"
      ]
     },
     "metadata": {},
     "output_type": "display_data"
    },
    {
     "data": {
      "text/html": [
       "<div>\n",
       "<style scoped>\n",
       "    .dataframe tbody tr th:only-of-type {\n",
       "        vertical-align: middle;\n",
       "    }\n",
       "\n",
       "    .dataframe tbody tr th {\n",
       "        vertical-align: top;\n",
       "    }\n",
       "\n",
       "    .dataframe thead th {\n",
       "        text-align: right;\n",
       "    }\n",
       "</style>\n",
       "<table border=\"1\" class=\"dataframe\">\n",
       "  <thead>\n",
       "    <tr style=\"text-align: right;\">\n",
       "      <th></th>\n",
       "      <th>sum_t</th>\n",
       "      <th>median_t</th>\n",
       "    </tr>\n",
       "    <tr>\n",
       "      <th>director_first</th>\n",
       "      <th></th>\n",
       "      <th></th>\n",
       "    </tr>\n",
       "  </thead>\n",
       "  <tbody>\n",
       "    <tr>\n",
       "      <th>Ф.Бондарчук</th>\n",
       "      <td>750000000.0</td>\n",
       "      <td>375000000.0</td>\n",
       "    </tr>\n",
       "    <tr>\n",
       "      <th>Н.Хомерики</th>\n",
       "      <td>660000000.0</td>\n",
       "      <td>300000000.0</td>\n",
       "    </tr>\n",
       "    <tr>\n",
       "      <th>А.Кравчук</th>\n",
       "      <td>500000000.0</td>\n",
       "      <td>500000000.0</td>\n",
       "    </tr>\n",
       "  </tbody>\n",
       "</table>\n",
       "</div>"
      ],
      "text/plain": [
       "                      sum_t     median_t\n",
       "director_first                          \n",
       "Ф.Бондарчук     750000000.0  375000000.0\n",
       "Н.Хомерики      660000000.0  300000000.0\n",
       "А.Кравчук       500000000.0  500000000.0"
      ]
     },
     "metadata": {},
     "output_type": "display_data"
    },
    {
     "data": {
      "text/html": [
       "<div>\n",
       "<style scoped>\n",
       "    .dataframe tbody tr th:only-of-type {\n",
       "        vertical-align: middle;\n",
       "    }\n",
       "\n",
       "    .dataframe tbody tr th {\n",
       "        vertical-align: top;\n",
       "    }\n",
       "\n",
       "    .dataframe thead th {\n",
       "        text-align: right;\n",
       "    }\n",
       "</style>\n",
       "<table border=\"1\" class=\"dataframe\">\n",
       "  <thead>\n",
       "    <tr style=\"text-align: right;\">\n",
       "      <th></th>\n",
       "      <th>sum_p</th>\n",
       "      <th>median_p</th>\n",
       "    </tr>\n",
       "    <tr>\n",
       "      <th>director_first</th>\n",
       "      <th></th>\n",
       "      <th></th>\n",
       "    </tr>\n",
       "  </thead>\n",
       "  <tbody>\n",
       "    <tr>\n",
       "      <th>А.Мегердичев</th>\n",
       "      <td>2.189494e+09</td>\n",
       "      <td>2.189494e+09</td>\n",
       "    </tr>\n",
       "    <tr>\n",
       "      <th>А.Сидоров</th>\n",
       "      <td>1.707969e+09</td>\n",
       "      <td>1.707969e+09</td>\n",
       "    </tr>\n",
       "    <tr>\n",
       "      <th>О.Трофим</th>\n",
       "      <td>1.297147e+09</td>\n",
       "      <td>1.297147e+09</td>\n",
       "    </tr>\n",
       "  </tbody>\n",
       "</table>\n",
       "</div>"
      ],
      "text/plain": [
       "                       sum_p      median_p\n",
       "director_first                            \n",
       "А.Мегердичев    2.189494e+09  2.189494e+09\n",
       "А.Сидоров       1.707969e+09  1.707969e+09\n",
       "О.Трофим        1.297147e+09  1.297147e+09"
      ]
     },
     "metadata": {},
     "output_type": "display_data"
    },
    {
     "data": {
      "text/html": [
       "<div>\n",
       "<style scoped>\n",
       "    .dataframe tbody tr th:only-of-type {\n",
       "        vertical-align: middle;\n",
       "    }\n",
       "\n",
       "    .dataframe tbody tr th {\n",
       "        vertical-align: top;\n",
       "    }\n",
       "\n",
       "    .dataframe thead th {\n",
       "        text-align: right;\n",
       "    }\n",
       "</style>\n",
       "<table border=\"1\" class=\"dataframe\">\n",
       "  <thead>\n",
       "    <tr style=\"text-align: right;\">\n",
       "      <th></th>\n",
       "      <th>sum_p</th>\n",
       "      <th>median_p</th>\n",
       "    </tr>\n",
       "    <tr>\n",
       "      <th>director_first</th>\n",
       "      <th></th>\n",
       "      <th></th>\n",
       "    </tr>\n",
       "  </thead>\n",
       "  <tbody>\n",
       "    <tr>\n",
       "      <th>К.Шипенко</th>\n",
       "      <td>3.122842e+09</td>\n",
       "      <td>2.589458e+08</td>\n",
       "    </tr>\n",
       "    <tr>\n",
       "      <th>А.Мегердичев</th>\n",
       "      <td>2.189494e+09</td>\n",
       "      <td>2.189494e+09</td>\n",
       "    </tr>\n",
       "    <tr>\n",
       "      <th>А.Сидоров</th>\n",
       "      <td>1.707969e+09</td>\n",
       "      <td>1.707969e+09</td>\n",
       "    </tr>\n",
       "  </tbody>\n",
       "</table>\n",
       "</div>"
      ],
      "text/plain": [
       "                       sum_p      median_p\n",
       "director_first                            \n",
       "К.Шипенко       3.122842e+09  2.589458e+08\n",
       "А.Мегердичев    2.189494e+09  2.189494e+09\n",
       "А.Сидоров       1.707969e+09  1.707969e+09"
      ]
     },
     "metadata": {},
     "output_type": "display_data"
    }
   ],
   "source": [
    "ten_director_ratings = data_budget.pivot_table(index ='director_first', values ='ratings', aggfunc = ['count', 'median'])\n",
    "ten_director_ratings.columns = ['count', 'median_r'] # переименуем столбцы\n",
    "display(ten_director_ratings.sort_values('median_r', ascending = False).head(3))\n",
    "display(ten_director_ratings.sort_values('count', ascending = False).head(3))\n",
    "ten_director_help_total = data_budget.pivot_table(index ='director_first', values ='help_total', aggfunc = ['sum','median'])\n",
    "ten_director_help_total.columns = ['sum_t', 'median_t'] # переименуем столбцы\n",
    "display(ten_director_help_total.sort_values('median_t', ascending = False).head(3))\n",
    "display(ten_director_help_total.sort_values('sum_t', ascending = False).head(3))\n",
    "ten_director_profit = data_budget.pivot_table(index ='director_first', values ='profit', aggfunc = ['sum','median'])\n",
    "ten_director_profit.columns = ['sum_p', 'median_p'] # переименуем столбцы\n",
    "display(ten_director_profit.sort_values('median_p', ascending = False).head(3))\n",
    "display(ten_director_profit.sort_values('sum_p', ascending = False).head(3))"
   ]
  },
  {
   "cell_type": "markdown",
   "metadata": {},
   "source": [
    "**Вывод:**\n",
    "* Наибольший рейтинг фильма, получившего господдержку, равен 8.1 (режиссер А.Атанесян), наибольшее количество фильмов (5) с господдержкой снял Р.Давлетьяров (медианный рейтинг 6.3)\n",
    "* Наибольшее медианное значение суммы господдержки у фильма А.Кравчука, а наибольшая общая сумма господдержки у фильмов Ф.Бондарчука\n",
    "* Наибольшее медианное значение по прибыли от фильмов А. Мегердичева, а суммарная прибыль выше у фильмов К. Шипенко."
   ]
  },
  {
   "cell_type": "markdown",
   "metadata": {
    "id": "V2gYwMcPgFyd"
   },
   "source": [
    "### Шаг 5. Напишите общий вывод"
   ]
  },
  {
   "cell_type": "markdown",
   "metadata": {},
   "source": [
    "**В ПРОЦЕССЕ РАБОТЫ НАД ПРОЕКТОМ БЫЛИ РЕШЕНЫ СЛЕДУЮЩИЕ ЗАДАЧИ И СДЕЛАНЫ ВЫВОДЫ :**\n",
    "* 1) **Изучены данные по рынку российского кинопроката**;\n",
    "* 2) **Проверены и преобразованы типы данных по датафрейму**, а именно: `['puNumber']` на int64, в `['ratings']` - на float64, в `['show_start_date']` - на datetime. Также были объединены таблицы без потери данных.\n",
    "* 3) **Изучена информация по пропущенным значениям**, заполнили по необходимости пропуски: н-р, столбец `['production_country']` содержит 2 пропущенных значения (заменили на значение \"Россия\");\n",
    "* 4) **Изучена информация по дубликатам**: явных дубликатов не обнаружено, но \n",
    "*    - в таблице имееются фильмы с одними и теми же данными, но с разными номерами прокатных удостоверений (удалять дублирующие значения не стали, так как, скорее всего, фильмы выходили в прокат несколько раз)\n",
    "*    - имеются строки, где номера прокатных удостоверений имеют одинаковые значения, но фильмы при этом под ними записаны разные (возможно, одно прокатное удостоверение выдавалось на несколько фильмов сразу), имеются строки, содержащие одни и те же номера прокатных удостоверений, но при этом страна-производитель, режиссер, продюсер, возрастная категория, рейтинг - разные (возможно, это две версии одного фильма(для старшей и младшей возрастных категорий, либо можно признать это дублями, заменив на одно, усредненное значение)\n",
    "* 5) **Изучена информация по категориальным столбцам**: \n",
    "*    - в категориальных столбцах нет единообразия записей, по-разному переведены фамилии и имена режиссеров, продюсеров, нет единообразия написания названий фильмов, стран, снявших фильмы. Также имеются лишние пробелы в указании жанра (были исправлены)\n",
    "* 6) **Изучена информация по количественным значениям данных**:\n",
    "*    - в данных имелись строки, где поддержка была больше, чем бюджет фильма. С целью корректировки данных, была написана функция, которая возращает ненулевые значения поддержки при нулевом бюджете в новый правильный столбец значений бюджета\n",
    "* 7) **Были добавлены новые вспомогательные столбцы**, а именно:\n",
    "*    - создан новый столбец с годом премьеры (данные по фильмам представлены с 2011 по 2019 год);\n",
    "*    - выделен первый в списке режиссер и жанр, значения добавлены в новые столбцы;\n",
    "*    - посчитана доля государственной поддержки по отношению к бюджету по каждому фильму, а также выведены числовые характеристики значений господдержки: медианное значение составило 0,385, а среднее 0,54.\n",
    "* 8) **Изучены данные о изменении количества фильмов по годам**:\n",
    "*    - больше всего в данных представлено фильмов, вышедших в 2010 (985), 2019 (930), 2018 (891), 2016 (818) годах, при этом наибольшее количество фильмов показано в кинотеатрах в 2019 (530), 2016 (526) и 2018 (475) годах. Наибольшее соотношение \"показанные в кинотеатрах-вышедшие в прокат\" составляет 71 % (2017 год)\n",
    "* 9) **Изучены данные о суммах сборов фильмов в прокате**: \n",
    "*    - сумма сборов с 2010 по 2018 год увеличивалась. Наибольший скачок произошел с 2014 по 2016 год. Максимальная сумма сборов была в 2018 году. Минимальная, согласно данным, в 2010. В 2019 году сумма сборов оказалась чуть меньше, чем в 2018 году.\n",
    "*    - среднее и медианное значения значительно разнятся с 2013-2019 года, при этом тенденция к увеличению или уменьшению сборов прослеживается на обоих показателях (в 2017 году и то и другое находится в максимальной точке). Значительная разница говорит о том, что сборы по фильмам очень сильно отличаются (имеются как сильно провальные , так и очень успешные фильмы) \n",
    "* 10) **Изучены данные по сборам и выпуску фильмов в зависимости от возрастной категории фильма**:\n",
    "*   - больше всего выпускается фильмов для категории 16+, соответственно сумма сборов с 2015 по 2019 год в этой категории самая высокая, при этом среднее и медианное значение выше у сборов фильмов в категории 6+.\n",
    "*   - сбор средств у фильмов категории 16+ увеличивался с 2015 по 2017 год, затем с такой же скоростью начал снижаться, и в 2019 году сравнялся со сборами фильмов категории 12+ и 6+.\n",
    "*   - в 2017 году сборы у всех категорий фильмов как общие так и медианные были высоки. Затем начали снижаться.\n",
    "*   - самые высокие медианные значения сборов у фильмов категории 6+.\n",
    "* 11) **Изучены данные по значениям прибыли, господдержки, рейтинга фильмов**: \n",
    "*   - среднее значение прибыли от фильмов составляет около 426 тыс, при этом медианное значение отрицательно и составляет 70 694 тыс.\n",
    "*   - средняя доля господдержки составляет 0,54, а медианная 0,61, что говорит о том, что больше половины бюджета – господдержка\n",
    "*   - в 2018 году несмотря на то, что среднее значение господдержки снизилось, медианное при этом возросло, что говорит о том что суммы поддержки не сильно разнились между собой\n",
    "*   - суммы господдержки с каждым годом увеличиваются, это говорит о том, что государство заинтересовано в развитии отрасли кино, при этом С 2015 по 2017 количество фильмов с господдержкой уменьшалось, а после 2017 снова начало увеличиваться\n",
    "*   - самый минимальны рейтинг был у фильмов в 2016 году, о чем также говорит среднее и медианное значение, наибольшее медианное значение рейтинга у фильмов 2013 года.\n",
    "*   - самую большую общую сумму господдержки получили фильмы  жанра \"драма\" (макс. рейтинг 6.4) , \"комедия\", \"мультфильм\", при этом наибольшее медианное значение у фильмов жанра \"история\", \"мультфильм\" и \"детектив\" (макс. рейтинг 6.8).\n",
    "*   - самая большая суммарная прибыль у фильмов жанра \"комедия\", \"спорт\" (макс. рейтинг 7) и \"фантастика\",  при этом наибольшее медианное значение у фильмов жанра \"спорт\" \n",
    "*   - наибольший медианный рейтинг у фильмов жанра \"криминал\" (макс. рейтинг 7.8), \"детский\", \"спорт\"\n",
    "*   - наибольший рейтинг фильма, получившего господдержку, равен 8.1 (режиссер А.Атанесян), наибольшее количество фильмов (5) с господдержкой снял Р.Давлетьяров (медианный рейтинг 6.3)\n",
    "*   - наибольшее медианное значение суммы господдержки у фильма А.Кравчука, а наибольшая общая сумма господдержки у фильмов Ф.Бондарчука\n",
    "*   - наибольшее медианное значение по прибыли от фильмов А. Мегердичева, а суммарная прибыль выше у фильмов К. Шипенко.\n",
    "\n",
    "\n"
   ]
  }
 ],
 "metadata": {
  "ExecuteTimeLog": [
   {
    "duration": 537,
    "start_time": "2021-07-07T10:12:08.634Z"
   },
   {
    "duration": 206,
    "start_time": "2021-07-07T10:12:30.191Z"
   },
   {
    "duration": 227,
    "start_time": "2021-07-07T10:12:33.078Z"
   },
   {
    "duration": 153,
    "start_time": "2021-07-07T10:13:42.146Z"
   },
   {
    "duration": 233,
    "start_time": "2021-07-07T10:30:09.252Z"
   },
   {
    "duration": 19,
    "start_time": "2021-07-07T10:30:15.577Z"
   },
   {
    "duration": 18,
    "start_time": "2021-07-07T10:30:57.348Z"
   },
   {
    "duration": 19,
    "start_time": "2021-07-07T10:31:17.452Z"
   },
   {
    "duration": 21,
    "start_time": "2021-07-07T10:31:32.227Z"
   },
   {
    "duration": 27,
    "start_time": "2021-07-07T10:32:06.588Z"
   },
   {
    "duration": 23,
    "start_time": "2021-07-07T10:32:43.645Z"
   },
   {
    "duration": 24,
    "start_time": "2021-07-07T10:33:06.948Z"
   },
   {
    "duration": 7,
    "start_time": "2021-07-07T10:33:28.558Z"
   },
   {
    "duration": 23,
    "start_time": "2021-07-07T10:33:43.761Z"
   },
   {
    "duration": 28,
    "start_time": "2021-07-07T10:34:13.466Z"
   },
   {
    "duration": 23,
    "start_time": "2021-07-07T10:35:56.187Z"
   },
   {
    "duration": 6,
    "start_time": "2021-07-07T10:36:48.182Z"
   },
   {
    "duration": 14,
    "start_time": "2021-07-07T10:37:49.641Z"
   },
   {
    "duration": 6,
    "start_time": "2021-07-07T10:38:06.694Z"
   },
   {
    "duration": 6,
    "start_time": "2021-07-07T10:38:13.493Z"
   },
   {
    "duration": 19,
    "start_time": "2021-07-07T10:38:44.056Z"
   },
   {
    "duration": 186,
    "start_time": "2021-07-07T10:48:35.618Z"
   },
   {
    "duration": 24,
    "start_time": "2021-07-07T10:48:51.498Z"
   },
   {
    "duration": 20,
    "start_time": "2021-07-07T10:48:59.415Z"
   },
   {
    "duration": 20,
    "start_time": "2021-07-07T10:53:02.195Z"
   },
   {
    "duration": 188,
    "start_time": "2021-07-07T10:54:40.486Z"
   },
   {
    "duration": 115,
    "start_time": "2021-07-07T10:54:52.552Z"
   },
   {
    "duration": 214,
    "start_time": "2021-07-07T10:54:56.354Z"
   },
   {
    "duration": 47,
    "start_time": "2021-07-07T10:54:58.282Z"
   },
   {
    "duration": 217,
    "start_time": "2021-07-07T10:59:16.075Z"
   },
   {
    "duration": 51,
    "start_time": "2021-07-07T10:59:16.243Z"
   },
   {
    "duration": 578,
    "start_time": "2021-07-07T10:59:18.774Z"
   },
   {
    "duration": 161,
    "start_time": "2021-07-07T10:59:21.238Z"
   },
   {
    "duration": 59,
    "start_time": "2021-07-07T10:59:21.453Z"
   },
   {
    "duration": 3,
    "start_time": "2021-07-07T11:02:10.786Z"
   },
   {
    "duration": 13,
    "start_time": "2021-07-07T11:07:07.722Z"
   },
   {
    "duration": 26,
    "start_time": "2021-07-07T11:07:17.958Z"
   },
   {
    "duration": 22,
    "start_time": "2021-07-07T11:08:17.939Z"
   },
   {
    "duration": 212,
    "start_time": "2021-07-07T11:08:19.665Z"
   },
   {
    "duration": 21,
    "start_time": "2021-07-07T11:08:29.945Z"
   },
   {
    "duration": 31,
    "start_time": "2021-07-07T11:08:38.899Z"
   },
   {
    "duration": 23,
    "start_time": "2021-07-07T11:08:54.527Z"
   },
   {
    "duration": 8,
    "start_time": "2021-07-07T11:18:55.974Z"
   },
   {
    "duration": 7,
    "start_time": "2021-07-07T11:19:03.639Z"
   },
   {
    "duration": 7,
    "start_time": "2021-07-07T11:19:06.444Z"
   },
   {
    "duration": 578,
    "start_time": "2021-07-07T12:09:59.576Z"
   },
   {
    "duration": 195,
    "start_time": "2021-07-07T12:10:00.156Z"
   },
   {
    "duration": 115,
    "start_time": "2021-07-07T12:10:00.353Z"
   },
   {
    "duration": 3,
    "start_time": "2021-07-07T12:10:00.470Z"
   },
   {
    "duration": 32,
    "start_time": "2021-07-07T12:10:00.474Z"
   },
   {
    "duration": 23,
    "start_time": "2021-07-07T12:10:00.508Z"
   },
   {
    "duration": 19,
    "start_time": "2021-07-07T12:10:00.533Z"
   },
   {
    "duration": 44,
    "start_time": "2021-07-07T12:10:00.553Z"
   },
   {
    "duration": 7,
    "start_time": "2021-07-07T12:10:00.600Z"
   },
   {
    "duration": 7,
    "start_time": "2021-07-07T12:19:45.761Z"
   },
   {
    "duration": 21,
    "start_time": "2021-07-07T12:21:35.482Z"
   },
   {
    "duration": 21,
    "start_time": "2021-07-07T12:29:23.569Z"
   },
   {
    "duration": 525,
    "start_time": "2021-07-07T12:29:44.542Z"
   },
   {
    "duration": 214,
    "start_time": "2021-07-07T12:29:45.069Z"
   },
   {
    "duration": 92,
    "start_time": "2021-07-07T12:29:45.285Z"
   },
   {
    "duration": 3,
    "start_time": "2021-07-07T12:29:45.379Z"
   },
   {
    "duration": 28,
    "start_time": "2021-07-07T12:29:45.384Z"
   },
   {
    "duration": 23,
    "start_time": "2021-07-07T12:29:45.413Z"
   },
   {
    "duration": 21,
    "start_time": "2021-07-07T12:29:45.437Z"
   },
   {
    "duration": 41,
    "start_time": "2021-07-07T12:29:45.460Z"
   },
   {
    "duration": 7,
    "start_time": "2021-07-07T12:29:45.502Z"
   },
   {
    "duration": 20,
    "start_time": "2021-07-07T12:29:45.511Z"
   },
   {
    "duration": 12,
    "start_time": "2021-07-07T12:34:02.800Z"
   },
   {
    "duration": 7,
    "start_time": "2021-07-07T12:35:10.479Z"
   },
   {
    "duration": 8,
    "start_time": "2021-07-07T12:35:22.440Z"
   },
   {
    "duration": 6,
    "start_time": "2021-07-07T12:35:35.649Z"
   },
   {
    "duration": 6,
    "start_time": "2021-07-07T12:35:43.107Z"
   },
   {
    "duration": 22,
    "start_time": "2021-07-07T12:38:03.029Z"
   },
   {
    "duration": 10,
    "start_time": "2021-07-07T12:38:06.592Z"
   },
   {
    "duration": 563,
    "start_time": "2021-07-07T12:38:46.493Z"
   },
   {
    "duration": 265,
    "start_time": "2021-07-07T12:38:47.058Z"
   },
   {
    "duration": 94,
    "start_time": "2021-07-07T12:38:47.325Z"
   },
   {
    "duration": 3,
    "start_time": "2021-07-07T12:38:47.422Z"
   },
   {
    "duration": 30,
    "start_time": "2021-07-07T12:38:47.427Z"
   },
   {
    "duration": 16,
    "start_time": "2021-07-07T12:38:53.305Z"
   },
   {
    "duration": 10,
    "start_time": "2021-07-07T12:38:53.499Z"
   },
   {
    "duration": 8,
    "start_time": "2021-07-07T12:39:48.161Z"
   },
   {
    "duration": 27,
    "start_time": "2021-07-07T12:41:17.629Z"
   },
   {
    "duration": 17,
    "start_time": "2021-07-07T12:41:17.867Z"
   },
   {
    "duration": 21,
    "start_time": "2021-07-07T12:41:19.310Z"
   },
   {
    "duration": 7,
    "start_time": "2021-07-07T12:41:19.544Z"
   },
   {
    "duration": 20,
    "start_time": "2021-07-07T12:41:20.504Z"
   },
   {
    "duration": 554,
    "start_time": "2021-07-07T12:56:23.696Z"
   },
   {
    "duration": 200,
    "start_time": "2021-07-07T12:56:25.234Z"
   },
   {
    "duration": 119,
    "start_time": "2021-07-07T12:56:25.480Z"
   },
   {
    "duration": 4,
    "start_time": "2021-07-07T12:56:25.762Z"
   },
   {
    "duration": 26,
    "start_time": "2021-07-07T12:56:27.172Z"
   },
   {
    "duration": 12,
    "start_time": "2021-07-07T12:56:29.051Z"
   },
   {
    "duration": 10,
    "start_time": "2021-07-07T12:56:29.291Z"
   },
   {
    "duration": 8,
    "start_time": "2021-07-07T12:56:29.623Z"
   },
   {
    "duration": 28,
    "start_time": "2021-07-07T12:56:32.137Z"
   },
   {
    "duration": 19,
    "start_time": "2021-07-07T12:56:39.785Z"
   },
   {
    "duration": 20,
    "start_time": "2021-07-07T12:56:44.297Z"
   },
   {
    "duration": 7,
    "start_time": "2021-07-07T12:56:45.392Z"
   },
   {
    "duration": 23,
    "start_time": "2021-07-07T12:56:46.615Z"
   },
   {
    "duration": 4,
    "start_time": "2021-07-07T12:57:06.625Z"
   },
   {
    "duration": 32,
    "start_time": "2021-07-07T12:57:36.690Z"
   },
   {
    "duration": 18,
    "start_time": "2021-07-07T12:58:00.149Z"
   },
   {
    "duration": 15,
    "start_time": "2021-07-07T12:59:16.793Z"
   },
   {
    "duration": 7,
    "start_time": "2021-07-07T13:19:22.624Z"
   },
   {
    "duration": 6,
    "start_time": "2021-07-07T14:17:33.527Z"
   },
   {
    "duration": 9,
    "start_time": "2021-07-07T14:17:48.409Z"
   },
   {
    "duration": 8,
    "start_time": "2021-07-07T14:20:13.060Z"
   },
   {
    "duration": 8,
    "start_time": "2021-07-07T14:20:37.957Z"
   },
   {
    "duration": 8,
    "start_time": "2021-07-07T14:20:47.470Z"
   },
   {
    "duration": 9,
    "start_time": "2021-07-07T14:20:54.503Z"
   },
   {
    "duration": 10,
    "start_time": "2021-07-07T14:28:57.763Z"
   },
   {
    "duration": 3,
    "start_time": "2021-07-07T14:30:23.377Z"
   },
   {
    "duration": 3,
    "start_time": "2021-07-07T14:30:36.489Z"
   },
   {
    "duration": 103,
    "start_time": "2021-07-07T14:30:52.351Z"
   },
   {
    "duration": 8,
    "start_time": "2021-07-07T14:30:54.763Z"
   },
   {
    "duration": 8,
    "start_time": "2021-07-07T14:31:29.301Z"
   },
   {
    "duration": 13,
    "start_time": "2021-07-07T14:31:44.516Z"
   },
   {
    "duration": 7,
    "start_time": "2021-07-07T14:33:10.972Z"
   },
   {
    "duration": 11,
    "start_time": "2021-07-07T14:33:27.780Z"
   },
   {
    "duration": 8,
    "start_time": "2021-07-07T14:34:44.588Z"
   },
   {
    "duration": 57,
    "start_time": "2021-07-07T14:35:59.042Z"
   },
   {
    "duration": 3,
    "start_time": "2021-07-07T14:36:28.168Z"
   },
   {
    "duration": 5,
    "start_time": "2021-07-07T14:36:46.254Z"
   },
   {
    "duration": 4,
    "start_time": "2021-07-07T14:36:52.714Z"
   },
   {
    "duration": 3,
    "start_time": "2021-07-07T14:36:56.612Z"
   },
   {
    "duration": 4,
    "start_time": "2021-07-07T14:36:57.049Z"
   },
   {
    "duration": 3,
    "start_time": "2021-07-07T14:39:21.214Z"
   },
   {
    "duration": 7,
    "start_time": "2021-07-07T14:39:52.406Z"
   },
   {
    "duration": 11,
    "start_time": "2021-07-07T14:39:58.576Z"
   },
   {
    "duration": 9,
    "start_time": "2021-07-07T14:40:26.301Z"
   },
   {
    "duration": 10,
    "start_time": "2021-07-07T14:40:31.704Z"
   },
   {
    "duration": 11,
    "start_time": "2021-07-07T14:40:36.249Z"
   },
   {
    "duration": 10,
    "start_time": "2021-07-07T14:40:39.783Z"
   },
   {
    "duration": 9,
    "start_time": "2021-07-07T14:40:48.558Z"
   },
   {
    "duration": 10,
    "start_time": "2021-07-07T14:40:57.143Z"
   },
   {
    "duration": 9,
    "start_time": "2021-07-07T14:41:06.074Z"
   },
   {
    "duration": 4324,
    "start_time": "2021-07-07T14:41:22.004Z"
   },
   {
    "duration": 11,
    "start_time": "2021-07-07T14:41:33.392Z"
   },
   {
    "duration": 9,
    "start_time": "2021-07-07T14:41:39.288Z"
   },
   {
    "duration": 569,
    "start_time": "2021-07-07T14:42:14.387Z"
   },
   {
    "duration": 197,
    "start_time": "2021-07-07T14:42:14.959Z"
   },
   {
    "duration": 84,
    "start_time": "2021-07-07T14:42:16.052Z"
   },
   {
    "duration": 4,
    "start_time": "2021-07-07T14:42:16.900Z"
   },
   {
    "duration": 27,
    "start_time": "2021-07-07T14:42:19.898Z"
   },
   {
    "duration": 12,
    "start_time": "2021-07-07T14:42:21.577Z"
   },
   {
    "duration": 9,
    "start_time": "2021-07-07T14:42:21.813Z"
   },
   {
    "duration": 9,
    "start_time": "2021-07-07T14:42:22.569Z"
   },
   {
    "duration": 29,
    "start_time": "2021-07-07T14:42:25.837Z"
   },
   {
    "duration": 20,
    "start_time": "2021-07-07T14:42:27.003Z"
   },
   {
    "duration": 21,
    "start_time": "2021-07-07T14:42:28.767Z"
   },
   {
    "duration": 7,
    "start_time": "2021-07-07T14:42:29.838Z"
   },
   {
    "duration": 4,
    "start_time": "2021-07-07T14:43:25.493Z"
   },
   {
    "duration": 7,
    "start_time": "2021-07-07T14:43:26.573Z"
   },
   {
    "duration": 10,
    "start_time": "2021-07-07T14:43:31.639Z"
   },
   {
    "duration": 9,
    "start_time": "2021-07-07T14:43:32.046Z"
   },
   {
    "duration": 10,
    "start_time": "2021-07-07T14:43:33.301Z"
   },
   {
    "duration": 12,
    "start_time": "2021-07-07T14:43:33.658Z"
   },
   {
    "duration": 8,
    "start_time": "2021-07-07T14:43:34.552Z"
   },
   {
    "duration": 9,
    "start_time": "2021-07-07T14:43:35.058Z"
   },
   {
    "duration": 12,
    "start_time": "2021-07-07T14:43:35.914Z"
   },
   {
    "duration": 17,
    "start_time": "2021-07-07T14:45:34.368Z"
   },
   {
    "duration": 512,
    "start_time": "2021-07-07T14:51:58.236Z"
   },
   {
    "duration": 223,
    "start_time": "2021-07-07T14:51:58.750Z"
   },
   {
    "duration": 93,
    "start_time": "2021-07-07T14:51:58.977Z"
   },
   {
    "duration": 4,
    "start_time": "2021-07-07T14:51:59.071Z"
   },
   {
    "duration": 37,
    "start_time": "2021-07-07T14:51:59.077Z"
   },
   {
    "duration": 18,
    "start_time": "2021-07-07T14:51:59.116Z"
   },
   {
    "duration": 10,
    "start_time": "2021-07-07T14:51:59.137Z"
   },
   {
    "duration": 8,
    "start_time": "2021-07-07T14:51:59.149Z"
   },
   {
    "duration": 54,
    "start_time": "2021-07-07T14:51:59.158Z"
   },
   {
    "duration": 18,
    "start_time": "2021-07-07T14:51:59.213Z"
   },
   {
    "duration": 22,
    "start_time": "2021-07-07T14:51:59.232Z"
   },
   {
    "duration": 36,
    "start_time": "2021-07-07T14:51:59.255Z"
   },
   {
    "duration": 7,
    "start_time": "2021-07-07T14:51:59.293Z"
   },
   {
    "duration": 10,
    "start_time": "2021-07-07T14:51:59.302Z"
   },
   {
    "duration": 9,
    "start_time": "2021-07-07T14:51:59.313Z"
   },
   {
    "duration": 11,
    "start_time": "2021-07-07T14:51:59.324Z"
   },
   {
    "duration": 8,
    "start_time": "2021-07-07T14:51:59.337Z"
   },
   {
    "duration": 46,
    "start_time": "2021-07-07T14:51:59.347Z"
   },
   {
    "duration": 22,
    "start_time": "2021-07-07T14:51:59.395Z"
   },
   {
    "duration": 24,
    "start_time": "2021-07-07T14:57:32.911Z"
   },
   {
    "duration": 7,
    "start_time": "2021-07-07T14:58:22.070Z"
   },
   {
    "duration": 4,
    "start_time": "2021-07-07T14:59:11.239Z"
   },
   {
    "duration": 25,
    "start_time": "2021-07-07T15:07:22.208Z"
   },
   {
    "duration": 16,
    "start_time": "2021-07-07T15:08:25.560Z"
   },
   {
    "duration": 15,
    "start_time": "2021-07-07T15:08:40.647Z"
   },
   {
    "duration": 14,
    "start_time": "2021-07-07T15:08:46.669Z"
   },
   {
    "duration": 533,
    "start_time": "2021-07-07T15:18:07.440Z"
   },
   {
    "duration": 173,
    "start_time": "2021-07-07T15:18:07.974Z"
   },
   {
    "duration": 84,
    "start_time": "2021-07-07T15:18:08.149Z"
   },
   {
    "duration": 3,
    "start_time": "2021-07-07T15:18:08.235Z"
   },
   {
    "duration": 30,
    "start_time": "2021-07-07T15:18:08.240Z"
   },
   {
    "duration": 22,
    "start_time": "2021-07-07T15:18:08.272Z"
   },
   {
    "duration": 11,
    "start_time": "2021-07-07T15:18:08.295Z"
   },
   {
    "duration": 11,
    "start_time": "2021-07-07T15:18:08.309Z"
   },
   {
    "duration": 40,
    "start_time": "2021-07-07T15:18:08.322Z"
   },
   {
    "duration": 42,
    "start_time": "2021-07-07T15:18:08.364Z"
   },
   {
    "duration": 22,
    "start_time": "2021-07-07T15:18:08.408Z"
   },
   {
    "duration": 5,
    "start_time": "2021-07-07T15:18:08.432Z"
   },
   {
    "duration": 13,
    "start_time": "2021-07-07T15:18:08.439Z"
   },
   {
    "duration": 9,
    "start_time": "2021-07-07T15:18:08.454Z"
   },
   {
    "duration": 32,
    "start_time": "2021-07-07T15:18:08.465Z"
   },
   {
    "duration": 10,
    "start_time": "2021-07-07T15:18:08.501Z"
   },
   {
    "duration": 7,
    "start_time": "2021-07-07T15:18:08.513Z"
   },
   {
    "duration": 11,
    "start_time": "2021-07-07T15:18:08.521Z"
   },
   {
    "duration": 17,
    "start_time": "2021-07-07T15:18:08.534Z"
   },
   {
    "duration": 44,
    "start_time": "2021-07-07T15:18:08.553Z"
   },
   {
    "duration": 22,
    "start_time": "2021-07-07T15:18:08.599Z"
   },
   {
    "duration": 61,
    "start_time": "2021-07-07T15:18:08.622Z"
   },
   {
    "duration": 7,
    "start_time": "2021-07-07T15:18:39.457Z"
   },
   {
    "duration": 5,
    "start_time": "2021-07-07T16:05:17.020Z"
   },
   {
    "duration": 5,
    "start_time": "2021-07-07T16:51:28.794Z"
   },
   {
    "duration": 546,
    "start_time": "2021-07-07T16:52:26.306Z"
   },
   {
    "duration": 203,
    "start_time": "2021-07-07T16:52:27.523Z"
   },
   {
    "duration": 85,
    "start_time": "2021-07-07T16:52:27.736Z"
   },
   {
    "duration": 4,
    "start_time": "2021-07-07T16:52:27.899Z"
   },
   {
    "duration": 25,
    "start_time": "2021-07-07T16:52:28.674Z"
   },
   {
    "duration": 8,
    "start_time": "2021-07-07T16:52:32.956Z"
   },
   {
    "duration": 18,
    "start_time": "2021-07-07T16:52:35.616Z"
   },
   {
    "duration": 6,
    "start_time": "2021-07-07T16:52:36.913Z"
   },
   {
    "duration": 11,
    "start_time": "2021-07-07T16:52:40.258Z"
   },
   {
    "duration": 10,
    "start_time": "2021-07-07T16:52:46.251Z"
   },
   {
    "duration": 8,
    "start_time": "2021-07-07T16:52:47.182Z"
   },
   {
    "duration": 27,
    "start_time": "2021-07-07T16:53:20.391Z"
   },
   {
    "duration": 20,
    "start_time": "2021-07-07T16:53:22.022Z"
   },
   {
    "duration": 23,
    "start_time": "2021-07-07T16:53:23.690Z"
   },
   {
    "duration": 8,
    "start_time": "2021-07-07T16:53:24.261Z"
   },
   {
    "duration": 4,
    "start_time": "2021-07-07T16:53:38.733Z"
   },
   {
    "duration": 7,
    "start_time": "2021-07-07T16:53:40.445Z"
   },
   {
    "duration": 11,
    "start_time": "2021-07-07T16:53:41.348Z"
   },
   {
    "duration": 13,
    "start_time": "2021-07-07T16:53:45.250Z"
   },
   {
    "duration": 12,
    "start_time": "2021-07-07T16:53:45.467Z"
   },
   {
    "duration": 4,
    "start_time": "2021-07-07T16:55:32.704Z"
   },
   {
    "duration": 12,
    "start_time": "2021-07-07T16:55:49.012Z"
   },
   {
    "duration": 18,
    "start_time": "2021-07-07T16:55:49.547Z"
   },
   {
    "duration": 611,
    "start_time": "2021-07-07T16:58:35.156Z"
   },
   {
    "duration": 200,
    "start_time": "2021-07-07T16:58:35.770Z"
   },
   {
    "duration": 86,
    "start_time": "2021-07-07T16:58:35.972Z"
   },
   {
    "duration": 3,
    "start_time": "2021-07-07T16:58:36.060Z"
   },
   {
    "duration": 27,
    "start_time": "2021-07-07T16:58:36.065Z"
   },
   {
    "duration": 8,
    "start_time": "2021-07-07T16:58:36.094Z"
   },
   {
    "duration": 17,
    "start_time": "2021-07-07T16:58:36.103Z"
   },
   {
    "duration": 5,
    "start_time": "2021-07-07T16:58:36.123Z"
   },
   {
    "duration": 11,
    "start_time": "2021-07-07T16:58:36.130Z"
   },
   {
    "duration": 7,
    "start_time": "2021-07-07T16:58:36.143Z"
   },
   {
    "duration": 37,
    "start_time": "2021-07-07T16:58:36.152Z"
   },
   {
    "duration": 27,
    "start_time": "2021-07-07T16:58:36.191Z"
   },
   {
    "duration": 19,
    "start_time": "2021-07-07T16:58:36.219Z"
   },
   {
    "duration": 49,
    "start_time": "2021-07-07T16:58:36.240Z"
   },
   {
    "duration": 6,
    "start_time": "2021-07-07T16:58:36.291Z"
   },
   {
    "duration": 3,
    "start_time": "2021-07-07T16:58:36.299Z"
   },
   {
    "duration": 13,
    "start_time": "2021-07-07T16:58:36.304Z"
   },
   {
    "duration": 10,
    "start_time": "2021-07-07T16:58:36.319Z"
   },
   {
    "duration": 10,
    "start_time": "2021-07-07T16:58:36.331Z"
   },
   {
    "duration": 44,
    "start_time": "2021-07-07T16:58:36.343Z"
   },
   {
    "duration": 4,
    "start_time": "2021-07-07T16:58:36.388Z"
   },
   {
    "duration": 13,
    "start_time": "2021-07-07T16:58:36.394Z"
   },
   {
    "duration": 16,
    "start_time": "2021-07-07T16:58:36.410Z"
   },
   {
    "duration": 8,
    "start_time": "2021-07-07T17:02:31.629Z"
   },
   {
    "duration": 8,
    "start_time": "2021-07-07T17:02:34.308Z"
   },
   {
    "duration": 6,
    "start_time": "2021-07-07T17:05:13.483Z"
   },
   {
    "duration": 17,
    "start_time": "2021-07-07T17:05:20.606Z"
   },
   {
    "duration": 7,
    "start_time": "2021-07-07T17:05:34.638Z"
   },
   {
    "duration": 3,
    "start_time": "2021-07-07T17:06:31.883Z"
   },
   {
    "duration": 570,
    "start_time": "2021-07-07T17:06:37.165Z"
   },
   {
    "duration": 174,
    "start_time": "2021-07-07T17:06:37.737Z"
   },
   {
    "duration": 47,
    "start_time": "2021-07-07T17:06:37.913Z"
   },
   {
    "duration": 3,
    "start_time": "2021-07-07T17:06:37.962Z"
   },
   {
    "duration": 27,
    "start_time": "2021-07-07T17:06:37.967Z"
   },
   {
    "duration": 7,
    "start_time": "2021-07-07T17:06:37.996Z"
   },
   {
    "duration": 16,
    "start_time": "2021-07-07T17:06:38.005Z"
   },
   {
    "duration": 6,
    "start_time": "2021-07-07T17:06:38.024Z"
   },
   {
    "duration": 12,
    "start_time": "2021-07-07T17:06:38.031Z"
   },
   {
    "duration": 41,
    "start_time": "2021-07-07T17:06:38.045Z"
   },
   {
    "duration": 8,
    "start_time": "2021-07-07T17:06:38.088Z"
   },
   {
    "duration": 26,
    "start_time": "2021-07-07T17:06:38.098Z"
   },
   {
    "duration": 17,
    "start_time": "2021-07-07T17:06:38.126Z"
   },
   {
    "duration": 43,
    "start_time": "2021-07-07T17:06:38.144Z"
   },
   {
    "duration": 6,
    "start_time": "2021-07-07T17:06:38.188Z"
   },
   {
    "duration": 5,
    "start_time": "2021-07-07T17:06:38.195Z"
   },
   {
    "duration": 9,
    "start_time": "2021-07-07T17:06:38.201Z"
   },
   {
    "duration": 12,
    "start_time": "2021-07-07T17:06:38.212Z"
   },
   {
    "duration": 11,
    "start_time": "2021-07-07T17:06:38.226Z"
   },
   {
    "duration": 47,
    "start_time": "2021-07-07T17:06:38.239Z"
   },
   {
    "duration": 4,
    "start_time": "2021-07-07T17:06:38.288Z"
   },
   {
    "duration": 13,
    "start_time": "2021-07-07T17:06:38.293Z"
   },
   {
    "duration": 5,
    "start_time": "2021-07-07T17:06:38.309Z"
   },
   {
    "duration": 18,
    "start_time": "2021-07-07T17:06:38.325Z"
   },
   {
    "duration": 20,
    "start_time": "2021-07-07T17:07:02.805Z"
   },
   {
    "duration": 19,
    "start_time": "2021-07-07T17:07:08.527Z"
   },
   {
    "duration": 19,
    "start_time": "2021-07-07T17:07:12.758Z"
   },
   {
    "duration": 22,
    "start_time": "2021-07-07T17:07:17.497Z"
   },
   {
    "duration": 19,
    "start_time": "2021-07-07T17:07:19.645Z"
   },
   {
    "duration": 10,
    "start_time": "2021-07-07T17:07:34.239Z"
   },
   {
    "duration": 17,
    "start_time": "2021-07-07T17:07:54.144Z"
   },
   {
    "duration": 14,
    "start_time": "2021-07-07T17:08:14.357Z"
   },
   {
    "duration": 616,
    "start_time": "2021-07-07T17:08:45.254Z"
   },
   {
    "duration": 178,
    "start_time": "2021-07-07T17:08:45.872Z"
   },
   {
    "duration": 60,
    "start_time": "2021-07-07T17:08:46.054Z"
   },
   {
    "duration": 3,
    "start_time": "2021-07-07T17:08:46.116Z"
   },
   {
    "duration": 26,
    "start_time": "2021-07-07T17:08:46.121Z"
   },
   {
    "duration": 7,
    "start_time": "2021-07-07T17:08:46.149Z"
   },
   {
    "duration": 17,
    "start_time": "2021-07-07T17:08:46.158Z"
   },
   {
    "duration": 14,
    "start_time": "2021-07-07T17:08:46.176Z"
   },
   {
    "duration": 17,
    "start_time": "2021-07-07T17:08:46.193Z"
   },
   {
    "duration": 9,
    "start_time": "2021-07-07T17:08:46.211Z"
   },
   {
    "duration": 21,
    "start_time": "2021-07-07T17:08:46.221Z"
   },
   {
    "duration": 49,
    "start_time": "2021-07-07T17:08:46.244Z"
   },
   {
    "duration": 24,
    "start_time": "2021-07-07T17:08:46.295Z"
   },
   {
    "duration": 22,
    "start_time": "2021-07-07T17:08:46.321Z"
   },
   {
    "duration": 6,
    "start_time": "2021-07-07T17:08:46.345Z"
   },
   {
    "duration": 5,
    "start_time": "2021-07-07T17:08:46.353Z"
   },
   {
    "duration": 13,
    "start_time": "2021-07-07T17:08:46.386Z"
   },
   {
    "duration": 12,
    "start_time": "2021-07-07T17:08:46.402Z"
   },
   {
    "duration": 10,
    "start_time": "2021-07-07T17:08:46.415Z"
   },
   {
    "duration": 7,
    "start_time": "2021-07-07T17:08:46.427Z"
   },
   {
    "duration": 8,
    "start_time": "2021-07-07T17:08:46.435Z"
   },
   {
    "duration": 68,
    "start_time": "2021-07-07T17:08:46.446Z"
   },
   {
    "duration": 13,
    "start_time": "2021-07-07T17:08:46.516Z"
   },
   {
    "duration": 78,
    "start_time": "2021-07-07T17:08:46.530Z"
   },
   {
    "duration": 40,
    "start_time": "2021-07-07T17:09:08.185Z"
   },
   {
    "duration": 16,
    "start_time": "2021-07-07T17:09:19.324Z"
   },
   {
    "duration": 21,
    "start_time": "2021-07-07T17:09:23.290Z"
   },
   {
    "duration": 13,
    "start_time": "2021-07-07T17:09:54.812Z"
   },
   {
    "duration": 13,
    "start_time": "2021-07-07T17:10:02.039Z"
   },
   {
    "duration": 10,
    "start_time": "2021-07-07T17:10:29.632Z"
   },
   {
    "duration": 13,
    "start_time": "2021-07-07T17:10:52.372Z"
   },
   {
    "duration": 13,
    "start_time": "2021-07-07T17:11:17.270Z"
   },
   {
    "duration": 13,
    "start_time": "2021-07-07T17:14:59.284Z"
   },
   {
    "duration": 547,
    "start_time": "2021-07-07T17:18:52.403Z"
   },
   {
    "duration": 163,
    "start_time": "2021-07-07T17:18:52.952Z"
   },
   {
    "duration": 44,
    "start_time": "2021-07-07T17:18:53.117Z"
   },
   {
    "duration": 3,
    "start_time": "2021-07-07T17:18:53.162Z"
   },
   {
    "duration": 26,
    "start_time": "2021-07-07T17:18:53.167Z"
   },
   {
    "duration": 6,
    "start_time": "2021-07-07T17:18:53.195Z"
   },
   {
    "duration": 15,
    "start_time": "2021-07-07T17:18:53.203Z"
   },
   {
    "duration": 5,
    "start_time": "2021-07-07T17:18:53.220Z"
   },
   {
    "duration": 11,
    "start_time": "2021-07-07T17:18:53.228Z"
   },
   {
    "duration": 9,
    "start_time": "2021-07-07T17:18:53.241Z"
   },
   {
    "duration": 41,
    "start_time": "2021-07-07T17:18:53.252Z"
   },
   {
    "duration": 33,
    "start_time": "2021-07-07T17:18:53.295Z"
   },
   {
    "duration": 19,
    "start_time": "2021-07-07T17:18:53.330Z"
   },
   {
    "duration": 49,
    "start_time": "2021-07-07T17:18:53.350Z"
   },
   {
    "duration": 5,
    "start_time": "2021-07-07T17:18:53.401Z"
   },
   {
    "duration": 5,
    "start_time": "2021-07-07T17:18:53.408Z"
   },
   {
    "duration": 11,
    "start_time": "2021-07-07T17:18:53.414Z"
   },
   {
    "duration": 9,
    "start_time": "2021-07-07T17:18:53.427Z"
   },
   {
    "duration": 10,
    "start_time": "2021-07-07T17:18:53.437Z"
   },
   {
    "duration": 39,
    "start_time": "2021-07-07T17:18:53.448Z"
   },
   {
    "duration": 26,
    "start_time": "2021-07-07T17:18:55.799Z"
   },
   {
    "duration": 598,
    "start_time": "2021-07-07T17:20:17.862Z"
   },
   {
    "duration": 161,
    "start_time": "2021-07-07T17:20:18.462Z"
   },
   {
    "duration": 45,
    "start_time": "2021-07-07T17:20:18.626Z"
   },
   {
    "duration": 4,
    "start_time": "2021-07-07T17:20:18.673Z"
   },
   {
    "duration": 38,
    "start_time": "2021-07-07T17:20:26.877Z"
   },
   {
    "duration": 7,
    "start_time": "2021-07-07T17:20:37.405Z"
   },
   {
    "duration": 19,
    "start_time": "2021-07-07T17:20:51.534Z"
   },
   {
    "duration": 5,
    "start_time": "2021-07-07T17:20:57.228Z"
   },
   {
    "duration": 7,
    "start_time": "2021-07-07T17:21:08.235Z"
   },
   {
    "duration": 19,
    "start_time": "2021-07-07T17:21:42.158Z"
   },
   {
    "duration": 14,
    "start_time": "2021-07-07T17:21:50.225Z"
   },
   {
    "duration": 22,
    "start_time": "2021-07-07T17:22:54.104Z"
   },
   {
    "duration": 5,
    "start_time": "2021-07-07T17:22:56.371Z"
   },
   {
    "duration": 14,
    "start_time": "2021-07-07T17:22:58.316Z"
   },
   {
    "duration": 5,
    "start_time": "2021-07-07T17:22:58.493Z"
   },
   {
    "duration": 35,
    "start_time": "2021-07-07T17:22:59.666Z"
   },
   {
    "duration": 6,
    "start_time": "2021-07-07T17:23:02.410Z"
   },
   {
    "duration": 611,
    "start_time": "2021-07-07T17:24:59.664Z"
   },
   {
    "duration": 178,
    "start_time": "2021-07-07T17:25:01.945Z"
   },
   {
    "duration": 47,
    "start_time": "2021-07-07T17:25:02.125Z"
   },
   {
    "duration": 2,
    "start_time": "2021-07-07T17:25:07.903Z"
   },
   {
    "duration": 254,
    "start_time": "2021-07-07T17:25:08.232Z"
   },
   {
    "duration": 182,
    "start_time": "2021-07-07T17:25:08.671Z"
   },
   {
    "duration": 6,
    "start_time": "2021-07-07T17:25:13.104Z"
   },
   {
    "duration": 36,
    "start_time": "2021-07-07T17:25:13.662Z"
   },
   {
    "duration": 7,
    "start_time": "2021-07-07T17:25:14.528Z"
   },
   {
    "duration": 24,
    "start_time": "2021-07-07T17:25:27.982Z"
   },
   {
    "duration": 3,
    "start_time": "2021-07-07T17:25:48.982Z"
   },
   {
    "duration": 165,
    "start_time": "2021-07-07T17:25:48.987Z"
   },
   {
    "duration": 50,
    "start_time": "2021-07-07T17:25:49.154Z"
   },
   {
    "duration": 4,
    "start_time": "2021-07-07T17:25:49.206Z"
   },
   {
    "duration": 26,
    "start_time": "2021-07-07T17:25:49.212Z"
   },
   {
    "duration": 7,
    "start_time": "2021-07-07T17:25:49.240Z"
   },
   {
    "duration": 16,
    "start_time": "2021-07-07T17:25:49.249Z"
   },
   {
    "duration": 22,
    "start_time": "2021-07-07T17:25:49.266Z"
   },
   {
    "duration": 16,
    "start_time": "2021-07-07T17:25:49.291Z"
   },
   {
    "duration": 9,
    "start_time": "2021-07-07T17:25:49.309Z"
   },
   {
    "duration": 7,
    "start_time": "2021-07-07T17:25:49.319Z"
   },
   {
    "duration": 28,
    "start_time": "2021-07-07T17:25:49.328Z"
   },
   {
    "duration": 44,
    "start_time": "2021-07-07T17:25:49.357Z"
   },
   {
    "duration": 22,
    "start_time": "2021-07-07T17:25:49.403Z"
   },
   {
    "duration": 7,
    "start_time": "2021-07-07T17:25:49.427Z"
   },
   {
    "duration": 3,
    "start_time": "2021-07-07T17:25:49.436Z"
   },
   {
    "duration": 44,
    "start_time": "2021-07-07T17:25:49.441Z"
   },
   {
    "duration": 12,
    "start_time": "2021-07-07T17:25:49.488Z"
   },
   {
    "duration": 13,
    "start_time": "2021-07-07T17:25:49.502Z"
   },
   {
    "duration": 10,
    "start_time": "2021-07-07T17:25:49.516Z"
   },
   {
    "duration": 62,
    "start_time": "2021-07-07T17:25:49.527Z"
   },
   {
    "duration": 26,
    "start_time": "2021-07-07T17:26:51.809Z"
   },
   {
    "duration": 26,
    "start_time": "2021-07-07T17:26:55.759Z"
   },
   {
    "duration": 26,
    "start_time": "2021-07-07T17:27:04.501Z"
   },
   {
    "duration": 25,
    "start_time": "2021-07-07T17:28:24.859Z"
   },
   {
    "duration": 21,
    "start_time": "2021-07-07T17:28:55.250Z"
   },
   {
    "duration": 21,
    "start_time": "2021-07-07T17:28:58.885Z"
   },
   {
    "duration": 7,
    "start_time": "2021-07-07T17:45:40.972Z"
   },
   {
    "duration": 13,
    "start_time": "2021-07-07T17:45:42.529Z"
   },
   {
    "duration": 27,
    "start_time": "2021-07-07T17:45:51.026Z"
   },
   {
    "duration": 518,
    "start_time": "2021-07-07T17:46:15.532Z"
   },
   {
    "duration": 235,
    "start_time": "2021-07-07T17:46:16.053Z"
   },
   {
    "duration": 80,
    "start_time": "2021-07-07T17:46:16.292Z"
   },
   {
    "duration": 5,
    "start_time": "2021-07-07T17:46:16.373Z"
   },
   {
    "duration": 26,
    "start_time": "2021-07-07T17:46:16.380Z"
   },
   {
    "duration": 7,
    "start_time": "2021-07-07T17:46:16.408Z"
   },
   {
    "duration": 16,
    "start_time": "2021-07-07T17:46:16.418Z"
   },
   {
    "duration": 5,
    "start_time": "2021-07-07T17:46:16.436Z"
   },
   {
    "duration": 13,
    "start_time": "2021-07-07T17:46:16.442Z"
   },
   {
    "duration": 35,
    "start_time": "2021-07-07T17:46:16.456Z"
   },
   {
    "duration": 8,
    "start_time": "2021-07-07T17:46:16.493Z"
   },
   {
    "duration": 28,
    "start_time": "2021-07-07T17:46:16.502Z"
   },
   {
    "duration": 17,
    "start_time": "2021-07-07T17:46:16.532Z"
   },
   {
    "duration": 44,
    "start_time": "2021-07-07T17:46:16.551Z"
   },
   {
    "duration": 6,
    "start_time": "2021-07-07T17:46:16.597Z"
   },
   {
    "duration": 4,
    "start_time": "2021-07-07T17:46:16.605Z"
   },
   {
    "duration": 9,
    "start_time": "2021-07-07T17:46:16.610Z"
   },
   {
    "duration": 9,
    "start_time": "2021-07-07T17:46:16.621Z"
   },
   {
    "duration": 10,
    "start_time": "2021-07-07T17:46:16.632Z"
   },
   {
    "duration": 43,
    "start_time": "2021-07-07T17:46:16.644Z"
   },
   {
    "duration": 26,
    "start_time": "2021-07-07T17:46:16.689Z"
   },
   {
    "duration": 19,
    "start_time": "2021-07-07T17:46:16.718Z"
   },
   {
    "duration": 8,
    "start_time": "2021-07-07T17:46:16.738Z"
   },
   {
    "duration": 43,
    "start_time": "2021-07-07T17:46:16.747Z"
   },
   {
    "duration": 19,
    "start_time": "2021-07-07T17:46:16.791Z"
   },
   {
    "duration": 9,
    "start_time": "2021-07-07T17:46:16.812Z"
   },
   {
    "duration": 60,
    "start_time": "2021-07-07T17:46:16.822Z"
   },
   {
    "duration": -8,
    "start_time": "2021-07-07T17:46:16.892Z"
   },
   {
    "duration": 12,
    "start_time": "2021-07-07T17:48:47.707Z"
   },
   {
    "duration": 553,
    "start_time": "2021-07-07T18:10:09.350Z"
   },
   {
    "duration": 230,
    "start_time": "2021-07-07T18:10:09.905Z"
   },
   {
    "duration": 97,
    "start_time": "2021-07-07T18:10:10.137Z"
   },
   {
    "duration": 5,
    "start_time": "2021-07-07T18:10:10.236Z"
   },
   {
    "duration": 29,
    "start_time": "2021-07-07T18:10:10.242Z"
   },
   {
    "duration": 7,
    "start_time": "2021-07-07T18:10:10.272Z"
   },
   {
    "duration": 15,
    "start_time": "2021-07-07T18:10:10.281Z"
   },
   {
    "duration": 4,
    "start_time": "2021-07-07T18:10:10.299Z"
   },
   {
    "duration": 14,
    "start_time": "2021-07-07T18:10:10.305Z"
   },
   {
    "duration": 8,
    "start_time": "2021-07-07T18:10:10.321Z"
   },
   {
    "duration": 8,
    "start_time": "2021-07-07T18:10:10.331Z"
   },
   {
    "duration": 56,
    "start_time": "2021-07-07T18:10:10.341Z"
   },
   {
    "duration": 19,
    "start_time": "2021-07-07T18:10:10.399Z"
   },
   {
    "duration": 23,
    "start_time": "2021-07-07T18:10:10.419Z"
   },
   {
    "duration": 6,
    "start_time": "2021-07-07T18:10:10.444Z"
   },
   {
    "duration": 9,
    "start_time": "2021-07-07T18:10:10.451Z"
   },
   {
    "duration": 30,
    "start_time": "2021-07-07T18:10:10.462Z"
   },
   {
    "duration": 9,
    "start_time": "2021-07-07T18:10:10.494Z"
   },
   {
    "duration": 14,
    "start_time": "2021-07-07T18:10:10.505Z"
   },
   {
    "duration": 7,
    "start_time": "2021-07-07T18:10:10.521Z"
   },
   {
    "duration": 26,
    "start_time": "2021-07-07T18:10:10.530Z"
   },
   {
    "duration": 44,
    "start_time": "2021-07-07T18:10:10.558Z"
   },
   {
    "duration": 7,
    "start_time": "2021-07-07T18:10:10.605Z"
   },
   {
    "duration": 11,
    "start_time": "2021-07-07T18:10:10.614Z"
   },
   {
    "duration": 19,
    "start_time": "2021-07-07T18:10:10.626Z"
   },
   {
    "duration": 44,
    "start_time": "2021-07-07T18:10:10.646Z"
   },
   {
    "duration": 516,
    "start_time": "2021-07-07T18:14:00.826Z"
   },
   {
    "duration": 230,
    "start_time": "2021-07-07T18:14:01.344Z"
   },
   {
    "duration": 105,
    "start_time": "2021-07-07T18:14:01.576Z"
   },
   {
    "duration": 5,
    "start_time": "2021-07-07T18:14:01.683Z"
   },
   {
    "duration": 46,
    "start_time": "2021-07-07T18:14:01.690Z"
   },
   {
    "duration": 7,
    "start_time": "2021-07-07T18:14:01.738Z"
   },
   {
    "duration": 20,
    "start_time": "2021-07-07T18:14:01.747Z"
   },
   {
    "duration": 16,
    "start_time": "2021-07-07T18:14:01.769Z"
   },
   {
    "duration": 14,
    "start_time": "2021-07-07T18:14:01.787Z"
   },
   {
    "duration": 15,
    "start_time": "2021-07-07T18:14:01.803Z"
   },
   {
    "duration": 12,
    "start_time": "2021-07-07T18:14:01.820Z"
   },
   {
    "duration": 35,
    "start_time": "2021-07-07T18:14:01.833Z"
   },
   {
    "duration": 31,
    "start_time": "2021-07-07T18:14:01.869Z"
   },
   {
    "duration": 37,
    "start_time": "2021-07-07T18:14:01.902Z"
   },
   {
    "duration": 8,
    "start_time": "2021-07-07T18:14:01.942Z"
   },
   {
    "duration": 16,
    "start_time": "2021-07-07T18:14:01.952Z"
   },
   {
    "duration": 13,
    "start_time": "2021-07-07T18:14:01.970Z"
   },
   {
    "duration": 32,
    "start_time": "2021-07-07T18:14:01.985Z"
   },
   {
    "duration": 11,
    "start_time": "2021-07-07T18:14:02.019Z"
   },
   {
    "duration": 22,
    "start_time": "2021-07-07T18:14:02.031Z"
   },
   {
    "duration": 27,
    "start_time": "2021-07-07T18:14:02.055Z"
   },
   {
    "duration": 18,
    "start_time": "2021-07-07T18:14:02.084Z"
   },
   {
    "duration": 18,
    "start_time": "2021-07-07T18:14:02.106Z"
   },
   {
    "duration": 11,
    "start_time": "2021-07-07T18:14:02.126Z"
   },
   {
    "duration": 21,
    "start_time": "2021-07-07T18:14:02.138Z"
   },
   {
    "duration": 32,
    "start_time": "2021-07-07T18:14:02.161Z"
   },
   {
    "duration": 28,
    "start_time": "2021-07-07T18:14:44.295Z"
   },
   {
    "duration": 6,
    "start_time": "2021-07-07T18:15:05.834Z"
   },
   {
    "duration": 511,
    "start_time": "2021-07-07T18:15:41.541Z"
   },
   {
    "duration": 183,
    "start_time": "2021-07-07T18:15:42.054Z"
   },
   {
    "duration": 50,
    "start_time": "2021-07-07T18:15:42.239Z"
   },
   {
    "duration": 5,
    "start_time": "2021-07-07T18:15:42.291Z"
   },
   {
    "duration": 48,
    "start_time": "2021-07-07T18:15:42.297Z"
   },
   {
    "duration": 8,
    "start_time": "2021-07-07T18:15:42.346Z"
   },
   {
    "duration": 17,
    "start_time": "2021-07-07T18:15:42.356Z"
   },
   {
    "duration": 15,
    "start_time": "2021-07-07T18:15:42.375Z"
   },
   {
    "duration": 12,
    "start_time": "2021-07-07T18:15:42.392Z"
   },
   {
    "duration": 7,
    "start_time": "2021-07-07T18:15:42.406Z"
   },
   {
    "duration": 7,
    "start_time": "2021-07-07T18:15:42.415Z"
   },
   {
    "duration": 29,
    "start_time": "2021-07-07T18:15:42.423Z"
   },
   {
    "duration": 43,
    "start_time": "2021-07-07T18:15:42.453Z"
   },
   {
    "duration": 18,
    "start_time": "2021-07-07T18:15:42.497Z"
   },
   {
    "duration": 6,
    "start_time": "2021-07-07T18:15:42.516Z"
   },
   {
    "duration": 3,
    "start_time": "2021-07-07T18:15:42.523Z"
   },
   {
    "duration": 18,
    "start_time": "2021-07-07T18:15:42.528Z"
   },
   {
    "duration": 10,
    "start_time": "2021-07-07T18:15:42.547Z"
   },
   {
    "duration": 36,
    "start_time": "2021-07-07T18:15:42.559Z"
   },
   {
    "duration": 8,
    "start_time": "2021-07-07T18:15:42.597Z"
   },
   {
    "duration": 28,
    "start_time": "2021-07-07T18:15:42.606Z"
   },
   {
    "duration": 52,
    "start_time": "2021-07-07T18:15:42.635Z"
   },
   {
    "duration": 7,
    "start_time": "2021-07-07T18:15:42.690Z"
   },
   {
    "duration": 10,
    "start_time": "2021-07-07T18:15:42.699Z"
   },
   {
    "duration": 19,
    "start_time": "2021-07-07T18:15:42.711Z"
   },
   {
    "duration": 9,
    "start_time": "2021-07-07T18:15:42.732Z"
   },
   {
    "duration": 5,
    "start_time": "2021-07-07T18:15:42.743Z"
   },
   {
    "duration": 1450,
    "start_time": "2021-07-07T18:15:51.984Z"
   },
   {
    "duration": 161,
    "start_time": "2021-07-07T18:15:53.435Z"
   },
   {
    "duration": 124,
    "start_time": "2021-07-07T18:15:53.598Z"
   },
   {
    "duration": 5,
    "start_time": "2021-07-07T18:15:53.724Z"
   },
   {
    "duration": 34,
    "start_time": "2021-07-07T18:15:53.730Z"
   },
   {
    "duration": 7,
    "start_time": "2021-07-07T18:15:53.765Z"
   },
   {
    "duration": 15,
    "start_time": "2021-07-07T18:15:53.773Z"
   },
   {
    "duration": 5,
    "start_time": "2021-07-07T18:15:53.791Z"
   },
   {
    "duration": 19,
    "start_time": "2021-07-07T18:15:53.798Z"
   },
   {
    "duration": 9,
    "start_time": "2021-07-07T18:15:53.818Z"
   },
   {
    "duration": 19,
    "start_time": "2021-07-07T18:15:53.828Z"
   },
   {
    "duration": 27,
    "start_time": "2021-07-07T18:15:53.848Z"
   },
   {
    "duration": 16,
    "start_time": "2021-07-07T18:15:53.884Z"
   },
   {
    "duration": 29,
    "start_time": "2021-07-07T18:15:53.901Z"
   },
   {
    "duration": 5,
    "start_time": "2021-07-07T18:15:53.932Z"
   },
   {
    "duration": 15,
    "start_time": "2021-07-07T18:15:53.939Z"
   },
   {
    "duration": 13,
    "start_time": "2021-07-07T18:15:53.956Z"
   },
   {
    "duration": 20,
    "start_time": "2021-07-07T18:15:53.971Z"
   },
   {
    "duration": 14,
    "start_time": "2021-07-07T18:15:53.992Z"
   },
   {
    "duration": 9,
    "start_time": "2021-07-07T18:15:54.009Z"
   },
   {
    "duration": 28,
    "start_time": "2021-07-07T18:15:54.020Z"
   },
   {
    "duration": 50,
    "start_time": "2021-07-07T18:15:54.051Z"
   },
   {
    "duration": 8,
    "start_time": "2021-07-07T18:15:54.105Z"
   },
   {
    "duration": 11,
    "start_time": "2021-07-07T18:15:54.115Z"
   },
   {
    "duration": 20,
    "start_time": "2021-07-07T18:15:54.128Z"
   },
   {
    "duration": 13,
    "start_time": "2021-07-07T18:15:54.184Z"
   },
   {
    "duration": 7,
    "start_time": "2021-07-07T18:15:54.199Z"
   },
   {
    "duration": 7,
    "start_time": "2021-07-07T18:17:08.042Z"
   },
   {
    "duration": 8,
    "start_time": "2021-07-07T18:17:21.008Z"
   },
   {
    "duration": 7,
    "start_time": "2021-07-07T18:17:29.003Z"
   },
   {
    "duration": 8,
    "start_time": "2021-07-07T18:17:32.492Z"
   },
   {
    "duration": 9,
    "start_time": "2021-07-07T18:17:41.758Z"
   },
   {
    "duration": 255,
    "start_time": "2021-07-07T18:20:20.897Z"
   },
   {
    "duration": 173,
    "start_time": "2021-07-07T18:20:26.636Z"
   },
   {
    "duration": 7,
    "start_time": "2021-07-07T18:21:47.164Z"
   },
   {
    "duration": 254,
    "start_time": "2021-07-07T18:23:08.703Z"
   },
   {
    "duration": 21,
    "start_time": "2021-07-07T18:23:22.506Z"
   },
   {
    "duration": 315,
    "start_time": "2021-07-07T18:25:54.801Z"
   },
   {
    "duration": 34,
    "start_time": "2021-07-07T18:26:51.817Z"
   },
   {
    "duration": 327,
    "start_time": "2021-07-07T18:26:56.147Z"
   },
   {
    "duration": 342,
    "start_time": "2021-07-07T18:27:15.887Z"
   },
   {
    "duration": 302,
    "start_time": "2021-07-07T18:28:18.569Z"
   },
   {
    "duration": 226,
    "start_time": "2021-07-07T18:29:20.879Z"
   },
   {
    "duration": 207,
    "start_time": "2021-07-07T18:29:58.114Z"
   },
   {
    "duration": 140,
    "start_time": "2021-07-07T18:32:04.372Z"
   },
   {
    "duration": 158,
    "start_time": "2021-07-07T18:32:32.508Z"
   },
   {
    "duration": 145,
    "start_time": "2021-07-07T18:32:41.365Z"
   },
   {
    "duration": 132,
    "start_time": "2021-07-07T18:32:45.199Z"
   },
   {
    "duration": 11,
    "start_time": "2021-07-07T18:35:24.679Z"
   },
   {
    "duration": 268,
    "start_time": "2021-07-07T18:36:16.145Z"
   },
   {
    "duration": 227,
    "start_time": "2021-07-07T18:37:04.918Z"
   },
   {
    "duration": 3,
    "start_time": "2021-07-07T18:37:33.012Z"
   },
   {
    "duration": 671,
    "start_time": "2021-07-07T18:37:38.295Z"
   },
   {
    "duration": 54,
    "start_time": "2021-07-07T18:37:53.406Z"
   },
   {
    "duration": 631,
    "start_time": "2021-07-07T18:37:56.463Z"
   },
   {
    "duration": 19,
    "start_time": "2021-07-07T18:39:40.535Z"
   },
   {
    "duration": 20,
    "start_time": "2021-07-07T18:40:12.236Z"
   },
   {
    "duration": 633,
    "start_time": "2021-07-07T18:42:00.398Z"
   },
   {
    "duration": 218,
    "start_time": "2021-07-07T18:42:01.033Z"
   },
   {
    "duration": 49,
    "start_time": "2021-07-07T18:42:01.253Z"
   },
   {
    "duration": 5,
    "start_time": "2021-07-07T18:42:01.303Z"
   },
   {
    "duration": 27,
    "start_time": "2021-07-07T18:42:01.310Z"
   },
   {
    "duration": 8,
    "start_time": "2021-07-07T18:42:01.339Z"
   },
   {
    "duration": 20,
    "start_time": "2021-07-07T18:42:01.348Z"
   },
   {
    "duration": 6,
    "start_time": "2021-07-07T18:42:01.386Z"
   },
   {
    "duration": 16,
    "start_time": "2021-07-07T18:42:01.394Z"
   },
   {
    "duration": 9,
    "start_time": "2021-07-07T18:42:01.411Z"
   },
   {
    "duration": 11,
    "start_time": "2021-07-07T18:42:01.421Z"
   },
   {
    "duration": 31,
    "start_time": "2021-07-07T18:42:01.434Z"
   },
   {
    "duration": 18,
    "start_time": "2021-07-07T18:42:01.485Z"
   },
   {
    "duration": 23,
    "start_time": "2021-07-07T18:42:01.505Z"
   },
   {
    "duration": 6,
    "start_time": "2021-07-07T18:42:01.530Z"
   },
   {
    "duration": 10,
    "start_time": "2021-07-07T18:42:01.538Z"
   },
   {
    "duration": 13,
    "start_time": "2021-07-07T18:42:01.550Z"
   },
   {
    "duration": 24,
    "start_time": "2021-07-07T18:42:01.564Z"
   },
   {
    "duration": 20,
    "start_time": "2021-07-07T18:42:01.590Z"
   },
   {
    "duration": 8,
    "start_time": "2021-07-07T18:42:01.611Z"
   },
   {
    "duration": 31,
    "start_time": "2021-07-07T18:42:01.620Z"
   },
   {
    "duration": 39,
    "start_time": "2021-07-07T18:42:01.653Z"
   },
   {
    "duration": 8,
    "start_time": "2021-07-07T18:42:01.696Z"
   },
   {
    "duration": 13,
    "start_time": "2021-07-07T18:42:01.705Z"
   },
   {
    "duration": 20,
    "start_time": "2021-07-07T18:42:01.720Z"
   },
   {
    "duration": 12,
    "start_time": "2021-07-07T18:42:01.741Z"
   },
   {
    "duration": 35,
    "start_time": "2021-07-07T18:42:01.755Z"
   },
   {
    "duration": 14,
    "start_time": "2021-07-07T18:42:01.792Z"
   },
   {
    "duration": 188,
    "start_time": "2021-07-07T18:42:01.808Z"
   },
   {
    "duration": 19,
    "start_time": "2021-07-07T18:42:01.998Z"
   },
   {
    "duration": 175,
    "start_time": "2021-07-07T18:42:02.019Z"
   },
   {
    "duration": 134,
    "start_time": "2021-07-07T18:42:02.196Z"
   },
   {
    "duration": 10,
    "start_time": "2021-07-07T18:42:02.331Z"
   },
   {
    "duration": 19,
    "start_time": "2021-07-07T18:42:02.343Z"
   },
   {
    "duration": 628,
    "start_time": "2021-07-07T18:46:30.701Z"
   },
   {
    "duration": 183,
    "start_time": "2021-07-07T18:46:31.331Z"
   },
   {
    "duration": 48,
    "start_time": "2021-07-07T18:46:31.516Z"
   },
   {
    "duration": 5,
    "start_time": "2021-07-07T18:46:31.566Z"
   },
   {
    "duration": 28,
    "start_time": "2021-07-07T18:46:31.572Z"
   },
   {
    "duration": 8,
    "start_time": "2021-07-07T18:46:31.602Z"
   },
   {
    "duration": 19,
    "start_time": "2021-07-07T18:46:31.611Z"
   },
   {
    "duration": 6,
    "start_time": "2021-07-07T18:46:31.633Z"
   },
   {
    "duration": 17,
    "start_time": "2021-07-07T18:46:31.642Z"
   },
   {
    "duration": 10,
    "start_time": "2021-07-07T18:46:31.684Z"
   },
   {
    "duration": 9,
    "start_time": "2021-07-07T18:46:31.695Z"
   },
   {
    "duration": 28,
    "start_time": "2021-07-07T18:46:31.705Z"
   },
   {
    "duration": 18,
    "start_time": "2021-07-07T18:46:31.735Z"
   },
   {
    "duration": 48,
    "start_time": "2021-07-07T18:46:31.755Z"
   },
   {
    "duration": 6,
    "start_time": "2021-07-07T18:46:31.804Z"
   },
   {
    "duration": 4,
    "start_time": "2021-07-07T18:46:31.812Z"
   },
   {
    "duration": 9,
    "start_time": "2021-07-07T18:46:31.817Z"
   },
   {
    "duration": 10,
    "start_time": "2021-07-07T18:46:31.827Z"
   },
   {
    "duration": 12,
    "start_time": "2021-07-07T18:46:31.838Z"
   },
   {
    "duration": 39,
    "start_time": "2021-07-07T18:46:31.851Z"
   },
   {
    "duration": 24,
    "start_time": "2021-07-07T18:46:31.892Z"
   },
   {
    "duration": 15,
    "start_time": "2021-07-07T18:46:31.918Z"
   },
   {
    "duration": 7,
    "start_time": "2021-07-07T18:46:31.936Z"
   },
   {
    "duration": 8,
    "start_time": "2021-07-07T18:46:31.944Z"
   },
   {
    "duration": 19,
    "start_time": "2021-07-07T18:46:31.984Z"
   },
   {
    "duration": 10,
    "start_time": "2021-07-07T18:46:32.004Z"
   },
   {
    "duration": 5,
    "start_time": "2021-07-07T18:46:32.016Z"
   },
   {
    "duration": 9,
    "start_time": "2021-07-07T18:46:32.023Z"
   },
   {
    "duration": 199,
    "start_time": "2021-07-07T18:46:32.033Z"
   },
   {
    "duration": 19,
    "start_time": "2021-07-07T18:46:32.234Z"
   },
   {
    "duration": 159,
    "start_time": "2021-07-07T18:46:32.255Z"
   },
   {
    "duration": 134,
    "start_time": "2021-07-07T18:46:32.416Z"
   },
   {
    "duration": 10,
    "start_time": "2021-07-07T18:46:32.552Z"
   },
   {
    "duration": 34,
    "start_time": "2021-07-07T18:46:32.563Z"
   },
   {
    "duration": 1039,
    "start_time": "2021-07-08T08:41:09.419Z"
   },
   {
    "duration": 333,
    "start_time": "2021-07-08T08:41:10.459Z"
   },
   {
    "duration": 173,
    "start_time": "2021-07-08T08:41:10.794Z"
   },
   {
    "duration": 5,
    "start_time": "2021-07-08T08:41:10.968Z"
   },
   {
    "duration": 25,
    "start_time": "2021-07-08T08:41:10.975Z"
   },
   {
    "duration": 9,
    "start_time": "2021-07-08T08:41:11.002Z"
   },
   {
    "duration": 18,
    "start_time": "2021-07-08T08:41:11.013Z"
   },
   {
    "duration": 6,
    "start_time": "2021-07-08T08:41:11.033Z"
   },
   {
    "duration": 44,
    "start_time": "2021-07-08T08:41:11.042Z"
   },
   {
    "duration": 10,
    "start_time": "2021-07-08T08:41:11.088Z"
   },
   {
    "duration": 9,
    "start_time": "2021-07-08T08:41:11.100Z"
   },
   {
    "duration": 27,
    "start_time": "2021-07-08T08:41:11.111Z"
   },
   {
    "duration": 46,
    "start_time": "2021-07-08T08:41:11.140Z"
   },
   {
    "duration": 17,
    "start_time": "2021-07-08T08:41:11.187Z"
   },
   {
    "duration": 6,
    "start_time": "2021-07-08T08:41:11.206Z"
   },
   {
    "duration": 5,
    "start_time": "2021-07-08T08:41:11.213Z"
   },
   {
    "duration": 10,
    "start_time": "2021-07-08T08:41:11.219Z"
   },
   {
    "duration": 9,
    "start_time": "2021-07-08T08:41:11.230Z"
   },
   {
    "duration": 45,
    "start_time": "2021-07-08T08:41:11.241Z"
   },
   {
    "duration": 7,
    "start_time": "2021-07-08T08:41:11.287Z"
   },
   {
    "duration": 24,
    "start_time": "2021-07-08T08:41:11.296Z"
   },
   {
    "duration": 16,
    "start_time": "2021-07-08T08:41:11.322Z"
   },
   {
    "duration": 7,
    "start_time": "2021-07-08T08:41:11.341Z"
   },
   {
    "duration": 41,
    "start_time": "2021-07-08T08:41:11.349Z"
   },
   {
    "duration": 17,
    "start_time": "2021-07-08T08:41:11.391Z"
   },
   {
    "duration": 9,
    "start_time": "2021-07-08T08:41:11.410Z"
   },
   {
    "duration": 5,
    "start_time": "2021-07-08T08:41:11.421Z"
   },
   {
    "duration": 6,
    "start_time": "2021-07-08T08:41:11.428Z"
   },
   {
    "duration": 198,
    "start_time": "2021-07-08T08:41:11.435Z"
   },
   {
    "duration": 18,
    "start_time": "2021-07-08T08:41:11.635Z"
   },
   {
    "duration": 155,
    "start_time": "2021-07-08T08:41:11.655Z"
   },
   {
    "duration": 138,
    "start_time": "2021-07-08T08:41:11.811Z"
   },
   {
    "duration": 10,
    "start_time": "2021-07-08T08:41:11.950Z"
   },
   {
    "duration": 29,
    "start_time": "2021-07-08T08:41:11.961Z"
   },
   {
    "duration": 171,
    "start_time": "2021-07-08T08:47:44.522Z"
   },
   {
    "duration": 124,
    "start_time": "2021-07-08T08:47:46.872Z"
   },
   {
    "duration": 191,
    "start_time": "2021-07-08T08:47:58.148Z"
   },
   {
    "duration": 191,
    "start_time": "2021-07-08T08:48:07.412Z"
   },
   {
    "duration": 261,
    "start_time": "2021-07-08T08:48:10.385Z"
   },
   {
    "duration": 255,
    "start_time": "2021-07-08T08:48:14.494Z"
   },
   {
    "duration": 219,
    "start_time": "2021-07-08T08:48:22.752Z"
   },
   {
    "duration": 173,
    "start_time": "2021-07-08T08:49:06.395Z"
   },
   {
    "duration": 180,
    "start_time": "2021-07-08T08:49:21.011Z"
   },
   {
    "duration": 6,
    "start_time": "2021-07-08T08:50:31.697Z"
   },
   {
    "duration": 10,
    "start_time": "2021-07-08T08:50:47.394Z"
   },
   {
    "duration": 11,
    "start_time": "2021-07-08T08:53:49.332Z"
   },
   {
    "duration": 171,
    "start_time": "2021-07-08T08:54:28.408Z"
   },
   {
    "duration": 636,
    "start_time": "2021-07-08T09:02:48.385Z"
   },
   {
    "duration": 227,
    "start_time": "2021-07-08T09:02:49.023Z"
   },
   {
    "duration": 104,
    "start_time": "2021-07-08T09:02:49.252Z"
   },
   {
    "duration": 5,
    "start_time": "2021-07-08T09:02:49.358Z"
   },
   {
    "duration": 27,
    "start_time": "2021-07-08T09:02:49.365Z"
   },
   {
    "duration": 8,
    "start_time": "2021-07-08T09:02:49.394Z"
   },
   {
    "duration": 18,
    "start_time": "2021-07-08T09:02:49.404Z"
   },
   {
    "duration": 6,
    "start_time": "2021-07-08T09:02:49.424Z"
   },
   {
    "duration": 11,
    "start_time": "2021-07-08T09:02:49.433Z"
   },
   {
    "duration": 13,
    "start_time": "2021-07-08T09:02:49.485Z"
   },
   {
    "duration": 9,
    "start_time": "2021-07-08T09:02:49.500Z"
   },
   {
    "duration": 38,
    "start_time": "2021-07-08T09:02:49.511Z"
   },
   {
    "duration": 42,
    "start_time": "2021-07-08T09:02:49.551Z"
   },
   {
    "duration": 21,
    "start_time": "2021-07-08T09:02:49.594Z"
   },
   {
    "duration": 6,
    "start_time": "2021-07-08T09:02:49.616Z"
   },
   {
    "duration": 3,
    "start_time": "2021-07-08T09:02:49.623Z"
   },
   {
    "duration": 9,
    "start_time": "2021-07-08T09:02:49.628Z"
   },
   {
    "duration": 52,
    "start_time": "2021-07-08T09:02:49.638Z"
   },
   {
    "duration": 11,
    "start_time": "2021-07-08T09:02:49.692Z"
   },
   {
    "duration": 8,
    "start_time": "2021-07-08T09:02:49.704Z"
   },
   {
    "duration": 27,
    "start_time": "2021-07-08T09:02:49.713Z"
   },
   {
    "duration": 59,
    "start_time": "2021-07-08T09:02:49.741Z"
   },
   {
    "duration": 8,
    "start_time": "2021-07-08T09:02:49.803Z"
   },
   {
    "duration": 14,
    "start_time": "2021-07-08T09:02:49.813Z"
   },
   {
    "duration": 20,
    "start_time": "2021-07-08T09:02:49.829Z"
   },
   {
    "duration": 44,
    "start_time": "2021-07-08T09:02:49.851Z"
   },
   {
    "duration": 14,
    "start_time": "2021-07-08T09:02:49.896Z"
   },
   {
    "duration": 221,
    "start_time": "2021-07-08T09:02:49.912Z"
   },
   {
    "duration": 6,
    "start_time": "2021-07-08T09:02:50.134Z"
   },
   {
    "duration": 206,
    "start_time": "2021-07-08T09:02:50.142Z"
   },
   {
    "duration": 19,
    "start_time": "2021-07-08T09:02:50.350Z"
   },
   {
    "duration": 21,
    "start_time": "2021-07-08T09:02:50.370Z"
   },
   {
    "duration": 20,
    "start_time": "2021-07-08T09:02:50.393Z"
   },
   {
    "duration": 5,
    "start_time": "2021-07-08T09:02:50.414Z"
   },
   {
    "duration": 5,
    "start_time": "2021-07-08T09:03:34.173Z"
   },
   {
    "duration": 6,
    "start_time": "2021-07-08T09:04:49.062Z"
   },
   {
    "duration": 9,
    "start_time": "2021-07-08T09:04:50.118Z"
   },
   {
    "duration": 14,
    "start_time": "2021-07-08T09:04:58.512Z"
   },
   {
    "duration": 9,
    "start_time": "2021-07-08T09:05:10.988Z"
   },
   {
    "duration": 11,
    "start_time": "2021-07-08T09:05:11.743Z"
   },
   {
    "duration": 7,
    "start_time": "2021-07-08T09:05:25.677Z"
   },
   {
    "duration": 13,
    "start_time": "2021-07-08T09:05:47.189Z"
   },
   {
    "duration": 13,
    "start_time": "2021-07-08T09:05:54.755Z"
   },
   {
    "duration": 4,
    "start_time": "2021-07-08T09:06:29.189Z"
   },
   {
    "duration": 244,
    "start_time": "2021-07-08T09:06:29.195Z"
   },
   {
    "duration": 91,
    "start_time": "2021-07-08T09:06:29.441Z"
   },
   {
    "duration": 4,
    "start_time": "2021-07-08T09:06:29.534Z"
   },
   {
    "duration": 28,
    "start_time": "2021-07-08T09:06:29.540Z"
   },
   {
    "duration": 6,
    "start_time": "2021-07-08T09:06:29.570Z"
   },
   {
    "duration": 18,
    "start_time": "2021-07-08T09:06:29.578Z"
   },
   {
    "duration": 5,
    "start_time": "2021-07-08T09:06:29.597Z"
   },
   {
    "duration": 13,
    "start_time": "2021-07-08T09:06:29.605Z"
   },
   {
    "duration": 8,
    "start_time": "2021-07-08T09:06:29.620Z"
   },
   {
    "duration": 7,
    "start_time": "2021-07-08T09:06:29.630Z"
   },
   {
    "duration": 63,
    "start_time": "2021-07-08T09:06:29.639Z"
   },
   {
    "duration": 17,
    "start_time": "2021-07-08T09:06:29.704Z"
   },
   {
    "duration": 20,
    "start_time": "2021-07-08T09:06:29.723Z"
   },
   {
    "duration": 6,
    "start_time": "2021-07-08T09:06:29.745Z"
   },
   {
    "duration": 3,
    "start_time": "2021-07-08T09:06:29.752Z"
   },
   {
    "duration": 7,
    "start_time": "2021-07-08T09:06:29.785Z"
   },
   {
    "duration": 11,
    "start_time": "2021-07-08T09:06:29.794Z"
   },
   {
    "duration": 15,
    "start_time": "2021-07-08T09:06:29.807Z"
   },
   {
    "duration": 8,
    "start_time": "2021-07-08T09:06:29.823Z"
   },
   {
    "duration": 70,
    "start_time": "2021-07-08T09:06:29.832Z"
   },
   {
    "duration": 17,
    "start_time": "2021-07-08T09:06:29.903Z"
   },
   {
    "duration": 9,
    "start_time": "2021-07-08T09:06:29.921Z"
   },
   {
    "duration": 9,
    "start_time": "2021-07-08T09:06:29.932Z"
   },
   {
    "duration": 57,
    "start_time": "2021-07-08T09:06:29.942Z"
   },
   {
    "duration": 11,
    "start_time": "2021-07-08T09:06:30.001Z"
   },
   {
    "duration": 19,
    "start_time": "2021-07-08T09:06:30.016Z"
   },
   {
    "duration": 217,
    "start_time": "2021-07-08T09:06:30.037Z"
   },
   {
    "duration": 6,
    "start_time": "2021-07-08T09:06:30.255Z"
   },
   {
    "duration": 205,
    "start_time": "2021-07-08T09:06:30.263Z"
   },
   {
    "duration": 27,
    "start_time": "2021-07-08T09:06:30.470Z"
   },
   {
    "duration": 11,
    "start_time": "2021-07-08T09:06:30.500Z"
   },
   {
    "duration": 31,
    "start_time": "2021-07-08T09:06:30.513Z"
   },
   {
    "duration": 18,
    "start_time": "2021-07-08T09:06:30.546Z"
   },
   {
    "duration": 11,
    "start_time": "2021-07-08T09:06:30.566Z"
   },
   {
    "duration": 19,
    "start_time": "2021-07-08T09:06:30.579Z"
   },
   {
    "duration": 20,
    "start_time": "2021-07-08T09:06:49.466Z"
   },
   {
    "duration": 9,
    "start_time": "2021-07-08T09:06:51.994Z"
   },
   {
    "duration": 20,
    "start_time": "2021-07-08T09:06:52.273Z"
   },
   {
    "duration": 246,
    "start_time": "2021-07-08T09:10:21.272Z"
   },
   {
    "duration": 84,
    "start_time": "2021-07-08T09:10:21.436Z"
   },
   {
    "duration": 7,
    "start_time": "2021-07-08T09:10:37.608Z"
   },
   {
    "duration": 189,
    "start_time": "2021-07-08T09:10:38.573Z"
   },
   {
    "duration": 185,
    "start_time": "2021-07-08T09:10:53.181Z"
   },
   {
    "duration": 11,
    "start_time": "2021-07-08T09:10:59.549Z"
   },
   {
    "duration": 42,
    "start_time": "2021-07-08T09:10:59.709Z"
   },
   {
    "duration": 12,
    "start_time": "2021-07-08T09:11:02.857Z"
   },
   {
    "duration": 28,
    "start_time": "2021-07-08T09:11:10.062Z"
   },
   {
    "duration": 249,
    "start_time": "2021-07-08T09:11:37.388Z"
   },
   {
    "duration": 232,
    "start_time": "2021-07-08T09:11:49.485Z"
   },
   {
    "duration": 453,
    "start_time": "2021-07-08T09:12:01.546Z"
   },
   {
    "duration": 440,
    "start_time": "2021-07-08T09:12:12.347Z"
   },
   {
    "duration": 213,
    "start_time": "2021-07-08T09:13:32.196Z"
   },
   {
    "duration": 172,
    "start_time": "2021-07-08T09:14:07.400Z"
   },
   {
    "duration": 185,
    "start_time": "2021-07-08T09:14:14.905Z"
   },
   {
    "duration": 209,
    "start_time": "2021-07-08T09:14:40.109Z"
   },
   {
    "duration": 201,
    "start_time": "2021-07-08T09:14:54.506Z"
   },
   {
    "duration": 622,
    "start_time": "2021-07-08T09:18:14.497Z"
   },
   {
    "duration": 220,
    "start_time": "2021-07-08T09:18:15.121Z"
   },
   {
    "duration": 79,
    "start_time": "2021-07-08T09:18:15.343Z"
   },
   {
    "duration": 4,
    "start_time": "2021-07-08T09:18:15.425Z"
   },
   {
    "duration": 24,
    "start_time": "2021-07-08T09:18:15.431Z"
   },
   {
    "duration": 8,
    "start_time": "2021-07-08T09:18:15.457Z"
   },
   {
    "duration": 16,
    "start_time": "2021-07-08T09:18:15.466Z"
   },
   {
    "duration": 5,
    "start_time": "2021-07-08T09:18:15.484Z"
   },
   {
    "duration": 10,
    "start_time": "2021-07-08T09:18:15.493Z"
   },
   {
    "duration": 8,
    "start_time": "2021-07-08T09:18:15.504Z"
   },
   {
    "duration": 7,
    "start_time": "2021-07-08T09:18:15.513Z"
   },
   {
    "duration": 26,
    "start_time": "2021-07-08T09:18:15.522Z"
   },
   {
    "duration": 49,
    "start_time": "2021-07-08T09:18:15.550Z"
   },
   {
    "duration": 21,
    "start_time": "2021-07-08T09:18:15.601Z"
   },
   {
    "duration": 8,
    "start_time": "2021-07-08T09:18:15.624Z"
   },
   {
    "duration": 3,
    "start_time": "2021-07-08T09:18:15.634Z"
   },
   {
    "duration": 8,
    "start_time": "2021-07-08T09:18:15.639Z"
   },
   {
    "duration": 45,
    "start_time": "2021-07-08T09:18:15.649Z"
   },
   {
    "duration": 13,
    "start_time": "2021-07-08T09:18:15.696Z"
   },
   {
    "duration": 10,
    "start_time": "2021-07-08T09:18:15.711Z"
   },
   {
    "duration": 64,
    "start_time": "2021-07-08T09:18:15.722Z"
   },
   {
    "duration": 19,
    "start_time": "2021-07-08T09:18:15.788Z"
   },
   {
    "duration": 9,
    "start_time": "2021-07-08T09:18:15.809Z"
   },
   {
    "duration": 9,
    "start_time": "2021-07-08T09:18:15.820Z"
   },
   {
    "duration": 18,
    "start_time": "2021-07-08T09:18:15.831Z"
   },
   {
    "duration": 43,
    "start_time": "2021-07-08T09:18:15.851Z"
   },
   {
    "duration": 12,
    "start_time": "2021-07-08T09:18:15.897Z"
   },
   {
    "duration": 219,
    "start_time": "2021-07-08T09:18:15.911Z"
   },
   {
    "duration": 8,
    "start_time": "2021-07-08T09:18:16.132Z"
   },
   {
    "duration": 199,
    "start_time": "2021-07-08T09:18:16.141Z"
   },
   {
    "duration": 18,
    "start_time": "2021-07-08T09:18:16.341Z"
   },
   {
    "duration": 24,
    "start_time": "2021-07-08T09:18:16.361Z"
   },
   {
    "duration": 24,
    "start_time": "2021-07-08T09:18:16.387Z"
   },
   {
    "duration": 211,
    "start_time": "2021-07-08T09:18:16.413Z"
   },
   {
    "duration": 18,
    "start_time": "2021-07-08T09:18:16.626Z"
   },
   {
    "duration": 596,
    "start_time": "2021-07-08T10:06:33.623Z"
   },
   {
    "duration": 181,
    "start_time": "2021-07-08T10:06:34.221Z"
   },
   {
    "duration": 176,
    "start_time": "2021-07-08T10:06:34.635Z"
   },
   {
    "duration": 239,
    "start_time": "2021-07-08T10:06:55.572Z"
   },
   {
    "duration": 6,
    "start_time": "2021-07-08T10:06:57.687Z"
   },
   {
    "duration": 4,
    "start_time": "2021-07-08T10:07:03.956Z"
   },
   {
    "duration": 4,
    "start_time": "2021-07-08T10:07:10.376Z"
   },
   {
    "duration": 4,
    "start_time": "2021-07-08T10:17:19.889Z"
   },
   {
    "duration": 3,
    "start_time": "2021-07-08T10:19:19.407Z"
   },
   {
    "duration": 197,
    "start_time": "2021-07-08T10:19:19.412Z"
   },
   {
    "duration": 127,
    "start_time": "2021-07-08T10:19:19.611Z"
   },
   {
    "duration": 4,
    "start_time": "2021-07-08T10:19:19.740Z"
   },
   {
    "duration": 27,
    "start_time": "2021-07-08T10:19:19.746Z"
   },
   {
    "duration": 7,
    "start_time": "2021-07-08T10:19:19.775Z"
   },
   {
    "duration": 30,
    "start_time": "2021-07-08T10:19:19.784Z"
   },
   {
    "duration": 7,
    "start_time": "2021-07-08T10:19:19.817Z"
   },
   {
    "duration": 26,
    "start_time": "2021-07-08T10:19:19.826Z"
   },
   {
    "duration": 18,
    "start_time": "2021-07-08T10:19:19.854Z"
   },
   {
    "duration": 14,
    "start_time": "2021-07-08T10:19:19.874Z"
   },
   {
    "duration": 48,
    "start_time": "2021-07-08T10:19:19.890Z"
   },
   {
    "duration": 17,
    "start_time": "2021-07-08T10:19:19.940Z"
   },
   {
    "duration": 38,
    "start_time": "2021-07-08T10:19:19.959Z"
   },
   {
    "duration": 8,
    "start_time": "2021-07-08T10:19:19.999Z"
   },
   {
    "duration": 15,
    "start_time": "2021-07-08T10:19:20.009Z"
   },
   {
    "duration": 22,
    "start_time": "2021-07-08T10:19:20.026Z"
   },
   {
    "duration": 10,
    "start_time": "2021-07-08T10:19:20.050Z"
   },
   {
    "duration": 10,
    "start_time": "2021-07-08T10:19:20.062Z"
   },
   {
    "duration": 20,
    "start_time": "2021-07-08T10:19:20.073Z"
   },
   {
    "duration": 29,
    "start_time": "2021-07-08T10:19:20.095Z"
   },
   {
    "duration": 17,
    "start_time": "2021-07-08T10:19:20.126Z"
   },
   {
    "duration": 40,
    "start_time": "2021-07-08T10:19:20.146Z"
   },
   {
    "duration": 15,
    "start_time": "2021-07-08T10:19:20.189Z"
   },
   {
    "duration": 19,
    "start_time": "2021-07-08T10:19:20.206Z"
   },
   {
    "duration": 10,
    "start_time": "2021-07-08T10:19:20.226Z"
   },
   {
    "duration": 11,
    "start_time": "2021-07-08T10:19:20.238Z"
   },
   {
    "duration": 297,
    "start_time": "2021-07-08T10:19:20.250Z"
   },
   {
    "duration": 6,
    "start_time": "2021-07-08T10:19:20.549Z"
   },
   {
    "duration": 191,
    "start_time": "2021-07-08T10:19:20.557Z"
   },
   {
    "duration": 19,
    "start_time": "2021-07-08T10:19:20.750Z"
   },
   {
    "duration": 20,
    "start_time": "2021-07-08T10:19:20.771Z"
   },
   {
    "duration": 15,
    "start_time": "2021-07-08T10:19:20.793Z"
   },
   {
    "duration": 222,
    "start_time": "2021-07-08T10:19:20.809Z"
   },
   {
    "duration": 20,
    "start_time": "2021-07-08T10:19:21.033Z"
   },
   {
    "duration": 27,
    "start_time": "2021-07-08T10:45:04.055Z"
   },
   {
    "duration": 8,
    "start_time": "2021-07-08T10:45:08.478Z"
   },
   {
    "duration": 8,
    "start_time": "2021-07-08T10:45:31.982Z"
   },
   {
    "duration": 10,
    "start_time": "2021-07-08T10:46:01.221Z"
   },
   {
    "duration": 17,
    "start_time": "2021-07-08T10:46:40.011Z"
   },
   {
    "duration": 193,
    "start_time": "2021-07-08T10:48:19.471Z"
   },
   {
    "duration": 225,
    "start_time": "2021-07-08T10:49:26.480Z"
   },
   {
    "duration": 204,
    "start_time": "2021-07-08T10:49:59.992Z"
   },
   {
    "duration": 435,
    "start_time": "2021-07-08T10:50:06.779Z"
   },
   {
    "duration": 199,
    "start_time": "2021-07-08T10:50:14.891Z"
   },
   {
    "duration": 204,
    "start_time": "2021-07-08T10:50:18.501Z"
   },
   {
    "duration": 244,
    "start_time": "2021-07-08T10:50:23.359Z"
   },
   {
    "duration": 192,
    "start_time": "2021-07-08T10:50:29.135Z"
   },
   {
    "duration": 218,
    "start_time": "2021-07-08T10:50:33.092Z"
   },
   {
    "duration": 207,
    "start_time": "2021-07-08T10:52:45.381Z"
   },
   {
    "duration": 5,
    "start_time": "2021-07-08T10:53:34.641Z"
   },
   {
    "duration": 196,
    "start_time": "2021-07-08T10:53:41.478Z"
   },
   {
    "duration": 43,
    "start_time": "2021-07-08T10:53:50.335Z"
   },
   {
    "duration": 32,
    "start_time": "2021-07-08T10:53:55.294Z"
   },
   {
    "duration": 55,
    "start_time": "2021-07-08T10:54:09.675Z"
   },
   {
    "duration": 16,
    "start_time": "2021-07-08T10:54:12.260Z"
   },
   {
    "duration": 15,
    "start_time": "2021-07-08T10:54:49.150Z"
   },
   {
    "duration": 20,
    "start_time": "2021-07-08T10:56:07.596Z"
   },
   {
    "duration": 16,
    "start_time": "2021-07-08T10:58:26.276Z"
   },
   {
    "duration": 22,
    "start_time": "2021-07-08T10:59:00.486Z"
   },
   {
    "duration": 18,
    "start_time": "2021-07-08T11:02:09.653Z"
   },
   {
    "duration": 10,
    "start_time": "2021-07-08T11:03:44.331Z"
   },
   {
    "duration": 10,
    "start_time": "2021-07-08T11:03:54.055Z"
   },
   {
    "duration": 12,
    "start_time": "2021-07-08T11:04:41.967Z"
   },
   {
    "duration": 24,
    "start_time": "2021-07-08T11:07:30.732Z"
   },
   {
    "duration": 6,
    "start_time": "2021-07-08T11:07:37.364Z"
   },
   {
    "duration": 16,
    "start_time": "2021-07-08T11:08:01.819Z"
   },
   {
    "duration": 17,
    "start_time": "2021-07-08T11:09:47.488Z"
   },
   {
    "duration": 246,
    "start_time": "2021-07-08T11:10:00.830Z"
   },
   {
    "duration": 18,
    "start_time": "2021-07-08T11:13:55.195Z"
   },
   {
    "duration": 204,
    "start_time": "2021-07-08T11:14:04.951Z"
   },
   {
    "duration": 19,
    "start_time": "2021-07-08T11:15:10.613Z"
   },
   {
    "duration": 680,
    "start_time": "2021-07-08T11:16:25.793Z"
   },
   {
    "duration": 451,
    "start_time": "2021-07-08T11:16:40.313Z"
   },
   {
    "duration": 469,
    "start_time": "2021-07-08T11:17:21.286Z"
   },
   {
    "duration": 20,
    "start_time": "2021-07-08T11:19:12.554Z"
   },
   {
    "duration": 35,
    "start_time": "2021-07-08T11:20:05.484Z"
   },
   {
    "duration": 53,
    "start_time": "2021-07-08T11:21:40.050Z"
   },
   {
    "duration": 13,
    "start_time": "2021-07-08T11:22:26.059Z"
   },
   {
    "duration": 19,
    "start_time": "2021-07-08T11:22:47.419Z"
   },
   {
    "duration": 25,
    "start_time": "2021-07-08T11:23:19.958Z"
   },
   {
    "duration": 29,
    "start_time": "2021-07-08T11:23:25.415Z"
   },
   {
    "duration": 10,
    "start_time": "2021-07-08T11:24:45.138Z"
   },
   {
    "duration": 19,
    "start_time": "2021-07-08T11:24:54.498Z"
   },
   {
    "duration": 12,
    "start_time": "2021-07-08T11:25:32.225Z"
   },
   {
    "duration": 19,
    "start_time": "2021-07-08T11:25:37.092Z"
   },
   {
    "duration": 17,
    "start_time": "2021-07-08T11:25:58.116Z"
   },
   {
    "duration": 15,
    "start_time": "2021-07-08T11:26:02.258Z"
   },
   {
    "duration": 8,
    "start_time": "2021-07-08T11:26:59.682Z"
   },
   {
    "duration": 184,
    "start_time": "2021-07-08T11:27:21.894Z"
   },
   {
    "duration": 8,
    "start_time": "2021-07-08T11:27:23.824Z"
   },
   {
    "duration": 202,
    "start_time": "2021-07-08T11:27:23.962Z"
   },
   {
    "duration": 360,
    "start_time": "2021-07-08T11:28:33.215Z"
   },
   {
    "duration": 231,
    "start_time": "2021-07-08T11:32:05.542Z"
   },
   {
    "duration": 607,
    "start_time": "2021-07-08T11:36:27.854Z"
   },
   {
    "duration": 241,
    "start_time": "2021-07-08T11:36:28.463Z"
   },
   {
    "duration": 67,
    "start_time": "2021-07-08T11:36:28.709Z"
   },
   {
    "duration": 5,
    "start_time": "2021-07-08T11:36:28.778Z"
   },
   {
    "duration": 32,
    "start_time": "2021-07-08T11:36:28.784Z"
   },
   {
    "duration": 11,
    "start_time": "2021-07-08T11:36:28.819Z"
   },
   {
    "duration": 20,
    "start_time": "2021-07-08T11:36:28.834Z"
   },
   {
    "duration": 36,
    "start_time": "2021-07-08T11:36:28.857Z"
   },
   {
    "duration": 16,
    "start_time": "2021-07-08T11:36:28.895Z"
   },
   {
    "duration": 14,
    "start_time": "2021-07-08T11:36:28.913Z"
   },
   {
    "duration": 9,
    "start_time": "2021-07-08T11:36:28.930Z"
   },
   {
    "duration": 55,
    "start_time": "2021-07-08T11:36:28.941Z"
   },
   {
    "duration": 27,
    "start_time": "2021-07-08T11:36:28.999Z"
   },
   {
    "duration": 30,
    "start_time": "2021-07-08T11:36:29.028Z"
   },
   {
    "duration": 31,
    "start_time": "2021-07-08T11:36:29.060Z"
   },
   {
    "duration": 3,
    "start_time": "2021-07-08T11:36:29.093Z"
   },
   {
    "duration": 12,
    "start_time": "2021-07-08T11:36:29.099Z"
   },
   {
    "duration": 11,
    "start_time": "2021-07-08T11:36:29.112Z"
   },
   {
    "duration": 12,
    "start_time": "2021-07-08T11:36:29.125Z"
   },
   {
    "duration": 9,
    "start_time": "2021-07-08T11:36:29.139Z"
   },
   {
    "duration": 31,
    "start_time": "2021-07-08T11:36:29.191Z"
   },
   {
    "duration": 17,
    "start_time": "2021-07-08T11:36:29.226Z"
   },
   {
    "duration": 7,
    "start_time": "2021-07-08T11:36:29.245Z"
   },
   {
    "duration": 10,
    "start_time": "2021-07-08T11:36:29.254Z"
   },
   {
    "duration": 30,
    "start_time": "2021-07-08T11:36:29.292Z"
   },
   {
    "duration": 11,
    "start_time": "2021-07-08T11:36:29.324Z"
   },
   {
    "duration": 11,
    "start_time": "2021-07-08T11:36:29.337Z"
   },
   {
    "duration": 230,
    "start_time": "2021-07-08T11:36:29.349Z"
   },
   {
    "duration": 13,
    "start_time": "2021-07-08T11:36:29.588Z"
   },
   {
    "duration": 205,
    "start_time": "2021-07-08T11:36:29.603Z"
   },
   {
    "duration": 20,
    "start_time": "2021-07-08T11:36:29.810Z"
   },
   {
    "duration": 9,
    "start_time": "2021-07-08T11:36:29.832Z"
   },
   {
    "duration": 16,
    "start_time": "2021-07-08T11:36:29.843Z"
   },
   {
    "duration": 283,
    "start_time": "2021-07-08T11:36:29.861Z"
   },
   {
    "duration": 50,
    "start_time": "2021-07-08T11:36:30.146Z"
   },
   {
    "duration": 14,
    "start_time": "2021-07-08T11:36:30.198Z"
   },
   {
    "duration": 11,
    "start_time": "2021-07-08T11:36:30.214Z"
   },
   {
    "duration": 245,
    "start_time": "2021-07-08T11:36:30.227Z"
   },
   {
    "duration": 439,
    "start_time": "2021-07-08T11:36:30.474Z"
   },
   {
    "duration": 210,
    "start_time": "2021-07-08T11:36:30.915Z"
   },
   {
    "duration": 15,
    "start_time": "2021-07-08T11:36:31.127Z"
   },
   {
    "duration": 17,
    "start_time": "2021-07-08T11:38:20.451Z"
   },
   {
    "duration": 642,
    "start_time": "2021-07-08T11:46:17.881Z"
   },
   {
    "duration": 210,
    "start_time": "2021-07-08T11:46:18.525Z"
   },
   {
    "duration": 104,
    "start_time": "2021-07-08T11:46:18.741Z"
   },
   {
    "duration": 8,
    "start_time": "2021-07-08T11:46:18.847Z"
   },
   {
    "duration": 25,
    "start_time": "2021-07-08T11:46:18.857Z"
   },
   {
    "duration": 14,
    "start_time": "2021-07-08T11:46:18.884Z"
   },
   {
    "duration": 22,
    "start_time": "2021-07-08T11:46:18.900Z"
   },
   {
    "duration": 5,
    "start_time": "2021-07-08T11:46:18.924Z"
   },
   {
    "duration": 13,
    "start_time": "2021-07-08T11:46:18.931Z"
   },
   {
    "duration": 45,
    "start_time": "2021-07-08T11:46:18.946Z"
   },
   {
    "duration": 12,
    "start_time": "2021-07-08T11:46:18.993Z"
   },
   {
    "duration": 38,
    "start_time": "2021-07-08T11:46:19.006Z"
   },
   {
    "duration": 50,
    "start_time": "2021-07-08T11:46:19.046Z"
   },
   {
    "duration": 29,
    "start_time": "2021-07-08T11:46:19.099Z"
   },
   {
    "duration": 7,
    "start_time": "2021-07-08T11:46:19.130Z"
   },
   {
    "duration": 3,
    "start_time": "2021-07-08T11:46:19.139Z"
   },
   {
    "duration": 11,
    "start_time": "2021-07-08T11:46:19.144Z"
   },
   {
    "duration": 40,
    "start_time": "2021-07-08T11:46:19.157Z"
   },
   {
    "duration": 15,
    "start_time": "2021-07-08T11:46:19.199Z"
   },
   {
    "duration": 10,
    "start_time": "2021-07-08T11:46:19.217Z"
   },
   {
    "duration": 68,
    "start_time": "2021-07-08T11:46:19.230Z"
   },
   {
    "duration": 17,
    "start_time": "2021-07-08T11:46:19.301Z"
   },
   {
    "duration": 7,
    "start_time": "2021-07-08T11:46:19.321Z"
   },
   {
    "duration": 11,
    "start_time": "2021-07-08T11:46:19.330Z"
   },
   {
    "duration": 59,
    "start_time": "2021-07-08T11:46:19.343Z"
   },
   {
    "duration": 17,
    "start_time": "2021-07-08T11:46:19.405Z"
   },
   {
    "duration": 16,
    "start_time": "2021-07-08T11:46:19.424Z"
   },
   {
    "duration": 252,
    "start_time": "2021-07-08T11:46:19.443Z"
   },
   {
    "duration": 9,
    "start_time": "2021-07-08T11:46:19.697Z"
   },
   {
    "duration": 224,
    "start_time": "2021-07-08T11:46:19.708Z"
   },
   {
    "duration": 21,
    "start_time": "2021-07-08T11:46:19.934Z"
   },
   {
    "duration": 9,
    "start_time": "2021-07-08T11:46:19.956Z"
   },
   {
    "duration": 32,
    "start_time": "2021-07-08T11:46:19.967Z"
   },
   {
    "duration": 288,
    "start_time": "2021-07-08T11:46:20.004Z"
   },
   {
    "duration": 23,
    "start_time": "2021-07-08T11:46:20.300Z"
   },
   {
    "duration": 11,
    "start_time": "2021-07-08T11:46:20.325Z"
   },
   {
    "duration": 11,
    "start_time": "2021-07-08T11:46:20.339Z"
   },
   {
    "duration": 259,
    "start_time": "2021-07-08T11:46:20.352Z"
   },
   {
    "duration": 438,
    "start_time": "2021-07-08T11:46:20.613Z"
   },
   {
    "duration": 207,
    "start_time": "2021-07-08T11:46:21.054Z"
   },
   {
    "duration": 27,
    "start_time": "2021-07-08T11:46:21.262Z"
   },
   {
    "duration": 19,
    "start_time": "2021-07-08T11:46:21.291Z"
   },
   {
    "duration": 820,
    "start_time": "2021-07-08T11:49:01.655Z"
   },
   {
    "duration": 372,
    "start_time": "2021-07-08T11:49:02.478Z"
   },
   {
    "duration": 98,
    "start_time": "2021-07-08T11:49:02.853Z"
   },
   {
    "duration": 6,
    "start_time": "2021-07-08T11:49:02.953Z"
   },
   {
    "duration": 39,
    "start_time": "2021-07-08T11:49:02.960Z"
   },
   {
    "duration": 9,
    "start_time": "2021-07-08T11:49:03.003Z"
   },
   {
    "duration": 23,
    "start_time": "2021-07-08T11:49:03.014Z"
   },
   {
    "duration": 6,
    "start_time": "2021-07-08T11:49:03.041Z"
   },
   {
    "duration": 20,
    "start_time": "2021-07-08T11:49:03.049Z"
   },
   {
    "duration": 18,
    "start_time": "2021-07-08T11:49:03.084Z"
   },
   {
    "duration": 14,
    "start_time": "2021-07-08T11:49:03.104Z"
   },
   {
    "duration": 39,
    "start_time": "2021-07-08T11:49:03.119Z"
   },
   {
    "duration": 38,
    "start_time": "2021-07-08T11:49:03.160Z"
   },
   {
    "duration": 26,
    "start_time": "2021-07-08T11:49:03.200Z"
   },
   {
    "duration": 7,
    "start_time": "2021-07-08T11:49:03.227Z"
   },
   {
    "duration": 4,
    "start_time": "2021-07-08T11:49:03.236Z"
   },
   {
    "duration": 15,
    "start_time": "2021-07-08T11:49:03.243Z"
   },
   {
    "duration": 21,
    "start_time": "2021-07-08T11:49:03.285Z"
   },
   {
    "duration": 17,
    "start_time": "2021-07-08T11:49:03.309Z"
   },
   {
    "duration": 10,
    "start_time": "2021-07-08T11:49:03.328Z"
   },
   {
    "duration": 65,
    "start_time": "2021-07-08T11:49:03.340Z"
   },
   {
    "duration": 18,
    "start_time": "2021-07-08T11:49:03.407Z"
   },
   {
    "duration": 8,
    "start_time": "2021-07-08T11:49:03.428Z"
   },
   {
    "duration": 15,
    "start_time": "2021-07-08T11:49:03.438Z"
   },
   {
    "duration": 40,
    "start_time": "2021-07-08T11:49:03.455Z"
   },
   {
    "duration": 12,
    "start_time": "2021-07-08T11:49:03.497Z"
   },
   {
    "duration": 29,
    "start_time": "2021-07-08T11:49:03.511Z"
   },
   {
    "duration": 285,
    "start_time": "2021-07-08T11:49:03.542Z"
   },
   {
    "duration": 8,
    "start_time": "2021-07-08T11:49:03.829Z"
   },
   {
    "duration": 227,
    "start_time": "2021-07-08T11:49:03.838Z"
   },
   {
    "duration": 40,
    "start_time": "2021-07-08T11:49:04.066Z"
   },
   {
    "duration": 10,
    "start_time": "2021-07-08T11:49:04.108Z"
   },
   {
    "duration": 26,
    "start_time": "2021-07-08T11:49:04.121Z"
   },
   {
    "duration": 290,
    "start_time": "2021-07-08T11:49:04.149Z"
   },
   {
    "duration": 26,
    "start_time": "2021-07-08T11:49:04.441Z"
   },
   {
    "duration": 31,
    "start_time": "2021-07-08T11:49:04.470Z"
   },
   {
    "duration": 14,
    "start_time": "2021-07-08T11:49:04.503Z"
   },
   {
    "duration": 259,
    "start_time": "2021-07-08T11:49:04.521Z"
   },
   {
    "duration": 480,
    "start_time": "2021-07-08T11:49:04.782Z"
   },
   {
    "duration": 225,
    "start_time": "2021-07-08T11:49:05.264Z"
   },
   {
    "duration": 22,
    "start_time": "2021-07-08T11:49:05.491Z"
   },
   {
    "duration": 24,
    "start_time": "2021-07-08T11:49:05.515Z"
   },
   {
    "duration": 634,
    "start_time": "2021-07-08T11:52:24.960Z"
   },
   {
    "duration": 199,
    "start_time": "2021-07-08T11:52:25.599Z"
   },
   {
    "duration": 106,
    "start_time": "2021-07-08T11:52:25.803Z"
   },
   {
    "duration": 7,
    "start_time": "2021-07-08T11:52:25.911Z"
   },
   {
    "duration": 29,
    "start_time": "2021-07-08T11:52:25.920Z"
   },
   {
    "duration": 7,
    "start_time": "2021-07-08T11:52:25.951Z"
   },
   {
    "duration": 26,
    "start_time": "2021-07-08T11:52:25.961Z"
   },
   {
    "duration": 11,
    "start_time": "2021-07-08T11:52:25.990Z"
   },
   {
    "duration": 29,
    "start_time": "2021-07-08T11:52:26.005Z"
   },
   {
    "duration": 9,
    "start_time": "2021-07-08T11:52:26.036Z"
   },
   {
    "duration": 8,
    "start_time": "2021-07-08T11:52:26.047Z"
   },
   {
    "duration": 63,
    "start_time": "2021-07-08T11:52:26.057Z"
   },
   {
    "duration": 17,
    "start_time": "2021-07-08T11:52:26.122Z"
   },
   {
    "duration": 43,
    "start_time": "2021-07-08T11:52:26.142Z"
   },
   {
    "duration": 17,
    "start_time": "2021-07-08T11:52:26.187Z"
   },
   {
    "duration": 5,
    "start_time": "2021-07-08T11:52:26.206Z"
   },
   {
    "duration": 12,
    "start_time": "2021-07-08T11:52:26.212Z"
   },
   {
    "duration": 11,
    "start_time": "2021-07-08T11:52:26.226Z"
   },
   {
    "duration": 12,
    "start_time": "2021-07-08T11:52:26.238Z"
   },
   {
    "duration": 38,
    "start_time": "2021-07-08T11:52:26.252Z"
   },
   {
    "duration": 40,
    "start_time": "2021-07-08T11:52:26.292Z"
   },
   {
    "duration": 17,
    "start_time": "2021-07-08T11:52:26.336Z"
   },
   {
    "duration": 39,
    "start_time": "2021-07-08T11:52:26.355Z"
   },
   {
    "duration": 11,
    "start_time": "2021-07-08T11:52:26.395Z"
   },
   {
    "duration": 23,
    "start_time": "2021-07-08T11:52:26.408Z"
   },
   {
    "duration": 12,
    "start_time": "2021-07-08T11:52:26.432Z"
   },
   {
    "duration": 41,
    "start_time": "2021-07-08T11:52:26.446Z"
   },
   {
    "duration": 215,
    "start_time": "2021-07-08T11:52:26.493Z"
   },
   {
    "duration": 8,
    "start_time": "2021-07-08T11:52:26.710Z"
   },
   {
    "duration": 228,
    "start_time": "2021-07-08T11:52:26.720Z"
   },
   {
    "duration": 18,
    "start_time": "2021-07-08T11:52:26.950Z"
   },
   {
    "duration": 35,
    "start_time": "2021-07-08T11:52:26.969Z"
   },
   {
    "duration": 23,
    "start_time": "2021-07-08T11:52:27.006Z"
   },
   {
    "duration": 258,
    "start_time": "2021-07-08T11:52:27.030Z"
   },
   {
    "duration": 24,
    "start_time": "2021-07-08T11:52:27.290Z"
   },
   {
    "duration": 12,
    "start_time": "2021-07-08T11:52:27.316Z"
   },
   {
    "duration": 10,
    "start_time": "2021-07-08T11:52:27.329Z"
   },
   {
    "duration": 298,
    "start_time": "2021-07-08T11:52:27.341Z"
   },
   {
    "duration": 436,
    "start_time": "2021-07-08T11:52:27.641Z"
   },
   {
    "duration": 216,
    "start_time": "2021-07-08T11:52:28.079Z"
   },
   {
    "duration": 20,
    "start_time": "2021-07-08T11:52:28.297Z"
   },
   {
    "duration": 17,
    "start_time": "2021-07-08T11:52:28.319Z"
   },
   {
    "duration": 2000,
    "start_time": "2022-11-08T16:46:43.624Z"
   },
   {
    "duration": 194,
    "start_time": "2022-11-08T16:47:10.900Z"
   },
   {
    "duration": 99,
    "start_time": "2022-11-08T16:47:23.230Z"
   },
   {
    "duration": 190,
    "start_time": "2022-11-08T16:48:54.627Z"
   },
   {
    "duration": 155,
    "start_time": "2022-11-08T16:50:58.624Z"
   },
   {
    "duration": 110,
    "start_time": "2022-11-08T16:58:04.397Z"
   },
   {
    "duration": 69,
    "start_time": "2022-11-08T16:58:08.810Z"
   },
   {
    "duration": 1117,
    "start_time": "2022-11-08T17:27:11.025Z"
   },
   {
    "duration": 545,
    "start_time": "2022-11-08T17:27:25.908Z"
   },
   {
    "duration": 416,
    "start_time": "2022-11-08T17:27:36.861Z"
   },
   {
    "duration": 339,
    "start_time": "2022-11-08T17:27:48.545Z"
   },
   {
    "duration": 387,
    "start_time": "2022-11-08T17:28:04.499Z"
   },
   {
    "duration": 412,
    "start_time": "2022-11-08T17:28:10.285Z"
   },
   {
    "duration": 458,
    "start_time": "2022-11-08T17:28:21.767Z"
   },
   {
    "duration": 369,
    "start_time": "2022-11-08T17:28:30.988Z"
   },
   {
    "duration": 297,
    "start_time": "2022-11-08T17:34:04.317Z"
   },
   {
    "duration": 325,
    "start_time": "2022-11-08T17:34:19.606Z"
   },
   {
    "duration": 545,
    "start_time": "2022-11-08T17:38:46.402Z"
   },
   {
    "duration": 15,
    "start_time": "2022-11-08T17:39:58.548Z"
   },
   {
    "duration": 7,
    "start_time": "2022-11-08T17:40:02.353Z"
   },
   {
    "duration": 5,
    "start_time": "2022-11-08T17:40:04.768Z"
   },
   {
    "duration": 23,
    "start_time": "2022-11-08T17:40:36.261Z"
   },
   {
    "duration": 29,
    "start_time": "2022-11-08T17:40:48.786Z"
   },
   {
    "duration": 15,
    "start_time": "2022-11-08T17:41:12.690Z"
   },
   {
    "duration": 17,
    "start_time": "2022-11-08T17:41:15.499Z"
   },
   {
    "duration": 15,
    "start_time": "2022-11-08T17:41:25.161Z"
   },
   {
    "duration": 9,
    "start_time": "2022-11-08T17:41:33.843Z"
   },
   {
    "duration": 9,
    "start_time": "2022-11-08T17:41:42.552Z"
   },
   {
    "duration": 23,
    "start_time": "2022-11-08T17:41:48.916Z"
   },
   {
    "duration": 24,
    "start_time": "2022-11-08T17:42:18.997Z"
   },
   {
    "duration": 19,
    "start_time": "2022-11-08T17:42:24.970Z"
   },
   {
    "duration": 531,
    "start_time": "2022-11-08T17:42:38.926Z"
   },
   {
    "duration": 44,
    "start_time": "2022-11-08T17:42:39.459Z"
   },
   {
    "duration": 739,
    "start_time": "2022-11-08T17:42:39.505Z"
   },
   {
    "duration": 37,
    "start_time": "2022-11-08T17:42:40.247Z"
   },
   {
    "duration": 87,
    "start_time": "2022-11-08T17:43:51.381Z"
   },
   {
    "duration": 572,
    "start_time": "2022-11-08T17:43:58.212Z"
   },
   {
    "duration": 42,
    "start_time": "2022-11-08T17:43:58.786Z"
   },
   {
    "duration": 673,
    "start_time": "2022-11-08T17:43:58.829Z"
   },
   {
    "duration": 112,
    "start_time": "2022-11-08T17:43:59.504Z"
   },
   {
    "duration": 37,
    "start_time": "2022-11-08T17:48:01.807Z"
   },
   {
    "duration": 13,
    "start_time": "2022-11-08T17:49:58.132Z"
   },
   {
    "duration": 20,
    "start_time": "2022-11-08T17:51:27.076Z"
   },
   {
    "duration": 28,
    "start_time": "2022-11-08T17:54:29.919Z"
   },
   {
    "duration": 22,
    "start_time": "2022-11-08T17:54:59.418Z"
   },
   {
    "duration": 26,
    "start_time": "2022-11-08T17:58:09.802Z"
   },
   {
    "duration": 12,
    "start_time": "2022-11-08T18:01:19.215Z"
   },
   {
    "duration": 24,
    "start_time": "2022-11-08T18:01:40.432Z"
   },
   {
    "duration": 26,
    "start_time": "2022-11-08T18:03:55.572Z"
   },
   {
    "duration": 30,
    "start_time": "2022-11-08T18:03:59.693Z"
   },
   {
    "duration": 654,
    "start_time": "2022-11-08T18:04:08.061Z"
   },
   {
    "duration": 47,
    "start_time": "2022-11-08T18:04:08.718Z"
   },
   {
    "duration": 791,
    "start_time": "2022-11-08T18:04:08.767Z"
   },
   {
    "duration": 36,
    "start_time": "2022-11-08T18:04:09.561Z"
   },
   {
    "duration": 60,
    "start_time": "2022-11-08T18:04:09.600Z"
   },
   {
    "duration": 36,
    "start_time": "2022-11-08T18:04:09.663Z"
   },
   {
    "duration": 622,
    "start_time": "2022-11-08T18:06:32.039Z"
   },
   {
    "duration": 51,
    "start_time": "2022-11-08T18:06:32.664Z"
   },
   {
    "duration": 866,
    "start_time": "2022-11-08T18:06:32.717Z"
   },
   {
    "duration": 53,
    "start_time": "2022-11-08T18:06:33.586Z"
   },
   {
    "duration": 40,
    "start_time": "2022-11-08T18:06:33.641Z"
   },
   {
    "duration": 24,
    "start_time": "2022-11-08T18:06:33.683Z"
   },
   {
    "duration": 164,
    "start_time": "2022-11-08T18:06:52.386Z"
   },
   {
    "duration": 129,
    "start_time": "2022-11-08T18:07:10.094Z"
   },
   {
    "duration": 36,
    "start_time": "2022-11-08T18:07:29.286Z"
   },
   {
    "duration": 49,
    "start_time": "2022-11-10T10:41:52.788Z"
   },
   {
    "duration": 683,
    "start_time": "2022-11-10T10:42:05.105Z"
   },
   {
    "duration": 116,
    "start_time": "2022-11-10T10:42:05.790Z"
   },
   {
    "duration": 1018,
    "start_time": "2022-11-10T10:42:05.908Z"
   },
   {
    "duration": 47,
    "start_time": "2022-11-10T10:42:06.928Z"
   },
   {
    "duration": 20,
    "start_time": "2022-11-10T10:42:06.978Z"
   },
   {
    "duration": 22,
    "start_time": "2022-11-10T10:42:07.001Z"
   },
   {
    "duration": 6,
    "start_time": "2022-11-10T10:42:07.024Z"
   },
   {
    "duration": 9,
    "start_time": "2022-11-10T10:42:32.766Z"
   },
   {
    "duration": 43,
    "start_time": "2022-11-11T05:51:40.599Z"
   },
   {
    "duration": 686,
    "start_time": "2022-11-11T05:51:48.202Z"
   },
   {
    "duration": 60,
    "start_time": "2022-11-11T05:51:48.890Z"
   },
   {
    "duration": 670,
    "start_time": "2022-11-11T05:51:48.951Z"
   },
   {
    "duration": 26,
    "start_time": "2022-11-11T05:51:49.623Z"
   },
   {
    "duration": 85,
    "start_time": "2022-11-11T05:51:49.651Z"
   },
   {
    "duration": 0,
    "start_time": "2022-11-11T05:51:49.738Z"
   },
   {
    "duration": 0,
    "start_time": "2022-11-11T05:51:49.739Z"
   },
   {
    "duration": 0,
    "start_time": "2022-11-11T05:51:49.741Z"
   },
   {
    "duration": 288,
    "start_time": "2022-11-11T05:52:28.875Z"
   },
   {
    "duration": 275,
    "start_time": "2022-11-11T05:56:18.339Z"
   },
   {
    "duration": 266,
    "start_time": "2022-11-11T05:59:18.719Z"
   },
   {
    "duration": 472,
    "start_time": "2022-11-11T05:59:49.021Z"
   },
   {
    "duration": 40,
    "start_time": "2022-11-11T05:59:49.495Z"
   },
   {
    "duration": 497,
    "start_time": "2022-11-11T05:59:49.537Z"
   },
   {
    "duration": 33,
    "start_time": "2022-11-11T05:59:50.035Z"
   },
   {
    "duration": 383,
    "start_time": "2022-11-11T05:59:50.069Z"
   },
   {
    "duration": 0,
    "start_time": "2022-11-11T05:59:50.454Z"
   },
   {
    "duration": 0,
    "start_time": "2022-11-11T05:59:50.455Z"
   },
   {
    "duration": 0,
    "start_time": "2022-11-11T05:59:50.457Z"
   },
   {
    "duration": 69,
    "start_time": "2022-11-11T06:14:49.579Z"
   },
   {
    "duration": 10,
    "start_time": "2022-11-11T06:16:51.760Z"
   },
   {
    "duration": 21,
    "start_time": "2022-11-11T06:17:07.121Z"
   },
   {
    "duration": 13,
    "start_time": "2022-11-11T06:17:15.276Z"
   },
   {
    "duration": 490,
    "start_time": "2022-11-11T06:17:51.401Z"
   },
   {
    "duration": 39,
    "start_time": "2022-11-11T06:17:51.893Z"
   },
   {
    "duration": 495,
    "start_time": "2022-11-11T06:17:51.933Z"
   },
   {
    "duration": 21,
    "start_time": "2022-11-11T06:17:52.430Z"
   },
   {
    "duration": 81,
    "start_time": "2022-11-11T06:17:52.453Z"
   },
   {
    "duration": 0,
    "start_time": "2022-11-11T06:17:52.535Z"
   },
   {
    "duration": 0,
    "start_time": "2022-11-11T06:17:52.537Z"
   },
   {
    "duration": 0,
    "start_time": "2022-11-11T06:17:52.539Z"
   },
   {
    "duration": 12,
    "start_time": "2022-11-11T06:19:07.382Z"
   },
   {
    "duration": 434,
    "start_time": "2022-11-11T06:19:13.159Z"
   },
   {
    "duration": 41,
    "start_time": "2022-11-11T06:19:13.595Z"
   },
   {
    "duration": 489,
    "start_time": "2022-11-11T06:19:13.638Z"
   },
   {
    "duration": 22,
    "start_time": "2022-11-11T06:19:14.129Z"
   },
   {
    "duration": 83,
    "start_time": "2022-11-11T06:19:14.153Z"
   },
   {
    "duration": 0,
    "start_time": "2022-11-11T06:19:14.238Z"
   },
   {
    "duration": 0,
    "start_time": "2022-11-11T06:19:14.239Z"
   },
   {
    "duration": 0,
    "start_time": "2022-11-11T06:19:14.241Z"
   },
   {
    "duration": 11,
    "start_time": "2022-11-11T06:19:31.953Z"
   },
   {
    "duration": 13,
    "start_time": "2022-11-11T06:21:29.609Z"
   },
   {
    "duration": 32,
    "start_time": "2022-11-11T06:21:50.272Z"
   },
   {
    "duration": 37,
    "start_time": "2022-11-11T06:22:15.873Z"
   },
   {
    "duration": 37,
    "start_time": "2022-11-11T06:23:35.314Z"
   },
   {
    "duration": 21,
    "start_time": "2022-11-11T06:24:12.323Z"
   },
   {
    "duration": 13,
    "start_time": "2022-11-11T06:25:09.710Z"
   },
   {
    "duration": 18,
    "start_time": "2022-11-11T06:25:19.479Z"
   },
   {
    "duration": 38,
    "start_time": "2022-11-11T06:25:59.053Z"
   },
   {
    "duration": 17,
    "start_time": "2022-11-11T06:26:31.900Z"
   },
   {
    "duration": 10,
    "start_time": "2022-11-11T06:26:47.685Z"
   },
   {
    "duration": 9,
    "start_time": "2022-11-11T06:27:24.660Z"
   },
   {
    "duration": 35,
    "start_time": "2022-11-11T06:33:53.827Z"
   },
   {
    "duration": 28,
    "start_time": "2022-11-11T06:51:56.650Z"
   },
   {
    "duration": 35,
    "start_time": "2022-11-11T06:52:01.949Z"
   },
   {
    "duration": 28,
    "start_time": "2022-11-11T06:52:54.766Z"
   },
   {
    "duration": 7,
    "start_time": "2022-11-11T06:53:17.324Z"
   },
   {
    "duration": 8,
    "start_time": "2022-11-11T06:53:28.199Z"
   },
   {
    "duration": 8,
    "start_time": "2022-11-11T06:53:33.563Z"
   },
   {
    "duration": 8,
    "start_time": "2022-11-11T06:53:52.995Z"
   },
   {
    "duration": 425,
    "start_time": "2022-11-11T06:54:23.159Z"
   },
   {
    "duration": 40,
    "start_time": "2022-11-11T06:54:23.586Z"
   },
   {
    "duration": 500,
    "start_time": "2022-11-11T06:54:23.627Z"
   },
   {
    "duration": 29,
    "start_time": "2022-11-11T06:54:24.129Z"
   },
   {
    "duration": 33,
    "start_time": "2022-11-11T06:54:24.159Z"
   },
   {
    "duration": 25,
    "start_time": "2022-11-11T06:54:24.193Z"
   },
   {
    "duration": 22,
    "start_time": "2022-11-11T06:54:24.219Z"
   },
   {
    "duration": 7,
    "start_time": "2022-11-11T06:54:24.243Z"
   },
   {
    "duration": 29,
    "start_time": "2022-11-11T06:54:59.499Z"
   },
   {
    "duration": 561,
    "start_time": "2022-11-11T06:55:10.189Z"
   },
   {
    "duration": 39,
    "start_time": "2022-11-11T06:55:10.752Z"
   },
   {
    "duration": 511,
    "start_time": "2022-11-11T06:55:10.793Z"
   },
   {
    "duration": 637,
    "start_time": "2022-11-11T06:55:11.306Z"
   },
   {
    "duration": 0,
    "start_time": "2022-11-11T06:55:11.944Z"
   },
   {
    "duration": 0,
    "start_time": "2022-11-11T06:55:11.945Z"
   },
   {
    "duration": 0,
    "start_time": "2022-11-11T06:55:11.946Z"
   },
   {
    "duration": 0,
    "start_time": "2022-11-11T06:55:11.947Z"
   },
   {
    "duration": 31,
    "start_time": "2022-11-11T06:57:31.036Z"
   },
   {
    "duration": 21,
    "start_time": "2022-11-11T06:57:51.761Z"
   },
   {
    "duration": 36,
    "start_time": "2022-11-11T06:57:53.175Z"
   },
   {
    "duration": 26,
    "start_time": "2022-11-11T06:58:46.749Z"
   },
   {
    "duration": 454,
    "start_time": "2022-11-11T06:58:53.745Z"
   },
   {
    "duration": 42,
    "start_time": "2022-11-11T06:58:54.201Z"
   },
   {
    "duration": 537,
    "start_time": "2022-11-11T06:58:54.244Z"
   },
   {
    "duration": 30,
    "start_time": "2022-11-11T06:58:54.783Z"
   },
   {
    "duration": 34,
    "start_time": "2022-11-11T06:58:54.814Z"
   },
   {
    "duration": 9,
    "start_time": "2022-11-11T06:58:54.849Z"
   },
   {
    "duration": 15,
    "start_time": "2022-11-11T06:58:54.859Z"
   },
   {
    "duration": 6,
    "start_time": "2022-11-11T06:58:54.876Z"
   },
   {
    "duration": 440,
    "start_time": "2022-11-11T06:59:21.548Z"
   },
   {
    "duration": 40,
    "start_time": "2022-11-11T06:59:21.990Z"
   },
   {
    "duration": 509,
    "start_time": "2022-11-11T06:59:22.031Z"
   },
   {
    "duration": 25,
    "start_time": "2022-11-11T06:59:22.541Z"
   },
   {
    "duration": 47,
    "start_time": "2022-11-11T06:59:22.568Z"
   },
   {
    "duration": 7,
    "start_time": "2022-11-11T06:59:22.617Z"
   },
   {
    "duration": 18,
    "start_time": "2022-11-11T06:59:22.625Z"
   },
   {
    "duration": 6,
    "start_time": "2022-11-11T06:59:22.645Z"
   },
   {
    "duration": 72,
    "start_time": "2022-11-11T07:01:44.092Z"
   },
   {
    "duration": 4,
    "start_time": "2022-11-11T07:02:25.440Z"
   },
   {
    "duration": 25,
    "start_time": "2022-11-11T07:02:38.284Z"
   },
   {
    "duration": 65,
    "start_time": "2022-11-11T07:05:07.821Z"
   },
   {
    "duration": 70,
    "start_time": "2022-11-11T07:06:09.350Z"
   },
   {
    "duration": 25,
    "start_time": "2022-11-11T07:07:24.261Z"
   },
   {
    "duration": 68,
    "start_time": "2022-11-11T07:08:08.561Z"
   },
   {
    "duration": 26,
    "start_time": "2022-11-11T07:08:31.979Z"
   },
   {
    "duration": 10,
    "start_time": "2022-11-11T07:09:02.317Z"
   },
   {
    "duration": 14,
    "start_time": "2022-11-11T07:09:05.407Z"
   },
   {
    "duration": 25,
    "start_time": "2022-11-11T07:09:14.262Z"
   },
   {
    "duration": 25,
    "start_time": "2022-11-11T07:09:50.140Z"
   },
   {
    "duration": 28,
    "start_time": "2022-11-11T07:10:24.876Z"
   },
   {
    "duration": 48,
    "start_time": "2022-11-11T10:29:51.603Z"
   },
   {
    "duration": 7,
    "start_time": "2022-11-11T10:30:20.544Z"
   },
   {
    "duration": 695,
    "start_time": "2022-11-11T10:30:35.145Z"
   },
   {
    "duration": 63,
    "start_time": "2022-11-11T10:30:35.842Z"
   },
   {
    "duration": 32,
    "start_time": "2022-11-11T10:30:35.907Z"
   },
   {
    "duration": 37,
    "start_time": "2022-11-11T10:30:35.941Z"
   },
   {
    "duration": 9,
    "start_time": "2022-11-11T10:30:35.979Z"
   },
   {
    "duration": 24,
    "start_time": "2022-11-11T10:30:35.990Z"
   },
   {
    "duration": 6,
    "start_time": "2022-11-11T10:30:36.016Z"
   },
   {
    "duration": 27,
    "start_time": "2022-11-11T10:38:40.656Z"
   },
   {
    "duration": 451,
    "start_time": "2022-11-11T10:38:49.090Z"
   },
   {
    "duration": 43,
    "start_time": "2022-11-11T10:38:49.543Z"
   },
   {
    "duration": 62,
    "start_time": "2022-11-11T10:38:49.588Z"
   },
   {
    "duration": 0,
    "start_time": "2022-11-11T10:38:49.652Z"
   },
   {
    "duration": 1,
    "start_time": "2022-11-11T10:38:49.653Z"
   },
   {
    "duration": 0,
    "start_time": "2022-11-11T10:38:49.654Z"
   },
   {
    "duration": 0,
    "start_time": "2022-11-11T10:38:49.655Z"
   },
   {
    "duration": 34,
    "start_time": "2022-11-11T10:39:19.054Z"
   },
   {
    "duration": 480,
    "start_time": "2022-11-11T10:39:30.884Z"
   },
   {
    "duration": 43,
    "start_time": "2022-11-11T10:39:31.366Z"
   },
   {
    "duration": 35,
    "start_time": "2022-11-11T10:39:31.410Z"
   },
   {
    "duration": 38,
    "start_time": "2022-11-11T10:39:31.447Z"
   },
   {
    "duration": 11,
    "start_time": "2022-11-11T10:39:31.487Z"
   },
   {
    "duration": 20,
    "start_time": "2022-11-11T10:39:31.499Z"
   },
   {
    "duration": 31,
    "start_time": "2022-11-11T10:39:31.521Z"
   },
   {
    "duration": 44,
    "start_time": "2022-11-11T10:42:05.361Z"
   },
   {
    "duration": 46,
    "start_time": "2022-11-11T10:42:27.945Z"
   },
   {
    "duration": 9,
    "start_time": "2022-11-11T10:43:00.591Z"
   },
   {
    "duration": 13,
    "start_time": "2022-11-11T10:43:28.172Z"
   },
   {
    "duration": 8,
    "start_time": "2022-11-11T10:45:36.837Z"
   },
   {
    "duration": 11,
    "start_time": "2022-11-11T10:46:20.259Z"
   },
   {
    "duration": 13,
    "start_time": "2022-11-11T10:47:12.136Z"
   },
   {
    "duration": 10,
    "start_time": "2022-11-11T10:48:50.666Z"
   },
   {
    "duration": 9,
    "start_time": "2022-11-11T10:49:41.348Z"
   },
   {
    "duration": 8,
    "start_time": "2022-11-11T10:51:01.225Z"
   },
   {
    "duration": 7,
    "start_time": "2022-11-11T10:52:32.190Z"
   },
   {
    "duration": 8,
    "start_time": "2022-11-11T10:55:14.387Z"
   },
   {
    "duration": 10,
    "start_time": "2022-11-11T10:55:34.290Z"
   },
   {
    "duration": 8,
    "start_time": "2022-11-11T11:02:32.921Z"
   },
   {
    "duration": 8,
    "start_time": "2022-11-11T11:04:01.358Z"
   },
   {
    "duration": 12,
    "start_time": "2022-11-11T11:04:54.939Z"
   },
   {
    "duration": 14,
    "start_time": "2022-11-11T11:05:12.508Z"
   },
   {
    "duration": 96,
    "start_time": "2022-11-11T11:05:20.917Z"
   },
   {
    "duration": 42,
    "start_time": "2022-11-11T11:05:34.236Z"
   },
   {
    "duration": 12,
    "start_time": "2022-11-11T11:05:44.356Z"
   },
   {
    "duration": 11,
    "start_time": "2022-11-11T11:06:07.371Z"
   },
   {
    "duration": 12,
    "start_time": "2022-11-11T11:06:22.219Z"
   },
   {
    "duration": 21,
    "start_time": "2022-11-11T11:06:33.859Z"
   },
   {
    "duration": 34,
    "start_time": "2022-11-11T11:06:45.532Z"
   },
   {
    "duration": 15,
    "start_time": "2022-11-11T11:06:58.342Z"
   },
   {
    "duration": 44,
    "start_time": "2022-11-11T11:07:30.461Z"
   },
   {
    "duration": 35,
    "start_time": "2022-11-11T11:07:42.383Z"
   },
   {
    "duration": 7,
    "start_time": "2022-11-11T11:09:06.254Z"
   },
   {
    "duration": 9,
    "start_time": "2022-11-11T11:09:54.299Z"
   },
   {
    "duration": 11,
    "start_time": "2022-11-11T11:11:02.814Z"
   },
   {
    "duration": 8,
    "start_time": "2022-11-11T11:13:43.160Z"
   },
   {
    "duration": 81,
    "start_time": "2022-11-11T11:14:45.752Z"
   },
   {
    "duration": 4,
    "start_time": "2022-11-11T11:14:53.424Z"
   },
   {
    "duration": 12,
    "start_time": "2022-11-11T11:15:15.994Z"
   },
   {
    "duration": 3,
    "start_time": "2022-11-11T11:17:28.190Z"
   },
   {
    "duration": 5,
    "start_time": "2022-11-11T11:17:39.827Z"
   },
   {
    "duration": 14,
    "start_time": "2022-11-11T11:17:54.498Z"
   },
   {
    "duration": 5,
    "start_time": "2022-11-11T11:18:11.564Z"
   },
   {
    "duration": 10,
    "start_time": "2022-11-11T11:19:11.220Z"
   },
   {
    "duration": 17,
    "start_time": "2022-11-11T11:19:22.018Z"
   },
   {
    "duration": 23,
    "start_time": "2022-11-11T11:20:26.571Z"
   },
   {
    "duration": 17,
    "start_time": "2022-11-11T11:20:53.746Z"
   },
   {
    "duration": 24,
    "start_time": "2022-11-11T11:21:03.504Z"
   },
   {
    "duration": 15,
    "start_time": "2022-11-11T11:21:16.202Z"
   },
   {
    "duration": 9,
    "start_time": "2022-11-11T11:23:28.896Z"
   },
   {
    "duration": 57,
    "start_time": "2022-11-11T11:23:41.876Z"
   },
   {
    "duration": 521,
    "start_time": "2022-11-11T11:24:02.371Z"
   },
   {
    "duration": 41,
    "start_time": "2022-11-11T11:24:02.894Z"
   },
   {
    "duration": 16,
    "start_time": "2022-11-11T11:24:02.937Z"
   },
   {
    "duration": 15,
    "start_time": "2022-11-11T11:24:02.956Z"
   },
   {
    "duration": 25,
    "start_time": "2022-11-11T11:24:02.973Z"
   },
   {
    "duration": 16,
    "start_time": "2022-11-11T11:24:03.000Z"
   },
   {
    "duration": 35,
    "start_time": "2022-11-11T11:24:03.018Z"
   },
   {
    "duration": 13,
    "start_time": "2022-11-11T11:24:03.054Z"
   },
   {
    "duration": 17,
    "start_time": "2022-11-11T11:24:03.068Z"
   },
   {
    "duration": 18,
    "start_time": "2022-11-11T11:24:03.087Z"
   },
   {
    "duration": 9,
    "start_time": "2022-11-11T11:24:03.107Z"
   },
   {
    "duration": 36,
    "start_time": "2022-11-11T11:24:03.118Z"
   },
   {
    "duration": 11,
    "start_time": "2022-11-11T11:24:03.156Z"
   },
   {
    "duration": 15,
    "start_time": "2022-11-11T11:24:03.169Z"
   },
   {
    "duration": 29,
    "start_time": "2022-11-11T11:24:03.185Z"
   },
   {
    "duration": 61,
    "start_time": "2022-11-11T11:24:03.216Z"
   },
   {
    "duration": 9,
    "start_time": "2022-11-11T11:24:03.279Z"
   },
   {
    "duration": 17,
    "start_time": "2022-11-11T11:24:03.289Z"
   },
   {
    "duration": 7,
    "start_time": "2022-11-11T11:24:03.308Z"
   },
   {
    "duration": 471,
    "start_time": "2022-11-11T11:32:16.588Z"
   },
   {
    "duration": 125,
    "start_time": "2022-11-11T11:37:18.950Z"
   },
   {
    "duration": 95,
    "start_time": "2022-11-11T11:37:36.635Z"
   },
   {
    "duration": 450,
    "start_time": "2022-11-11T11:39:03.392Z"
   },
   {
    "duration": 41,
    "start_time": "2022-11-11T11:39:03.843Z"
   },
   {
    "duration": 12,
    "start_time": "2022-11-11T11:39:03.886Z"
   },
   {
    "duration": 7,
    "start_time": "2022-11-11T11:39:03.900Z"
   },
   {
    "duration": 13,
    "start_time": "2022-11-11T11:39:03.909Z"
   },
   {
    "duration": 11,
    "start_time": "2022-11-11T11:39:03.924Z"
   },
   {
    "duration": 20,
    "start_time": "2022-11-11T11:39:03.936Z"
   },
   {
    "duration": 10,
    "start_time": "2022-11-11T11:39:03.957Z"
   },
   {
    "duration": 7,
    "start_time": "2022-11-11T11:39:03.968Z"
   },
   {
    "duration": 10,
    "start_time": "2022-11-11T11:39:03.977Z"
   },
   {
    "duration": 6,
    "start_time": "2022-11-11T11:39:03.988Z"
   },
   {
    "duration": 442,
    "start_time": "2022-11-11T11:39:03.995Z"
   },
   {
    "duration": 0,
    "start_time": "2022-11-11T11:39:04.439Z"
   },
   {
    "duration": 0,
    "start_time": "2022-11-11T11:39:04.440Z"
   },
   {
    "duration": 1,
    "start_time": "2022-11-11T11:39:04.440Z"
   },
   {
    "duration": 0,
    "start_time": "2022-11-11T11:39:04.442Z"
   },
   {
    "duration": 0,
    "start_time": "2022-11-11T11:39:04.452Z"
   },
   {
    "duration": 0,
    "start_time": "2022-11-11T11:39:04.453Z"
   },
   {
    "duration": 0,
    "start_time": "2022-11-11T11:39:04.454Z"
   },
   {
    "duration": 109,
    "start_time": "2022-11-11T11:39:28.410Z"
   },
   {
    "duration": 160,
    "start_time": "2022-11-11T11:39:52.490Z"
   },
   {
    "duration": 110,
    "start_time": "2022-11-11T11:40:12.918Z"
   },
   {
    "duration": 450,
    "start_time": "2022-11-11T11:40:18.701Z"
   },
   {
    "duration": 42,
    "start_time": "2022-11-11T11:40:19.152Z"
   },
   {
    "duration": 13,
    "start_time": "2022-11-11T11:40:19.198Z"
   },
   {
    "duration": 7,
    "start_time": "2022-11-11T11:40:19.213Z"
   },
   {
    "duration": 14,
    "start_time": "2022-11-11T11:40:19.221Z"
   },
   {
    "duration": 21,
    "start_time": "2022-11-11T11:40:19.237Z"
   },
   {
    "duration": 9,
    "start_time": "2022-11-11T11:40:19.260Z"
   },
   {
    "duration": 13,
    "start_time": "2022-11-11T11:40:19.271Z"
   },
   {
    "duration": 8,
    "start_time": "2022-11-11T11:40:19.286Z"
   },
   {
    "duration": 11,
    "start_time": "2022-11-11T11:40:19.295Z"
   },
   {
    "duration": 10,
    "start_time": "2022-11-11T11:40:19.307Z"
   },
   {
    "duration": 410,
    "start_time": "2022-11-11T11:40:19.351Z"
   },
   {
    "duration": 0,
    "start_time": "2022-11-11T11:40:19.763Z"
   },
   {
    "duration": 0,
    "start_time": "2022-11-11T11:40:19.765Z"
   },
   {
    "duration": 0,
    "start_time": "2022-11-11T11:40:19.766Z"
   },
   {
    "duration": 0,
    "start_time": "2022-11-11T11:40:19.767Z"
   },
   {
    "duration": 0,
    "start_time": "2022-11-11T11:40:19.769Z"
   },
   {
    "duration": 0,
    "start_time": "2022-11-11T11:40:19.770Z"
   },
   {
    "duration": 0,
    "start_time": "2022-11-11T11:40:19.771Z"
   },
   {
    "duration": 108,
    "start_time": "2022-11-11T11:40:29.221Z"
   },
   {
    "duration": 11,
    "start_time": "2022-11-11T11:40:52.328Z"
   },
   {
    "duration": 97,
    "start_time": "2022-11-11T11:40:57.815Z"
   },
   {
    "duration": 102,
    "start_time": "2022-11-11T11:41:12.237Z"
   },
   {
    "duration": 90,
    "start_time": "2022-11-11T11:41:23.046Z"
   },
   {
    "duration": 145,
    "start_time": "2022-11-11T11:42:19.427Z"
   },
   {
    "duration": 88,
    "start_time": "2022-11-11T11:42:31.409Z"
   },
   {
    "duration": 89,
    "start_time": "2022-11-11T11:42:45.963Z"
   },
   {
    "duration": 106,
    "start_time": "2022-11-11T11:42:53.952Z"
   },
   {
    "duration": 98,
    "start_time": "2022-11-11T11:43:06.990Z"
   },
   {
    "duration": 673,
    "start_time": "2022-11-13T14:28:09.494Z"
   },
   {
    "duration": 99,
    "start_time": "2022-11-13T14:28:10.169Z"
   },
   {
    "duration": 15,
    "start_time": "2022-11-13T14:28:10.270Z"
   },
   {
    "duration": 17,
    "start_time": "2022-11-13T14:28:10.288Z"
   },
   {
    "duration": 21,
    "start_time": "2022-11-13T14:28:10.307Z"
   },
   {
    "duration": 20,
    "start_time": "2022-11-13T14:28:10.329Z"
   },
   {
    "duration": 14,
    "start_time": "2022-11-13T14:28:10.350Z"
   },
   {
    "duration": 28,
    "start_time": "2022-11-13T14:28:10.365Z"
   },
   {
    "duration": 10,
    "start_time": "2022-11-13T14:28:10.395Z"
   },
   {
    "duration": 18,
    "start_time": "2022-11-13T14:28:10.406Z"
   },
   {
    "duration": 14,
    "start_time": "2022-11-13T14:28:10.426Z"
   },
   {
    "duration": 18,
    "start_time": "2022-11-13T14:28:10.441Z"
   },
   {
    "duration": 15,
    "start_time": "2022-11-13T14:28:10.460Z"
   },
   {
    "duration": 537,
    "start_time": "2022-11-13T14:28:10.477Z"
   },
   {
    "duration": 35,
    "start_time": "2022-11-13T14:28:11.016Z"
   },
   {
    "duration": 61,
    "start_time": "2022-11-13T14:28:11.053Z"
   },
   {
    "duration": 9,
    "start_time": "2022-11-13T14:28:11.116Z"
   },
   {
    "duration": 27,
    "start_time": "2022-11-13T14:28:11.127Z"
   },
   {
    "duration": 7,
    "start_time": "2022-11-13T14:28:11.156Z"
   },
   {
    "duration": 29,
    "start_time": "2022-11-13T14:38:57.039Z"
   },
   {
    "duration": 30,
    "start_time": "2022-11-13T15:29:31.064Z"
   },
   {
    "duration": 6,
    "start_time": "2022-11-13T16:24:14.899Z"
   },
   {
    "duration": 18,
    "start_time": "2022-11-13T16:25:08.335Z"
   },
   {
    "duration": 19,
    "start_time": "2022-11-13T16:29:30.233Z"
   },
   {
    "duration": 29,
    "start_time": "2022-11-13T16:30:09.978Z"
   },
   {
    "duration": 28,
    "start_time": "2022-11-13T16:30:28.943Z"
   },
   {
    "duration": 276,
    "start_time": "2022-11-13T16:31:12.384Z"
   },
   {
    "duration": 29,
    "start_time": "2022-11-13T16:34:11.840Z"
   },
   {
    "duration": 26,
    "start_time": "2022-11-13T16:34:33.338Z"
   },
   {
    "duration": 39,
    "start_time": "2022-11-13T16:36:01.163Z"
   },
   {
    "duration": 33,
    "start_time": "2022-11-13T16:36:14.601Z"
   },
   {
    "duration": 3,
    "start_time": "2022-11-13T16:37:03.729Z"
   },
   {
    "duration": 813,
    "start_time": "2022-11-13T16:37:24.366Z"
   },
   {
    "duration": 17,
    "start_time": "2022-11-13T16:40:01.227Z"
   },
   {
    "duration": 339,
    "start_time": "2022-11-13T16:41:51.129Z"
   },
   {
    "duration": 40,
    "start_time": "2022-11-13T16:44:25.534Z"
   },
   {
    "duration": 25,
    "start_time": "2022-11-13T16:44:56.641Z"
   },
   {
    "duration": 370,
    "start_time": "2022-11-13T16:45:47.354Z"
   },
   {
    "duration": 29,
    "start_time": "2022-11-13T16:46:47.314Z"
   },
   {
    "duration": 18,
    "start_time": "2022-11-13T16:49:27.444Z"
   },
   {
    "duration": 20,
    "start_time": "2022-11-13T16:51:42.259Z"
   },
   {
    "duration": 14,
    "start_time": "2022-11-13T16:51:51.924Z"
   },
   {
    "duration": 512,
    "start_time": "2022-11-13T16:54:11.371Z"
   },
   {
    "duration": 49,
    "start_time": "2022-11-13T16:54:11.884Z"
   },
   {
    "duration": 27,
    "start_time": "2022-11-13T16:54:11.935Z"
   },
   {
    "duration": 37,
    "start_time": "2022-11-13T16:54:11.964Z"
   },
   {
    "duration": 10,
    "start_time": "2022-11-13T16:54:12.002Z"
   },
   {
    "duration": 18,
    "start_time": "2022-11-13T16:54:12.013Z"
   },
   {
    "duration": 92,
    "start_time": "2022-11-13T16:54:12.033Z"
   },
   {
    "duration": 0,
    "start_time": "2022-11-13T16:54:12.127Z"
   },
   {
    "duration": 0,
    "start_time": "2022-11-13T16:54:12.128Z"
   },
   {
    "duration": 0,
    "start_time": "2022-11-13T16:54:12.129Z"
   },
   {
    "duration": 0,
    "start_time": "2022-11-13T16:54:12.130Z"
   },
   {
    "duration": 0,
    "start_time": "2022-11-13T16:54:12.130Z"
   },
   {
    "duration": 0,
    "start_time": "2022-11-13T16:54:12.131Z"
   },
   {
    "duration": 0,
    "start_time": "2022-11-13T16:54:12.132Z"
   },
   {
    "duration": 0,
    "start_time": "2022-11-13T16:54:12.133Z"
   },
   {
    "duration": 0,
    "start_time": "2022-11-13T16:54:12.134Z"
   },
   {
    "duration": 0,
    "start_time": "2022-11-13T16:54:12.135Z"
   },
   {
    "duration": 0,
    "start_time": "2022-11-13T16:54:12.135Z"
   },
   {
    "duration": 0,
    "start_time": "2022-11-13T16:54:12.136Z"
   },
   {
    "duration": 0,
    "start_time": "2022-11-13T16:54:12.137Z"
   },
   {
    "duration": 24,
    "start_time": "2022-11-13T16:55:02.257Z"
   },
   {
    "duration": 19,
    "start_time": "2022-11-13T16:55:31.058Z"
   },
   {
    "duration": 17,
    "start_time": "2022-11-13T16:56:18.252Z"
   },
   {
    "duration": 15,
    "start_time": "2022-11-13T16:59:29.957Z"
   },
   {
    "duration": 17,
    "start_time": "2022-11-13T16:59:50.283Z"
   },
   {
    "duration": 20,
    "start_time": "2022-11-13T17:00:18.610Z"
   },
   {
    "duration": 499,
    "start_time": "2022-11-13T17:00:24.505Z"
   },
   {
    "duration": 47,
    "start_time": "2022-11-13T17:00:25.006Z"
   },
   {
    "duration": 41,
    "start_time": "2022-11-13T17:00:25.055Z"
   },
   {
    "duration": 83,
    "start_time": "2022-11-13T17:00:25.098Z"
   },
   {
    "duration": 10,
    "start_time": "2022-11-13T17:00:25.184Z"
   },
   {
    "duration": 43,
    "start_time": "2022-11-13T17:00:25.196Z"
   },
   {
    "duration": 85,
    "start_time": "2022-11-13T17:00:25.241Z"
   },
   {
    "duration": 0,
    "start_time": "2022-11-13T17:00:25.329Z"
   },
   {
    "duration": 0,
    "start_time": "2022-11-13T17:00:25.331Z"
   },
   {
    "duration": 0,
    "start_time": "2022-11-13T17:00:25.332Z"
   },
   {
    "duration": 0,
    "start_time": "2022-11-13T17:00:25.334Z"
   },
   {
    "duration": 0,
    "start_time": "2022-11-13T17:00:25.336Z"
   },
   {
    "duration": 0,
    "start_time": "2022-11-13T17:00:25.337Z"
   },
   {
    "duration": 0,
    "start_time": "2022-11-13T17:00:25.339Z"
   },
   {
    "duration": 0,
    "start_time": "2022-11-13T17:00:25.342Z"
   },
   {
    "duration": 0,
    "start_time": "2022-11-13T17:00:25.343Z"
   },
   {
    "duration": 0,
    "start_time": "2022-11-13T17:00:25.345Z"
   },
   {
    "duration": 0,
    "start_time": "2022-11-13T17:00:25.346Z"
   },
   {
    "duration": 0,
    "start_time": "2022-11-13T17:00:25.347Z"
   },
   {
    "duration": 0,
    "start_time": "2022-11-13T17:00:25.379Z"
   },
   {
    "duration": 10,
    "start_time": "2022-11-13T17:00:55.509Z"
   },
   {
    "duration": 35,
    "start_time": "2022-11-13T17:01:20.234Z"
   },
   {
    "duration": 32,
    "start_time": "2022-11-13T17:02:19.227Z"
   },
   {
    "duration": 29,
    "start_time": "2022-11-13T17:02:33.268Z"
   },
   {
    "duration": 53,
    "start_time": "2022-11-13T17:02:48.961Z"
   },
   {
    "duration": 54,
    "start_time": "2022-11-13T17:04:08.083Z"
   },
   {
    "duration": 45,
    "start_time": "2022-11-13T17:07:25.167Z"
   },
   {
    "duration": 59,
    "start_time": "2022-11-13T17:10:56.111Z"
   },
   {
    "duration": 49,
    "start_time": "2022-11-13T17:11:44.540Z"
   },
   {
    "duration": 52,
    "start_time": "2022-11-13T17:12:06.149Z"
   },
   {
    "duration": 49,
    "start_time": "2022-11-13T17:12:46.340Z"
   },
   {
    "duration": 46,
    "start_time": "2022-11-13T17:13:35.214Z"
   },
   {
    "duration": 44,
    "start_time": "2022-11-13T17:14:05.761Z"
   },
   {
    "duration": 55,
    "start_time": "2022-11-13T17:14:18.046Z"
   },
   {
    "duration": 39,
    "start_time": "2022-11-13T17:14:56.178Z"
   },
   {
    "duration": 40,
    "start_time": "2022-11-13T17:15:31.511Z"
   },
   {
    "duration": 45,
    "start_time": "2022-11-13T17:15:46.774Z"
   },
   {
    "duration": 73,
    "start_time": "2022-11-13T17:16:03.810Z"
   },
   {
    "duration": 44,
    "start_time": "2022-11-13T17:16:30.280Z"
   },
   {
    "duration": 41,
    "start_time": "2022-11-13T17:17:43.251Z"
   },
   {
    "duration": 59,
    "start_time": "2022-11-13T17:19:17.682Z"
   },
   {
    "duration": 45,
    "start_time": "2022-11-13T17:19:49.411Z"
   },
   {
    "duration": 46,
    "start_time": "2022-11-13T17:20:53.589Z"
   },
   {
    "duration": 43,
    "start_time": "2022-11-13T17:21:08.407Z"
   },
   {
    "duration": 16,
    "start_time": "2022-11-13T17:23:10.757Z"
   },
   {
    "duration": 26,
    "start_time": "2022-11-13T17:32:04.446Z"
   },
   {
    "duration": 15,
    "start_time": "2022-11-13T17:36:45.409Z"
   },
   {
    "duration": 12,
    "start_time": "2022-11-13T17:36:46.345Z"
   },
   {
    "duration": 14,
    "start_time": "2022-11-13T17:36:47.370Z"
   },
   {
    "duration": 15,
    "start_time": "2022-11-13T17:36:50.125Z"
   },
   {
    "duration": 16,
    "start_time": "2022-11-13T17:36:52.403Z"
   },
   {
    "duration": 8,
    "start_time": "2022-11-13T17:36:57.036Z"
   },
   {
    "duration": 8,
    "start_time": "2022-11-13T17:37:01.552Z"
   },
   {
    "duration": 53,
    "start_time": "2022-11-14T17:03:20.589Z"
   },
   {
    "duration": 716,
    "start_time": "2022-11-14T17:03:31.182Z"
   },
   {
    "duration": 63,
    "start_time": "2022-11-14T17:03:31.900Z"
   },
   {
    "duration": 39,
    "start_time": "2022-11-14T17:03:31.965Z"
   },
   {
    "duration": 45,
    "start_time": "2022-11-14T17:03:32.006Z"
   },
   {
    "duration": 27,
    "start_time": "2022-11-14T17:03:32.053Z"
   },
   {
    "duration": 21,
    "start_time": "2022-11-14T17:03:32.082Z"
   },
   {
    "duration": 20,
    "start_time": "2022-11-14T17:03:32.105Z"
   },
   {
    "duration": 79,
    "start_time": "2022-11-14T17:03:32.127Z"
   },
   {
    "duration": 18,
    "start_time": "2022-11-14T17:03:32.208Z"
   },
   {
    "duration": 15,
    "start_time": "2022-11-14T17:03:32.229Z"
   },
   {
    "duration": 49,
    "start_time": "2022-11-14T17:03:32.246Z"
   },
   {
    "duration": 17,
    "start_time": "2022-11-14T17:03:32.297Z"
   },
   {
    "duration": 11,
    "start_time": "2022-11-14T17:03:32.316Z"
   },
   {
    "duration": 12,
    "start_time": "2022-11-14T17:03:32.328Z"
   },
   {
    "duration": 37,
    "start_time": "2022-11-14T17:03:32.342Z"
   },
   {
    "duration": 8,
    "start_time": "2022-11-14T17:03:32.381Z"
   },
   {
    "duration": 11,
    "start_time": "2022-11-14T17:03:32.391Z"
   },
   {
    "duration": 10,
    "start_time": "2022-11-14T17:03:32.404Z"
   },
   {
    "duration": 8,
    "start_time": "2022-11-14T17:03:32.416Z"
   },
   {
    "duration": 12,
    "start_time": "2022-11-14T17:03:32.425Z"
   },
   {
    "duration": 51,
    "start_time": "2022-11-14T17:03:32.438Z"
   },
   {
    "duration": 595,
    "start_time": "2022-11-14T17:03:32.491Z"
   },
   {
    "duration": 85,
    "start_time": "2022-11-14T17:05:39.642Z"
   },
   {
    "duration": 70,
    "start_time": "2022-11-14T17:05:53.080Z"
   },
   {
    "duration": 77,
    "start_time": "2022-11-14T17:06:30.976Z"
   },
   {
    "duration": 73,
    "start_time": "2022-11-14T17:07:53.786Z"
   },
   {
    "duration": 611,
    "start_time": "2022-11-14T17:08:00.548Z"
   },
   {
    "duration": 57,
    "start_time": "2022-11-14T17:08:01.162Z"
   },
   {
    "duration": 34,
    "start_time": "2022-11-14T17:08:01.221Z"
   },
   {
    "duration": 50,
    "start_time": "2022-11-14T17:08:01.258Z"
   },
   {
    "duration": 11,
    "start_time": "2022-11-14T17:08:01.310Z"
   },
   {
    "duration": 40,
    "start_time": "2022-11-14T17:08:01.323Z"
   },
   {
    "duration": 67,
    "start_time": "2022-11-14T17:08:01.366Z"
   },
   {
    "duration": 0,
    "start_time": "2022-11-14T17:08:01.435Z"
   },
   {
    "duration": 0,
    "start_time": "2022-11-14T17:08:01.437Z"
   },
   {
    "duration": 0,
    "start_time": "2022-11-14T17:08:01.438Z"
   },
   {
    "duration": 0,
    "start_time": "2022-11-14T17:08:01.440Z"
   },
   {
    "duration": 0,
    "start_time": "2022-11-14T17:08:01.441Z"
   },
   {
    "duration": 0,
    "start_time": "2022-11-14T17:08:01.443Z"
   },
   {
    "duration": 0,
    "start_time": "2022-11-14T17:08:01.445Z"
   },
   {
    "duration": 0,
    "start_time": "2022-11-14T17:08:01.446Z"
   },
   {
    "duration": 0,
    "start_time": "2022-11-14T17:08:01.447Z"
   },
   {
    "duration": 0,
    "start_time": "2022-11-14T17:08:01.448Z"
   },
   {
    "duration": 0,
    "start_time": "2022-11-14T17:08:01.450Z"
   },
   {
    "duration": 0,
    "start_time": "2022-11-14T17:08:01.451Z"
   },
   {
    "duration": 0,
    "start_time": "2022-11-14T17:08:01.452Z"
   },
   {
    "duration": 0,
    "start_time": "2022-11-14T17:08:01.453Z"
   },
   {
    "duration": 0,
    "start_time": "2022-11-14T17:08:01.454Z"
   },
   {
    "duration": 0,
    "start_time": "2022-11-14T17:08:01.455Z"
   },
   {
    "duration": 88,
    "start_time": "2022-11-14T17:08:56.108Z"
   },
   {
    "duration": 72,
    "start_time": "2022-11-14T17:09:11.728Z"
   },
   {
    "duration": 106,
    "start_time": "2022-11-14T17:10:07.789Z"
   },
   {
    "duration": 548,
    "start_time": "2022-11-14T17:10:14.491Z"
   },
   {
    "duration": 49,
    "start_time": "2022-11-14T17:10:15.041Z"
   },
   {
    "duration": 33,
    "start_time": "2022-11-14T17:10:15.092Z"
   },
   {
    "duration": 60,
    "start_time": "2022-11-14T17:10:15.127Z"
   },
   {
    "duration": 11,
    "start_time": "2022-11-14T17:10:15.189Z"
   },
   {
    "duration": 31,
    "start_time": "2022-11-14T17:10:15.201Z"
   },
   {
    "duration": 88,
    "start_time": "2022-11-14T17:10:15.234Z"
   },
   {
    "duration": 0,
    "start_time": "2022-11-14T17:10:15.324Z"
   },
   {
    "duration": 0,
    "start_time": "2022-11-14T17:10:15.325Z"
   },
   {
    "duration": 0,
    "start_time": "2022-11-14T17:10:15.326Z"
   },
   {
    "duration": 0,
    "start_time": "2022-11-14T17:10:15.328Z"
   },
   {
    "duration": 0,
    "start_time": "2022-11-14T17:10:15.329Z"
   },
   {
    "duration": 0,
    "start_time": "2022-11-14T17:10:15.330Z"
   },
   {
    "duration": 0,
    "start_time": "2022-11-14T17:10:15.332Z"
   },
   {
    "duration": 0,
    "start_time": "2022-11-14T17:10:15.333Z"
   },
   {
    "duration": 0,
    "start_time": "2022-11-14T17:10:15.335Z"
   },
   {
    "duration": 0,
    "start_time": "2022-11-14T17:10:15.336Z"
   },
   {
    "duration": 0,
    "start_time": "2022-11-14T17:10:15.337Z"
   },
   {
    "duration": 0,
    "start_time": "2022-11-14T17:10:15.338Z"
   },
   {
    "duration": 0,
    "start_time": "2022-11-14T17:10:15.339Z"
   },
   {
    "duration": 0,
    "start_time": "2022-11-14T17:10:15.340Z"
   },
   {
    "duration": 0,
    "start_time": "2022-11-14T17:10:15.341Z"
   },
   {
    "duration": 0,
    "start_time": "2022-11-14T17:10:15.342Z"
   },
   {
    "duration": 108,
    "start_time": "2022-11-14T17:11:08.456Z"
   },
   {
    "duration": 65,
    "start_time": "2022-11-14T17:13:32.430Z"
   },
   {
    "duration": 19,
    "start_time": "2022-11-14T17:13:40.852Z"
   },
   {
    "duration": 18,
    "start_time": "2022-11-14T17:13:58.734Z"
   },
   {
    "duration": 535,
    "start_time": "2022-11-14T17:14:14.827Z"
   },
   {
    "duration": 44,
    "start_time": "2022-11-14T17:14:15.364Z"
   },
   {
    "duration": 29,
    "start_time": "2022-11-14T17:14:15.409Z"
   },
   {
    "duration": 53,
    "start_time": "2022-11-14T17:14:15.440Z"
   },
   {
    "duration": 11,
    "start_time": "2022-11-14T17:14:15.495Z"
   },
   {
    "duration": 30,
    "start_time": "2022-11-14T17:14:15.508Z"
   },
   {
    "duration": 42,
    "start_time": "2022-11-14T17:14:15.540Z"
   },
   {
    "duration": 60,
    "start_time": "2022-11-14T17:14:15.584Z"
   },
   {
    "duration": 53,
    "start_time": "2022-11-14T17:14:15.646Z"
   },
   {
    "duration": 29,
    "start_time": "2022-11-14T17:14:15.703Z"
   },
   {
    "duration": 17,
    "start_time": "2022-11-14T17:14:15.734Z"
   },
   {
    "duration": 35,
    "start_time": "2022-11-14T17:14:15.753Z"
   },
   {
    "duration": 38,
    "start_time": "2022-11-14T17:14:15.790Z"
   },
   {
    "duration": 14,
    "start_time": "2022-11-14T17:14:15.830Z"
   },
   {
    "duration": 11,
    "start_time": "2022-11-14T17:14:15.846Z"
   },
   {
    "duration": 26,
    "start_time": "2022-11-14T17:14:15.859Z"
   },
   {
    "duration": 16,
    "start_time": "2022-11-14T17:14:15.887Z"
   },
   {
    "duration": 12,
    "start_time": "2022-11-14T17:14:15.905Z"
   },
   {
    "duration": 20,
    "start_time": "2022-11-14T17:14:15.920Z"
   },
   {
    "duration": 34,
    "start_time": "2022-11-14T17:14:15.943Z"
   },
   {
    "duration": 12,
    "start_time": "2022-11-14T17:14:15.980Z"
   },
   {
    "duration": 13,
    "start_time": "2022-11-14T17:14:15.994Z"
   },
   {
    "duration": 406,
    "start_time": "2022-11-14T17:14:16.009Z"
   },
   {
    "duration": 141,
    "start_time": "2022-11-14T17:19:38.051Z"
   },
   {
    "duration": 23,
    "start_time": "2022-11-14T17:20:00.082Z"
   },
   {
    "duration": 7,
    "start_time": "2022-11-14T17:20:59.708Z"
   },
   {
    "duration": 32,
    "start_time": "2022-11-14T17:25:45.082Z"
   },
   {
    "duration": 38,
    "start_time": "2022-11-14T17:25:55.573Z"
   },
   {
    "duration": 13,
    "start_time": "2022-11-14T17:26:36.237Z"
   },
   {
    "duration": 12,
    "start_time": "2022-11-14T17:27:55.926Z"
   },
   {
    "duration": 12,
    "start_time": "2022-11-14T17:28:16.166Z"
   },
   {
    "duration": 14,
    "start_time": "2022-11-14T17:28:38.248Z"
   },
   {
    "duration": 9,
    "start_time": "2022-11-14T17:29:23.505Z"
   },
   {
    "duration": 508,
    "start_time": "2022-11-14T17:29:28.812Z"
   },
   {
    "duration": 42,
    "start_time": "2022-11-14T17:29:29.322Z"
   },
   {
    "duration": 30,
    "start_time": "2022-11-14T17:29:29.365Z"
   },
   {
    "duration": 58,
    "start_time": "2022-11-14T17:29:29.397Z"
   },
   {
    "duration": 23,
    "start_time": "2022-11-14T17:29:29.457Z"
   },
   {
    "duration": 23,
    "start_time": "2022-11-14T17:29:29.482Z"
   },
   {
    "duration": 8,
    "start_time": "2022-11-14T17:29:29.507Z"
   },
   {
    "duration": 27,
    "start_time": "2022-11-14T17:29:29.517Z"
   },
   {
    "duration": 78,
    "start_time": "2022-11-14T17:29:29.546Z"
   },
   {
    "duration": 19,
    "start_time": "2022-11-14T17:29:29.627Z"
   },
   {
    "duration": 41,
    "start_time": "2022-11-14T17:29:29.648Z"
   },
   {
    "duration": 11,
    "start_time": "2022-11-14T17:29:29.691Z"
   },
   {
    "duration": 14,
    "start_time": "2022-11-14T17:29:29.704Z"
   },
   {
    "duration": 11,
    "start_time": "2022-11-14T17:29:29.719Z"
   },
   {
    "duration": 46,
    "start_time": "2022-11-14T17:29:29.732Z"
   },
   {
    "duration": 9,
    "start_time": "2022-11-14T17:29:29.780Z"
   },
   {
    "duration": 10,
    "start_time": "2022-11-14T17:29:29.790Z"
   },
   {
    "duration": 14,
    "start_time": "2022-11-14T17:29:29.802Z"
   },
   {
    "duration": 8,
    "start_time": "2022-11-14T17:29:29.818Z"
   },
   {
    "duration": 49,
    "start_time": "2022-11-14T17:29:29.829Z"
   },
   {
    "duration": 9,
    "start_time": "2022-11-14T17:29:29.880Z"
   },
   {
    "duration": 14,
    "start_time": "2022-11-14T17:29:29.891Z"
   },
   {
    "duration": 409,
    "start_time": "2022-11-14T17:29:29.907Z"
   },
   {
    "duration": 12,
    "start_time": "2022-11-14T17:37:47.196Z"
   },
   {
    "duration": 9,
    "start_time": "2022-11-14T17:40:31.905Z"
   },
   {
    "duration": 10,
    "start_time": "2022-11-14T17:40:59.239Z"
   },
   {
    "duration": 530,
    "start_time": "2022-11-14T17:49:47.029Z"
   },
   {
    "duration": 44,
    "start_time": "2022-11-14T17:49:47.561Z"
   },
   {
    "duration": 32,
    "start_time": "2022-11-14T17:49:47.607Z"
   },
   {
    "duration": 53,
    "start_time": "2022-11-14T17:49:47.642Z"
   },
   {
    "duration": 12,
    "start_time": "2022-11-14T17:49:47.697Z"
   },
   {
    "duration": 25,
    "start_time": "2022-11-14T17:49:47.712Z"
   },
   {
    "duration": 7,
    "start_time": "2022-11-14T17:49:47.739Z"
   },
   {
    "duration": 63,
    "start_time": "2022-11-14T17:49:47.748Z"
   },
   {
    "duration": 68,
    "start_time": "2022-11-14T17:49:47.813Z"
   },
   {
    "duration": 16,
    "start_time": "2022-11-14T17:49:47.885Z"
   },
   {
    "duration": 17,
    "start_time": "2022-11-14T17:49:47.903Z"
   },
   {
    "duration": 13,
    "start_time": "2022-11-14T17:49:47.921Z"
   },
   {
    "duration": 50,
    "start_time": "2022-11-14T17:49:47.936Z"
   },
   {
    "duration": 12,
    "start_time": "2022-11-14T17:49:47.988Z"
   },
   {
    "duration": 12,
    "start_time": "2022-11-14T17:49:48.001Z"
   },
   {
    "duration": 8,
    "start_time": "2022-11-14T17:49:48.015Z"
   },
   {
    "duration": 53,
    "start_time": "2022-11-14T17:49:48.025Z"
   },
   {
    "duration": 8,
    "start_time": "2022-11-14T17:49:48.080Z"
   },
   {
    "duration": 8,
    "start_time": "2022-11-14T17:49:48.089Z"
   },
   {
    "duration": 12,
    "start_time": "2022-11-14T17:49:48.098Z"
   },
   {
    "duration": 9,
    "start_time": "2022-11-14T17:49:48.111Z"
   },
   {
    "duration": 423,
    "start_time": "2022-11-14T17:49:48.121Z"
   },
   {
    "duration": 30,
    "start_time": "2022-11-14T17:51:05.828Z"
   },
   {
    "duration": 47,
    "start_time": "2022-11-14T17:57:44.104Z"
   },
   {
    "duration": 39,
    "start_time": "2022-11-14T18:00:56.110Z"
   },
   {
    "duration": 91,
    "start_time": "2022-11-14T18:03:26.704Z"
   },
   {
    "duration": 154,
    "start_time": "2022-11-14T18:03:36.259Z"
   },
   {
    "duration": 165,
    "start_time": "2022-11-14T18:03:38.958Z"
   },
   {
    "duration": 176,
    "start_time": "2022-11-14T18:05:04.629Z"
   },
   {
    "duration": 210,
    "start_time": "2022-11-14T18:06:03.648Z"
   },
   {
    "duration": 226,
    "start_time": "2022-11-14T18:06:56.009Z"
   },
   {
    "duration": 1394,
    "start_time": "2022-11-14T18:09:09.133Z"
   },
   {
    "duration": 214,
    "start_time": "2022-11-14T18:09:27.934Z"
   },
   {
    "duration": 179,
    "start_time": "2022-11-14T18:10:32.280Z"
   },
   {
    "duration": 204,
    "start_time": "2022-11-14T18:10:45.528Z"
   },
   {
    "duration": 199,
    "start_time": "2022-11-14T18:11:11.554Z"
   },
   {
    "duration": 1518,
    "start_time": "2022-11-14T18:12:23.074Z"
   },
   {
    "duration": 1558,
    "start_time": "2022-11-14T18:12:46.864Z"
   },
   {
    "duration": 235,
    "start_time": "2022-11-14T18:13:28.861Z"
   },
   {
    "duration": 198,
    "start_time": "2022-11-14T18:20:38.012Z"
   },
   {
    "duration": 223,
    "start_time": "2022-11-14T18:21:11.846Z"
   },
   {
    "duration": 53,
    "start_time": "2022-11-14T18:46:13.941Z"
   },
   {
    "duration": 1168,
    "start_time": "2022-11-14T18:46:41.212Z"
   },
   {
    "duration": 21,
    "start_time": "2022-11-14T18:47:32.865Z"
   },
   {
    "duration": 9,
    "start_time": "2022-11-14T18:48:30.365Z"
   },
   {
    "duration": 118,
    "start_time": "2022-11-14T18:49:11.064Z"
   },
   {
    "duration": 172,
    "start_time": "2022-11-14T18:52:54.119Z"
   },
   {
    "duration": 212,
    "start_time": "2022-11-14T18:53:46.497Z"
   },
   {
    "duration": 168,
    "start_time": "2022-11-14T18:54:06.189Z"
   },
   {
    "duration": 175,
    "start_time": "2022-11-14T18:54:19.307Z"
   },
   {
    "duration": 120,
    "start_time": "2022-11-14T18:54:54.448Z"
   },
   {
    "duration": 162,
    "start_time": "2022-11-14T18:55:12.056Z"
   },
   {
    "duration": 24,
    "start_time": "2022-11-14T18:58:36.570Z"
   },
   {
    "duration": 25,
    "start_time": "2022-11-14T18:58:41.974Z"
   },
   {
    "duration": 31,
    "start_time": "2022-11-14T18:59:22.835Z"
   },
   {
    "duration": 25,
    "start_time": "2022-11-14T18:59:26.509Z"
   },
   {
    "duration": 516,
    "start_time": "2022-11-14T18:59:40.812Z"
   },
   {
    "duration": 44,
    "start_time": "2022-11-14T18:59:41.330Z"
   },
   {
    "duration": 29,
    "start_time": "2022-11-14T18:59:41.376Z"
   },
   {
    "duration": 40,
    "start_time": "2022-11-14T18:59:41.408Z"
   },
   {
    "duration": 31,
    "start_time": "2022-11-14T18:59:41.450Z"
   },
   {
    "duration": 21,
    "start_time": "2022-11-14T18:59:41.483Z"
   },
   {
    "duration": 6,
    "start_time": "2022-11-14T18:59:41.505Z"
   },
   {
    "duration": 27,
    "start_time": "2022-11-14T18:59:41.512Z"
   },
   {
    "duration": 76,
    "start_time": "2022-11-14T18:59:41.541Z"
   },
   {
    "duration": 18,
    "start_time": "2022-11-14T18:59:41.620Z"
   },
   {
    "duration": 15,
    "start_time": "2022-11-14T18:59:41.640Z"
   },
   {
    "duration": 12,
    "start_time": "2022-11-14T18:59:41.679Z"
   },
   {
    "duration": 15,
    "start_time": "2022-11-14T18:59:41.693Z"
   },
   {
    "duration": 11,
    "start_time": "2022-11-14T18:59:41.710Z"
   },
   {
    "duration": 59,
    "start_time": "2022-11-14T18:59:41.723Z"
   },
   {
    "duration": 8,
    "start_time": "2022-11-14T18:59:41.784Z"
   },
   {
    "duration": 15,
    "start_time": "2022-11-14T18:59:41.794Z"
   },
   {
    "duration": 8,
    "start_time": "2022-11-14T18:59:41.811Z"
   },
   {
    "duration": 10,
    "start_time": "2022-11-14T18:59:41.821Z"
   },
   {
    "duration": 12,
    "start_time": "2022-11-14T18:59:41.879Z"
   },
   {
    "duration": 382,
    "start_time": "2022-11-14T18:59:41.893Z"
   },
   {
    "duration": 175,
    "start_time": "2022-11-14T18:59:42.278Z"
   },
   {
    "duration": 42,
    "start_time": "2022-11-14T18:59:42.455Z"
   },
   {
    "duration": 28,
    "start_time": "2022-11-14T18:59:42.499Z"
   },
   {
    "duration": 27,
    "start_time": "2022-11-14T18:59:42.529Z"
   },
   {
    "duration": 232,
    "start_time": "2022-11-14T18:59:42.578Z"
   },
   {
    "duration": 180,
    "start_time": "2022-11-14T18:59:42.813Z"
   },
   {
    "duration": 25,
    "start_time": "2022-11-14T19:00:56.580Z"
   },
   {
    "duration": 25,
    "start_time": "2022-11-14T19:01:04.446Z"
   },
   {
    "duration": 26,
    "start_time": "2022-11-14T19:01:27.286Z"
   },
   {
    "duration": 29,
    "start_time": "2022-11-14T19:01:31.149Z"
   },
   {
    "duration": 25,
    "start_time": "2022-11-14T19:01:32.445Z"
   },
   {
    "duration": 558,
    "start_time": "2022-11-14T19:01:39.989Z"
   },
   {
    "duration": 43,
    "start_time": "2022-11-14T19:01:40.549Z"
   },
   {
    "duration": 30,
    "start_time": "2022-11-14T19:01:40.594Z"
   },
   {
    "duration": 62,
    "start_time": "2022-11-14T19:01:40.627Z"
   },
   {
    "duration": 12,
    "start_time": "2022-11-14T19:01:40.691Z"
   },
   {
    "duration": 21,
    "start_time": "2022-11-14T19:01:40.705Z"
   },
   {
    "duration": 6,
    "start_time": "2022-11-14T19:01:40.728Z"
   },
   {
    "duration": 62,
    "start_time": "2022-11-14T19:01:40.736Z"
   },
   {
    "duration": 48,
    "start_time": "2022-11-14T19:01:40.799Z"
   },
   {
    "duration": 39,
    "start_time": "2022-11-14T19:01:40.850Z"
   },
   {
    "duration": 18,
    "start_time": "2022-11-14T19:01:40.890Z"
   },
   {
    "duration": 14,
    "start_time": "2022-11-14T19:01:40.910Z"
   },
   {
    "duration": 14,
    "start_time": "2022-11-14T19:01:40.926Z"
   },
   {
    "duration": 43,
    "start_time": "2022-11-14T19:01:40.942Z"
   },
   {
    "duration": 16,
    "start_time": "2022-11-14T19:01:40.986Z"
   },
   {
    "duration": 12,
    "start_time": "2022-11-14T19:01:41.004Z"
   },
   {
    "duration": 18,
    "start_time": "2022-11-14T19:01:41.018Z"
   },
   {
    "duration": 41,
    "start_time": "2022-11-14T19:01:41.038Z"
   },
   {
    "duration": 24,
    "start_time": "2022-11-14T19:01:41.081Z"
   },
   {
    "duration": 29,
    "start_time": "2022-11-14T19:01:41.107Z"
   },
   {
    "duration": 378,
    "start_time": "2022-11-14T19:01:41.137Z"
   },
   {
    "duration": 197,
    "start_time": "2022-11-14T19:01:41.517Z"
   },
   {
    "duration": 30,
    "start_time": "2022-11-14T19:01:41.716Z"
   },
   {
    "duration": 47,
    "start_time": "2022-11-14T19:01:41.748Z"
   },
   {
    "duration": 27,
    "start_time": "2022-11-14T19:01:41.797Z"
   },
   {
    "duration": 241,
    "start_time": "2022-11-14T19:01:41.826Z"
   },
   {
    "duration": 136,
    "start_time": "2022-11-14T19:01:42.078Z"
   },
   {
    "duration": 175,
    "start_time": "2022-11-14T19:06:32.139Z"
   },
   {
    "duration": 46,
    "start_time": "2022-11-14T19:10:52.023Z"
   },
   {
    "duration": 259,
    "start_time": "2022-11-14T19:11:21.177Z"
   },
   {
    "duration": 5,
    "start_time": "2022-11-14T19:13:25.003Z"
   },
   {
    "duration": 19,
    "start_time": "2022-11-14T19:13:57.003Z"
   },
   {
    "duration": 27,
    "start_time": "2022-11-14T19:15:51.261Z"
   },
   {
    "duration": 29,
    "start_time": "2022-11-14T19:20:09.221Z"
   },
   {
    "duration": 67,
    "start_time": "2022-11-14T19:20:23.957Z"
   },
   {
    "duration": 26,
    "start_time": "2022-11-14T19:27:30.344Z"
   },
   {
    "duration": 54,
    "start_time": "2022-11-14T19:28:05.991Z"
   },
   {
    "duration": 52,
    "start_time": "2022-11-15T05:58:38.323Z"
   },
   {
    "duration": 758,
    "start_time": "2022-11-15T05:58:46.085Z"
   },
   {
    "duration": 108,
    "start_time": "2022-11-15T05:58:46.846Z"
   },
   {
    "duration": 47,
    "start_time": "2022-11-15T05:58:46.956Z"
   },
   {
    "duration": 45,
    "start_time": "2022-11-15T05:58:47.006Z"
   },
   {
    "duration": 11,
    "start_time": "2022-11-15T05:58:47.053Z"
   },
   {
    "duration": 52,
    "start_time": "2022-11-15T05:58:47.066Z"
   },
   {
    "duration": 6,
    "start_time": "2022-11-15T05:58:47.120Z"
   },
   {
    "duration": 27,
    "start_time": "2022-11-15T05:58:47.128Z"
   },
   {
    "duration": 76,
    "start_time": "2022-11-15T05:58:47.157Z"
   },
   {
    "duration": 22,
    "start_time": "2022-11-15T05:58:47.237Z"
   },
   {
    "duration": 23,
    "start_time": "2022-11-15T05:58:47.261Z"
   },
   {
    "duration": 36,
    "start_time": "2022-11-15T05:58:47.286Z"
   },
   {
    "duration": 17,
    "start_time": "2022-11-15T05:58:47.324Z"
   },
   {
    "duration": 11,
    "start_time": "2022-11-15T05:58:47.343Z"
   },
   {
    "duration": 22,
    "start_time": "2022-11-15T05:58:47.355Z"
   },
   {
    "duration": 37,
    "start_time": "2022-11-15T05:58:47.379Z"
   },
   {
    "duration": 12,
    "start_time": "2022-11-15T05:58:47.418Z"
   },
   {
    "duration": 8,
    "start_time": "2022-11-15T05:58:47.432Z"
   },
   {
    "duration": 12,
    "start_time": "2022-11-15T05:58:47.442Z"
   },
   {
    "duration": 17,
    "start_time": "2022-11-15T05:58:47.455Z"
   },
   {
    "duration": 540,
    "start_time": "2022-11-15T05:58:47.473Z"
   },
   {
    "duration": 274,
    "start_time": "2022-11-15T05:58:48.015Z"
   },
   {
    "duration": 0,
    "start_time": "2022-11-15T05:58:48.291Z"
   },
   {
    "duration": 0,
    "start_time": "2022-11-15T05:58:48.293Z"
   },
   {
    "duration": 0,
    "start_time": "2022-11-15T05:58:48.294Z"
   },
   {
    "duration": 0,
    "start_time": "2022-11-15T05:58:48.312Z"
   },
   {
    "duration": 0,
    "start_time": "2022-11-15T05:58:48.313Z"
   },
   {
    "duration": 0,
    "start_time": "2022-11-15T05:58:48.315Z"
   },
   {
    "duration": 0,
    "start_time": "2022-11-15T05:58:48.317Z"
   },
   {
    "duration": 184,
    "start_time": "2022-11-15T05:59:21.798Z"
   },
   {
    "duration": 182,
    "start_time": "2022-11-15T05:59:39.487Z"
   },
   {
    "duration": 300,
    "start_time": "2022-11-15T06:02:32.385Z"
   },
   {
    "duration": 176,
    "start_time": "2022-11-15T06:02:52.782Z"
   },
   {
    "duration": 201,
    "start_time": "2022-11-15T06:03:03.505Z"
   },
   {
    "duration": 182,
    "start_time": "2022-11-15T06:03:55.680Z"
   },
   {
    "duration": 203,
    "start_time": "2022-11-15T06:04:05.610Z"
   },
   {
    "duration": 575,
    "start_time": "2022-11-15T06:11:02.684Z"
   },
   {
    "duration": 56,
    "start_time": "2022-11-15T06:11:03.262Z"
   },
   {
    "duration": 32,
    "start_time": "2022-11-15T06:11:03.320Z"
   },
   {
    "duration": 78,
    "start_time": "2022-11-15T06:11:03.355Z"
   },
   {
    "duration": 16,
    "start_time": "2022-11-15T06:11:03.435Z"
   },
   {
    "duration": 46,
    "start_time": "2022-11-15T06:11:03.453Z"
   },
   {
    "duration": 7,
    "start_time": "2022-11-15T06:11:03.501Z"
   },
   {
    "duration": 79,
    "start_time": "2022-11-15T06:11:03.511Z"
   },
   {
    "duration": 75,
    "start_time": "2022-11-15T06:11:03.592Z"
   },
   {
    "duration": 22,
    "start_time": "2022-11-15T06:11:03.670Z"
   },
   {
    "duration": 75,
    "start_time": "2022-11-15T06:11:03.694Z"
   },
   {
    "duration": 39,
    "start_time": "2022-11-15T06:11:03.771Z"
   },
   {
    "duration": 35,
    "start_time": "2022-11-15T06:11:03.812Z"
   },
   {
    "duration": 24,
    "start_time": "2022-11-15T06:11:03.849Z"
   },
   {
    "duration": 19,
    "start_time": "2022-11-15T06:11:03.875Z"
   },
   {
    "duration": 40,
    "start_time": "2022-11-15T06:11:03.896Z"
   },
   {
    "duration": 26,
    "start_time": "2022-11-15T06:11:03.938Z"
   },
   {
    "duration": 11,
    "start_time": "2022-11-15T06:11:03.965Z"
   },
   {
    "duration": 28,
    "start_time": "2022-11-15T06:11:03.978Z"
   },
   {
    "duration": 42,
    "start_time": "2022-11-15T06:11:04.008Z"
   },
   {
    "duration": 386,
    "start_time": "2022-11-15T06:11:04.051Z"
   },
   {
    "duration": 210,
    "start_time": "2022-11-15T06:11:04.439Z"
   },
   {
    "duration": 31,
    "start_time": "2022-11-15T06:11:04.651Z"
   },
   {
    "duration": 57,
    "start_time": "2022-11-15T06:11:04.683Z"
   },
   {
    "duration": 42,
    "start_time": "2022-11-15T06:11:04.742Z"
   },
   {
    "duration": 250,
    "start_time": "2022-11-15T06:11:04.786Z"
   },
   {
    "duration": 32,
    "start_time": "2022-11-15T06:11:05.038Z"
   },
   {
    "duration": 83,
    "start_time": "2022-11-15T06:11:05.073Z"
   },
   {
    "duration": 67,
    "start_time": "2022-11-15T06:11:05.157Z"
   },
   {
    "duration": 3,
    "start_time": "2022-11-15T08:03:49.336Z"
   },
   {
    "duration": 22,
    "start_time": "2022-11-15T08:04:17.351Z"
   },
   {
    "duration": 605,
    "start_time": "2022-11-15T08:07:06.484Z"
   },
   {
    "duration": 69,
    "start_time": "2022-11-15T08:07:07.092Z"
   },
   {
    "duration": 37,
    "start_time": "2022-11-15T08:07:07.163Z"
   },
   {
    "duration": 51,
    "start_time": "2022-11-15T08:07:07.201Z"
   },
   {
    "duration": 10,
    "start_time": "2022-11-15T08:07:07.256Z"
   },
   {
    "duration": 31,
    "start_time": "2022-11-15T08:07:07.267Z"
   },
   {
    "duration": 14,
    "start_time": "2022-11-15T08:07:07.300Z"
   },
   {
    "duration": 47,
    "start_time": "2022-11-15T08:07:07.318Z"
   },
   {
    "duration": 71,
    "start_time": "2022-11-15T08:07:07.367Z"
   },
   {
    "duration": 23,
    "start_time": "2022-11-15T08:07:07.440Z"
   },
   {
    "duration": 51,
    "start_time": "2022-11-15T08:07:07.465Z"
   },
   {
    "duration": 24,
    "start_time": "2022-11-15T08:07:07.518Z"
   },
   {
    "duration": 67,
    "start_time": "2022-11-15T08:07:07.544Z"
   },
   {
    "duration": 64,
    "start_time": "2022-11-15T08:07:07.615Z"
   },
   {
    "duration": 42,
    "start_time": "2022-11-15T08:07:07.681Z"
   },
   {
    "duration": 42,
    "start_time": "2022-11-15T08:07:07.728Z"
   },
   {
    "duration": 53,
    "start_time": "2022-11-15T08:07:07.772Z"
   },
   {
    "duration": 30,
    "start_time": "2022-11-15T08:07:07.826Z"
   },
   {
    "duration": 33,
    "start_time": "2022-11-15T08:07:07.858Z"
   },
   {
    "duration": 26,
    "start_time": "2022-11-15T08:07:07.893Z"
   },
   {
    "duration": 396,
    "start_time": "2022-11-15T08:07:07.921Z"
   },
   {
    "duration": 242,
    "start_time": "2022-11-15T08:07:08.319Z"
   },
   {
    "duration": 43,
    "start_time": "2022-11-15T08:07:08.563Z"
   },
   {
    "duration": 40,
    "start_time": "2022-11-15T08:07:08.608Z"
   },
   {
    "duration": 29,
    "start_time": "2022-11-15T08:07:08.649Z"
   },
   {
    "duration": 258,
    "start_time": "2022-11-15T08:07:08.680Z"
   },
   {
    "duration": 30,
    "start_time": "2022-11-15T08:07:08.940Z"
   },
   {
    "duration": 50,
    "start_time": "2022-11-15T08:07:08.972Z"
   },
   {
    "duration": 76,
    "start_time": "2022-11-15T08:07:09.024Z"
   },
   {
    "duration": 82,
    "start_time": "2022-11-15T08:19:55.261Z"
   },
   {
    "duration": 54,
    "start_time": "2022-11-15T08:21:15.234Z"
   },
   {
    "duration": 47,
    "start_time": "2022-11-15T08:21:53.242Z"
   },
   {
    "duration": 46,
    "start_time": "2022-11-15T08:22:02.091Z"
   },
   {
    "duration": 53,
    "start_time": "2022-11-15T08:22:06.856Z"
   },
   {
    "duration": 48,
    "start_time": "2022-11-15T08:22:10.559Z"
   },
   {
    "duration": 26,
    "start_time": "2022-11-15T08:26:57.784Z"
   },
   {
    "duration": 142,
    "start_time": "2022-11-15T08:37:50.008Z"
   },
   {
    "duration": 31,
    "start_time": "2022-11-15T08:38:51.758Z"
   },
   {
    "duration": 254,
    "start_time": "2022-11-15T08:40:02.653Z"
   },
   {
    "duration": 96,
    "start_time": "2022-11-15T08:40:09.248Z"
   },
   {
    "duration": 58,
    "start_time": "2022-11-15T08:41:54.140Z"
   },
   {
    "duration": 39,
    "start_time": "2022-11-15T08:42:02.688Z"
   },
   {
    "duration": 54,
    "start_time": "2022-11-15T08:42:23.948Z"
   },
   {
    "duration": 68,
    "start_time": "2022-11-15T08:43:05.333Z"
   },
   {
    "duration": 34,
    "start_time": "2022-11-15T08:43:29.594Z"
   },
   {
    "duration": 30,
    "start_time": "2022-11-15T08:43:51.492Z"
   },
   {
    "duration": 64,
    "start_time": "2022-11-15T08:46:47.475Z"
   },
   {
    "duration": 60,
    "start_time": "2022-11-15T09:19:46.199Z"
   },
   {
    "duration": 55,
    "start_time": "2022-11-15T09:20:29.037Z"
   },
   {
    "duration": 56,
    "start_time": "2022-11-15T09:23:03.195Z"
   },
   {
    "duration": 44,
    "start_time": "2022-11-15T09:23:32.686Z"
   },
   {
    "duration": 43,
    "start_time": "2022-11-15T09:25:13.330Z"
   },
   {
    "duration": 39,
    "start_time": "2022-11-15T09:26:18.083Z"
   },
   {
    "duration": 19,
    "start_time": "2022-11-15T09:27:27.237Z"
   },
   {
    "duration": 37,
    "start_time": "2022-11-15T09:28:04.985Z"
   },
   {
    "duration": 38,
    "start_time": "2022-11-15T09:28:47.123Z"
   },
   {
    "duration": 1211,
    "start_time": "2022-11-15T10:01:04.970Z"
   },
   {
    "duration": 1255,
    "start_time": "2022-11-15T10:04:14.706Z"
   },
   {
    "duration": 1173,
    "start_time": "2022-11-15T10:05:15.206Z"
   },
   {
    "duration": 1412,
    "start_time": "2022-11-15T10:05:41.126Z"
   },
   {
    "duration": 45,
    "start_time": "2022-11-15T10:05:45.046Z"
   },
   {
    "duration": 36,
    "start_time": "2022-11-15T10:06:44.729Z"
   },
   {
    "duration": 34,
    "start_time": "2022-11-15T10:06:47.536Z"
   },
   {
    "duration": 25,
    "start_time": "2022-11-15T10:07:44.836Z"
   },
   {
    "duration": 18,
    "start_time": "2022-11-15T10:08:12.990Z"
   },
   {
    "duration": 41,
    "start_time": "2022-11-15T10:11:44.734Z"
   },
   {
    "duration": 46,
    "start_time": "2022-11-15T10:12:38.724Z"
   },
   {
    "duration": 579,
    "start_time": "2022-11-15T10:12:44.601Z"
   },
   {
    "duration": 55,
    "start_time": "2022-11-15T10:12:45.183Z"
   },
   {
    "duration": 32,
    "start_time": "2022-11-15T10:12:45.240Z"
   },
   {
    "duration": 56,
    "start_time": "2022-11-15T10:12:45.275Z"
   },
   {
    "duration": 15,
    "start_time": "2022-11-15T10:12:45.333Z"
   },
   {
    "duration": 30,
    "start_time": "2022-11-15T10:12:45.350Z"
   },
   {
    "duration": 30,
    "start_time": "2022-11-15T10:12:45.382Z"
   },
   {
    "duration": 30,
    "start_time": "2022-11-15T10:12:45.414Z"
   },
   {
    "duration": 83,
    "start_time": "2022-11-15T10:12:45.446Z"
   },
   {
    "duration": 21,
    "start_time": "2022-11-15T10:12:45.532Z"
   },
   {
    "duration": 23,
    "start_time": "2022-11-15T10:12:45.555Z"
   },
   {
    "duration": 32,
    "start_time": "2022-11-15T10:12:45.580Z"
   },
   {
    "duration": 18,
    "start_time": "2022-11-15T10:12:45.614Z"
   },
   {
    "duration": 12,
    "start_time": "2022-11-15T10:12:45.634Z"
   },
   {
    "duration": 22,
    "start_time": "2022-11-15T10:12:45.648Z"
   },
   {
    "duration": 41,
    "start_time": "2022-11-15T10:12:45.672Z"
   },
   {
    "duration": 16,
    "start_time": "2022-11-15T10:12:45.716Z"
   },
   {
    "duration": 10,
    "start_time": "2022-11-15T10:12:45.734Z"
   },
   {
    "duration": 8,
    "start_time": "2022-11-15T10:12:45.745Z"
   },
   {
    "duration": 14,
    "start_time": "2022-11-15T10:12:45.755Z"
   },
   {
    "duration": 379,
    "start_time": "2022-11-15T10:12:45.770Z"
   },
   {
    "duration": 216,
    "start_time": "2022-11-15T10:12:46.151Z"
   },
   {
    "duration": 30,
    "start_time": "2022-11-15T10:12:46.369Z"
   },
   {
    "duration": 27,
    "start_time": "2022-11-15T10:12:46.412Z"
   },
   {
    "duration": 26,
    "start_time": "2022-11-15T10:12:46.441Z"
   },
   {
    "duration": 231,
    "start_time": "2022-11-15T10:12:46.469Z"
   },
   {
    "duration": 29,
    "start_time": "2022-11-15T10:12:46.712Z"
   },
   {
    "duration": 154,
    "start_time": "2022-11-15T10:12:46.745Z"
   },
   {
    "duration": 0,
    "start_time": "2022-11-15T10:12:46.901Z"
   },
   {
    "duration": 88,
    "start_time": "2022-11-15T10:34:02.220Z"
   },
   {
    "duration": 637,
    "start_time": "2022-11-15T10:34:19.079Z"
   },
   {
    "duration": 54,
    "start_time": "2022-11-15T10:34:19.718Z"
   },
   {
    "duration": 38,
    "start_time": "2022-11-15T10:34:19.775Z"
   },
   {
    "duration": 46,
    "start_time": "2022-11-15T10:34:19.816Z"
   },
   {
    "duration": 12,
    "start_time": "2022-11-15T10:34:19.864Z"
   },
   {
    "duration": 45,
    "start_time": "2022-11-15T10:34:19.877Z"
   },
   {
    "duration": 8,
    "start_time": "2022-11-15T10:34:19.924Z"
   },
   {
    "duration": 43,
    "start_time": "2022-11-15T10:34:19.934Z"
   },
   {
    "duration": 61,
    "start_time": "2022-11-15T10:34:19.978Z"
   },
   {
    "duration": 20,
    "start_time": "2022-11-15T10:34:20.042Z"
   },
   {
    "duration": 25,
    "start_time": "2022-11-15T10:34:20.065Z"
   },
   {
    "duration": 14,
    "start_time": "2022-11-15T10:34:20.113Z"
   },
   {
    "duration": 99,
    "start_time": "2022-11-15T10:34:20.129Z"
   },
   {
    "duration": 18,
    "start_time": "2022-11-15T10:34:20.230Z"
   },
   {
    "duration": 137,
    "start_time": "2022-11-15T10:34:20.251Z"
   },
   {
    "duration": 48,
    "start_time": "2022-11-15T10:34:20.389Z"
   },
   {
    "duration": 32,
    "start_time": "2022-11-15T10:34:20.439Z"
   },
   {
    "duration": 9,
    "start_time": "2022-11-15T10:34:20.473Z"
   },
   {
    "duration": 35,
    "start_time": "2022-11-15T10:34:20.484Z"
   },
   {
    "duration": 36,
    "start_time": "2022-11-15T10:34:20.520Z"
   },
   {
    "duration": 386,
    "start_time": "2022-11-15T10:34:20.558Z"
   },
   {
    "duration": 268,
    "start_time": "2022-11-15T10:34:20.947Z"
   },
   {
    "duration": 37,
    "start_time": "2022-11-15T10:34:21.217Z"
   },
   {
    "duration": 32,
    "start_time": "2022-11-15T10:34:21.256Z"
   },
   {
    "duration": 30,
    "start_time": "2022-11-15T10:34:21.312Z"
   },
   {
    "duration": 240,
    "start_time": "2022-11-15T10:34:21.344Z"
   },
   {
    "duration": 43,
    "start_time": "2022-11-15T10:34:21.586Z"
   },
   {
    "duration": 42,
    "start_time": "2022-11-15T10:34:21.634Z"
   },
   {
    "duration": 93,
    "start_time": "2022-11-15T10:34:21.678Z"
   },
   {
    "duration": 41,
    "start_time": "2022-11-15T17:52:05.486Z"
   },
   {
    "duration": 5,
    "start_time": "2022-11-15T17:52:15.335Z"
   },
   {
    "duration": 640,
    "start_time": "2022-11-15T17:52:26.065Z"
   },
   {
    "duration": 71,
    "start_time": "2022-11-15T17:52:26.707Z"
   },
   {
    "duration": 22,
    "start_time": "2022-11-15T17:52:26.779Z"
   },
   {
    "duration": 30,
    "start_time": "2022-11-15T17:52:26.803Z"
   },
   {
    "duration": 7,
    "start_time": "2022-11-15T17:52:26.834Z"
   },
   {
    "duration": 31,
    "start_time": "2022-11-15T17:52:26.842Z"
   },
   {
    "duration": 5,
    "start_time": "2022-11-15T17:52:26.874Z"
   },
   {
    "duration": 29,
    "start_time": "2022-11-15T17:52:26.880Z"
   },
   {
    "duration": 58,
    "start_time": "2022-11-15T17:52:26.911Z"
   },
   {
    "duration": 24,
    "start_time": "2022-11-15T17:52:26.971Z"
   },
   {
    "duration": 15,
    "start_time": "2022-11-15T17:52:26.996Z"
   },
   {
    "duration": 11,
    "start_time": "2022-11-15T17:52:27.012Z"
   },
   {
    "duration": 10,
    "start_time": "2022-11-15T17:52:27.025Z"
   },
   {
    "duration": 30,
    "start_time": "2022-11-15T17:52:27.037Z"
   },
   {
    "duration": 9,
    "start_time": "2022-11-15T17:52:27.069Z"
   },
   {
    "duration": 6,
    "start_time": "2022-11-15T17:52:27.080Z"
   },
   {
    "duration": 16,
    "start_time": "2022-11-15T17:52:27.087Z"
   },
   {
    "duration": 6,
    "start_time": "2022-11-15T17:52:27.105Z"
   },
   {
    "duration": 7,
    "start_time": "2022-11-15T17:52:27.112Z"
   },
   {
    "duration": 43,
    "start_time": "2022-11-15T17:52:27.120Z"
   },
   {
    "duration": 454,
    "start_time": "2022-11-15T17:52:27.164Z"
   },
   {
    "duration": 158,
    "start_time": "2022-11-15T17:52:27.620Z"
   },
   {
    "duration": 26,
    "start_time": "2022-11-15T17:52:27.779Z"
   },
   {
    "duration": 25,
    "start_time": "2022-11-15T17:52:27.806Z"
   },
   {
    "duration": 41,
    "start_time": "2022-11-15T17:52:27.832Z"
   },
   {
    "duration": 194,
    "start_time": "2022-11-15T17:52:27.874Z"
   },
   {
    "duration": 15,
    "start_time": "2022-11-15T17:52:28.070Z"
   },
   {
    "duration": 76,
    "start_time": "2022-11-15T17:52:28.087Z"
   },
   {
    "duration": 46,
    "start_time": "2022-11-15T17:52:28.165Z"
   },
   {
    "duration": 8,
    "start_time": "2022-11-15T17:52:28.213Z"
   },
   {
    "duration": 80,
    "start_time": "2022-11-15T18:05:11.706Z"
   },
   {
    "duration": 16,
    "start_time": "2022-11-15T18:05:23.223Z"
   },
   {
    "duration": 13,
    "start_time": "2022-11-15T18:05:54.807Z"
   },
   {
    "duration": 27,
    "start_time": "2022-11-15T18:06:32.591Z"
   },
   {
    "duration": 17,
    "start_time": "2022-11-15T18:08:15.869Z"
   },
   {
    "duration": 19,
    "start_time": "2022-11-15T18:11:33.394Z"
   },
   {
    "duration": 39,
    "start_time": "2022-11-15T18:12:06.927Z"
   },
   {
    "duration": 22,
    "start_time": "2022-11-15T18:12:51.054Z"
   },
   {
    "duration": 19,
    "start_time": "2022-11-15T18:13:29.618Z"
   },
   {
    "duration": 26,
    "start_time": "2022-11-15T18:14:04.354Z"
   },
   {
    "duration": 13,
    "start_time": "2022-11-15T18:14:17.175Z"
   },
   {
    "duration": 11,
    "start_time": "2022-11-15T18:14:49.770Z"
   },
   {
    "duration": 92,
    "start_time": "2022-11-15T18:16:58.951Z"
   },
   {
    "duration": 15,
    "start_time": "2022-11-15T18:18:03.567Z"
   },
   {
    "duration": 13,
    "start_time": "2022-11-15T18:18:30.708Z"
   },
   {
    "duration": 489,
    "start_time": "2022-11-15T18:19:19.088Z"
   },
   {
    "duration": 38,
    "start_time": "2022-11-15T18:19:19.579Z"
   },
   {
    "duration": 24,
    "start_time": "2022-11-15T18:19:19.619Z"
   },
   {
    "duration": 36,
    "start_time": "2022-11-15T18:19:19.644Z"
   },
   {
    "duration": 8,
    "start_time": "2022-11-15T18:19:19.682Z"
   },
   {
    "duration": 17,
    "start_time": "2022-11-15T18:19:19.692Z"
   },
   {
    "duration": 4,
    "start_time": "2022-11-15T18:19:19.711Z"
   },
   {
    "duration": 21,
    "start_time": "2022-11-15T18:19:19.716Z"
   },
   {
    "duration": 63,
    "start_time": "2022-11-15T18:19:19.738Z"
   },
   {
    "duration": 13,
    "start_time": "2022-11-15T18:19:19.803Z"
   },
   {
    "duration": 15,
    "start_time": "2022-11-15T18:19:19.818Z"
   },
   {
    "duration": 23,
    "start_time": "2022-11-15T18:19:19.834Z"
   },
   {
    "duration": 13,
    "start_time": "2022-11-15T18:19:19.859Z"
   },
   {
    "duration": 11,
    "start_time": "2022-11-15T18:19:19.873Z"
   },
   {
    "duration": 9,
    "start_time": "2022-11-15T18:19:19.885Z"
   },
   {
    "duration": 10,
    "start_time": "2022-11-15T18:19:19.895Z"
   },
   {
    "duration": 12,
    "start_time": "2022-11-15T18:19:19.906Z"
   },
   {
    "duration": 9,
    "start_time": "2022-11-15T18:19:19.919Z"
   },
   {
    "duration": 44,
    "start_time": "2022-11-15T18:19:19.929Z"
   },
   {
    "duration": 13,
    "start_time": "2022-11-15T18:19:19.974Z"
   },
   {
    "duration": 301,
    "start_time": "2022-11-15T18:19:19.988Z"
   },
   {
    "duration": 171,
    "start_time": "2022-11-15T18:19:20.291Z"
   },
   {
    "duration": 25,
    "start_time": "2022-11-15T18:19:20.463Z"
   },
   {
    "duration": 22,
    "start_time": "2022-11-15T18:19:20.489Z"
   },
   {
    "duration": 21,
    "start_time": "2022-11-15T18:19:20.512Z"
   },
   {
    "duration": 189,
    "start_time": "2022-11-15T18:19:20.535Z"
   },
   {
    "duration": 41,
    "start_time": "2022-11-15T18:19:20.725Z"
   },
   {
    "duration": 23,
    "start_time": "2022-11-15T18:19:20.769Z"
   },
   {
    "duration": 49,
    "start_time": "2022-11-15T18:19:20.793Z"
   },
   {
    "duration": 73,
    "start_time": "2022-11-15T18:19:20.843Z"
   },
   {
    "duration": 16,
    "start_time": "2022-11-15T18:20:13.781Z"
   },
   {
    "duration": 15,
    "start_time": "2022-11-15T18:22:51.311Z"
   },
   {
    "duration": 29,
    "start_time": "2022-11-15T18:24:06.139Z"
   },
   {
    "duration": 23,
    "start_time": "2022-11-15T18:25:35.694Z"
   },
   {
    "duration": 32,
    "start_time": "2022-11-15T18:25:51.264Z"
   },
   {
    "duration": 36,
    "start_time": "2022-11-15T18:29:27.328Z"
   },
   {
    "duration": 665,
    "start_time": "2022-11-15T18:30:02.403Z"
   },
   {
    "duration": 361,
    "start_time": "2022-11-15T18:31:29.167Z"
   },
   {
    "duration": 271,
    "start_time": "2022-11-15T18:32:01.483Z"
   },
   {
    "duration": 277,
    "start_time": "2022-11-15T18:33:41.259Z"
   },
   {
    "duration": 286,
    "start_time": "2022-11-15T18:34:06.447Z"
   },
   {
    "duration": 22,
    "start_time": "2022-11-15T18:34:16.872Z"
   },
   {
    "duration": 15,
    "start_time": "2022-11-15T18:34:45.392Z"
   },
   {
    "duration": 18,
    "start_time": "2022-11-15T18:37:28.015Z"
   },
   {
    "duration": 18,
    "start_time": "2022-11-15T18:37:57.764Z"
   },
   {
    "duration": 17,
    "start_time": "2022-11-15T18:41:03.252Z"
   },
   {
    "duration": 77,
    "start_time": "2022-11-15T18:41:54.382Z"
   },
   {
    "duration": 18,
    "start_time": "2022-11-15T18:42:08.703Z"
   },
   {
    "duration": 19,
    "start_time": "2022-11-15T18:42:24.640Z"
   },
   {
    "duration": 18,
    "start_time": "2022-11-15T18:42:31.129Z"
   },
   {
    "duration": 212,
    "start_time": "2022-11-15T18:50:19.418Z"
   },
   {
    "duration": 21,
    "start_time": "2022-11-15T18:51:04.826Z"
   },
   {
    "duration": 172,
    "start_time": "2022-11-15T18:54:25.832Z"
   },
   {
    "duration": 148,
    "start_time": "2022-11-15T18:54:43.147Z"
   },
   {
    "duration": 152,
    "start_time": "2022-11-15T18:55:11.000Z"
   },
   {
    "duration": 12,
    "start_time": "2022-11-15T18:58:43.407Z"
   },
   {
    "duration": 76,
    "start_time": "2022-11-15T18:59:00.830Z"
   },
   {
    "duration": 72,
    "start_time": "2022-11-15T18:59:14.485Z"
   },
   {
    "duration": 151,
    "start_time": "2022-11-15T18:59:20.661Z"
   },
   {
    "duration": 200,
    "start_time": "2022-11-15T18:59:32.960Z"
   },
   {
    "duration": 19,
    "start_time": "2022-11-15T19:14:34.738Z"
   },
   {
    "duration": 159,
    "start_time": "2022-11-15T19:17:59.130Z"
   },
   {
    "duration": 186,
    "start_time": "2022-11-15T19:19:11.737Z"
   },
   {
    "duration": 191,
    "start_time": "2022-11-15T19:19:34.611Z"
   },
   {
    "duration": 155,
    "start_time": "2022-11-15T19:19:43.066Z"
   },
   {
    "duration": 158,
    "start_time": "2022-11-15T19:19:50.634Z"
   },
   {
    "duration": 211,
    "start_time": "2022-11-15T19:20:08.730Z"
   },
   {
    "duration": 12,
    "start_time": "2022-11-15T19:23:41.918Z"
   },
   {
    "duration": 8,
    "start_time": "2022-11-15T19:26:01.953Z"
   },
   {
    "duration": 7,
    "start_time": "2022-11-15T19:26:55.389Z"
   },
   {
    "duration": 119,
    "start_time": "2022-11-15T19:27:37.337Z"
   },
   {
    "duration": 24,
    "start_time": "2022-11-15T19:33:23.959Z"
   },
   {
    "duration": 150,
    "start_time": "2022-11-15T19:34:35.425Z"
   },
   {
    "duration": 30,
    "start_time": "2022-11-15T19:54:22.243Z"
   },
   {
    "duration": 315,
    "start_time": "2022-11-15T19:56:31.067Z"
   },
   {
    "duration": 327,
    "start_time": "2022-11-15T19:57:14.234Z"
   },
   {
    "duration": 22,
    "start_time": "2022-11-15T19:57:21.648Z"
   },
   {
    "duration": 302,
    "start_time": "2022-11-15T19:58:00.235Z"
   },
   {
    "duration": 27,
    "start_time": "2022-11-15T19:58:16.039Z"
   },
   {
    "duration": 75,
    "start_time": "2022-11-15T19:59:27.414Z"
   },
   {
    "duration": 30,
    "start_time": "2022-11-15T19:59:33.609Z"
   },
   {
    "duration": 187,
    "start_time": "2022-11-15T20:01:44.095Z"
   },
   {
    "duration": 8,
    "start_time": "2022-11-15T20:02:24.703Z"
   },
   {
    "duration": 8,
    "start_time": "2022-11-15T20:03:20.403Z"
   },
   {
    "duration": 8,
    "start_time": "2022-11-15T20:03:31.333Z"
   },
   {
    "duration": 336,
    "start_time": "2022-11-15T20:04:11.334Z"
   },
   {
    "duration": 964,
    "start_time": "2022-11-15T20:04:26.867Z"
   },
   {
    "duration": 516,
    "start_time": "2022-11-15T20:04:40.064Z"
   },
   {
    "duration": 494,
    "start_time": "2022-11-15T20:04:49.701Z"
   },
   {
    "duration": 474,
    "start_time": "2022-11-15T20:05:00.948Z"
   },
   {
    "duration": 112,
    "start_time": "2022-11-15T20:09:01.006Z"
   },
   {
    "duration": 139,
    "start_time": "2022-11-15T20:12:40.668Z"
   },
   {
    "duration": 1190,
    "start_time": "2022-11-15T20:12:57.584Z"
   },
   {
    "duration": 145,
    "start_time": "2022-11-15T20:13:19.279Z"
   },
   {
    "duration": 144,
    "start_time": "2022-11-15T20:14:04.564Z"
   },
   {
    "duration": 151,
    "start_time": "2022-11-15T20:14:20.857Z"
   },
   {
    "duration": 152,
    "start_time": "2022-11-15T20:14:48.027Z"
   },
   {
    "duration": 211,
    "start_time": "2022-11-15T20:14:58.961Z"
   },
   {
    "duration": 8,
    "start_time": "2022-11-15T20:16:04.172Z"
   },
   {
    "duration": 17,
    "start_time": "2022-11-15T20:16:20.649Z"
   },
   {
    "duration": 7,
    "start_time": "2022-11-15T20:16:28.302Z"
   },
   {
    "duration": 155,
    "start_time": "2022-11-15T20:16:47.237Z"
   },
   {
    "duration": 139,
    "start_time": "2022-11-15T20:17:19.506Z"
   },
   {
    "duration": 161,
    "start_time": "2022-11-15T20:17:34.202Z"
   },
   {
    "duration": 187,
    "start_time": "2022-11-15T20:19:44.396Z"
   },
   {
    "duration": 36,
    "start_time": "2022-11-15T20:22:01.005Z"
   },
   {
    "duration": 460,
    "start_time": "2022-11-15T20:22:29.305Z"
   },
   {
    "duration": 39,
    "start_time": "2022-11-15T20:22:29.768Z"
   },
   {
    "duration": 23,
    "start_time": "2022-11-15T20:22:29.809Z"
   },
   {
    "duration": 39,
    "start_time": "2022-11-15T20:22:29.833Z"
   },
   {
    "duration": 15,
    "start_time": "2022-11-15T20:22:29.873Z"
   },
   {
    "duration": 20,
    "start_time": "2022-11-15T20:22:29.890Z"
   },
   {
    "duration": 4,
    "start_time": "2022-11-15T20:22:29.911Z"
   },
   {
    "duration": 16,
    "start_time": "2022-11-15T20:22:29.917Z"
   },
   {
    "duration": 55,
    "start_time": "2022-11-15T20:22:29.934Z"
   },
   {
    "duration": 14,
    "start_time": "2022-11-15T20:22:29.991Z"
   },
   {
    "duration": 14,
    "start_time": "2022-11-15T20:22:30.006Z"
   },
   {
    "duration": 10,
    "start_time": "2022-11-15T20:22:30.021Z"
   },
   {
    "duration": 35,
    "start_time": "2022-11-15T20:22:30.032Z"
   },
   {
    "duration": 33,
    "start_time": "2022-11-15T20:22:30.069Z"
   },
   {
    "duration": 9,
    "start_time": "2022-11-15T20:22:30.104Z"
   },
   {
    "duration": 8,
    "start_time": "2022-11-15T20:22:30.115Z"
   },
   {
    "duration": 21,
    "start_time": "2022-11-15T20:22:30.124Z"
   },
   {
    "duration": 8,
    "start_time": "2022-11-15T20:22:30.146Z"
   },
   {
    "duration": 31,
    "start_time": "2022-11-15T20:22:30.156Z"
   },
   {
    "duration": 13,
    "start_time": "2022-11-15T20:22:30.188Z"
   },
   {
    "duration": 320,
    "start_time": "2022-11-15T20:22:30.202Z"
   },
   {
    "duration": 164,
    "start_time": "2022-11-15T20:22:30.524Z"
   },
   {
    "duration": 26,
    "start_time": "2022-11-15T20:22:30.690Z"
   },
   {
    "duration": 48,
    "start_time": "2022-11-15T20:22:30.717Z"
   },
   {
    "duration": 58,
    "start_time": "2022-11-15T20:22:30.767Z"
   },
   {
    "duration": 182,
    "start_time": "2022-11-15T20:22:30.826Z"
   },
   {
    "duration": 15,
    "start_time": "2022-11-15T20:22:31.010Z"
   },
   {
    "duration": 50,
    "start_time": "2022-11-15T20:22:31.027Z"
   },
   {
    "duration": 42,
    "start_time": "2022-11-15T20:22:31.078Z"
   },
   {
    "duration": 18,
    "start_time": "2022-11-15T20:22:31.121Z"
   },
   {
    "duration": 217,
    "start_time": "2022-11-15T20:22:31.140Z"
   },
   {
    "duration": 14,
    "start_time": "2022-11-15T20:22:31.358Z"
   },
   {
    "duration": 140,
    "start_time": "2022-11-15T20:22:31.374Z"
   },
   {
    "duration": 17,
    "start_time": "2022-11-15T20:22:31.515Z"
   },
   {
    "duration": 154,
    "start_time": "2022-11-15T20:22:31.533Z"
   },
   {
    "duration": 28,
    "start_time": "2022-11-15T20:22:31.688Z"
   },
   {
    "duration": 51,
    "start_time": "2022-11-15T20:22:31.717Z"
   },
   {
    "duration": 545,
    "start_time": "2022-11-15T20:26:04.722Z"
   },
   {
    "duration": 465,
    "start_time": "2022-11-15T20:26:50.951Z"
   },
   {
    "duration": 52,
    "start_time": "2022-11-15T20:26:51.417Z"
   },
   {
    "duration": 24,
    "start_time": "2022-11-15T20:26:51.470Z"
   },
   {
    "duration": 32,
    "start_time": "2022-11-15T20:26:51.496Z"
   },
   {
    "duration": 7,
    "start_time": "2022-11-15T20:26:51.529Z"
   },
   {
    "duration": 27,
    "start_time": "2022-11-15T20:26:51.538Z"
   },
   {
    "duration": 4,
    "start_time": "2022-11-15T20:26:51.567Z"
   },
   {
    "duration": 20,
    "start_time": "2022-11-15T20:26:51.573Z"
   },
   {
    "duration": 35,
    "start_time": "2022-11-15T20:26:51.594Z"
   },
   {
    "duration": 40,
    "start_time": "2022-11-15T20:26:51.631Z"
   },
   {
    "duration": 11,
    "start_time": "2022-11-15T20:26:51.673Z"
   },
   {
    "duration": 11,
    "start_time": "2022-11-15T20:26:51.685Z"
   },
   {
    "duration": 10,
    "start_time": "2022-11-15T20:26:51.698Z"
   },
   {
    "duration": 8,
    "start_time": "2022-11-15T20:26:51.710Z"
   },
   {
    "duration": 9,
    "start_time": "2022-11-15T20:26:51.719Z"
   },
   {
    "duration": 14,
    "start_time": "2022-11-15T20:26:51.753Z"
   },
   {
    "duration": 14,
    "start_time": "2022-11-15T20:26:51.768Z"
   },
   {
    "duration": 7,
    "start_time": "2022-11-15T20:26:51.783Z"
   },
   {
    "duration": 8,
    "start_time": "2022-11-15T20:26:51.792Z"
   },
   {
    "duration": 20,
    "start_time": "2022-11-15T20:26:51.801Z"
   },
   {
    "duration": 321,
    "start_time": "2022-11-15T20:26:51.822Z"
   },
   {
    "duration": 159,
    "start_time": "2022-11-15T20:26:52.144Z"
   },
   {
    "duration": 24,
    "start_time": "2022-11-15T20:26:52.304Z"
   },
   {
    "duration": 38,
    "start_time": "2022-11-15T20:26:52.329Z"
   },
   {
    "duration": 30,
    "start_time": "2022-11-15T20:26:52.368Z"
   },
   {
    "duration": 253,
    "start_time": "2022-11-15T20:26:52.400Z"
   },
   {
    "duration": 19,
    "start_time": "2022-11-15T20:26:52.654Z"
   },
   {
    "duration": 22,
    "start_time": "2022-11-15T20:26:52.675Z"
   },
   {
    "duration": 70,
    "start_time": "2022-11-15T20:26:52.698Z"
   },
   {
    "duration": 18,
    "start_time": "2022-11-15T20:26:52.769Z"
   },
   {
    "duration": 220,
    "start_time": "2022-11-15T20:26:52.788Z"
   },
   {
    "duration": 11,
    "start_time": "2022-11-15T20:26:53.010Z"
   },
   {
    "duration": 144,
    "start_time": "2022-11-15T20:26:53.022Z"
   },
   {
    "duration": 22,
    "start_time": "2022-11-15T20:26:53.167Z"
   },
   {
    "duration": 156,
    "start_time": "2022-11-15T20:26:53.190Z"
   },
   {
    "duration": 33,
    "start_time": "2022-11-15T20:26:53.348Z"
   },
   {
    "duration": 33,
    "start_time": "2022-11-15T20:26:53.383Z"
   },
   {
    "duration": 516,
    "start_time": "2022-11-15T20:26:53.418Z"
   },
   {
    "duration": 11,
    "start_time": "2022-11-15T20:27:43.303Z"
   },
   {
    "duration": 11,
    "start_time": "2022-11-15T20:28:00.964Z"
   },
   {
    "duration": 11,
    "start_time": "2022-11-15T20:28:06.571Z"
   },
   {
    "duration": 11,
    "start_time": "2022-11-15T20:31:33.230Z"
   },
   {
    "duration": 10,
    "start_time": "2022-11-15T20:33:34.082Z"
   },
   {
    "duration": 11,
    "start_time": "2022-11-15T20:34:14.727Z"
   },
   {
    "duration": 15,
    "start_time": "2022-11-15T20:34:35.990Z"
   },
   {
    "duration": 473,
    "start_time": "2022-11-15T20:39:51.632Z"
   },
   {
    "duration": 40,
    "start_time": "2022-11-15T20:39:52.106Z"
   },
   {
    "duration": 23,
    "start_time": "2022-11-15T20:39:52.147Z"
   },
   {
    "duration": 31,
    "start_time": "2022-11-15T20:39:52.172Z"
   },
   {
    "duration": 8,
    "start_time": "2022-11-15T20:39:52.205Z"
   },
   {
    "duration": 41,
    "start_time": "2022-11-15T20:39:52.214Z"
   },
   {
    "duration": 5,
    "start_time": "2022-11-15T20:39:52.256Z"
   },
   {
    "duration": 43,
    "start_time": "2022-11-15T20:39:52.262Z"
   },
   {
    "duration": 37,
    "start_time": "2022-11-15T20:39:52.306Z"
   },
   {
    "duration": 14,
    "start_time": "2022-11-15T20:39:52.345Z"
   },
   {
    "duration": 29,
    "start_time": "2022-11-15T20:39:52.360Z"
   },
   {
    "duration": 13,
    "start_time": "2022-11-15T20:39:52.391Z"
   },
   {
    "duration": 16,
    "start_time": "2022-11-15T20:39:52.405Z"
   },
   {
    "duration": 12,
    "start_time": "2022-11-15T20:39:52.423Z"
   },
   {
    "duration": 12,
    "start_time": "2022-11-15T20:39:52.451Z"
   },
   {
    "duration": 16,
    "start_time": "2022-11-15T20:39:52.464Z"
   },
   {
    "duration": 25,
    "start_time": "2022-11-15T20:39:52.482Z"
   },
   {
    "duration": 21,
    "start_time": "2022-11-15T20:39:52.508Z"
   },
   {
    "duration": 24,
    "start_time": "2022-11-15T20:39:52.531Z"
   },
   {
    "duration": 10,
    "start_time": "2022-11-15T20:39:52.558Z"
   },
   {
    "duration": 296,
    "start_time": "2022-11-15T20:39:52.570Z"
   },
   {
    "duration": 158,
    "start_time": "2022-11-15T20:39:52.868Z"
   },
   {
    "duration": 31,
    "start_time": "2022-11-15T20:39:53.028Z"
   },
   {
    "duration": 22,
    "start_time": "2022-11-15T20:39:53.060Z"
   },
   {
    "duration": 21,
    "start_time": "2022-11-15T20:39:53.083Z"
   },
   {
    "duration": 193,
    "start_time": "2022-11-15T20:39:53.105Z"
   },
   {
    "duration": 16,
    "start_time": "2022-11-15T20:39:53.299Z"
   },
   {
    "duration": 41,
    "start_time": "2022-11-15T20:39:53.317Z"
   },
   {
    "duration": 42,
    "start_time": "2022-11-15T20:39:53.359Z"
   },
   {
    "duration": 16,
    "start_time": "2022-11-15T20:39:53.402Z"
   },
   {
    "duration": 206,
    "start_time": "2022-11-15T20:39:53.420Z"
   },
   {
    "duration": 11,
    "start_time": "2022-11-15T20:39:53.628Z"
   },
   {
    "duration": 122,
    "start_time": "2022-11-15T20:39:53.640Z"
   },
   {
    "duration": 17,
    "start_time": "2022-11-15T20:39:53.763Z"
   },
   {
    "duration": 156,
    "start_time": "2022-11-15T20:39:53.781Z"
   },
   {
    "duration": 35,
    "start_time": "2022-11-15T20:39:53.939Z"
   },
   {
    "duration": 34,
    "start_time": "2022-11-15T20:39:53.976Z"
   },
   {
    "duration": 531,
    "start_time": "2022-11-15T20:39:54.011Z"
   },
   {
    "duration": 10,
    "start_time": "2022-11-15T20:40:56.033Z"
   },
   {
    "duration": 11,
    "start_time": "2022-11-15T20:41:10.042Z"
   },
   {
    "duration": 463,
    "start_time": "2022-11-15T20:41:24.845Z"
   },
   {
    "duration": 12,
    "start_time": "2022-11-15T20:41:52.339Z"
   },
   {
    "duration": 11,
    "start_time": "2022-11-15T20:42:07.863Z"
   },
   {
    "duration": 8,
    "start_time": "2022-11-15T20:47:07.325Z"
   },
   {
    "duration": 8,
    "start_time": "2022-11-15T20:47:18.134Z"
   },
   {
    "duration": 9,
    "start_time": "2022-11-15T20:47:33.289Z"
   },
   {
    "duration": 96,
    "start_time": "2022-11-15T20:47:41.460Z"
   },
   {
    "duration": 98,
    "start_time": "2022-11-15T20:47:59.927Z"
   },
   {
    "duration": 767,
    "start_time": "2022-11-15T21:01:53.666Z"
   },
   {
    "duration": 12,
    "start_time": "2022-11-15T21:02:29.146Z"
   },
   {
    "duration": 12,
    "start_time": "2022-11-15T21:02:48.618Z"
   },
   {
    "duration": 292,
    "start_time": "2022-11-15T21:03:10.586Z"
   },
   {
    "duration": 489,
    "start_time": "2022-11-15T21:03:26.336Z"
   },
   {
    "duration": 320,
    "start_time": "2022-11-15T21:05:08.173Z"
   },
   {
    "duration": 44,
    "start_time": "2022-11-15T21:06:14.534Z"
   },
   {
    "duration": 11,
    "start_time": "2022-11-15T21:08:10.899Z"
   },
   {
    "duration": 44,
    "start_time": "2022-11-15T21:08:53.047Z"
   },
   {
    "duration": 579,
    "start_time": "2022-11-15T21:08:58.106Z"
   },
   {
    "duration": 12,
    "start_time": "2022-11-15T21:11:18.082Z"
   },
   {
    "duration": 475,
    "start_time": "2022-11-15T21:11:29.494Z"
   },
   {
    "duration": 554,
    "start_time": "2022-11-15T21:25:27.110Z"
   },
   {
    "duration": 601,
    "start_time": "2022-11-15T21:25:34.684Z"
   },
   {
    "duration": 479,
    "start_time": "2022-11-15T21:31:34.383Z"
   },
   {
    "duration": 478,
    "start_time": "2022-11-15T21:32:12.955Z"
   },
   {
    "duration": 46,
    "start_time": "2022-11-16T16:58:33.188Z"
   },
   {
    "duration": 768,
    "start_time": "2022-11-16T16:58:48.598Z"
   },
   {
    "duration": 117,
    "start_time": "2022-11-16T16:58:49.368Z"
   },
   {
    "duration": 39,
    "start_time": "2022-11-16T16:58:49.487Z"
   },
   {
    "duration": 40,
    "start_time": "2022-11-16T16:58:49.528Z"
   },
   {
    "duration": 32,
    "start_time": "2022-11-16T16:58:49.571Z"
   },
   {
    "duration": 31,
    "start_time": "2022-11-16T16:58:49.605Z"
   },
   {
    "duration": 7,
    "start_time": "2022-11-16T16:58:49.638Z"
   },
   {
    "duration": 51,
    "start_time": "2022-11-16T16:58:49.647Z"
   },
   {
    "duration": 73,
    "start_time": "2022-11-16T16:58:49.701Z"
   },
   {
    "duration": 23,
    "start_time": "2022-11-16T16:58:49.797Z"
   },
   {
    "duration": 21,
    "start_time": "2022-11-16T16:58:49.822Z"
   },
   {
    "duration": 12,
    "start_time": "2022-11-16T16:58:49.845Z"
   },
   {
    "duration": 41,
    "start_time": "2022-11-16T16:58:49.859Z"
   },
   {
    "duration": 34,
    "start_time": "2022-11-16T16:58:49.905Z"
   },
   {
    "duration": 21,
    "start_time": "2022-11-16T16:58:49.941Z"
   },
   {
    "duration": 30,
    "start_time": "2022-11-16T16:58:49.964Z"
   },
   {
    "duration": 16,
    "start_time": "2022-11-16T16:58:49.996Z"
   },
   {
    "duration": 9,
    "start_time": "2022-11-16T16:58:50.014Z"
   },
   {
    "duration": 9,
    "start_time": "2022-11-16T16:58:50.026Z"
   },
   {
    "duration": 15,
    "start_time": "2022-11-16T16:58:50.037Z"
   },
   {
    "duration": 549,
    "start_time": "2022-11-16T16:58:50.054Z"
   },
   {
    "duration": 177,
    "start_time": "2022-11-16T16:58:50.605Z"
   },
   {
    "duration": 39,
    "start_time": "2022-11-16T16:58:50.784Z"
   },
   {
    "duration": 25,
    "start_time": "2022-11-16T16:58:50.824Z"
   },
   {
    "duration": 23,
    "start_time": "2022-11-16T16:58:50.851Z"
   },
   {
    "duration": 225,
    "start_time": "2022-11-16T16:58:50.897Z"
   },
   {
    "duration": 18,
    "start_time": "2022-11-16T16:58:51.123Z"
   },
   {
    "duration": 110,
    "start_time": "2022-11-16T16:58:51.143Z"
   },
   {
    "duration": 65,
    "start_time": "2022-11-16T16:58:51.255Z"
   },
   {
    "duration": 20,
    "start_time": "2022-11-16T16:58:51.322Z"
   },
   {
    "duration": 200,
    "start_time": "2022-11-16T16:58:51.345Z"
   },
   {
    "duration": 14,
    "start_time": "2022-11-16T16:58:51.547Z"
   },
   {
    "duration": 153,
    "start_time": "2022-11-16T16:58:51.563Z"
   },
   {
    "duration": 19,
    "start_time": "2022-11-16T16:58:51.718Z"
   },
   {
    "duration": 189,
    "start_time": "2022-11-16T16:58:51.739Z"
   },
   {
    "duration": 36,
    "start_time": "2022-11-16T16:58:51.930Z"
   },
   {
    "duration": 65,
    "start_time": "2022-11-16T16:58:51.968Z"
   },
   {
    "duration": 1133,
    "start_time": "2022-11-16T16:58:52.034Z"
   },
   {
    "duration": 539,
    "start_time": "2022-11-16T16:58:53.169Z"
   },
   {
    "duration": 876,
    "start_time": "2022-11-16T16:58:53.710Z"
   },
   {
    "duration": 41,
    "start_time": "2022-11-16T16:59:11.352Z"
   },
   {
    "duration": 42,
    "start_time": "2022-11-16T17:00:04.179Z"
   },
   {
    "duration": 40,
    "start_time": "2022-11-16T17:07:32.428Z"
   },
   {
    "duration": 493,
    "start_time": "2022-11-16T17:08:11.549Z"
   },
   {
    "duration": 53,
    "start_time": "2022-11-16T17:08:12.043Z"
   },
   {
    "duration": 29,
    "start_time": "2022-11-16T17:08:12.097Z"
   },
   {
    "duration": 38,
    "start_time": "2022-11-16T17:08:12.128Z"
   },
   {
    "duration": 29,
    "start_time": "2022-11-16T17:08:12.168Z"
   },
   {
    "duration": 18,
    "start_time": "2022-11-16T17:08:12.199Z"
   },
   {
    "duration": 5,
    "start_time": "2022-11-16T17:08:12.219Z"
   },
   {
    "duration": 22,
    "start_time": "2022-11-16T17:08:12.225Z"
   },
   {
    "duration": 67,
    "start_time": "2022-11-16T17:08:12.248Z"
   },
   {
    "duration": 16,
    "start_time": "2022-11-16T17:08:12.318Z"
   },
   {
    "duration": 14,
    "start_time": "2022-11-16T17:08:12.336Z"
   },
   {
    "duration": 9,
    "start_time": "2022-11-16T17:08:12.352Z"
   },
   {
    "duration": 42,
    "start_time": "2022-11-16T17:08:12.363Z"
   },
   {
    "duration": 9,
    "start_time": "2022-11-16T17:08:12.406Z"
   },
   {
    "duration": 11,
    "start_time": "2022-11-16T17:08:12.417Z"
   },
   {
    "duration": 7,
    "start_time": "2022-11-16T17:08:12.429Z"
   },
   {
    "duration": 16,
    "start_time": "2022-11-16T17:08:12.438Z"
   },
   {
    "duration": 43,
    "start_time": "2022-11-16T17:08:12.455Z"
   },
   {
    "duration": 9,
    "start_time": "2022-11-16T17:08:12.499Z"
   },
   {
    "duration": 15,
    "start_time": "2022-11-16T17:08:12.510Z"
   },
   {
    "duration": 410,
    "start_time": "2022-11-16T17:08:12.527Z"
   },
   {
    "duration": 187,
    "start_time": "2022-11-16T17:08:12.938Z"
   },
   {
    "duration": 31,
    "start_time": "2022-11-16T17:08:13.127Z"
   },
   {
    "duration": 42,
    "start_time": "2022-11-16T17:08:13.160Z"
   },
   {
    "duration": 25,
    "start_time": "2022-11-16T17:08:13.204Z"
   },
   {
    "duration": 211,
    "start_time": "2022-11-16T17:08:13.231Z"
   },
   {
    "duration": 20,
    "start_time": "2022-11-16T17:08:13.445Z"
   },
   {
    "duration": 47,
    "start_time": "2022-11-16T17:08:13.469Z"
   },
   {
    "duration": 52,
    "start_time": "2022-11-16T17:08:13.518Z"
   },
   {
    "duration": 41,
    "start_time": "2022-11-16T17:08:13.572Z"
   },
   {
    "duration": 266,
    "start_time": "2022-11-16T17:08:13.615Z"
   },
   {
    "duration": 21,
    "start_time": "2022-11-16T17:08:13.882Z"
   },
   {
    "duration": 155,
    "start_time": "2022-11-16T17:08:13.905Z"
   },
   {
    "duration": 20,
    "start_time": "2022-11-16T17:08:14.062Z"
   },
   {
    "duration": 197,
    "start_time": "2022-11-16T17:08:14.083Z"
   },
   {
    "duration": 41,
    "start_time": "2022-11-16T17:08:14.282Z"
   },
   {
    "duration": 45,
    "start_time": "2022-11-16T17:08:14.325Z"
   },
   {
    "duration": 1131,
    "start_time": "2022-11-16T17:08:14.372Z"
   },
   {
    "duration": 525,
    "start_time": "2022-11-16T17:08:15.505Z"
   },
   {
    "duration": 41,
    "start_time": "2022-11-16T17:08:16.032Z"
   },
   {
    "duration": 42,
    "start_time": "2022-11-16T17:08:37.300Z"
   },
   {
    "duration": 101,
    "start_time": "2022-11-16T17:25:43.313Z"
   },
   {
    "duration": 37,
    "start_time": "2022-11-16T17:26:03.816Z"
   },
   {
    "duration": 21,
    "start_time": "2022-11-16T17:27:39.852Z"
   },
   {
    "duration": 44,
    "start_time": "2022-11-16T17:32:25.791Z"
   },
   {
    "duration": 31,
    "start_time": "2022-11-16T17:32:52.147Z"
   },
   {
    "duration": 214,
    "start_time": "2022-11-16T17:35:25.523Z"
   },
   {
    "duration": 202,
    "start_time": "2022-11-16T17:37:15.364Z"
   },
   {
    "duration": 199,
    "start_time": "2022-11-16T17:37:33.778Z"
   },
   {
    "duration": 223,
    "start_time": "2022-11-16T17:38:36.223Z"
   },
   {
    "duration": 175,
    "start_time": "2022-11-16T17:38:59.844Z"
   },
   {
    "duration": 188,
    "start_time": "2022-11-16T17:40:47.201Z"
   },
   {
    "duration": 167,
    "start_time": "2022-11-16T17:45:42.400Z"
   },
   {
    "duration": 164,
    "start_time": "2022-11-16T17:48:23.297Z"
   },
   {
    "duration": 259,
    "start_time": "2022-11-16T17:49:05.205Z"
   },
   {
    "duration": 36,
    "start_time": "2022-11-16T17:55:50.086Z"
   },
   {
    "duration": 32,
    "start_time": "2022-11-16T17:56:43.022Z"
   },
   {
    "duration": 37,
    "start_time": "2022-11-16T17:58:05.132Z"
   },
   {
    "duration": 244,
    "start_time": "2022-11-16T17:59:55.030Z"
   },
   {
    "duration": 255,
    "start_time": "2022-11-16T18:01:32.074Z"
   },
   {
    "duration": 15,
    "start_time": "2022-11-16T18:13:14.762Z"
   },
   {
    "duration": 31,
    "start_time": "2022-11-16T18:29:54.553Z"
   },
   {
    "duration": 232,
    "start_time": "2022-11-16T18:33:27.693Z"
   },
   {
    "duration": 36,
    "start_time": "2022-11-16T18:35:52.406Z"
   },
   {
    "duration": 43,
    "start_time": "2022-11-16T18:36:02.155Z"
   },
   {
    "duration": 42,
    "start_time": "2022-11-16T18:36:38.247Z"
   },
   {
    "duration": 45,
    "start_time": "2022-11-16T18:38:13.393Z"
   },
   {
    "duration": 212,
    "start_time": "2022-11-16T18:39:07.146Z"
   },
   {
    "duration": 35,
    "start_time": "2022-11-16T18:39:36.911Z"
   },
   {
    "duration": 257,
    "start_time": "2022-11-16T18:41:21.853Z"
   },
   {
    "duration": 38,
    "start_time": "2022-11-16T18:42:18.600Z"
   },
   {
    "duration": 13,
    "start_time": "2022-11-16T18:43:58.603Z"
   },
   {
    "duration": 453,
    "start_time": "2022-11-16T18:44:29.997Z"
   },
   {
    "duration": 273,
    "start_time": "2022-11-16T18:44:44.356Z"
   },
   {
    "duration": 405,
    "start_time": "2022-11-16T18:45:11.246Z"
   },
   {
    "duration": 33,
    "start_time": "2022-11-16T18:46:03.423Z"
   },
   {
    "duration": 35,
    "start_time": "2022-11-16T18:51:03.225Z"
   },
   {
    "duration": 29,
    "start_time": "2022-11-16T18:52:29.039Z"
   },
   {
    "duration": 13,
    "start_time": "2022-11-16T18:56:21.151Z"
   },
   {
    "duration": 28,
    "start_time": "2022-11-16T18:56:37.940Z"
   },
   {
    "duration": 23,
    "start_time": "2022-11-16T18:57:05.603Z"
   },
   {
    "duration": 16,
    "start_time": "2022-11-16T18:57:36.191Z"
   },
   {
    "duration": 37,
    "start_time": "2022-11-16T18:58:36.428Z"
   },
   {
    "duration": 29,
    "start_time": "2022-11-16T18:58:58.100Z"
   },
   {
    "duration": 16,
    "start_time": "2022-11-16T18:59:10.116Z"
   },
   {
    "duration": 25,
    "start_time": "2022-11-16T19:01:36.377Z"
   },
   {
    "duration": 13,
    "start_time": "2022-11-16T19:02:14.330Z"
   },
   {
    "duration": 16,
    "start_time": "2022-11-16T19:04:25.640Z"
   },
   {
    "duration": 14,
    "start_time": "2022-11-16T19:06:11.589Z"
   },
   {
    "duration": 15,
    "start_time": "2022-11-16T19:06:36.132Z"
   },
   {
    "duration": 11,
    "start_time": "2022-11-16T19:08:30.080Z"
   },
   {
    "duration": 15,
    "start_time": "2022-11-16T19:09:44.141Z"
   },
   {
    "duration": 29,
    "start_time": "2022-11-16T19:10:01.189Z"
   },
   {
    "duration": 20,
    "start_time": "2022-11-16T19:11:30.829Z"
   },
   {
    "duration": 10,
    "start_time": "2022-11-16T19:12:32.220Z"
   },
   {
    "duration": 27,
    "start_time": "2022-11-16T19:13:09.319Z"
   },
   {
    "duration": 25,
    "start_time": "2022-11-16T19:14:10.573Z"
   },
   {
    "duration": 9,
    "start_time": "2022-11-16T19:14:31.953Z"
   },
   {
    "duration": 18,
    "start_time": "2022-11-16T19:14:44.973Z"
   },
   {
    "duration": 26,
    "start_time": "2022-11-16T19:15:05.207Z"
   },
   {
    "duration": 62,
    "start_time": "2022-11-16T19:16:57.154Z"
   },
   {
    "duration": 40,
    "start_time": "2022-11-16T19:41:02.390Z"
   },
   {
    "duration": 38,
    "start_time": "2022-11-16T19:41:48.577Z"
   },
   {
    "duration": 34,
    "start_time": "2022-11-16T19:42:52.164Z"
   },
   {
    "duration": 39,
    "start_time": "2022-11-16T19:44:44.344Z"
   },
   {
    "duration": 36,
    "start_time": "2022-11-16T19:45:37.029Z"
   },
   {
    "duration": 525,
    "start_time": "2022-11-16T19:45:44.969Z"
   },
   {
    "duration": 49,
    "start_time": "2022-11-16T19:45:45.496Z"
   },
   {
    "duration": 25,
    "start_time": "2022-11-16T19:45:45.546Z"
   },
   {
    "duration": 36,
    "start_time": "2022-11-16T19:45:45.573Z"
   },
   {
    "duration": 11,
    "start_time": "2022-11-16T19:45:45.611Z"
   },
   {
    "duration": 19,
    "start_time": "2022-11-16T19:45:45.623Z"
   },
   {
    "duration": 5,
    "start_time": "2022-11-16T19:45:45.644Z"
   },
   {
    "duration": 47,
    "start_time": "2022-11-16T19:45:45.651Z"
   },
   {
    "duration": 47,
    "start_time": "2022-11-16T19:45:45.699Z"
   },
   {
    "duration": 14,
    "start_time": "2022-11-16T19:45:45.749Z"
   },
   {
    "duration": 40,
    "start_time": "2022-11-16T19:45:45.765Z"
   },
   {
    "duration": 13,
    "start_time": "2022-11-16T19:45:45.806Z"
   },
   {
    "duration": 13,
    "start_time": "2022-11-16T19:45:45.821Z"
   },
   {
    "duration": 11,
    "start_time": "2022-11-16T19:45:45.836Z"
   },
   {
    "duration": 52,
    "start_time": "2022-11-16T19:45:45.849Z"
   },
   {
    "duration": 8,
    "start_time": "2022-11-16T19:45:45.903Z"
   },
   {
    "duration": 15,
    "start_time": "2022-11-16T19:45:45.913Z"
   },
   {
    "duration": 6,
    "start_time": "2022-11-16T19:45:45.930Z"
   },
   {
    "duration": 10,
    "start_time": "2022-11-16T19:45:45.938Z"
   },
   {
    "duration": 14,
    "start_time": "2022-11-16T19:45:45.949Z"
   },
   {
    "duration": 361,
    "start_time": "2022-11-16T19:45:45.997Z"
   },
   {
    "duration": 175,
    "start_time": "2022-11-16T19:45:46.360Z"
   },
   {
    "duration": 26,
    "start_time": "2022-11-16T19:45:46.536Z"
   },
   {
    "duration": 41,
    "start_time": "2022-11-16T19:45:46.563Z"
   },
   {
    "duration": 25,
    "start_time": "2022-11-16T19:45:46.605Z"
   },
   {
    "duration": 195,
    "start_time": "2022-11-16T19:45:46.631Z"
   },
   {
    "duration": 19,
    "start_time": "2022-11-16T19:45:46.828Z"
   },
   {
    "duration": 47,
    "start_time": "2022-11-16T19:45:46.850Z"
   },
   {
    "duration": 51,
    "start_time": "2022-11-16T19:45:46.899Z"
   },
   {
    "duration": 18,
    "start_time": "2022-11-16T19:45:46.952Z"
   },
   {
    "duration": 257,
    "start_time": "2022-11-16T19:45:46.972Z"
   },
   {
    "duration": 14,
    "start_time": "2022-11-16T19:45:47.230Z"
   },
   {
    "duration": 161,
    "start_time": "2022-11-16T19:45:47.246Z"
   },
   {
    "duration": 20,
    "start_time": "2022-11-16T19:45:47.409Z"
   },
   {
    "duration": 186,
    "start_time": "2022-11-16T19:45:47.431Z"
   },
   {
    "duration": 34,
    "start_time": "2022-11-16T19:45:47.618Z"
   },
   {
    "duration": 53,
    "start_time": "2022-11-16T19:45:47.653Z"
   },
   {
    "duration": 1040,
    "start_time": "2022-11-16T19:45:47.708Z"
   },
   {
    "duration": 560,
    "start_time": "2022-11-16T19:45:48.750Z"
   },
   {
    "duration": 22,
    "start_time": "2022-11-16T19:45:49.312Z"
   },
   {
    "duration": 30,
    "start_time": "2022-11-16T19:45:49.335Z"
   },
   {
    "duration": 209,
    "start_time": "2022-11-16T19:45:49.366Z"
   },
   {
    "duration": 159,
    "start_time": "2022-11-16T19:45:49.576Z"
   },
   {
    "duration": 167,
    "start_time": "2022-11-16T19:45:49.737Z"
   },
   {
    "duration": 230,
    "start_time": "2022-11-16T19:45:49.906Z"
   },
   {
    "duration": 80,
    "start_time": "2022-11-16T19:45:50.137Z"
   },
   {
    "duration": 148,
    "start_time": "2022-11-16T19:45:50.219Z"
   },
   {
    "duration": 35,
    "start_time": "2022-11-16T19:47:11.406Z"
   },
   {
    "duration": 37,
    "start_time": "2022-11-16T19:47:25.858Z"
   },
   {
    "duration": 35,
    "start_time": "2022-11-16T19:47:43.167Z"
   },
   {
    "duration": 26,
    "start_time": "2022-11-16T19:49:12.943Z"
   },
   {
    "duration": 39,
    "start_time": "2022-11-16T19:49:15.933Z"
   },
   {
    "duration": 34,
    "start_time": "2022-11-16T19:49:40.500Z"
   },
   {
    "duration": 69,
    "start_time": "2022-11-16T19:51:59.835Z"
   },
   {
    "duration": 80,
    "start_time": "2022-11-16T19:52:56.201Z"
   },
   {
    "duration": 65,
    "start_time": "2022-11-16T19:53:43.025Z"
   },
   {
    "duration": 92,
    "start_time": "2022-11-16T19:55:04.754Z"
   },
   {
    "duration": 88,
    "start_time": "2022-11-16T19:57:17.114Z"
   },
   {
    "duration": 110,
    "start_time": "2022-11-16T19:57:30.923Z"
   },
   {
    "duration": 91,
    "start_time": "2022-11-16T20:00:47.611Z"
   },
   {
    "duration": 207,
    "start_time": "2022-11-16T20:02:51.362Z"
   },
   {
    "duration": 188,
    "start_time": "2022-11-16T20:03:16.736Z"
   },
   {
    "duration": 401,
    "start_time": "2022-11-16T20:04:23.086Z"
   },
   {
    "duration": 111,
    "start_time": "2022-11-16T20:04:54.070Z"
   },
   {
    "duration": 472,
    "start_time": "2022-11-16T20:05:00.635Z"
   },
   {
    "duration": 50,
    "start_time": "2022-11-16T20:05:01.109Z"
   },
   {
    "duration": 27,
    "start_time": "2022-11-16T20:05:01.161Z"
   },
   {
    "duration": 61,
    "start_time": "2022-11-16T20:05:01.190Z"
   },
   {
    "duration": 9,
    "start_time": "2022-11-16T20:05:01.252Z"
   },
   {
    "duration": 30,
    "start_time": "2022-11-16T20:05:01.262Z"
   },
   {
    "duration": 11,
    "start_time": "2022-11-16T20:05:01.293Z"
   },
   {
    "duration": 33,
    "start_time": "2022-11-16T20:05:01.306Z"
   },
   {
    "duration": 79,
    "start_time": "2022-11-16T20:05:01.341Z"
   },
   {
    "duration": 30,
    "start_time": "2022-11-16T20:05:01.423Z"
   },
   {
    "duration": 25,
    "start_time": "2022-11-16T20:05:01.455Z"
   },
   {
    "duration": 60,
    "start_time": "2022-11-16T20:05:01.481Z"
   },
   {
    "duration": 78,
    "start_time": "2022-11-16T20:05:01.543Z"
   },
   {
    "duration": 30,
    "start_time": "2022-11-16T20:05:01.622Z"
   },
   {
    "duration": 63,
    "start_time": "2022-11-16T20:05:01.654Z"
   },
   {
    "duration": 21,
    "start_time": "2022-11-16T20:05:01.719Z"
   },
   {
    "duration": 18,
    "start_time": "2022-11-16T20:05:01.742Z"
   },
   {
    "duration": 56,
    "start_time": "2022-11-16T20:05:01.762Z"
   },
   {
    "duration": 50,
    "start_time": "2022-11-16T20:05:01.820Z"
   },
   {
    "duration": 77,
    "start_time": "2022-11-16T20:05:01.871Z"
   },
   {
    "duration": 380,
    "start_time": "2022-11-16T20:05:01.950Z"
   },
   {
    "duration": 184,
    "start_time": "2022-11-16T20:05:02.332Z"
   },
   {
    "duration": 29,
    "start_time": "2022-11-16T20:05:02.517Z"
   },
   {
    "duration": 25,
    "start_time": "2022-11-16T20:05:02.547Z"
   },
   {
    "duration": 42,
    "start_time": "2022-11-16T20:05:02.574Z"
   },
   {
    "duration": 207,
    "start_time": "2022-11-16T20:05:02.618Z"
   },
   {
    "duration": 20,
    "start_time": "2022-11-16T20:05:02.826Z"
   },
   {
    "duration": 46,
    "start_time": "2022-11-16T20:05:02.850Z"
   },
   {
    "duration": 52,
    "start_time": "2022-11-16T20:05:02.898Z"
   },
   {
    "duration": 19,
    "start_time": "2022-11-16T20:05:02.952Z"
   },
   {
    "duration": 260,
    "start_time": "2022-11-16T20:05:02.973Z"
   },
   {
    "duration": 12,
    "start_time": "2022-11-16T20:05:03.235Z"
   },
   {
    "duration": 152,
    "start_time": "2022-11-16T20:05:03.248Z"
   },
   {
    "duration": 20,
    "start_time": "2022-11-16T20:05:03.401Z"
   },
   {
    "duration": 173,
    "start_time": "2022-11-16T20:05:03.423Z"
   },
   {
    "duration": 31,
    "start_time": "2022-11-16T20:05:03.598Z"
   },
   {
    "duration": 42,
    "start_time": "2022-11-16T20:05:03.630Z"
   },
   {
    "duration": 1098,
    "start_time": "2022-11-16T20:05:03.674Z"
   },
   {
    "duration": 537,
    "start_time": "2022-11-16T20:05:04.773Z"
   },
   {
    "duration": 23,
    "start_time": "2022-11-16T20:05:05.311Z"
   },
   {
    "duration": 30,
    "start_time": "2022-11-16T20:05:05.336Z"
   },
   {
    "duration": 209,
    "start_time": "2022-11-16T20:05:05.368Z"
   },
   {
    "duration": 169,
    "start_time": "2022-11-16T20:05:05.579Z"
   },
   {
    "duration": 168,
    "start_time": "2022-11-16T20:05:05.749Z"
   },
   {
    "duration": 235,
    "start_time": "2022-11-16T20:05:05.919Z"
   },
   {
    "duration": 74,
    "start_time": "2022-11-16T20:05:06.156Z"
   },
   {
    "duration": 356,
    "start_time": "2022-11-16T20:05:06.232Z"
   },
   {
    "duration": 0,
    "start_time": "2022-11-16T20:05:06.590Z"
   },
   {
    "duration": 24,
    "start_time": "2022-11-16T20:05:21.005Z"
   },
   {
    "duration": 22,
    "start_time": "2022-11-16T20:05:43.846Z"
   },
   {
    "duration": 23,
    "start_time": "2022-11-16T20:07:03.999Z"
   },
   {
    "duration": 25,
    "start_time": "2022-11-16T20:07:40.340Z"
   },
   {
    "duration": 27,
    "start_time": "2022-11-16T20:08:02.752Z"
   },
   {
    "duration": 52,
    "start_time": "2022-11-16T20:10:51.374Z"
   },
   {
    "duration": 71,
    "start_time": "2022-11-16T20:13:26.899Z"
   },
   {
    "duration": 69,
    "start_time": "2022-11-16T20:14:51.996Z"
   },
   {
    "duration": 40,
    "start_time": "2022-11-16T20:45:27.868Z"
   }
  ],
  "colab": {
   "name": "DA+. Сборный проект 1. Шаблон (1).ipynb",
   "provenance": []
  },
  "kernelspec": {
   "display_name": "Python 3",
   "language": "python",
   "name": "python3"
  },
  "language_info": {
   "codemirror_mode": {
    "name": "ipython",
    "version": 3
   },
   "file_extension": ".py",
   "mimetype": "text/x-python",
   "name": "python",
   "nbconvert_exporter": "python",
   "pygments_lexer": "ipython3",
   "version": "3.8.5"
  },
  "toc": {
   "base_numbering": 1,
   "nav_menu": {},
   "number_sections": true,
   "sideBar": true,
   "skip_h1_title": true,
   "title_cell": "Table of Contents",
   "title_sidebar": "Contents",
   "toc_cell": false,
   "toc_position": {
    "height": "calc(100% - 180px)",
    "left": "10px",
    "top": "150px",
    "width": "375.391px"
   },
   "toc_section_display": true,
   "toc_window_display": false
  }
 },
 "nbformat": 4,
 "nbformat_minor": 1
}
